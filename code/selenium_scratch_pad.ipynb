{
 "cells": [
  {
   "cell_type": "code",
   "execution_count": 7,
   "id": "1cfa89f8-432d-43ae-83bd-bef530146a72",
   "metadata": {
    "tags": []
   },
   "outputs": [],
   "source": [
    "from selenium import webdriver\n",
    "from selenium.webdriver.common.by import By\n",
    "import time"
   ]
  },
  {
   "cell_type": "code",
   "execution_count": 13,
   "id": "dbc582be-0dfb-4201-9d2a-17c08edcd517",
   "metadata": {
    "tags": []
   },
   "outputs": [],
   "source": [
    "browser = webdriver.Chrome()\n",
    "url = \"https://www.kidneycommunitykitchen.ca/kkcookbook/recipes/\"\n",
    "browser.get(url)\n",
    "time.sleep(2)\n",
    "\n",
    "browser.execute_script(\"window.scrollTo(0,document.body.scrollHeight)\")\n",
    "time.sleep(2)\n",
    "next_button = browser.find_element(By.CSS_SELECTOR, \"a.facetwp-page.next\")\n",
    "next_button.click()"
   ]
  },
  {
   "cell_type": "code",
   "execution_count": null,
   "id": "94ed565e-e296-4692-8d76-29c224d1e50d",
   "metadata": {},
   "outputs": [],
   "source": []
  }
 ],
 "metadata": {
  "kernelspec": {
   "display_name": "Python 3 (ipykernel)",
   "language": "python",
   "name": "python3"
  },
  "language_info": {
   "codemirror_mode": {
    "name": "ipython",
    "version": 3
   },
   "file_extension": ".py",
   "mimetype": "text/x-python",
   "name": "python",
   "nbconvert_exporter": "python",
   "pygments_lexer": "ipython3",
   "version": "3.11.4"
  }
 },
 "nbformat": 4,
 "nbformat_minor": 5
}
