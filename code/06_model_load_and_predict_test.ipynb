{
 "cells": [
  {
   "cell_type": "code",
   "execution_count": 30,
   "id": "13c8ad1c-60c5-4efd-a31a-37dde2341414",
   "metadata": {
    "tags": []
   },
   "outputs": [],
   "source": [
    "from keras.models import load_model\n",
    "from keras import layers\n",
    "import tensorflow as tf\n",
    "import numpy as np\n",
    "import pickle"
   ]
  },
  {
   "cell_type": "code",
   "execution_count": 31,
   "id": "ed005fbc-9f58-4e40-a9b5-be2ebbd8bd7a",
   "metadata": {},
   "outputs": [],
   "source": [
    "from_disk = pickle.load(open('text_vectorization.pkl', 'rb'))\n",
    "vectorizer = layers.TextVectorization.from_config(from_disk['config'])\n",
    "vectorizer.set_weights(from_disk['weights'])\n",
    "\n",
    "# Credit GitHub users mujjiga and jtlz2 for their help via https://stackoverflow.com/questions/65103526/how-to-save-textvectorization-to-disk-in-tensorflow"
   ]
  },
  {
   "cell_type": "code",
   "execution_count": 36,
   "id": "9a8c07f8-0ebd-4cdf-8121-3c45b1a01219",
   "metadata": {},
   "outputs": [],
   "source": [
    "string = vectorizer('100 grams beans')"
   ]
  },
  {
   "cell_type": "code",
   "execution_count": 40,
   "id": "90d6aed4-dcd1-49fa-bb7e-aaaea25c7501",
   "metadata": {},
   "outputs": [],
   "source": [
    "input = np.array(string).reshape(1,-1)"
   ]
  },
  {
   "cell_type": "code",
   "execution_count": 25,
   "id": "60a4a70e-728f-4faa-91b4-7859585b1faa",
   "metadata": {
    "tags": []
   },
   "outputs": [],
   "source": [
    "model_1_dir = './models/manual_vectors/manual_vectors_9_prec97_acc80.keras'\n",
    "\n"
   ]
  },
  {
   "cell_type": "code",
   "execution_count": 42,
   "id": "021d302c-a665-4d01-beb1-872c97315a61",
   "metadata": {
    "tags": []
   },
   "outputs": [],
   "source": [
    "model1 = load_model(model_1_dir)"
   ]
  },
  {
   "cell_type": "code",
   "execution_count": 43,
   "id": "9dd6f3f7-71a8-47d8-8751-6cd763bbda91",
   "metadata": {},
   "outputs": [
    {
     "name": "stdout",
     "output_type": "stream",
     "text": [
      "1/1 [==============================] - 3s 3s/step\n"
     ]
    },
    {
     "data": {
      "text/plain": [
       "array([[0.5938961]], dtype=float32)"
      ]
     },
     "execution_count": 43,
     "metadata": {},
     "output_type": "execute_result"
    }
   ],
   "source": [
    "model1.predict(input)"
   ]
  },
  {
   "cell_type": "markdown",
   "id": "a4e6cd76-cd18-4b87-8046-3d1ddb553174",
   "metadata": {},
   "source": [
    "### Scratch Pad"
   ]
  },
  {
   "cell_type": "code",
   "execution_count": null,
   "id": "0af6415c-682f-41fe-bb4f-0eb22e2dcfec",
   "metadata": {},
   "outputs": [],
   "source": [
    "model1.predict()"
   ]
  },
  {
   "cell_type": "code",
   "execution_count": 24,
   "id": "5e5dfdf4-5966-407d-a02d-38f58858c60f",
   "metadata": {},
   "outputs": [
    {
     "data": {
      "text/plain": [
       "array([[229,   2, 160,  85,  77,  20,   0,   0,   0,   0,   0,   0,   0,\n",
       "          0,   0,   0,   0,   0,   0,   0,   0,   0,   0,   0,   0,   0,\n",
       "          0,   0,   0,   0,   0,   0,   0,   0,   0,   0,   0,   0,   0,\n",
       "          0,   0,   0,   0,   0,   0,   0,   0,   0,   0,   0,   0,   0,\n",
       "          0,   0,   0,   0,   0,   0,   0,   0,   0,   0,   0,   0,   0,\n",
       "          0,   0,   0,   0,   0,   0,   0,   0,   0,   0,   0,   0,   0,\n",
       "          0,   0,   0,   0,   0,   0,   0,   0,   0,   0,   0,   0,   0,\n",
       "          0,   0,   0,   0,   0,   0,   0,   0,   0]])"
      ]
     },
     "execution_count": 24,
     "metadata": {},
     "output_type": "execute_result"
    }
   ],
   "source": [
    "np.array([229,   2, 160,  85,  77,  20,   0,   0,   0,   0,   0,   0,   0,\n",
    "         0,   0,   0,   0,   0,   0,   0,   0,   0,   0,   0,   0,   0,\n",
    "         0,   0,   0,   0,   0,   0,   0,   0,   0,   0,   0,   0,   0,\n",
    "         0,   0,   0,   0,   0,   0,   0,   0,   0,   0,   0,   0,   0,\n",
    "         0,   0,   0,   0,   0,   0,   0,   0,   0,   0,   0,   0,   0,\n",
    "         0,   0,   0,   0,   0,   0,   0,   0,   0,   0,   0,   0,   0,\n",
    "         0,   0,   0,   0,   0,   0,   0,   0,   0,   0,   0,   0,   0,\n",
    "         0,   0,   0,   0,   0,   0,   0,   0,   0]).reshape(1,100)"
   ]
  },
  {
   "cell_type": "code",
   "execution_count": null,
   "id": "2afc6267-208b-4f33-8b1f-acdf56b975a6",
   "metadata": {},
   "outputs": [],
   "source": []
  }
 ],
 "metadata": {
  "kernelspec": {
   "display_name": "Python 3 (ipykernel)",
   "language": "python",
   "name": "python3"
  },
  "language_info": {
   "codemirror_mode": {
    "name": "ipython",
    "version": 3
   },
   "file_extension": ".py",
   "mimetype": "text/x-python",
   "name": "python",
   "nbconvert_exporter": "python",
   "pygments_lexer": "ipython3",
   "version": "3.11.5"
  }
 },
 "nbformat": 4,
 "nbformat_minor": 5
}
