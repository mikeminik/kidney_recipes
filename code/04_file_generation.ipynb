{
 "cells": [
  {
   "cell_type": "code",
   "execution_count": 1,
   "id": "db505160-901a-495d-bb3b-dbcd059c95ac",
   "metadata": {
    "tags": []
   },
   "outputs": [],
   "source": [
    "import pandas as pd\n",
    "import numpy as np\n",
    "import os\n"
   ]
  },
  {
   "cell_type": "markdown",
   "id": "298279d8-6a7f-40a8-96b0-c67038b88374",
   "metadata": {},
   "source": [
    "This notebook is intended for turning standardized raw NLP data into text files for use in the RNNs"
   ]
  },
  {
   "cell_type": "markdown",
   "id": "7c57afab-051b-4034-867c-45fdaeda40c4",
   "metadata": {},
   "source": [
    "### Helper functions"
   ]
  },
  {
   "cell_type": "code",
   "execution_count": 121,
   "id": "6377b2a1-2653-4fbf-b5fd-91f489582c78",
   "metadata": {
    "tags": []
   },
   "outputs": [],
   "source": [
    "def clean_ingredients(ingredients):\n",
    "    # necessary due to the way .csv stores data. Lists are converted to a long string. Functions returns and actual list of strings\n",
    "    # and takes opportunity to remove whitespace and unnecessary characters\n",
    "    full = []\n",
    "    ingredients = ingredients.replace('\\\\n', ',').replace('\\n',',')\n",
    "    for string in ingredients.split(','):\n",
    "        string = ' '.join(string.strip().split())\n",
    "        string = string.replace(\"'\", '').replace('\\\\xa0',' ').replace('[','').replace(']','').replace('\"','')\n",
    "        full += string.split(',')\n",
    "    return full"
   ]
  },
  {
   "cell_type": "code",
   "execution_count": 122,
   "id": "0fe34d70-5a1f-4f92-8356-cefd964186d2",
   "metadata": {
    "tags": []
   },
   "outputs": [],
   "source": [
    "def create_text_file(col, path, filename):\n",
    "    with open (f\"{path}/{filename}.txt\", 'w', encoding='utf-8') as f:\n",
    "        for i in col:\n",
    "            f.write(f\"{i}\\n\")"
   ]
  },
  {
   "cell_type": "code",
   "execution_count": 123,
   "id": "36e54212-e1fa-4e0b-a5df-63c33c521fb1",
   "metadata": {},
   "outputs": [],
   "source": [
    "df = pd.read_csv('../data/generated/tidy_recipe_data_all.csv')"
   ]
  },
  {
   "cell_type": "code",
   "execution_count": 124,
   "id": "01092b4b-4cb9-45e0-a26b-2daa49ba6c96",
   "metadata": {
    "tags": []
   },
   "outputs": [],
   "source": [
    "df['ingredients'] = df['ingredients'].apply(clean_ingredients)"
   ]
  },
  {
   "cell_type": "code",
   "execution_count": 125,
   "id": "06216ce6-0eb7-473c-b660-d74cb7a89ab6",
   "metadata": {
    "tags": []
   },
   "outputs": [
    {
     "data": {
      "text/plain": [
       "0    [19.72 grams sugar, 13.01 grams cocoa, 9.86 gr...\n",
       "1    [113.4 grams lamb chop, trimmed of fat and bon...\n",
       "2    [1.0 beef loin steaks, cut 0.25-inch thick , 3...\n",
       "3    [1.0 corn tortillas (like Mission Super Size),...\n",
       "4    [39.43 grams butter, softened , 7.5 grams gree...\n",
       "Name: ingredients, dtype: object"
      ]
     },
     "execution_count": 125,
     "metadata": {},
     "output_type": "execute_result"
    }
   ],
   "source": [
    "df['ingredients'].head()"
   ]
  },
  {
   "cell_type": "code",
   "execution_count": 126,
   "id": "da5ecef9-590b-43b8-9e0e-e39cc159b4fc",
   "metadata": {
    "tags": []
   },
   "outputs": [
    {
     "data": {
      "text/html": [
       "<div>\n",
       "<style scoped>\n",
       "    .dataframe tbody tr th:only-of-type {\n",
       "        vertical-align: middle;\n",
       "    }\n",
       "\n",
       "    .dataframe tbody tr th {\n",
       "        vertical-align: top;\n",
       "    }\n",
       "\n",
       "    .dataframe thead th {\n",
       "        text-align: right;\n",
       "    }\n",
       "</style>\n",
       "<table border=\"1\" class=\"dataframe\">\n",
       "  <thead>\n",
       "    <tr style=\"text-align: right;\">\n",
       "      <th></th>\n",
       "      <th>ingredients</th>\n",
       "      <th>label</th>\n",
       "    </tr>\n",
       "  </thead>\n",
       "  <tbody>\n",
       "    <tr>\n",
       "      <th>0</th>\n",
       "      <td>[19.72 grams sugar, 13.01 grams cocoa, 9.86 gr...</td>\n",
       "      <td>0</td>\n",
       "    </tr>\n",
       "    <tr>\n",
       "      <th>1</th>\n",
       "      <td>[113.4 grams lamb chop, trimmed of fat and bon...</td>\n",
       "      <td>0</td>\n",
       "    </tr>\n",
       "    <tr>\n",
       "      <th>2</th>\n",
       "      <td>[1.0 beef loin steaks, cut 0.25-inch thick , 3...</td>\n",
       "      <td>0</td>\n",
       "    </tr>\n",
       "    <tr>\n",
       "      <th>3</th>\n",
       "      <td>[1.0 corn tortillas (like Mission Super Size),...</td>\n",
       "      <td>0</td>\n",
       "    </tr>\n",
       "    <tr>\n",
       "      <th>4</th>\n",
       "      <td>[39.43 grams butter, softened , 7.5 grams gree...</td>\n",
       "      <td>0</td>\n",
       "    </tr>\n",
       "  </tbody>\n",
       "</table>\n",
       "</div>"
      ],
      "text/plain": [
       "                                         ingredients  label\n",
       "0  [19.72 grams sugar, 13.01 grams cocoa, 9.86 gr...      0\n",
       "1  [113.4 grams lamb chop, trimmed of fat and bon...      0\n",
       "2  [1.0 beef loin steaks, cut 0.25-inch thick , 3...      0\n",
       "3  [1.0 corn tortillas (like Mission Super Size),...      0\n",
       "4  [39.43 grams butter, softened , 7.5 grams gree...      0"
      ]
     },
     "execution_count": 126,
     "metadata": {},
     "output_type": "execute_result"
    }
   ],
   "source": [
    "df.head()"
   ]
  },
  {
   "cell_type": "code",
   "execution_count": 127,
   "id": "04a7e189-0d06-45dd-b914-f292a695677c",
   "metadata": {
    "tags": []
   },
   "outputs": [
    {
     "data": {
      "text/html": [
       "<div>\n",
       "<style scoped>\n",
       "    .dataframe tbody tr th:only-of-type {\n",
       "        vertical-align: middle;\n",
       "    }\n",
       "\n",
       "    .dataframe tbody tr th {\n",
       "        vertical-align: top;\n",
       "    }\n",
       "\n",
       "    .dataframe thead th {\n",
       "        text-align: right;\n",
       "    }\n",
       "</style>\n",
       "<table border=\"1\" class=\"dataframe\">\n",
       "  <thead>\n",
       "    <tr style=\"text-align: right;\">\n",
       "      <th></th>\n",
       "      <th>ingredients</th>\n",
       "      <th>label</th>\n",
       "    </tr>\n",
       "  </thead>\n",
       "  <tbody>\n",
       "    <tr>\n",
       "      <th>10000</th>\n",
       "      <td>[23.66 grams canned chickpeas rinsed and drain...</td>\n",
       "      <td>1</td>\n",
       "    </tr>\n",
       "    <tr>\n",
       "      <th>10001</th>\n",
       "      <td>[23.66 grams canned chickpeas rinsed and drain...</td>\n",
       "      <td>1</td>\n",
       "    </tr>\n",
       "    <tr>\n",
       "      <th>10002</th>\n",
       "      <td>[23.66 grams canned chickpeas rinsed and drain...</td>\n",
       "      <td>1</td>\n",
       "    </tr>\n",
       "    <tr>\n",
       "      <th>10003</th>\n",
       "      <td>[23.66 grams canned chickpeas rinsed and drain...</td>\n",
       "      <td>1</td>\n",
       "    </tr>\n",
       "    <tr>\n",
       "      <th>10004</th>\n",
       "      <td>[23.66 grams canned chickpeas rinsed and drain...</td>\n",
       "      <td>1</td>\n",
       "    </tr>\n",
       "  </tbody>\n",
       "</table>\n",
       "</div>"
      ],
      "text/plain": [
       "                                             ingredients  label\n",
       "10000  [23.66 grams canned chickpeas rinsed and drain...      1\n",
       "10001  [23.66 grams canned chickpeas rinsed and drain...      1\n",
       "10002  [23.66 grams canned chickpeas rinsed and drain...      1\n",
       "10003  [23.66 grams canned chickpeas rinsed and drain...      1\n",
       "10004  [23.66 grams canned chickpeas rinsed and drain...      1"
      ]
     },
     "execution_count": 127,
     "metadata": {},
     "output_type": "execute_result"
    }
   ],
   "source": [
    "kf = df[df['label'] == 1]\n",
    "kf.head()"
   ]
  },
  {
   "cell_type": "code",
   "execution_count": 128,
   "id": "12514fce-2cdf-4411-b9f2-0de336f4dbdf",
   "metadata": {
    "tags": []
   },
   "outputs": [],
   "source": [
    "nkf = df[df['label'] == 0]"
   ]
  },
  {
   "cell_type": "code",
   "execution_count": 129,
   "id": "4d347a78-18ad-4ff0-864a-29d54a34fa4d",
   "metadata": {
    "tags": []
   },
   "outputs": [],
   "source": [
    "#kf.reset_index(inplace=True)"
   ]
  },
  {
   "cell_type": "code",
   "execution_count": 130,
   "id": "56d2366b-4f47-4f3b-b9f6-ad9e5d64f995",
   "metadata": {
    "tags": []
   },
   "outputs": [
    {
     "data": {
      "text/html": [
       "<div>\n",
       "<style scoped>\n",
       "    .dataframe tbody tr th:only-of-type {\n",
       "        vertical-align: middle;\n",
       "    }\n",
       "\n",
       "    .dataframe tbody tr th {\n",
       "        vertical-align: top;\n",
       "    }\n",
       "\n",
       "    .dataframe thead th {\n",
       "        text-align: right;\n",
       "    }\n",
       "</style>\n",
       "<table border=\"1\" class=\"dataframe\">\n",
       "  <thead>\n",
       "    <tr style=\"text-align: right;\">\n",
       "      <th></th>\n",
       "      <th>ingredients</th>\n",
       "      <th>label</th>\n",
       "    </tr>\n",
       "  </thead>\n",
       "  <tbody>\n",
       "    <tr>\n",
       "      <th>0</th>\n",
       "      <td>[19.72 grams sugar, 13.01 grams cocoa, 9.86 gr...</td>\n",
       "      <td>0</td>\n",
       "    </tr>\n",
       "    <tr>\n",
       "      <th>1</th>\n",
       "      <td>[113.4 grams lamb chop, trimmed of fat and bon...</td>\n",
       "      <td>0</td>\n",
       "    </tr>\n",
       "    <tr>\n",
       "      <th>2</th>\n",
       "      <td>[1.0 beef loin steaks, cut 0.25-inch thick , 3...</td>\n",
       "      <td>0</td>\n",
       "    </tr>\n",
       "    <tr>\n",
       "      <th>3</th>\n",
       "      <td>[1.0 corn tortillas (like Mission Super Size),...</td>\n",
       "      <td>0</td>\n",
       "    </tr>\n",
       "    <tr>\n",
       "      <th>4</th>\n",
       "      <td>[39.43 grams butter, softened , 7.5 grams gree...</td>\n",
       "      <td>0</td>\n",
       "    </tr>\n",
       "  </tbody>\n",
       "</table>\n",
       "</div>"
      ],
      "text/plain": [
       "                                         ingredients  label\n",
       "0  [19.72 grams sugar, 13.01 grams cocoa, 9.86 gr...      0\n",
       "1  [113.4 grams lamb chop, trimmed of fat and bon...      0\n",
       "2  [1.0 beef loin steaks, cut 0.25-inch thick , 3...      0\n",
       "3  [1.0 corn tortillas (like Mission Super Size),...      0\n",
       "4  [39.43 grams butter, softened , 7.5 grams gree...      0"
      ]
     },
     "execution_count": 130,
     "metadata": {},
     "output_type": "execute_result"
    }
   ],
   "source": [
    "nkf.head()"
   ]
  },
  {
   "cell_type": "code",
   "execution_count": 131,
   "id": "0d2474a8-3bb0-493b-a659-363cac3ad649",
   "metadata": {
    "tags": []
   },
   "outputs": [
    {
     "data": {
      "text/plain": [
       "8696"
      ]
     },
     "execution_count": 131,
     "metadata": {},
     "output_type": "execute_result"
    }
   ],
   "source": [
    "len(kf)"
   ]
  },
  {
   "cell_type": "code",
   "execution_count": 132,
   "id": "c0a276ac-976d-4f97-8979-98be55bba8a9",
   "metadata": {
    "tags": []
   },
   "outputs": [
    {
     "data": {
      "text/plain": [
       "10000"
      ]
     },
     "execution_count": 132,
     "metadata": {},
     "output_type": "execute_result"
    }
   ],
   "source": [
    "len(nkf)"
   ]
  },
  {
   "cell_type": "code",
   "execution_count": 135,
   "id": "e1ce24b4-1917-4a1d-83da-036ec9a9e0aa",
   "metadata": {
    "tags": []
   },
   "outputs": [
    {
     "data": {
      "text/plain": [
       "0"
      ]
     },
     "execution_count": 135,
     "metadata": {},
     "output_type": "execute_result"
    }
   ],
   "source": [
    "nkf.index[0]"
   ]
  },
  {
   "cell_type": "code",
   "execution_count": null,
   "id": "35999c08-e031-449d-a7ca-b45ace6fc565",
   "metadata": {},
   "outputs": [],
   "source": [
    "if not os.path.exists('../data/generated/text_files'):\n",
    "    os.mkdir('../data/generated/text_files')\n",
    "    os.mkdir('../data/generated/text_files/train')\n",
    "    os.mkdir('../data/generated/text_files/train/pos')\n",
    "    os.mkdir('../data/generated/text_files/train/neg')"
   ]
  },
  {
   "cell_type": "code",
   "execution_count": 136,
   "id": "7bd50c1e-8c40-45c2-a808-f7f40cc1e15d",
   "metadata": {
    "tags": []
   },
   "outputs": [],
   "source": [
    "for i in list(kf.index):\n",
    "    create_text_file(kf['ingredients'][i], '../data/generated/text_files/train/pos', i)"
   ]
  },
  {
   "cell_type": "code",
   "execution_count": 137,
   "id": "9a2db4ed-cf1f-4901-88e8-672bde9a22f3",
   "metadata": {
    "tags": []
   },
   "outputs": [],
   "source": [
    "\n",
    "    \n",
    "for i in list(nkf.index):\n",
    "    create_text_file(nkf['ingredients'][i], '../data/generated/text_files/train/neg/', i)"
   ]
  },
  {
   "cell_type": "code",
   "execution_count": null,
   "id": "dd225092-0184-4966-bacf-b2229e8c23f9",
   "metadata": {
    "tags": []
   },
   "outputs": [],
   "source": []
  },
  {
   "cell_type": "code",
   "execution_count": 3,
   "id": "42314890-3c0f-4502-9cfe-ba127d1e16ef",
   "metadata": {},
   "outputs": [],
   "source": [
    "os.mkdir('test')"
   ]
  },
  {
   "cell_type": "code",
   "execution_count": null,
   "id": "01f21712-09d7-4dee-9cf2-e38726f3f509",
   "metadata": {},
   "outputs": [],
   "source": []
  }
 ],
 "metadata": {
  "kernelspec": {
   "display_name": "Python 3 (ipykernel)",
   "language": "python",
   "name": "python3"
  },
  "language_info": {
   "codemirror_mode": {
    "name": "ipython",
    "version": 3
   },
   "file_extension": ".py",
   "mimetype": "text/x-python",
   "name": "python",
   "nbconvert_exporter": "python",
   "pygments_lexer": "ipython3",
   "version": "3.11.5"
  }
 },
 "nbformat": 4,
 "nbformat_minor": 5
}
