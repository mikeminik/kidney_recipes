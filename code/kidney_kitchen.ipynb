{
 "cells": [
  {
   "cell_type": "code",
   "execution_count": 51,
   "id": "837dd7cc-b807-4cae-a3f4-961b4cce448f",
   "metadata": {
    "tags": []
   },
   "outputs": [],
   "source": [
    "import numpy as np\n",
    "import pandas as pd\n",
    "import requests\n",
    "from bs4 import BeautifulSoup\n",
    "import os\n",
    "\n",
    "from selenium import webdriver\n",
    "from selenium.webdriver.common.by import By\n",
    "import time"
   ]
  },
  {
   "cell_type": "code",
   "execution_count": 19,
   "id": "523eea03-b3bc-4fdc-815a-c7864b6d8fe0",
   "metadata": {
    "tags": []
   },
   "outputs": [],
   "source": [
    "headers = {'User-Agent': 'Mozilla/5.0 (Windows NT 10.0; Win64; x64) AppleWebKit/537.36 (KHTML, like Gecko) Chrome/119.0.0.0 Safari/537.36'}\n",
    "url = \"https://kitchen.kidneyfund.org/find-recipes/\"\n"
   ]
  },
  {
   "cell_type": "code",
   "execution_count": 43,
   "id": "98d42b7b-c4de-4621-9d7d-1aa611e73ea8",
   "metadata": {
    "tags": []
   },
   "outputs": [
    {
     "data": {
      "text/plain": [
       "'https://kitchen.kidneyfund.org/recipe/poultry-gravy-and-wings/'"
      ]
     },
     "execution_count": 43,
     "metadata": {},
     "output_type": "execute_result"
    }
   ],
   "source": [
    "recipes[0]"
   ]
  },
  {
   "cell_type": "code",
   "execution_count": 44,
   "id": "adf87c9c-c7eb-4ae1-8aa0-094e04ae68de",
   "metadata": {
    "tags": []
   },
   "outputs": [],
   "source": [
    "def get_file_name(url):\n",
    "    # create a \"file name\" that is created from the URL that is primarily used to identify the ingredients\n",
    "    file_name = url.split('recipe/')[1].strip('/')\n",
    "    return file_name"
   ]
  },
  {
   "cell_type": "code",
   "execution_count": 47,
   "id": "512e9a96-8713-4a79-9e49-4c7184b66063",
   "metadata": {
    "tags": []
   },
   "outputs": [],
   "source": [
    "def extract_urls_from_soup(soup):\n",
    "    urls = []\n",
    "    cards = soup.find_all('div', {'class' : 'right'})\n",
    "    for i in range(1,len(cards)):\n",
    "        urls.append(soup.find_all('div', {'class' : 'right'})[i].attrs['onclick'].split('=')[1].replace(\"'\",\"\").strip())"
   ]
  },
  {
   "cell_type": "code",
   "execution_count": 45,
   "id": "fce8b811-22e2-45cd-83fc-dac8089f1fd0",
   "metadata": {
    "tags": []
   },
   "outputs": [],
   "source": [
    "def extract_ingredients(url):\n",
    "    \n",
    "    ingredients_text = []\n",
    "    # description_text = []\n",
    "    # make request and soup\n",
    "    headers = {'User-Agent': 'Mozilla/5.0 (Windows NT 10.0; Win64; x64) AppleWebKit/537.36 (KHTML, like Gecko) Chrome/119.0.0.0 Safari/537.36'}\n",
    "    res = requests.get(url, headers=headers)\n",
    "    if res.status_code != 200:\n",
    "        print(f\"{url} request status: {res.status_code}\")\n",
    "    soup = BeautifulSoup(res.content)\n",
    "    \n",
    "    # get the descriptions from the top of the individual recipes\n",
    "    # description_items = soup.find_all('div', {'class' : 'col-md-6 col-sm-12 d-flex flex-column'})[0].find_all('p')\n",
    "    # [description_text.append(p.text) for p in description_items if len(p) > 0]\n",
    "    \n",
    "    # focus in on the element that contains ingredients using 'li' first\n",
    "    ingredients_div = soup.find_all('div', {'class': 'elementor-element elementor-element-6eb817d elementor-widget elementor-widget-text-editor'})\n",
    "    ingredient_items = [ result.find_all('p') for result in ingredients_div]\n",
    "    \n",
    "    \n",
    "    \n",
    "    # if first pass above yields no results, try for 'li' elements instead\n",
    "    if len(ingredient_items[0]) == 0:\n",
    "        ingredient_items = [ result.find_all('li') for result in ingredients_div]\n",
    "        \n",
    "    [ingredients_text.append(l.text) for l in ingredient_items[0]]\n",
    "    return ingredients_text"
   ]
  },
  {
   "cell_type": "code",
   "execution_count": 49,
   "id": "a3336855-a270-4220-a0b8-68fcea596b9d",
   "metadata": {
    "tags": []
   },
   "outputs": [],
   "source": [
    "def create_files_from_urls(urls, output_relative_directory):\n",
    "    \n",
    "    # run the ingredient extractor secondary func\n",
    "    for u in urls:\n",
    "        file_name = get_file_name(u)\n",
    "        item_ingredients = extract_ingredients(u)\n",
    "        \n",
    "        if len(item_ingredients) > 0:\n",
    "            print('Printing: ' + file_name)\n",
    "        else:\n",
    "            print(f\"WARNING: {file_name} ingredients list is empty\")\n",
    "        \n",
    "        # create text file to directory\n",
    "\n",
    "            \n",
    "        with open(os.path.join(output_relative_directory, file_name), 'w', encoding='utf-8') as f:\n",
    "            # for i in item_description:\n",
    "            #     line = f\"{i}\\n\"\n",
    "            #     f.write(line)\n",
    "            for i in item_ingredients:\n",
    "                line = f\"{i}\\n\"\n",
    "                f.write(line)"
   ]
  },
  {
   "cell_type": "code",
   "execution_count": 10,
   "id": "26bda50e-092a-45b9-b084-e17df5209e6f",
   "metadata": {
    "tags": []
   },
   "outputs": [],
   "source": [
    "# browser = webdriver.Chrome()\n",
    "# url = \"https://kitchen.kidneyfund.org/find-recipes/\"\n",
    "# browser.get(url)\n",
    "# time.sleep(2)\n",
    "# click = 0\n",
    "# browser.execute_script(\"window.scrollTo(0,document.body.scrollHeight)\")\n",
    "# time.sleep(4)\n",
    "# while browser.find_element(By.CSS_SELECTOR, \"button.wpgb-button.wpgb-load-more\"):\n",
    "#     next_button = browser.find_element(By.CSS_SELECTOR, \"button.wpgb-button.wpgb-load-more\")\n",
    "#     next_button.click()\n",
    "#     click+=1\n",
    "#     print(f\"Completed click: {click}\")\n",
    "#     time.sleep(3)\n",
    "#     browser.execute_script(\"window.scrollTo(0,document.body.scrollHeight)\")\n",
    "#     time.sleep(2)\n",
    "#     html = browser.page_source\n",
    "#     with open('kidney_kitchen_html.text','w', encoding='utf-8') as f:\n",
    "#         f.write(html)\n",
    "\n"
   ]
  },
  {
   "cell_type": "code",
   "execution_count": 11,
   "id": "3277e460-e501-49d0-b025-f502ef02c929",
   "metadata": {
    "tags": []
   },
   "outputs": [],
   "source": [
    "with open ('./kidney_kitchen_html.txt', 'r') as f:\n",
    "    html = f.read()\n",
    "soup = BeautifulSoup(html)"
   ]
  },
  {
   "cell_type": "code",
   "execution_count": 67,
   "id": "6bac9af2-7c66-44fa-95c1-f810b0216360",
   "metadata": {
    "tags": []
   },
   "outputs": [],
   "source": [
    "#create_files_from_urls(recipes,'./kidney_kitchen_all_recipes_ingredients_only')"
   ]
  },
  {
   "cell_type": "code",
   "execution_count": null,
   "id": "0e945c61-0231-4d12-aa8c-39035cd1964c",
   "metadata": {},
   "outputs": [],
   "source": [
    "second_half_recipes = recipes[361:]"
   ]
  },
  {
   "cell_type": "code",
   "execution_count": null,
   "id": "0a3a285f-ffa5-4648-bb14-b14d7720c1e7",
   "metadata": {},
   "outputs": [],
   "source": [
    "#create_files_from_urls(second_half_recipes, './kidney_kitchen_all_recipes_ingredients_only')"
   ]
  },
  {
   "cell_type": "markdown",
   "id": "94658bde-5cd6-42de-8ba2-ecfaa7ca1dc2",
   "metadata": {
    "tags": []
   },
   "source": [
    "### Scratch Pad / Testing"
   ]
  },
  {
   "cell_type": "code",
   "execution_count": 56,
   "id": "9d5d8ff0-9269-40d5-afe0-611a1ed02b3c",
   "metadata": {
    "tags": []
   },
   "outputs": [
    {
     "name": "stdout",
     "output_type": "stream",
     "text": [
      "24\n",
      "359\n"
     ]
    }
   ],
   "source": [
    "for r in recipes:\n",
    "    if 'tarragon' in r:\n",
    "        print(recipes.index(r))"
   ]
  },
  {
   "cell_type": "code",
   "execution_count": 61,
   "id": "317b5f68-199d-4e5f-a3bc-5a76a95eefcb",
   "metadata": {
    "tags": []
   },
   "outputs": [],
   "source": []
  },
  {
   "cell_type": "code",
   "execution_count": null,
   "id": "25dbe2e1-6b36-48e5-8ab7-75a184553bb6",
   "metadata": {
    "tags": []
   },
   "outputs": [],
   "source": []
  },
  {
   "cell_type": "code",
   "execution_count": 66,
   "id": "c27544a1-8db0-442e-afb2-72e0e80ccd79",
   "metadata": {
    "tags": []
   },
   "outputs": [],
   "source": []
  },
  {
   "cell_type": "code",
   "execution_count": 15,
   "id": "19dc667c-3694-436e-ba31-f521cf6d1099",
   "metadata": {
    "tags": []
   },
   "outputs": [
    {
     "data": {
      "text/plain": [
       "\"javascript:window.location.href = 'https://kitchen.kidneyfund.org/recipe/poultry-gravy-and-wings/'\""
      ]
     },
     "execution_count": 15,
     "metadata": {},
     "output_type": "execute_result"
    }
   ],
   "source": [
    "#soup.find_all('div', {'class' : 'right'})[1].attrs['onclick']"
   ]
  },
  {
   "cell_type": "code",
   "execution_count": 16,
   "id": "43da5cd1-af57-423b-9767-044713163ca1",
   "metadata": {
    "tags": []
   },
   "outputs": [],
   "source": [
    "recipes = []\n",
    "for i in range(1,len(cards)):\n",
    "    recipes.append(soup.find_all('div', {'class' : 'right'})[i].attrs['onclick'].split('=')[1].replace(\"'\",\"\").strip())\n",
    "    "
   ]
  },
  {
   "cell_type": "code",
   "execution_count": null,
   "id": "9df783e5-e366-4cd3-a1ac-51fcae069c23",
   "metadata": {
    "tags": []
   },
   "outputs": [],
   "source": []
  },
  {
   "cell_type": "code",
   "execution_count": 21,
   "id": "f0528b92-3ed7-40d9-afd3-71ec5b8ec479",
   "metadata": {
    "tags": []
   },
   "outputs": [
    {
     "data": {
      "text/plain": [
       "200"
      ]
     },
     "execution_count": 21,
     "metadata": {},
     "output_type": "execute_result"
    }
   ],
   "source": [
    "sub_url = recipes[0]\n",
    "sub_res = requests.get(sub_url, headers=headers)\n",
    "sub_res.status_code\n"
   ]
  },
  {
   "cell_type": "code",
   "execution_count": 22,
   "id": "d558e7fc-d2c6-402e-8477-db438f6ac465",
   "metadata": {
    "tags": []
   },
   "outputs": [],
   "source": [
    "sub_soup = BeautifulSoup(sub_res.content)"
   ]
  },
  {
   "cell_type": "code",
   "execution_count": 26,
   "id": "1ecfe04e-7f98-41e4-8fd8-3b756c5001cb",
   "metadata": {
    "tags": []
   },
   "outputs": [],
   "source": [
    "divs = sub_soup.find_all('div', {'class': 'elementor-element elementor-element-6eb817d elementor-widget elementor-widget-text-editor'})"
   ]
  },
  {
   "cell_type": "code",
   "execution_count": 27,
   "id": "ccfb5ac1-52c3-4f58-8e8c-7ed8f86af93e",
   "metadata": {
    "tags": []
   },
   "outputs": [
    {
     "data": {
      "text/plain": [
       "1"
      ]
     },
     "execution_count": 27,
     "metadata": {},
     "output_type": "execute_result"
    }
   ],
   "source": [
    "len(divs)"
   ]
  },
  {
   "cell_type": "code",
   "execution_count": 35,
   "id": "033a3112-002b-4e56-8f13-d2f213eaf914",
   "metadata": {
    "tags": []
   },
   "outputs": [
    {
     "data": {
      "text/plain": [
       "[<p>½ teaspoon canola oil</p>,\n",
       " <p>1 ¼ cups onion, diced</p>,\n",
       " <p>1 cup celery, diced</p>,\n",
       " <p>1 ½ pounds chicken wings</p>,\n",
       " <p>4 cups water</p>,\n",
       " <p>¾ teaspoon poultry seasoning</p>,\n",
       " <p>¼ teaspoon sage</p>,\n",
       " <p>¼ teaspoon white pepper</p>,\n",
       " <p>1 teaspoon chicken bouillon</p>,\n",
       " <p>¼ cup cornstarch</p>,\n",
       " <p>½ cup water</p>]"
      ]
     },
     "execution_count": 35,
     "metadata": {},
     "output_type": "execute_result"
    }
   ],
   "source": [
    "divs[0].find_all('p')"
   ]
  },
  {
   "cell_type": "code",
   "execution_count": 37,
   "id": "545ab913-c67a-48c1-bcab-1bee09d1d3ed",
   "metadata": {},
   "outputs": [
    {
     "data": {
      "text/plain": [
       "['½ teaspoon canola oil',\n",
       " '1 ¼ cups onion, diced',\n",
       " '1 cup celery, diced',\n",
       " '1 ½ pounds chicken wings',\n",
       " '4 cups water',\n",
       " '¾ teaspoon poultry seasoning',\n",
       " '¼ teaspoon sage',\n",
       " '¼ teaspoon white pepper',\n",
       " '1 teaspoon chicken bouillon',\n",
       " '¼ cup cornstarch',\n",
       " '½ cup water']"
      ]
     },
     "execution_count": 37,
     "metadata": {},
     "output_type": "execute_result"
    }
   ],
   "source": [
    "extract_description_and_ingredients(recipes[0])"
   ]
  },
  {
   "cell_type": "code",
   "execution_count": null,
   "id": "8b4f0191-e149-400a-b3ae-fc73bc17b73f",
   "metadata": {},
   "outputs": [],
   "source": []
  }
 ],
 "metadata": {
  "kernelspec": {
   "display_name": "Python 3 (ipykernel)",
   "language": "python",
   "name": "python3"
  },
  "language_info": {
   "codemirror_mode": {
    "name": "ipython",
    "version": 3
   },
   "file_extension": ".py",
   "mimetype": "text/x-python",
   "name": "python",
   "nbconvert_exporter": "python",
   "pygments_lexer": "ipython3",
   "version": "3.11.4"
  }
 },
 "nbformat": 4,
 "nbformat_minor": 5
}
