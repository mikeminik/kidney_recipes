{
 "cells": [
  {
   "cell_type": "code",
   "execution_count": 110,
   "id": "78a5931c-24c4-4de2-a678-4c8c18ae44c6",
   "metadata": {
    "tags": []
   },
   "outputs": [],
   "source": [
    "import pandas as pd\n",
    "import numpy as np\n"
   ]
  },
  {
   "cell_type": "markdown",
   "id": "dc1a4cee-1dd8-434c-b1ff-523a97dce299",
   "metadata": {},
   "source": [
    "### Helper functions"
   ]
  },
  {
   "cell_type": "code",
   "execution_count": 111,
   "id": "24ccc259-02ec-4567-862b-89d120c4c3d9",
   "metadata": {
    "tags": []
   },
   "outputs": [],
   "source": [
    "def clean_ingredients(ingredients):\n",
    "    # necessary due to the way .csv stores data. Lists are converted to a long string. Functions returns and actual list of strings\n",
    "    # and takes opportunity to remove whitespace and unnecessary characters\n",
    "    full = []\n",
    "    ingredients = ingredients.replace('\\\\n', ',').replace('\\n',',')\n",
    "    for string in ingredients.split(','):\n",
    "        string = ' '.join(string.strip().split())\n",
    "        string = string.replace(\"'\", '').replace('\\\\xa0',' ').replace('[','').replace(']','').replace('\"','')\n",
    "        full += string.split(',')\n",
    "    return full"
   ]
  },
  {
   "cell_type": "code",
   "execution_count": 119,
   "id": "cd96407a-cd33-4572-b032-81993661ab36",
   "metadata": {
    "tags": []
   },
   "outputs": [],
   "source": [
    "def generate_variants(list_of_ingredients, substitutions):\n",
    "    # take a list of ingredients\n",
    "    new_lists_of_ingredients = []\n",
    "    #for each entry in the list of ingredients\n",
    "    for entry_string in list_of_ingredients:\n",
    "        #print(f\"iterating over {entry_string} from original list\")\n",
    "        #see if any of the things in sub.keys is in the string\n",
    "        for sub_candidate in substitutions.keys():\n",
    "            if sub_candidate in entry_string:\n",
    "                # the substition key was in the recipe item, go into replacement mode \n",
    "                for substitute_item in substitutions[sub_candidate]:\n",
    "                    # for every available substitution item, make that item replacing the word that the match was on\n",
    "                    replacement_string = entry_string.replace(sub_candidate, substitute_item) # may need to stringify sub_candidate\n",
    "                    #print(f\"replaced {sub_candidate} with {substitute_item}\")\n",
    "                    # make a copy of the list of ingredients\n",
    "                    replacement_ingredients = list_of_ingredients.copy()\n",
    "                    \n",
    "                    # remove the entry that we're currently on because it had a match in it\n",
    "                    # print(f\"checking entry string again {entry_string}\")\n",
    "                    replacement_ingredients.remove(entry_string)\n",
    "                    # add the new variant to the copy of the list\n",
    "                    replacement_ingredients.append(replacement_string)\n",
    "                    #print(f\"replacement ingredients: {replacement_ingredients}\")\n",
    "                    # add the mutated list of ingredients to the total running list\n",
    "                    new_lists_of_ingredients.append(replacement_ingredients)\n",
    "    return new_lists_of_ingredients"
   ]
  },
  {
   "cell_type": "code",
   "execution_count": 120,
   "id": "ac71fa4b-b6d3-45ba-aee4-6c1d4946b43c",
   "metadata": {
    "tags": []
   },
   "outputs": [],
   "source": [
    "def extract_alternates(alternates):\n",
    "    for alternate in alternates:\n",
    "        new_recipes.append(alternate)"
   ]
  },
  {
   "cell_type": "code",
   "execution_count": null,
   "id": "a72f87dc-ca93-4455-bd6d-e172988dbff2",
   "metadata": {},
   "outputs": [],
   "source": []
  },
  {
   "cell_type": "code",
   "execution_count": 112,
   "id": "78f7553e-0c64-473e-a6a4-0724123c44f4",
   "metadata": {
    "tags": []
   },
   "outputs": [],
   "source": [
    "# a map of possible recipe ingredient subsitutions\n",
    "substitutions = {\n",
    "    # sweeteners\n",
    "    \"white sugar\": [\"brown sugar\", \"honey\", \"maple syrup\", \"agave nectar\"],\n",
    "    \"granulated sugar\": [\"white sugar\",\"brown sugar\", \"honey\", \"maple syrup\", \"agave nectar\"],\n",
    "    \"brown sugar\": [\"white sugar\", \"honey\", \"maple syrup\", \"agave nectar\"],\n",
    "    \"honey\": [\"white sugar\", \"brown sugar\", \"maple syrup\", \"agave nectar\"],\n",
    "    # flour\n",
    "    \"all-purpose flour\": [\"whole wheat flour\", \"gluten-free flour blend\", \"oat flour\"],\n",
    "    \"whole wheat flour\": [\"all-purpose flour\", \"gluten-free flour blend\", \"oat flour\"],\n",
    "    \"all purpose flour\": [\"whole wheat flour\", \"gluten-free flour blend\", \"oat flour\"],\n",
    "    \"bread flour\": [\"all-purpose flour\", \"whole wheat bread flour\", \"cake flour\"],\n",
    "    # Eggs\n",
    "    \"eggs\": [\"applesauce\", \"tofu\", \"chia seeds\", \"cornstarch\", \"chickpea flour\", \"ground flaxseed\"],\n",
    "    \"egg\": [\"applesauce\", \"tofu\", \"chia seeds\", \"cornstarch\", \"chickpea flour\", \"ground flaxseed\"],\n",
    "    # Butter\n",
    "    \"butter\": [\"olive oil\", \"applesauce\", \"vegetable broth\"],\n",
    "    # Oil\n",
    "    \"vegetable oil\": [\"canola oil\", \"olive oil\", \"avocado oil\", \"apple sauce\"],\n",
    "    \"olive oil\": [\"canola oil\", \"vegetable oil\", \"avocado oil\", \"apple sauce\"],\n",
    "    \"canola oil\": [\"olive oil\", \"vegetable oil\", \"avocado oil\", \"apple sauce\"],\n",
    "    # Others\n",
    "    \"baking powder\": [\"baking soda\", \"double-acting baking powder\"],\n",
    "    \"baking soda\": [\"baking powder\", \"double-acting baking powder\"],\n",
    "    \"breadcrumbs\": [\"crushed low-sodium crackers\", \"crushed low-sodium tortilla chips\"],\n",
    "    \"mayo\": [\"Greek yogurt\", \"hummus\", \"avocado\"],\n",
    "    \"mayonnaise\": [\"Greek yogurt\", \"hummus\", \"avocado\"],\n",
    "    \"cornstarch\": [\"arrowroot flour\", \"potato starch\"],\n",
    "    # Greens\n",
    "    \"kale\": [\"chard\", \"collard greens\", \"mustard greens\"],\n",
    "    \"chard\": [\"kale\", \"collard greens\", \"mustard greens\"],\n",
    "    \"collard greens\": [\"kale\", \"chard\", \"mustard greens\"],\n",
    "    \"arugula\": [\"watercress\", \"baby lettuce\"],\n",
    "    \"watercress\": [\"arugula\", \"baby lettuce\"],\n",
    "    \"lemon\": [\"lime\"],\n",
    "    \"lime\": [\"lemon\"],\n",
    "    # Cruciferous vegetables\n",
    "    \"cauliflower\": [\"kohlrabi\"],\n",
    "    \"kohlrabi\": [\"cauliflower\", \"turnips\", \"rutabaga\"],\n",
    "    # Alliums\n",
    "    \"onion\": [\"shallots\", \"leeks\", \"garlic\"],\n",
    "    \"shallots\": [\"onions\", \"leeks\", \"garlic\"],\n",
    "    \"leeks\": [\"onions\", \"shallots\", \"garlic\"],\n",
    "    \"garlic\": [\"onions\", \"shallots\", \"ginger\"],\n",
    "    # Root vegetables\n",
    "    \"potato\": [\"sweet potato\", \"turnips\", \"carrots\"],\n",
    "    \"sweet potato\": [\"potato\", \"parsnips\", \"butternut squash\"],\n",
    "    \"turnips\": [\"potato\", \"kohlrabi\", \"rutabaga\"],\n",
    "    \"parsnips\": [\"sweet potato\", \"carrots\", \"rutabaga\"],\n",
    "    # Other vegetables\n",
    "    \"celery\": [\"bok choy\", \"bell peppers\", \"cucumbers\"],\n",
    "    \"bok choy\": [\"celery\", \"swiss chard\"],\n",
    "    \"bell peppers\": [\"celery\", \"zucchini\", \"squash\"],\n",
    "    \"cucumbers\": [\"celery\", \"radishes\", \"cherry tomatoes\"],\n",
    "    \"zucchini\": [\"bell peppers\", \"yellow squash\", \"eggplant\"],\n",
    "    \"yellow squash\": [\"zucchini\", \"butternut squash\", \"acorn squash\"],\n",
    "    \"eggplant\": [\"zucchini\"]\n",
    "    \n",
    "}"
   ]
  },
  {
   "cell_type": "code",
   "execution_count": 113,
   "id": "c58e8e1e-b794-4a10-b2cc-d989b98254e2",
   "metadata": {
    "tags": []
   },
   "outputs": [],
   "source": [
    "df = pd.read_csv('../data/generated/kidney-friendly-standardized.csv')"
   ]
  },
  {
   "cell_type": "code",
   "execution_count": 114,
   "id": "f8dad2c7-255f-4d19-a705-d17bb9f1bd74",
   "metadata": {
    "tags": []
   },
   "outputs": [
    {
     "data": {
      "text/html": [
       "<div>\n",
       "<style scoped>\n",
       "    .dataframe tbody tr th:only-of-type {\n",
       "        vertical-align: middle;\n",
       "    }\n",
       "\n",
       "    .dataframe tbody tr th {\n",
       "        vertical-align: top;\n",
       "    }\n",
       "\n",
       "    .dataframe thead th {\n",
       "        text-align: right;\n",
       "    }\n",
       "</style>\n",
       "<table border=\"1\" class=\"dataframe\">\n",
       "  <thead>\n",
       "    <tr style=\"text-align: right;\">\n",
       "      <th></th>\n",
       "      <th>Unnamed: 0</th>\n",
       "      <th>serving_size</th>\n",
       "      <th>ingredients_raw</th>\n",
       "      <th>label</th>\n",
       "      <th>standardized_ingredients</th>\n",
       "    </tr>\n",
       "  </thead>\n",
       "  <tbody>\n",
       "    <tr>\n",
       "      <th>0</th>\n",
       "      <td>0</td>\n",
       "      <td>5</td>\n",
       "      <td>['½ cup canned chickpeas rinsed and drained', ...</td>\n",
       "      <td>1</td>\n",
       "      <td>['23.66 grams canned chickpeas rinsed and drai...</td>\n",
       "    </tr>\n",
       "    <tr>\n",
       "      <th>1</th>\n",
       "      <td>1</td>\n",
       "      <td>8</td>\n",
       "      <td>['1.5 lbs – Sea Bass or Tilapia Fish of choice...</td>\n",
       "      <td>1</td>\n",
       "      <td>['85.05 grams – Sea Bass or Tilapia Fish of ch...</td>\n",
       "    </tr>\n",
       "    <tr>\n",
       "      <th>2</th>\n",
       "      <td>2</td>\n",
       "      <td>4</td>\n",
       "      <td>['1 1/2 cups rhubarb ginger simple syrup &lt;&lt;&lt; G...</td>\n",
       "      <td>1</td>\n",
       "      <td>['59.15 0.5 grams rhubarb ginger simple syrup ...</td>\n",
       "    </tr>\n",
       "    <tr>\n",
       "      <th>3</th>\n",
       "      <td>3</td>\n",
       "      <td>1</td>\n",
       "      <td>['1/3 cup (75 ml) beef broth, no salt added\\n1...</td>\n",
       "      <td>1</td>\n",
       "      <td>['78.07 grams (75 ml) beef broth', 'no salt ad...</td>\n",
       "    </tr>\n",
       "    <tr>\n",
       "      <th>4</th>\n",
       "      <td>4</td>\n",
       "      <td>8</td>\n",
       "      <td>['5 egg yolks\\n2 Tbsp fresh lemon zest\\n½ cup ...</td>\n",
       "      <td>1</td>\n",
       "      <td>['0.62 egg yolks', '0.25 Tbsp fresh lemon zest...</td>\n",
       "    </tr>\n",
       "  </tbody>\n",
       "</table>\n",
       "</div>"
      ],
      "text/plain": [
       "   Unnamed: 0  serving_size  \\\n",
       "0           0             5   \n",
       "1           1             8   \n",
       "2           2             4   \n",
       "3           3             1   \n",
       "4           4             8   \n",
       "\n",
       "                                     ingredients_raw  label  \\\n",
       "0  ['½ cup canned chickpeas rinsed and drained', ...      1   \n",
       "1  ['1.5 lbs – Sea Bass or Tilapia Fish of choice...      1   \n",
       "2  ['1 1/2 cups rhubarb ginger simple syrup <<< G...      1   \n",
       "3  ['1/3 cup (75 ml) beef broth, no salt added\\n1...      1   \n",
       "4  ['5 egg yolks\\n2 Tbsp fresh lemon zest\\n½ cup ...      1   \n",
       "\n",
       "                            standardized_ingredients  \n",
       "0  ['23.66 grams canned chickpeas rinsed and drai...  \n",
       "1  ['85.05 grams – Sea Bass or Tilapia Fish of ch...  \n",
       "2  ['59.15 0.5 grams rhubarb ginger simple syrup ...  \n",
       "3  ['78.07 grams (75 ml) beef broth', 'no salt ad...  \n",
       "4  ['0.62 egg yolks', '0.25 Tbsp fresh lemon zest...  "
      ]
     },
     "execution_count": 114,
     "metadata": {},
     "output_type": "execute_result"
    }
   ],
   "source": [
    "df.head()"
   ]
  },
  {
   "cell_type": "code",
   "execution_count": 115,
   "id": "c94cfa3d-5e82-49cc-a5df-be2e1589397c",
   "metadata": {
    "tags": []
   },
   "outputs": [
    {
     "data": {
      "text/plain": [
       "(831, 5)"
      ]
     },
     "execution_count": 115,
     "metadata": {},
     "output_type": "execute_result"
    }
   ],
   "source": [
    "df.shape"
   ]
  },
  {
   "cell_type": "code",
   "execution_count": 116,
   "id": "9c482da1-5e1a-447e-92fb-28332c43c2fc",
   "metadata": {
    "tags": []
   },
   "outputs": [
    {
     "data": {
      "text/plain": [
       "\"['23.66 grams canned chickpeas rinsed and drained', '94.64 grams red pepper cut in 2-inch wedges', '0.4 garlic cloves', '6.0 grams extra-virgin olive oil  ', '6.0 grams lemon juice', '3.0 grams of tahini', 'Black pepper to taste', 'You may also add cumin or paprika or chili pepper if you like']\""
      ]
     },
     "execution_count": 116,
     "metadata": {},
     "output_type": "execute_result"
    }
   ],
   "source": [
    "df['standardized_ingredients'][0]"
   ]
  },
  {
   "cell_type": "code",
   "execution_count": 117,
   "id": "92baef7c-a10d-4fd2-b24b-e2bf60c17efc",
   "metadata": {
    "tags": []
   },
   "outputs": [],
   "source": [
    "df['standardized_ingredients'] = df['standardized_ingredients'].apply(clean_ingredients)"
   ]
  },
  {
   "cell_type": "code",
   "execution_count": 118,
   "id": "a790124b-5536-4e99-b4b6-68e1097fb63e",
   "metadata": {
    "tags": []
   },
   "outputs": [
    {
     "data": {
      "text/plain": [
       "['23.66 grams canned chickpeas rinsed and drained',\n",
       " '94.64 grams red pepper cut in 2-inch wedges',\n",
       " '0.4 garlic cloves',\n",
       " '6.0 grams extra-virgin olive oil ',\n",
       " '6.0 grams lemon juice',\n",
       " '3.0 grams of tahini',\n",
       " 'Black pepper to taste',\n",
       " 'You may also add cumin or paprika or chili pepper if you like']"
      ]
     },
     "execution_count": 118,
     "metadata": {},
     "output_type": "execute_result"
    }
   ],
   "source": [
    "df['standardized_ingredients'][0]"
   ]
  },
  {
   "cell_type": "markdown",
   "id": "063c8c80-8c0a-4223-be01-07e41c81929e",
   "metadata": {},
   "source": [
    "### Generate variants of recipes for each subsitutable ingredient"
   ]
  },
  {
   "cell_type": "code",
   "execution_count": 121,
   "id": "429ce09c-4e13-42a2-b170-cc5a7cb2edf9",
   "metadata": {
    "tags": []
   },
   "outputs": [],
   "source": [
    "df['alternates'] = df['standardized_ingredients'].apply(lambda x : generate_variants(x, substitutions))"
   ]
  },
  {
   "cell_type": "code",
   "execution_count": 122,
   "id": "253f0004-a5a8-4859-af3c-f454c64866b9",
   "metadata": {
    "tags": []
   },
   "outputs": [
    {
     "data": {
      "text/html": [
       "<div>\n",
       "<style scoped>\n",
       "    .dataframe tbody tr th:only-of-type {\n",
       "        vertical-align: middle;\n",
       "    }\n",
       "\n",
       "    .dataframe tbody tr th {\n",
       "        vertical-align: top;\n",
       "    }\n",
       "\n",
       "    .dataframe thead th {\n",
       "        text-align: right;\n",
       "    }\n",
       "</style>\n",
       "<table border=\"1\" class=\"dataframe\">\n",
       "  <thead>\n",
       "    <tr style=\"text-align: right;\">\n",
       "      <th></th>\n",
       "      <th>Unnamed: 0</th>\n",
       "      <th>serving_size</th>\n",
       "      <th>ingredients_raw</th>\n",
       "      <th>label</th>\n",
       "      <th>standardized_ingredients</th>\n",
       "      <th>alternates</th>\n",
       "    </tr>\n",
       "  </thead>\n",
       "  <tbody>\n",
       "    <tr>\n",
       "      <th>0</th>\n",
       "      <td>0</td>\n",
       "      <td>5</td>\n",
       "      <td>['½ cup canned chickpeas rinsed and drained', ...</td>\n",
       "      <td>1</td>\n",
       "      <td>[23.66 grams canned chickpeas rinsed and drain...</td>\n",
       "      <td>[[23.66 grams canned chickpeas rinsed and drai...</td>\n",
       "    </tr>\n",
       "    <tr>\n",
       "      <th>1</th>\n",
       "      <td>1</td>\n",
       "      <td>8</td>\n",
       "      <td>['1.5 lbs – Sea Bass or Tilapia Fish of choice...</td>\n",
       "      <td>1</td>\n",
       "      <td>[85.05 grams – Sea Bass or Tilapia Fish of cho...</td>\n",
       "      <td>[]</td>\n",
       "    </tr>\n",
       "    <tr>\n",
       "      <th>2</th>\n",
       "      <td>2</td>\n",
       "      <td>4</td>\n",
       "      <td>['1 1/2 cups rhubarb ginger simple syrup &lt;&lt;&lt; G...</td>\n",
       "      <td>1</td>\n",
       "      <td>[59.15 0.5 grams rhubarb ginger simple syrup &lt;...</td>\n",
       "      <td>[[59.15 0.5 grams rhubarb ginger simple syrup ...</td>\n",
       "    </tr>\n",
       "    <tr>\n",
       "      <th>3</th>\n",
       "      <td>3</td>\n",
       "      <td>1</td>\n",
       "      <td>['1/3 cup (75 ml) beef broth, no salt added\\n1...</td>\n",
       "      <td>1</td>\n",
       "      <td>[78.07 grams (75 ml) beef broth, no salt added...</td>\n",
       "      <td>[[78.07 grams (75 ml) beef broth, no salt adde...</td>\n",
       "    </tr>\n",
       "    <tr>\n",
       "      <th>4</th>\n",
       "      <td>4</td>\n",
       "      <td>8</td>\n",
       "      <td>['5 egg yolks\\n2 Tbsp fresh lemon zest\\n½ cup ...</td>\n",
       "      <td>1</td>\n",
       "      <td>[0.62 egg yolks, 0.25 Tbsp fresh lemon zest, 1...</td>\n",
       "      <td>[[0.25 Tbsp fresh lemon zest, 14.79 grams lemo...</td>\n",
       "    </tr>\n",
       "  </tbody>\n",
       "</table>\n",
       "</div>"
      ],
      "text/plain": [
       "   Unnamed: 0  serving_size  \\\n",
       "0           0             5   \n",
       "1           1             8   \n",
       "2           2             4   \n",
       "3           3             1   \n",
       "4           4             8   \n",
       "\n",
       "                                     ingredients_raw  label  \\\n",
       "0  ['½ cup canned chickpeas rinsed and drained', ...      1   \n",
       "1  ['1.5 lbs – Sea Bass or Tilapia Fish of choice...      1   \n",
       "2  ['1 1/2 cups rhubarb ginger simple syrup <<< G...      1   \n",
       "3  ['1/3 cup (75 ml) beef broth, no salt added\\n1...      1   \n",
       "4  ['5 egg yolks\\n2 Tbsp fresh lemon zest\\n½ cup ...      1   \n",
       "\n",
       "                            standardized_ingredients  \\\n",
       "0  [23.66 grams canned chickpeas rinsed and drain...   \n",
       "1  [85.05 grams – Sea Bass or Tilapia Fish of cho...   \n",
       "2  [59.15 0.5 grams rhubarb ginger simple syrup <...   \n",
       "3  [78.07 grams (75 ml) beef broth, no salt added...   \n",
       "4  [0.62 egg yolks, 0.25 Tbsp fresh lemon zest, 1...   \n",
       "\n",
       "                                          alternates  \n",
       "0  [[23.66 grams canned chickpeas rinsed and drai...  \n",
       "1                                                 []  \n",
       "2  [[59.15 0.5 grams rhubarb ginger simple syrup ...  \n",
       "3  [[78.07 grams (75 ml) beef broth, no salt adde...  \n",
       "4  [[0.25 Tbsp fresh lemon zest, 14.79 grams lemo...  "
      ]
     },
     "execution_count": 122,
     "metadata": {},
     "output_type": "execute_result"
    }
   ],
   "source": [
    "df.head()"
   ]
  },
  {
   "cell_type": "code",
   "execution_count": 123,
   "id": "7676424d-07c2-4dbb-8de9-0ddc82646417",
   "metadata": {
    "tags": []
   },
   "outputs": [
    {
     "data": {
      "text/plain": [
       "0      None\n",
       "1      None\n",
       "2      None\n",
       "3      None\n",
       "4      None\n",
       "       ... \n",
       "826    None\n",
       "827    None\n",
       "828    None\n",
       "829    None\n",
       "830    None\n",
       "Name: alternates, Length: 831, dtype: object"
      ]
     },
     "execution_count": 123,
     "metadata": {},
     "output_type": "execute_result"
    }
   ],
   "source": [
    "# create a master list of variants per recipe\n",
    "new_recipes = []\n",
    "df['alternates'].apply(extract_alternates)"
   ]
  },
  {
   "cell_type": "markdown",
   "id": "686bcd55-87ee-48cc-8330-bc851a1f1f1d",
   "metadata": {},
   "source": [
    "### Create a dataframe to contain alternates"
   ]
  },
  {
   "cell_type": "code",
   "execution_count": 124,
   "id": "f0039da7-a4a1-4d9b-b21c-dff667a8f53e",
   "metadata": {
    "tags": []
   },
   "outputs": [],
   "source": [
    "augmented_kidney_data = pd.DataFrame({'ingredients' : new_recipes})"
   ]
  },
  {
   "cell_type": "code",
   "execution_count": 126,
   "id": "f6828b23-dedf-4ae3-be3a-ce2e150a7f7a",
   "metadata": {
    "tags": []
   },
   "outputs": [],
   "source": [
    "augmented_kidney_data['label'] = 1"
   ]
  },
  {
   "cell_type": "code",
   "execution_count": null,
   "id": "508ec733-b1be-4c94-8459-e5173c68c5a6",
   "metadata": {
    "tags": []
   },
   "outputs": [],
   "source": []
  },
  {
   "cell_type": "markdown",
   "id": "c03a086d-da01-4c02-9a11-aca1584c2c6b",
   "metadata": {},
   "source": [
    "### Bring in non-kidney-friendly recipe sample and combine"
   ]
  },
  {
   "cell_type": "code",
   "execution_count": 127,
   "id": "7c0310a4-2f35-4b15-9afd-71837ae20940",
   "metadata": {
    "tags": []
   },
   "outputs": [],
   "source": [
    "nkf_df = pd.read_csv('../data/generated/nkf_sample_10000.csv')"
   ]
  },
  {
   "cell_type": "code",
   "execution_count": 128,
   "id": "177d1726-c595-460f-b777-8feac8d7caec",
   "metadata": {
    "tags": []
   },
   "outputs": [],
   "source": [
    "nkf_df['ingredients'] = nkf_df['standardized_ingredients'].apply(clean_ingredients)"
   ]
  },
  {
   "cell_type": "code",
   "execution_count": 129,
   "id": "d5b25d5d-19e4-4e30-be02-e312885c6dd1",
   "metadata": {
    "tags": []
   },
   "outputs": [
    {
     "data": {
      "text/plain": [
       "['113.4 grams lamb chop',\n",
       " 'trimmed of fat and bones ',\n",
       " '118.29 0.5 grams low-sodium beef bouillon',\n",
       " 'mixed ',\n",
       " '1.0 medium potatoes',\n",
       " 'peeled and cubed ',\n",
       " '0.25 carrot',\n",
       " 'peeled and sliced ',\n",
       " '0.25 celery rib',\n",
       " 'chopped ',\n",
       " '0.12 white onion',\n",
       " 'rough chopped ',\n",
       " '28.35 grams frozen corn',\n",
       " '14.79 grams fresh mushrooms',\n",
       " ' half salt and pepper',\n",
       " 'to taste ',\n",
       " ' parsley',\n",
       " 'to taste ']"
      ]
     },
     "execution_count": 129,
     "metadata": {},
     "output_type": "execute_result"
    }
   ],
   "source": [
    "nkf_df.ingredients[1]"
   ]
  },
  {
   "cell_type": "code",
   "execution_count": 130,
   "id": "53babd2f-72bf-4d15-b99c-3c36fb39b9ef",
   "metadata": {
    "tags": []
   },
   "outputs": [
    {
     "data": {
      "text/html": [
       "<div>\n",
       "<style scoped>\n",
       "    .dataframe tbody tr th:only-of-type {\n",
       "        vertical-align: middle;\n",
       "    }\n",
       "\n",
       "    .dataframe tbody tr th {\n",
       "        vertical-align: top;\n",
       "    }\n",
       "\n",
       "    .dataframe thead th {\n",
       "        text-align: right;\n",
       "    }\n",
       "</style>\n",
       "<table border=\"1\" class=\"dataframe\">\n",
       "  <thead>\n",
       "    <tr style=\"text-align: right;\">\n",
       "      <th></th>\n",
       "      <th>Unnamed: 0</th>\n",
       "      <th>standardized_ingredients</th>\n",
       "      <th>label</th>\n",
       "      <th>ingredients</th>\n",
       "    </tr>\n",
       "  </thead>\n",
       "  <tbody>\n",
       "    <tr>\n",
       "      <th>0</th>\n",
       "      <td>0</td>\n",
       "      <td>['19.72 grams sugar', '13.01 grams cocoa', '9....</td>\n",
       "      <td>0</td>\n",
       "      <td>[19.72 grams sugar, 13.01 grams cocoa, 9.86 gr...</td>\n",
       "    </tr>\n",
       "    <tr>\n",
       "      <th>1</th>\n",
       "      <td>1</td>\n",
       "      <td>['113.4 grams lamb chop', 'trimmed of fat and ...</td>\n",
       "      <td>0</td>\n",
       "      <td>[113.4 grams lamb chop, trimmed of fat and bon...</td>\n",
       "    </tr>\n",
       "    <tr>\n",
       "      <th>2</th>\n",
       "      <td>2</td>\n",
       "      <td>['1.0 beef loin steaks', 'cut 0.25-inch thick ...</td>\n",
       "      <td>0</td>\n",
       "      <td>[1.0 beef loin steaks, cut 0.25-inch thick , 3...</td>\n",
       "    </tr>\n",
       "    <tr>\n",
       "      <th>3</th>\n",
       "      <td>3</td>\n",
       "      <td>['1.0 corn tortillas (like Mission Super Size)...</td>\n",
       "      <td>0</td>\n",
       "      <td>[1.0 corn tortillas (like Mission Super Size),...</td>\n",
       "    </tr>\n",
       "    <tr>\n",
       "      <th>4</th>\n",
       "      <td>4</td>\n",
       "      <td>['39.43 grams butter', 'softened ', '7.5 grams...</td>\n",
       "      <td>0</td>\n",
       "      <td>[39.43 grams butter, softened , 7.5 grams gree...</td>\n",
       "    </tr>\n",
       "  </tbody>\n",
       "</table>\n",
       "</div>"
      ],
      "text/plain": [
       "   Unnamed: 0                           standardized_ingredients  label  \\\n",
       "0           0  ['19.72 grams sugar', '13.01 grams cocoa', '9....      0   \n",
       "1           1  ['113.4 grams lamb chop', 'trimmed of fat and ...      0   \n",
       "2           2  ['1.0 beef loin steaks', 'cut 0.25-inch thick ...      0   \n",
       "3           3  ['1.0 corn tortillas (like Mission Super Size)...      0   \n",
       "4           4  ['39.43 grams butter', 'softened ', '7.5 grams...      0   \n",
       "\n",
       "                                         ingredients  \n",
       "0  [19.72 grams sugar, 13.01 grams cocoa, 9.86 gr...  \n",
       "1  [113.4 grams lamb chop, trimmed of fat and bon...  \n",
       "2  [1.0 beef loin steaks, cut 0.25-inch thick , 3...  \n",
       "3  [1.0 corn tortillas (like Mission Super Size),...  \n",
       "4  [39.43 grams butter, softened , 7.5 grams gree...  "
      ]
     },
     "execution_count": 130,
     "metadata": {},
     "output_type": "execute_result"
    }
   ],
   "source": [
    "nkf_df.head()"
   ]
  },
  {
   "cell_type": "code",
   "execution_count": 131,
   "id": "5b43d683-2806-4b6b-a1d9-ecedba23c81e",
   "metadata": {
    "tags": []
   },
   "outputs": [
    {
     "data": {
      "text/plain": [
       "(10000, 4)"
      ]
     },
     "execution_count": 131,
     "metadata": {},
     "output_type": "execute_result"
    }
   ],
   "source": [
    "nkf_df.shape"
   ]
  },
  {
   "cell_type": "code",
   "execution_count": 132,
   "id": "507062e1-4a09-46b2-9007-212e322b3686",
   "metadata": {
    "tags": []
   },
   "outputs": [
    {
     "data": {
      "text/html": [
       "<div>\n",
       "<style scoped>\n",
       "    .dataframe tbody tr th:only-of-type {\n",
       "        vertical-align: middle;\n",
       "    }\n",
       "\n",
       "    .dataframe tbody tr th {\n",
       "        vertical-align: top;\n",
       "    }\n",
       "\n",
       "    .dataframe thead th {\n",
       "        text-align: right;\n",
       "    }\n",
       "</style>\n",
       "<table border=\"1\" class=\"dataframe\">\n",
       "  <thead>\n",
       "    <tr style=\"text-align: right;\">\n",
       "      <th></th>\n",
       "      <th>ingredients</th>\n",
       "      <th>label</th>\n",
       "    </tr>\n",
       "  </thead>\n",
       "  <tbody>\n",
       "    <tr>\n",
       "      <th>0</th>\n",
       "      <td>[23.66 grams canned chickpeas rinsed and drain...</td>\n",
       "      <td>1</td>\n",
       "    </tr>\n",
       "    <tr>\n",
       "      <th>1</th>\n",
       "      <td>[23.66 grams canned chickpeas rinsed and drain...</td>\n",
       "      <td>1</td>\n",
       "    </tr>\n",
       "    <tr>\n",
       "      <th>2</th>\n",
       "      <td>[23.66 grams canned chickpeas rinsed and drain...</td>\n",
       "      <td>1</td>\n",
       "    </tr>\n",
       "    <tr>\n",
       "      <th>3</th>\n",
       "      <td>[23.66 grams canned chickpeas rinsed and drain...</td>\n",
       "      <td>1</td>\n",
       "    </tr>\n",
       "    <tr>\n",
       "      <th>4</th>\n",
       "      <td>[23.66 grams canned chickpeas rinsed and drain...</td>\n",
       "      <td>1</td>\n",
       "    </tr>\n",
       "  </tbody>\n",
       "</table>\n",
       "</div>"
      ],
      "text/plain": [
       "                                         ingredients  label\n",
       "0  [23.66 grams canned chickpeas rinsed and drain...      1\n",
       "1  [23.66 grams canned chickpeas rinsed and drain...      1\n",
       "2  [23.66 grams canned chickpeas rinsed and drain...      1\n",
       "3  [23.66 grams canned chickpeas rinsed and drain...      1\n",
       "4  [23.66 grams canned chickpeas rinsed and drain...      1"
      ]
     },
     "execution_count": 132,
     "metadata": {},
     "output_type": "execute_result"
    }
   ],
   "source": [
    "augmented_kidney_data.head()"
   ]
  },
  {
   "cell_type": "code",
   "execution_count": 133,
   "id": "8347449a-30c1-4eed-9ca7-72f5e36a9b65",
   "metadata": {
    "tags": []
   },
   "outputs": [],
   "source": [
    "nkf_df = nkf_df[['ingredients', 'label']]"
   ]
  },
  {
   "cell_type": "code",
   "execution_count": 134,
   "id": "63979aee-90e3-4fe2-b3a6-cca80c18ec25",
   "metadata": {
    "tags": []
   },
   "outputs": [
    {
     "data": {
      "text/html": [
       "<div>\n",
       "<style scoped>\n",
       "    .dataframe tbody tr th:only-of-type {\n",
       "        vertical-align: middle;\n",
       "    }\n",
       "\n",
       "    .dataframe tbody tr th {\n",
       "        vertical-align: top;\n",
       "    }\n",
       "\n",
       "    .dataframe thead th {\n",
       "        text-align: right;\n",
       "    }\n",
       "</style>\n",
       "<table border=\"1\" class=\"dataframe\">\n",
       "  <thead>\n",
       "    <tr style=\"text-align: right;\">\n",
       "      <th></th>\n",
       "      <th>ingredients</th>\n",
       "      <th>label</th>\n",
       "    </tr>\n",
       "  </thead>\n",
       "  <tbody>\n",
       "    <tr>\n",
       "      <th>0</th>\n",
       "      <td>[19.72 grams sugar, 13.01 grams cocoa, 9.86 gr...</td>\n",
       "      <td>0</td>\n",
       "    </tr>\n",
       "    <tr>\n",
       "      <th>1</th>\n",
       "      <td>[113.4 grams lamb chop, trimmed of fat and bon...</td>\n",
       "      <td>0</td>\n",
       "    </tr>\n",
       "    <tr>\n",
       "      <th>2</th>\n",
       "      <td>[1.0 beef loin steaks, cut 0.25-inch thick , 3...</td>\n",
       "      <td>0</td>\n",
       "    </tr>\n",
       "    <tr>\n",
       "      <th>3</th>\n",
       "      <td>[1.0 corn tortillas (like Mission Super Size),...</td>\n",
       "      <td>0</td>\n",
       "    </tr>\n",
       "    <tr>\n",
       "      <th>4</th>\n",
       "      <td>[39.43 grams butter, softened , 7.5 grams gree...</td>\n",
       "      <td>0</td>\n",
       "    </tr>\n",
       "  </tbody>\n",
       "</table>\n",
       "</div>"
      ],
      "text/plain": [
       "                                         ingredients  label\n",
       "0  [19.72 grams sugar, 13.01 grams cocoa, 9.86 gr...      0\n",
       "1  [113.4 grams lamb chop, trimmed of fat and bon...      0\n",
       "2  [1.0 beef loin steaks, cut 0.25-inch thick , 3...      0\n",
       "3  [1.0 corn tortillas (like Mission Super Size),...      0\n",
       "4  [39.43 grams butter, softened , 7.5 grams gree...      0"
      ]
     },
     "execution_count": 134,
     "metadata": {},
     "output_type": "execute_result"
    }
   ],
   "source": [
    "nkf_df.head()"
   ]
  },
  {
   "cell_type": "code",
   "execution_count": 135,
   "id": "4e87dee0-534d-428f-b78a-7cdcd12a8133",
   "metadata": {
    "tags": []
   },
   "outputs": [
    {
     "data": {
      "text/plain": [
       "(8696, 2)"
      ]
     },
     "execution_count": 135,
     "metadata": {},
     "output_type": "execute_result"
    }
   ],
   "source": [
    "augmented_kidney_data.shape"
   ]
  },
  {
   "cell_type": "code",
   "execution_count": 136,
   "id": "ae4748aa-3102-4b01-bea1-365ab08b7ca4",
   "metadata": {
    "tags": []
   },
   "outputs": [],
   "source": [
    "recipe_data = pd.concat([nkf_df, augmented_kidney_data], axis = 0)"
   ]
  },
  {
   "cell_type": "code",
   "execution_count": 137,
   "id": "480180c8-3f2f-4ec0-b196-11c8e3860f87",
   "metadata": {
    "tags": []
   },
   "outputs": [
    {
     "data": {
      "text/plain": [
       "(18696, 2)"
      ]
     },
     "execution_count": 137,
     "metadata": {},
     "output_type": "execute_result"
    }
   ],
   "source": [
    "recipe_data.shape"
   ]
  },
  {
   "cell_type": "code",
   "execution_count": 138,
   "id": "8093a6db-cc84-4614-a263-b805c5e54e87",
   "metadata": {
    "tags": []
   },
   "outputs": [],
   "source": [
    "recipe_data.to_csv('../data/generated/tidy_recipe_data_all_2.csv', index=False)"
   ]
  },
  {
   "cell_type": "code",
   "execution_count": 94,
   "id": "18d64dee-41f1-4cf2-a424-65833d870bde",
   "metadata": {
    "tags": []
   },
   "outputs": [],
   "source": [
    "test_ingrediets_1 = [\"1 tbsp butter\",\n",
    "       \"2 steaks\",\n",
    "       \"0.5 cup chopped apples\"\n",
    "       ]\n",
    "\n",
    "test_ingredients_2 = [\"2 eggs\",\n",
    "        \"1 cup flour\"]\n",
    "\n",
    "test_substitutions = {\n",
    "    \"butter\": [\"olive oil\", \"vegetable oil\", \"pam\"],\n",
    "    \"apples\": [\"oranges\", \"bananas\"],\n",
    "    \"eggs\": [\"flax\"],\n",
    "    \"flour\": [\"whole wheat flour\"]\n",
    "}\n",
    "\n",
    "#generate_variants(test, substitutions)"
   ]
  },
  {
   "cell_type": "code",
   "execution_count": 95,
   "id": "5e40d89d-b709-429b-8d37-8beac59fe166",
   "metadata": {
    "tags": []
   },
   "outputs": [
    {
     "ename": "NameError",
     "evalue": "name 'test' is not defined",
     "output_type": "error",
     "traceback": [
      "\u001b[1;31m---------------------------------------------------------------------------\u001b[0m",
      "\u001b[1;31mNameError\u001b[0m                                 Traceback (most recent call last)",
      "Cell \u001b[1;32mIn[95], line 1\u001b[0m\n\u001b[1;32m----> 1\u001b[0m pd_test \u001b[38;5;241m=\u001b[39m pd\u001b[38;5;241m.\u001b[39mDataFrame({\u001b[38;5;124m'\u001b[39m\u001b[38;5;124mrecipe\u001b[39m\u001b[38;5;124m'\u001b[39m: [\u001b[38;5;124m'\u001b[39m\u001b[38;5;124myummy thing\u001b[39m\u001b[38;5;124m'\u001b[39m, \u001b[38;5;124m'\u001b[39m\u001b[38;5;124myucky thing\u001b[39m\u001b[38;5;124m'\u001b[39m], \u001b[38;5;124m\"\u001b[39m\u001b[38;5;124mingredients\u001b[39m\u001b[38;5;124m\"\u001b[39m : [test, test2]})\n\u001b[0;32m      2\u001b[0m pd_test\n",
      "\u001b[1;31mNameError\u001b[0m: name 'test' is not defined"
     ]
    }
   ],
   "source": [
    "pd_test = pd.DataFrame({'recipe': ['yummy thing', 'yucky thing'], \"ingredients\" : [test, test2]})\n",
    "pd_test"
   ]
  },
  {
   "cell_type": "code",
   "execution_count": null,
   "id": "5a3380ef-3fd3-462a-ac70-624d657f1547",
   "metadata": {
    "tags": []
   },
   "outputs": [],
   "source": [
    "pd_test['alternates'] = pd_test['ingredients'].apply(lambda x : generate_variants(x, substitutions))"
   ]
  },
  {
   "cell_type": "code",
   "execution_count": null,
   "id": "e266586f-db05-46d7-867f-a71cf10dcfca",
   "metadata": {
    "tags": []
   },
   "outputs": [],
   "source": [
    "\n"
   ]
  },
  {
   "cell_type": "code",
   "execution_count": null,
   "id": "af1f29b7-6e89-4563-9965-b54099c752f7",
   "metadata": {
    "tags": []
   },
   "outputs": [],
   "source": [
    "new_recipes = []\n",
    "pd_test['alternates'].apply(extract_alternates)"
   ]
  },
  {
   "cell_type": "code",
   "execution_count": null,
   "id": "3ec5d38f-b68f-4714-b821-173155e32321",
   "metadata": {
    "tags": []
   },
   "outputs": [],
   "source": [
    "new_recipes"
   ]
  },
  {
   "cell_type": "code",
   "execution_count": null,
   "id": "cf34752a-abe1-4af3-a09b-1e40f339caf2",
   "metadata": {
    "tags": []
   },
   "outputs": [],
   "source": [
    "pd_test"
   ]
  },
  {
   "cell_type": "code",
   "execution_count": null,
   "id": "14ca4c08-d7ed-4f64-bfd1-33335b55fc45",
   "metadata": {
    "tags": []
   },
   "outputs": [],
   "source": []
  },
  {
   "cell_type": "code",
   "execution_count": null,
   "id": "eb8e8cc7-3d58-423b-8574-e2c7a1a65ab3",
   "metadata": {
    "tags": []
   },
   "outputs": [],
   "source": [
    "pd.DataFrame(new_recipes)"
   ]
  },
  {
   "cell_type": "code",
   "execution_count": null,
   "id": "ff0dc892-0048-412d-85ad-25243fb8ee87",
   "metadata": {},
   "outputs": [],
   "source": []
  }
 ],
 "metadata": {
  "kernelspec": {
   "display_name": "Python 3 (ipykernel)",
   "language": "python",
   "name": "python3"
  },
  "language_info": {
   "codemirror_mode": {
    "name": "ipython",
    "version": 3
   },
   "file_extension": ".py",
   "mimetype": "text/x-python",
   "name": "python",
   "nbconvert_exporter": "python",
   "pygments_lexer": "ipython3",
   "version": "3.11.5"
  }
 },
 "nbformat": 4,
 "nbformat_minor": 5
}
