{
 "cells": [
  {
   "cell_type": "code",
   "execution_count": 2,
   "id": "837dd7cc-b807-4cae-a3f4-961b4cce448f",
   "metadata": {
    "tags": []
   },
   "outputs": [],
   "source": [
    "import numpy as np\n",
    "import pandas as pd\n",
    "import requests\n",
    "import time\n",
    "import os\n",
    "from bs4 import BeautifulSoup\n",
    "\n",
    "# from selenium import webdriver\n",
    "# from selenium.webdriver.common.by import By\n",
    "# import time"
   ]
  },
  {
   "cell_type": "code",
   "execution_count": null,
   "id": "df5587b2-0af3-4da7-bdd5-fe8dc256cc61",
   "metadata": {},
   "outputs": [],
   "source": []
  },
  {
   "cell_type": "code",
   "execution_count": null,
   "id": "f45677e8-182f-450c-a230-21aa9aa169ae",
   "metadata": {
    "tags": []
   },
   "outputs": [],
   "source": []
  },
  {
   "cell_type": "markdown",
   "id": "2924bbc5-5515-4571-a0a7-bf1db4eed898",
   "metadata": {
    "tags": []
   },
   "source": [
    "## Functions"
   ]
  },
  {
   "cell_type": "code",
   "execution_count": 75,
   "id": "d7ce4740-5e29-4891-8929-d02bdfa41ca5",
   "metadata": {
    "tags": []
   },
   "outputs": [],
   "source": [
    "def extract_visible_urls(source):\n",
    "    recipe_urls = []\n",
    "    for item in source:\n",
    "        if item.find('a') != None:\n",
    "            link = item.find('a').attrs['href']\n",
    "            recipe_urls.append(link)\n",
    "    return recipe_urls"
   ]
  },
  {
   "cell_type": "code",
   "execution_count": 76,
   "id": "0fced3f9-ec76-47e9-a18d-8d9d8eda6f9a",
   "metadata": {
    "tags": []
   },
   "outputs": [],
   "source": [
    "def get_file_name(url):\n",
    "    # create a \"file name\" that is created from the URL that is primarily used to identify the ingredients\n",
    "    file_name = url.split('recipes/')[1].strip('/')\n",
    "    return file_name"
   ]
  },
  {
   "cell_type": "code",
   "execution_count": 67,
   "id": "699d3ce2-765c-4c4e-9dda-8f75f90a7789",
   "metadata": {
    "tags": []
   },
   "outputs": [],
   "source": [
    "# Todo: delete as it is obsolete\n",
    "# def extract_description_and_ingredients(url):\n",
    "    \n",
    "#     ingredients_text = []\n",
    "#     description_text = []\n",
    "#     # make request and soup\n",
    "#     headers = {'User-Agent': 'Mozilla/5.0 (Windows NT 10.0; Win64; x64) AppleWebKit/537.36 (KHTML, like Gecko) Chrome/119.0.0.0 Safari/537.36'}\n",
    "#     res = requests.get(url, headers=headers)\n",
    "#     if res.status_code != 200:\n",
    "#         print(f\"{url} request status: {res.status_code}\")\n",
    "#     soup = BeautifulSoup(res.content)\n",
    "    \n",
    "#     # get the descriptions from the top of the individual recipes\n",
    "#     description_items = soup.find_all('div', {'class' : 'col-md-6 col-sm-12 d-flex flex-column'})[0].find_all('p')\n",
    "#     [description_text.append(p.text) for p in description_items if len(p) > 0]\n",
    "    \n",
    "#     # focus in on the element that contains ingredients using 'li' first\n",
    "#     ingredients_div = soup.find_all('div', {'class': lambda x: 'ingredients' in x if x else False})\n",
    "#     ingredient_items = [ result.find_all('li') for result in ingredients_div]\n",
    "    \n",
    "#     # if first pass above yields no results, try for 'p' elements instead\n",
    "#     if len(ingredient_items[0]) == 0:\n",
    "#         ingredient_items = [ result.find_all('p') for result in ingredients_div]\n",
    "        \n",
    "#     [ingredients_text.append(l.text) for l in ingredient_items[0]]\n",
    "#     return description_text, ingredients_text"
   ]
  },
  {
   "cell_type": "code",
   "execution_count": 103,
   "id": "57ad8204-b11d-4c98-a9a5-426b53c3c4dc",
   "metadata": {
    "tags": []
   },
   "outputs": [],
   "source": [
    "def extract_recipe_info(url, omit_tags = []):\n",
    "    time.sleep(3)\n",
    "    print(f\"Getting information from: {url}\")\n",
    "    # extracts ingredients from a specific recipes\n",
    "    \n",
    "    ingredients_text = []\n",
    "    tags = []\n",
    "    \n",
    "    # make request and soup\n",
    "    headers = {'User-Agent': 'Mozilla/5.0 (Windows NT 10.0; Win64; x64) AppleWebKit/537.36 (KHTML, like Gecko) Chrome/119.0.0.0 Safari/537.36'}\n",
    "    res = requests.get(url, headers=headers)\n",
    "    if res.status_code != 200:\n",
    "        print(f\"{url} request status: {res.status_code}\")\n",
    "    soup = BeautifulSoup(res.content)\n",
    "    \n",
    "    # get the tags\n",
    "    if soup.find('span', {'class': 'cat-links'}):\n",
    "        for a in soup.find_all('span', {'class': 'cat-links'})[0].find_all('a'):\n",
    "            tags.append(a.text)\n",
    "\n",
    "    # if tags are not ideal, skip the rest\n",
    "    if not any(string in tags for string in omit_tags):\n",
    "        # get the serving size\n",
    "        if (soup.find('div', {'class': lambda name : 'diet-analysis' in name if name else False}).find('p', string = lambda t : 'servings' in t.lower() if t else False)):\n",
    "            serving_size = soup.find('div', {'class': lambda name : 'diet-analysis' in name if name else False}). \\\n",
    "            find('p', string = lambda t : 'servings' in t.lower() if t else False).text\n",
    "        else:\n",
    "            serving_size = None\n",
    "\n",
    "\n",
    "        # Ingredients: focus in on the element that contains ingredients using 'li' first\n",
    "        ingredients_div = soup.find_all('div', {'class': lambda x: 'ingredients' in x if x else False})\n",
    "        ingredient_items = [ result.find_all('li') for result in ingredients_div]\n",
    "\n",
    "        # Ingredients: if first pass above yields no results, try for 'p' elements instead\n",
    "        if len(ingredient_items[0]) == 0:\n",
    "            ingredient_items = [ result.find_all('p') for result in ingredients_div]\n",
    "\n",
    "        [ingredients_text.append(l.text) for l in ingredient_items[0]]\n",
    "        \n",
    "        \n",
    "        nutrition_data = [item.text.split(':') for item in soup.find_all('ul', {'class':'list-group'})[0].find_all('li')]\n",
    "        calories = None\n",
    "        totfat = None\n",
    "        protein = None\n",
    "        sodium = None\n",
    "        potassium = None\n",
    "        phosphorus = None\n",
    "        \n",
    "        for i in nutrition_data:\n",
    "            if i[0].lower().strip() == 'calories':\n",
    "                calories = i[1]\n",
    "            elif i[0].lower().strip() == 'total fat':\n",
    "                totfat = i[1]\n",
    "            elif i[0].lower().strip() == 'protein':\n",
    "                protein = i[1]\n",
    "            elif i[0].lower().strip() == 'sodium':\n",
    "                sodium = i[1]\n",
    "            elif i[0].lower().strip() == 'potassium':\n",
    "                potassium = i[1]\n",
    "            elif i[0].lower().strip() == 'phosphorus':\n",
    "                phosphorus = i[1]\n",
    "        \n",
    "        nutrition = {'calories': calories,\n",
    "                     'saturated fat': totfat,\n",
    "                     'protein': protein,\n",
    "                     'sodium': sodium,\n",
    "                     'potassium': potassium,\n",
    "                     'phosphorus': phosphorus\n",
    "                    }\n",
    "        \n",
    "        return serving_size, ingredients_text, nutrition\n",
    "    print(f\"Alert: Skipped recipe at url: {url} due to non-ideal nutrient tags\")\n",
    "    return None, None, None"
   ]
  },
  {
   "cell_type": "code",
   "execution_count": 118,
   "id": "e7ade264-f615-4d04-a295-1043f3a1b7fa",
   "metadata": {},
   "outputs": [],
   "source": [
    "\n",
    "# primary function\n",
    "# intended to be used once per page\n",
    "def scrape_page(url, omit_tags):\n",
    "    page_recipes = []\n",
    "    # make the primary request and create soup\n",
    "    headers = {'User-Agent': 'Mozilla/5.0 (Windows NT 10.0; Win64; x64) AppleWebKit/537.36 (KHTML, like Gecko) Chrome/119.0.0.0 Safari/537.36'}\n",
    "    res = requests.get(url, headers=headers)\n",
    "    print(f\"Primary call status: {res.status_code}\")\n",
    "    primary_soup = BeautifulSoup(res.content)\n",
    "    \n",
    "    \n",
    "    # get h2s (the clickable recipe blocks)\n",
    "    h2s = primary_soup.find_all('h2', {'class' : 'entry-title card-title'})\n",
    "    \n",
    "    # pass h2s to secondary url extraction func and get list of recipe urls for that page\n",
    "    visible_urls = extract_visible_urls(h2s)\n",
    "    \n",
    "    # run the ingredient extractor secondary func\n",
    "    for u in visible_urls:\n",
    "        # file_name = get_file_name(u)\n",
    "        serving, ingredients, nutrition = extract_recipe_info(u, omit_tags)\n",
    "        if not any(value == None for value in [serving, ingredients,nutrition]):\n",
    "            page_recipes.append({'url': u,\n",
    "                                'serving_size': serving,\n",
    "                                'ingredients_raw': ingredients,\n",
    "                                'calories': nutrition['calories'],\n",
    "                                'saturated fat': nutrition['saturated fat'],\n",
    "                                'protein': nutrition['protein'],\n",
    "                                'sodium': nutrition['sodium'],\n",
    "                                'potassium': nutrition['potassium'],\n",
    "                                'phosphorus': nutrition['phosphorus'] \n",
    "                               })\n",
    "    return page_recipes\n",
    "        "
   ]
  },
  {
   "cell_type": "code",
   "execution_count": 115,
   "id": "9bb95052-833b-48b7-9e3d-172f6733d18d",
   "metadata": {
    "tags": []
   },
   "outputs": [],
   "source": [
    "# url = 'https://www.kidneycommunitykitchen.ca/kkcookbook/recipes/steamed-whole-fish-sea-bass-%e9%b1%b8%e9%ad%9a-or-tilapia-%e7%be%85%e9%9d%9e%e9%ad%9a/'\n",
    "# name, items = extract_ingredients(url)\n",
    "\n",
    "# with open(os.path.join('./recipes', name), 'w', encoding='utf-8') as f:\n",
    "#     for i in items:\n",
    "#         line = f\"{i}\\n\"\n",
    "#         f.write(line)"
   ]
  },
  {
   "cell_type": "markdown",
   "id": "8262f303-e00c-4a44-811c-9a5a0df7d369",
   "metadata": {},
   "source": [
    "## Main function call"
   ]
  },
  {
   "cell_type": "code",
   "execution_count": 119,
   "id": "b7ac6882-218c-4c8e-b723-7d1112274cc8",
   "metadata": {
    "tags": []
   },
   "outputs": [],
   "source": [
    "all_recipes = []"
   ]
  },
  {
   "cell_type": "code",
   "execution_count": 120,
   "id": "52e5d1d7-d074-48b0-9bdf-ac4052b44acb",
   "metadata": {
    "tags": []
   },
   "outputs": [
    {
     "name": "stdout",
     "output_type": "stream",
     "text": [
      "Primary call status: 200\n",
      "Getting information from: https://www.kidneycommunitykitchen.ca/kkcookbook/recipes/roasted-red-pepper-chickpea-hummus-2/\n",
      "Getting information from: https://www.kidneycommunitykitchen.ca/kkcookbook/recipes/shrimp-and-fish-creole-style-stew/\n",
      "Alert: Skipped recipe at url: https://www.kidneycommunitykitchen.ca/kkcookbook/recipes/shrimp-and-fish-creole-style-stew/ due to non-ideal nutrient tags\n",
      "Getting information from: https://www.kidneycommunitykitchen.ca/kkcookbook/recipes/steamed-whole-fish-sea-bass-%e9%b1%b8%e9%ad%9a-or-tilapia-%e7%be%85%e9%9d%9e%e9%ad%9a/\n",
      "Getting information from: https://www.kidneycommunitykitchen.ca/kkcookbook/recipes/tofu-and-veggie-frittata-vegan/\n",
      "Alert: Skipped recipe at url: https://www.kidneycommunitykitchen.ca/kkcookbook/recipes/tofu-and-veggie-frittata-vegan/ due to non-ideal nutrient tags\n",
      "Getting information from: https://www.kidneycommunitykitchen.ca/kkcookbook/recipes/strawberry-rhubarb-lemonade/\n",
      "Getting information from: https://www.kidneycommunitykitchen.ca/kkcookbook/recipes/soya-sauce-substitute/\n",
      "Getting information from: https://www.kidneycommunitykitchen.ca/kkcookbook/recipes/lemon-curd/\n",
      "Getting information from: https://www.kidneycommunitykitchen.ca/kkcookbook/recipes/mini-pavlovas/\n",
      "Getting information from: https://www.kidneycommunitykitchen.ca/kkcookbook/recipes/kidney-friendly-vegan-kimchi/\n",
      "Getting information from: https://www.kidneycommunitykitchen.ca/kkcookbook/recipes/instant-pot-vegan-and-13-bean-chili/\n",
      "Getting information from: https://www.kidneycommunitykitchen.ca/kkcookbook/recipes/pink-lemonade/\n",
      "Getting information from: https://www.kidneycommunitykitchen.ca/kkcookbook/recipes/apple-cider-smash/\n",
      "Getting information from: https://www.kidneycommunitykitchen.ca/kkcookbook/recipes/cranberry-mint-mocktail/\n",
      "Getting information from: https://www.kidneycommunitykitchen.ca/kkcookbook/recipes/pineapple-punch/\n",
      "Getting information from: https://www.kidneycommunitykitchen.ca/kkcookbook/recipes/lime-and-mint-soda/\n",
      "Getting information from: https://www.kidneycommunitykitchen.ca/kkcookbook/recipes/cranberry-margarita/\n",
      "Getting information from: https://www.kidneycommunitykitchen.ca/kkcookbook/recipes/molasses-ginger-cookies/\n",
      "Getting information from: https://www.kidneycommunitykitchen.ca/kkcookbook/recipes/carrot-and-apple-soup/\n"
     ]
    }
   ],
   "source": [
    "bad_tags = ['High Protein', 'High Sodium', 'High Potassium']\n",
    "initial_url = 'https://www.kidneycommunitykitchen.ca/kkcookbook/recipes/'\n",
    "page_results = scrape_page(initial_url, bad_tags)\n",
    "for result in page_results:\n",
    "    all_recipes.append(result)\n"
   ]
  },
  {
   "cell_type": "code",
   "execution_count": null,
   "id": "9c95b4e9-f6d6-498c-9972-87db165aa26c",
   "metadata": {
    "tags": []
   },
   "outputs": [],
   "source": []
  },
  {
   "cell_type": "code",
   "execution_count": 121,
   "id": "02f2e7bd-9acb-4b45-87f4-80c42ae11f88",
   "metadata": {
    "tags": []
   },
   "outputs": [
    {
     "name": "stdout",
     "output_type": "stream",
     "text": [
      "Page: 2\n",
      "Primary call status: 200\n",
      "Getting information from: https://www.kidneycommunitykitchen.ca/kkcookbook/recipes/spiced-apple-coffee-cake/\n",
      "Getting information from: https://www.kidneycommunitykitchen.ca/kkcookbook/recipes/no-bake-blueberry-pie/\n",
      "Getting information from: https://www.kidneycommunitykitchen.ca/kkcookbook/recipes/kidney-friendly-roasted-red-bell-pepper-cauliflower-pizza/\n",
      "Alert: Skipped recipe at url: https://www.kidneycommunitykitchen.ca/kkcookbook/recipes/kidney-friendly-roasted-red-bell-pepper-cauliflower-pizza/ due to non-ideal nutrient tags\n",
      "Getting information from: https://www.kidneycommunitykitchen.ca/kkcookbook/recipes/acadian-fricot-with-dumplings/\n",
      "Alert: Skipped recipe at url: https://www.kidneycommunitykitchen.ca/kkcookbook/recipes/acadian-fricot-with-dumplings/ due to non-ideal nutrient tags\n",
      "Getting information from: https://www.kidneycommunitykitchen.ca/kkcookbook/recipes/kidney-friendly-chicken-and-ginger-congee/\n",
      "Alert: Skipped recipe at url: https://www.kidneycommunitykitchen.ca/kkcookbook/recipes/kidney-friendly-chicken-and-ginger-congee/ due to non-ideal nutrient tags\n",
      "Getting information from: https://www.kidneycommunitykitchen.ca/kkcookbook/recipes/shiitake-broth/\n",
      "Getting information from: https://www.kidneycommunitykitchen.ca/kkcookbook/recipes/korean-style-short-ribs/\n",
      "Alert: Skipped recipe at url: https://www.kidneycommunitykitchen.ca/kkcookbook/recipes/korean-style-short-ribs/ due to non-ideal nutrient tags\n",
      "Getting information from: https://www.kidneycommunitykitchen.ca/kkcookbook/recipes/asian-inspired-summer-salad-with-a-lime-ginger-vinaigrette/\n",
      "Getting information from: https://www.kidneycommunitykitchen.ca/kkcookbook/recipes/fish-tacos/\n",
      "Getting information from: https://www.kidneycommunitykitchen.ca/kkcookbook/recipes/low-sodium-dinner-rolls-hamburger-buns/\n",
      "Getting information from: https://www.kidneycommunitykitchen.ca/kkcookbook/recipes/cucumber-dill-salad/\n",
      "Getting information from: https://www.kidneycommunitykitchen.ca/kkcookbook/recipes/classic-waldorf-salad/\n",
      "Getting information from: https://www.kidneycommunitykitchen.ca/kkcookbook/recipes/the-classic-nicoise/\n",
      "Getting information from: https://www.kidneycommunitykitchen.ca/kkcookbook/recipes/zaatar-chicken-with-garlic-yogurt-sauce/\n",
      "Alert: Skipped recipe at url: https://www.kidneycommunitykitchen.ca/kkcookbook/recipes/zaatar-chicken-with-garlic-yogurt-sauce/ due to non-ideal nutrient tags\n",
      "Getting information from: https://www.kidneycommunitykitchen.ca/kkcookbook/recipes/new-orleans-style-pain-perdu/\n",
      "Getting information from: https://www.kidneycommunitykitchen.ca/kkcookbook/recipes/zucchini-brownies/\n",
      "Getting information from: https://www.kidneycommunitykitchen.ca/kkcookbook/recipes/balsamic-vinaigrette/\n",
      "Getting information from: https://www.kidneycommunitykitchen.ca/kkcookbook/recipes/warm-falafel-wraps/\n",
      "Alert: Skipped recipe at url: https://www.kidneycommunitykitchen.ca/kkcookbook/recipes/warm-falafel-wraps/ due to non-ideal nutrient tags\n",
      "Page: 3\n",
      "Primary call status: 200\n",
      "Getting information from: https://www.kidneycommunitykitchen.ca/kkcookbook/recipes/pork-meatloaf/\n",
      "Getting information from: https://www.kidneycommunitykitchen.ca/kkcookbook/recipes/roasted-cranberry-cinnamon-pork-tenderloin/\n",
      "Getting information from: https://www.kidneycommunitykitchen.ca/kkcookbook/recipes/ginger-lime-shrimp-on-egg-noodles/\n",
      "Getting information from: https://www.kidneycommunitykitchen.ca/kkcookbook/recipes/cauliflower-and-pear-soup/\n",
      "Getting information from: https://www.kidneycommunitykitchen.ca/kkcookbook/recipes/beef-bourguignon/\n",
      "Getting information from: https://www.kidneycommunitykitchen.ca/kkcookbook/recipes/crunchy-asian-coleslaw/\n",
      "Getting information from: https://www.kidneycommunitykitchen.ca/kkcookbook/recipes/madras-spiced-baked-tilapia/\n",
      "Alert: Skipped recipe at url: https://www.kidneycommunitykitchen.ca/kkcookbook/recipes/madras-spiced-baked-tilapia/ due to non-ideal nutrient tags\n",
      "Getting information from: https://www.kidneycommunitykitchen.ca/kkcookbook/recipes/baked-eggs-with-basil-pesto/\n",
      "Getting information from: https://www.kidneycommunitykitchen.ca/kkcookbook/recipes/plant-based-bean-bourgingnon/\n",
      "Getting information from: https://www.kidneycommunitykitchen.ca/kkcookbook/recipes/vegetable-chili/\n",
      "Getting information from: https://www.kidneycommunitykitchen.ca/kkcookbook/recipes/apple-cranberry-baked-brie/\n",
      "Getting information from: https://www.kidneycommunitykitchen.ca/kkcookbook/recipes/spicy-buffalo-cauliflower-bites/\n",
      "Getting information from: https://www.kidneycommunitykitchen.ca/kkcookbook/recipes/saskatoon-berry-pudding/\n",
      "Getting information from: https://www.kidneycommunitykitchen.ca/kkcookbook/recipes/honey-garlic-moose/\n",
      "Getting information from: https://www.kidneycommunitykitchen.ca/kkcookbook/recipes/fish-cakes/\n",
      "Getting information from: https://www.kidneycommunitykitchen.ca/kkcookbook/recipes/zucchini-carrot-soup/\n",
      "Getting information from: https://www.kidneycommunitykitchen.ca/kkcookbook/recipes/baked-parmesan-yellow-summer-squash-rounds/\n",
      "Getting information from: https://www.kidneycommunitykitchen.ca/kkcookbook/recipes/fresh-lemonade-with-mint/\n",
      "Page: 4\n",
      "Primary call status: 200\n",
      "Getting information from: https://www.kidneycommunitykitchen.ca/kkcookbook/recipes/red-berry-relish/\n",
      "Getting information from: https://www.kidneycommunitykitchen.ca/kkcookbook/recipes/moose-jerky/\n",
      "Getting information from: https://www.kidneycommunitykitchen.ca/kkcookbook/recipes/baked-walleye/\n",
      "Getting information from: https://www.kidneycommunitykitchen.ca/kkcookbook/recipes/bannock-lusknikn/\n",
      "Getting information from: https://www.kidneycommunitykitchen.ca/kkcookbook/recipes/blueberry-corn-cobbler/\n",
      "Getting information from: https://www.kidneycommunitykitchen.ca/kkcookbook/recipes/seasonal-berry-drink/\n",
      "Getting information from: https://www.kidneycommunitykitchen.ca/kkcookbook/recipes/sweet-crustless-quiche/\n",
      "Getting information from: https://www.kidneycommunitykitchen.ca/kkcookbook/recipes/savory-crustless-quiche/\n",
      "Alert: Skipped recipe at url: https://www.kidneycommunitykitchen.ca/kkcookbook/recipes/savory-crustless-quiche/ due to non-ideal nutrient tags\n",
      "Getting information from: https://www.kidneycommunitykitchen.ca/kkcookbook/recipes/curry-spice-blend/\n",
      "Getting information from: https://www.kidneycommunitykitchen.ca/kkcookbook/recipes/mediterranean-spice-blend/\n",
      "Getting information from: https://www.kidneycommunitykitchen.ca/kkcookbook/recipes/asian-mexican-spice-blend/\n",
      "Getting information from: https://www.kidneycommunitykitchen.ca/kkcookbook/recipes/asian-blend-spice-blend/\n",
      "Getting information from: https://www.kidneycommunitykitchen.ca/kkcookbook/recipes/italian-spice-blend/\n",
      "Getting information from: https://www.kidneycommunitykitchen.ca/kkcookbook/recipes/all-purpose-salt-substitute/\n",
      "Getting information from: https://www.kidneycommunitykitchen.ca/kkcookbook/recipes/hawaiian-chicken-salad/\n",
      "Getting information from: https://www.kidneycommunitykitchen.ca/kkcookbook/recipes/kidney-friendly-pancakes/\n",
      "Getting information from: https://www.kidneycommunitykitchen.ca/kkcookbook/recipes/red-lentil-dahl/\n",
      "Alert: Skipped recipe at url: https://www.kidneycommunitykitchen.ca/kkcookbook/recipes/red-lentil-dahl/ due to non-ideal nutrient tags\n",
      "Getting information from: https://www.kidneycommunitykitchen.ca/kkcookbook/recipes/roasted-spaghetti-squash-with-kale-and-parm/\n",
      "Page: 5\n",
      "Primary call status: 200\n",
      "Getting information from: https://www.kidneycommunitykitchen.ca/kkcookbook/recipes/french-grated-carrot-salad-with-lemon-dijon-vinaigrette/\n",
      "Getting information from: https://www.kidneycommunitykitchen.ca/kkcookbook/recipes/tuna-macaroni-salad/\n",
      "Alert: Skipped recipe at url: https://www.kidneycommunitykitchen.ca/kkcookbook/recipes/tuna-macaroni-salad/ due to non-ideal nutrient tags\n",
      "Getting information from: https://www.kidneycommunitykitchen.ca/kkcookbook/recipes/shirleys-coleslaw/\n",
      "Getting information from: https://www.kidneycommunitykitchen.ca/kkcookbook/recipes/shallot-vinaigrette/\n",
      "Getting information from: https://www.kidneycommunitykitchen.ca/kkcookbook/recipes/no-salt-added-seasoning-mix-for-steak/\n",
      "Getting information from: https://www.kidneycommunitykitchen.ca/kkcookbook/recipes/summer-pot-pie/\n",
      "Alert: Skipped recipe at url: https://www.kidneycommunitykitchen.ca/kkcookbook/recipes/summer-pot-pie/ due to non-ideal nutrient tags\n",
      "Getting information from: https://www.kidneycommunitykitchen.ca/kkcookbook/recipes/old-fashioned-canadian-stew/\n",
      "Alert: Skipped recipe at url: https://www.kidneycommunitykitchen.ca/kkcookbook/recipes/old-fashioned-canadian-stew/ due to non-ideal nutrient tags\n",
      "Getting information from: https://www.kidneycommunitykitchen.ca/kkcookbook/recipes/asian-eggplant-dip-with-seared-peppercorn-steak/\n",
      "Getting information from: https://www.kidneycommunitykitchen.ca/kkcookbook/recipes/eggplant-chickpea-curry/\n",
      "Getting information from: https://www.kidneycommunitykitchen.ca/kkcookbook/recipes/eggplant-chickpea-bites/\n",
      "Getting information from: https://www.kidneycommunitykitchen.ca/kkcookbook/recipes/fruit-cottage-cheese-omelette/\n",
      "Getting information from: https://www.kidneycommunitykitchen.ca/kkcookbook/recipes/ash-e-jow-barley-soup/\n",
      "Getting information from: https://www.kidneycommunitykitchen.ca/kkcookbook/recipes/cranberry-orange-ginger-sauce/\n",
      "Getting information from: https://www.kidneycommunitykitchen.ca/kkcookbook/recipes/peach-raspberry-smoothie/\n",
      "Getting information from: https://www.kidneycommunitykitchen.ca/kkcookbook/recipes/jamaican-steamed-fish/\n",
      "Alert: Skipped recipe at url: https://www.kidneycommunitykitchen.ca/kkcookbook/recipes/jamaican-steamed-fish/ due to non-ideal nutrient tags\n",
      "Getting information from: https://www.kidneycommunitykitchen.ca/kkcookbook/recipes/maple-broiled-salmon/\n",
      "Getting information from: https://www.kidneycommunitykitchen.ca/kkcookbook/recipes/lime-grilled-turkey/\n",
      "Alert: Skipped recipe at url: https://www.kidneycommunitykitchen.ca/kkcookbook/recipes/lime-grilled-turkey/ due to non-ideal nutrient tags\n",
      "Getting information from: https://www.kidneycommunitykitchen.ca/kkcookbook/recipes/berry-oatmeal-muffins/\n",
      "Page: 6\n",
      "Primary call status: 200\n",
      "Getting information from: https://www.kidneycommunitykitchen.ca/kkcookbook/recipes/shrimp-and-apple-stir-fry/\n",
      "Getting information from: https://www.kidneycommunitykitchen.ca/kkcookbook/recipes/ma-pos-tofu-bean-curd/\n",
      "Alert: Skipped recipe at url: https://www.kidneycommunitykitchen.ca/kkcookbook/recipes/ma-pos-tofu-bean-curd/ due to non-ideal nutrient tags\n",
      "Getting information from: https://www.kidneycommunitykitchen.ca/kkcookbook/recipes/parsley-pilaf/\n",
      "Getting information from: https://www.kidneycommunitykitchen.ca/kkcookbook/recipes/beef-thai-salad/\n",
      "Getting information from: https://www.kidneycommunitykitchen.ca/kkcookbook/recipes/spicy-shrimp-linguine/\n",
      "Alert: Skipped recipe at url: https://www.kidneycommunitykitchen.ca/kkcookbook/recipes/spicy-shrimp-linguine/ due to non-ideal nutrient tags\n",
      "Getting information from: https://www.kidneycommunitykitchen.ca/kkcookbook/recipes/tuna-spread/\n",
      "Getting information from: https://www.kidneycommunitykitchen.ca/kkcookbook/recipes/fresh-berry-fruit-salad-with-yogurt-cream/\n",
      "Getting information from: https://www.kidneycommunitykitchen.ca/kkcookbook/recipes/honey-grilled-pork-and-pear-kabobs/\n",
      "Alert: Skipped recipe at url: https://www.kidneycommunitykitchen.ca/kkcookbook/recipes/honey-grilled-pork-and-pear-kabobs/ due to non-ideal nutrient tags\n",
      "Getting information from: https://www.kidneycommunitykitchen.ca/kkcookbook/recipes/baba-ghanouj/\n",
      "Getting information from: https://www.kidneycommunitykitchen.ca/kkcookbook/recipes/curried-turkey-casserole/\n",
      "Alert: Skipped recipe at url: https://www.kidneycommunitykitchen.ca/kkcookbook/recipes/curried-turkey-casserole/ due to non-ideal nutrient tags\n",
      "Getting information from: https://www.kidneycommunitykitchen.ca/kkcookbook/recipes/one-pot-mediterranean-chicken-pasta/\n",
      "Alert: Skipped recipe at url: https://www.kidneycommunitykitchen.ca/kkcookbook/recipes/one-pot-mediterranean-chicken-pasta/ due to non-ideal nutrient tags\n",
      "Getting information from: https://www.kidneycommunitykitchen.ca/kkcookbook/recipes/apple-and-blueberry-crisp/\n",
      "Getting information from: https://www.kidneycommunitykitchen.ca/kkcookbook/recipes/barbecue-chicken-salad/\n",
      "Alert: Skipped recipe at url: https://www.kidneycommunitykitchen.ca/kkcookbook/recipes/barbecue-chicken-salad/ due to non-ideal nutrient tags\n",
      "Getting information from: https://www.kidneycommunitykitchen.ca/kkcookbook/recipes/persian-chicken/\n",
      "Alert: Skipped recipe at url: https://www.kidneycommunitykitchen.ca/kkcookbook/recipes/persian-chicken/ due to non-ideal nutrient tags\n",
      "Getting information from: https://www.kidneycommunitykitchen.ca/kkcookbook/recipes/chicken-in-mushroom-sauce/\n",
      "Alert: Skipped recipe at url: https://www.kidneycommunitykitchen.ca/kkcookbook/recipes/chicken-in-mushroom-sauce/ due to non-ideal nutrient tags\n",
      "Getting information from: https://www.kidneycommunitykitchen.ca/kkcookbook/recipes/roasted-red-pepper-dip/\n",
      "Getting information from: https://www.kidneycommunitykitchen.ca/kkcookbook/recipes/baked-pita-chips/\n",
      "Getting information from: https://www.kidneycommunitykitchen.ca/kkcookbook/recipes/cranberry-glazed-pork-chops/\n",
      "Alert: Skipped recipe at url: https://www.kidneycommunitykitchen.ca/kkcookbook/recipes/cranberry-glazed-pork-chops/ due to non-ideal nutrient tags\n",
      "Page: 7\n",
      "Primary call status: 200\n",
      "Getting information from: https://www.kidneycommunitykitchen.ca/kkcookbook/recipes/braised-swiss-chard-with-garlic-and-balsamic-vinegar/\n",
      "Getting information from: https://www.kidneycommunitykitchen.ca/kkcookbook/recipes/baked-eggplant-fries/\n",
      "Getting information from: https://www.kidneycommunitykitchen.ca/kkcookbook/recipes/tofu-fingers/\n",
      "Getting information from: https://www.kidneycommunitykitchen.ca/kkcookbook/recipes/beef-steak-sandwich-with-balsamic-mushrooms-and-chevre/\n",
      "Alert: Skipped recipe at url: https://www.kidneycommunitykitchen.ca/kkcookbook/recipes/beef-steak-sandwich-with-balsamic-mushrooms-and-chevre/ due to non-ideal nutrient tags\n",
      "Getting information from: https://www.kidneycommunitykitchen.ca/kkcookbook/recipes/spicy-pina-colada-smoothie/\n",
      "Getting information from: https://www.kidneycommunitykitchen.ca/kkcookbook/recipes/couscous-salad-with-honey-lemon-dressing/\n",
      "Getting information from: https://www.kidneycommunitykitchen.ca/kkcookbook/recipes/vegetable-and-tofu-stir-fry/\n",
      "Getting information from: https://www.kidneycommunitykitchen.ca/kkcookbook/recipes/fresh-basil-pesto/\n",
      "Getting information from: https://www.kidneycommunitykitchen.ca/kkcookbook/recipes/sesame-asparagus/\n",
      "Getting information from: https://www.kidneycommunitykitchen.ca/kkcookbook/recipes/eggplant-and-tofu-stir-fry/\n",
      "Getting information from: https://www.kidneycommunitykitchen.ca/kkcookbook/recipes/mediterranean-panini/\n",
      "Alert: Skipped recipe at url: https://www.kidneycommunitykitchen.ca/kkcookbook/recipes/mediterranean-panini/ due to non-ideal nutrient tags\n",
      "Getting information from: https://www.kidneycommunitykitchen.ca/kkcookbook/recipes/grilled-beef-steak-sandwich-with-melted-onions/\n",
      "Alert: Skipped recipe at url: https://www.kidneycommunitykitchen.ca/kkcookbook/recipes/grilled-beef-steak-sandwich-with-melted-onions/ due to non-ideal nutrient tags\n",
      "Getting information from: https://www.kidneycommunitykitchen.ca/kkcookbook/recipes/how-to-cook-an-oven-roast/\n",
      "Alert: Skipped recipe at url: https://www.kidneycommunitykitchen.ca/kkcookbook/recipes/how-to-cook-an-oven-roast/ due to non-ideal nutrient tags\n",
      "Getting information from: https://www.kidneycommunitykitchen.ca/kkcookbook/recipes/spicy-cornflake-chicken/\n",
      "Alert: Skipped recipe at url: https://www.kidneycommunitykitchen.ca/kkcookbook/recipes/spicy-cornflake-chicken/ due to non-ideal nutrient tags\n",
      "Getting information from: https://www.kidneycommunitykitchen.ca/kkcookbook/recipes/sweet-chili-thai-sauce-2/\n",
      "Getting information from: https://www.kidneycommunitykitchen.ca/kkcookbook/recipes/festive-raspberry-meringue-trifle/\n",
      "Getting information from: https://www.kidneycommunitykitchen.ca/kkcookbook/recipes/chicken-stew-with-mushrooms-and-kale/\n",
      "Alert: Skipped recipe at url: https://www.kidneycommunitykitchen.ca/kkcookbook/recipes/chicken-stew-with-mushrooms-and-kale/ due to non-ideal nutrient tags\n",
      "Getting information from: https://www.kidneycommunitykitchen.ca/kkcookbook/recipes/cauliflower-apple-soup-with-roasted-garlic-crostini/\n",
      "Page: 8\n",
      "Primary call status: 200\n",
      "Getting information from: https://www.kidneycommunitykitchen.ca/kkcookbook/recipes/turkey-bowtie-pasta/\n",
      "Alert: Skipped recipe at url: https://www.kidneycommunitykitchen.ca/kkcookbook/recipes/turkey-bowtie-pasta/ due to non-ideal nutrient tags\n",
      "Getting information from: https://www.kidneycommunitykitchen.ca/kkcookbook/recipes/fettucine-with-pork-ragu-2/\n",
      "Getting information from: https://www.kidneycommunitykitchen.ca/kkcookbook/recipes/baked-fruit-oatmeal/\n",
      "Getting information from: https://www.kidneycommunitykitchen.ca/kkcookbook/recipes/roasted-cauliflower-with-rosemary-2/\n",
      "Getting information from: https://www.kidneycommunitykitchen.ca/kkcookbook/recipes/fresh-lemonade/\n",
      "Getting information from: https://www.kidneycommunitykitchen.ca/kkcookbook/recipes/my-favorite-coleslaw-recipe/\n",
      "Getting information from: https://www.kidneycommunitykitchen.ca/kkcookbook/recipes/raspberry-cheesecake-mousse-2/\n",
      "Getting information from: https://www.kidneycommunitykitchen.ca/kkcookbook/recipes/chicken-chili-stew/\n",
      "Alert: Skipped recipe at url: https://www.kidneycommunitykitchen.ca/kkcookbook/recipes/chicken-chili-stew/ due to non-ideal nutrient tags\n",
      "Getting information from: https://www.kidneycommunitykitchen.ca/kkcookbook/recipes/chicken-and-rice-soup/\n",
      "Getting information from: https://www.kidneycommunitykitchen.ca/kkcookbook/recipes/roasted-cabbage-wedges/\n",
      "Getting information from: https://www.kidneycommunitykitchen.ca/kkcookbook/recipes/spaghetti-with-shrimp/\n",
      "Getting information from: https://www.kidneycommunitykitchen.ca/kkcookbook/recipes/chicken-dijon-marinade/\n",
      "Getting information from: https://www.kidneycommunitykitchen.ca/kkcookbook/recipes/bbq-lemon-and-dill-salmon/\n",
      "Alert: Skipped recipe at url: https://www.kidneycommunitykitchen.ca/kkcookbook/recipes/bbq-lemon-and-dill-salmon/ due to non-ideal nutrient tags\n",
      "Getting information from: https://www.kidneycommunitykitchen.ca/kkcookbook/recipes/low-protein-tuna-salad-sandwich/\n",
      "Getting information from: https://www.kidneycommunitykitchen.ca/kkcookbook/recipes/classic-hamburgers/\n",
      "Alert: Skipped recipe at url: https://www.kidneycommunitykitchen.ca/kkcookbook/recipes/classic-hamburgers/ due to non-ideal nutrient tags\n",
      "Getting information from: https://www.kidneycommunitykitchen.ca/kkcookbook/recipes/almond-meringue-cookies/\n",
      "Getting information from: https://www.kidneycommunitykitchen.ca/kkcookbook/recipes/blueberry-smoothie/\n",
      "Getting information from: https://www.kidneycommunitykitchen.ca/kkcookbook/recipes/summer-zucchini-lasagna/\n",
      "Page: 9\n",
      "Primary call status: 200\n",
      "Getting information from: https://www.kidneycommunitykitchen.ca/kkcookbook/recipes/tortilla-pizza-with-roasted-red-pepper-pesto-shrimp-and-basil/\n",
      "Getting information from: https://www.kidneycommunitykitchen.ca/kkcookbook/recipes/turkey-sliders-with-peach-tarragon-aioli/\n",
      "Alert: Skipped recipe at url: https://www.kidneycommunitykitchen.ca/kkcookbook/recipes/turkey-sliders-with-peach-tarragon-aioli/ due to non-ideal nutrient tags\n",
      "Getting information from: https://www.kidneycommunitykitchen.ca/kkcookbook/recipes/open-faced-chicken-sandwich/\n",
      "Alert: Skipped recipe at url: https://www.kidneycommunitykitchen.ca/kkcookbook/recipes/open-faced-chicken-sandwich/ due to non-ideal nutrient tags\n",
      "Getting information from: https://www.kidneycommunitykitchen.ca/kkcookbook/recipes/chicken-makhani/\n",
      "Getting information from: https://www.kidneycommunitykitchen.ca/kkcookbook/recipes/fresh-cranberry-torte/\n",
      "Getting information from: https://www.kidneycommunitykitchen.ca/kkcookbook/recipes/fresh-herb-cranberry-stuffing/\n",
      "Getting information from: https://www.kidneycommunitykitchen.ca/kkcookbook/recipes/turkey-breast-with-cranberry-orange-ginger-sauce/\n",
      "Alert: Skipped recipe at url: https://www.kidneycommunitykitchen.ca/kkcookbook/recipes/turkey-breast-with-cranberry-orange-ginger-sauce/ due to non-ideal nutrient tags\n",
      "Getting information from: https://www.kidneycommunitykitchen.ca/kkcookbook/recipes/salmon-with-creamy-horseradish-sauce/\n",
      "Alert: Skipped recipe at url: https://www.kidneycommunitykitchen.ca/kkcookbook/recipes/salmon-with-creamy-horseradish-sauce/ due to non-ideal nutrient tags\n",
      "Getting information from: https://www.kidneycommunitykitchen.ca/kkcookbook/recipes/chili-aioli/\n",
      "Getting information from: https://www.kidneycommunitykitchen.ca/kkcookbook/recipes/renal-snack-mix/\n",
      "Getting information from: https://www.kidneycommunitykitchen.ca/kkcookbook/recipes/turkey-meatballs-with-hot-sauce/\n",
      "Getting information from: https://www.kidneycommunitykitchen.ca/kkcookbook/recipes/blueberry-brie/\n",
      "Getting information from: https://www.kidneycommunitykitchen.ca/kkcookbook/recipes/herbed-cream-cheese-toasts/\n",
      "Getting information from: https://www.kidneycommunitykitchen.ca/kkcookbook/recipes/strawberries-with-basil-and-balsamic-vinegar/\n",
      "Getting information from: https://www.kidneycommunitykitchen.ca/kkcookbook/recipes/chicken-wraps-with-chipotle-mayo-and-cilantro-slaw/\n",
      "Alert: Skipped recipe at url: https://www.kidneycommunitykitchen.ca/kkcookbook/recipes/chicken-wraps-with-chipotle-mayo-and-cilantro-slaw/ due to non-ideal nutrient tags\n",
      "Getting information from: https://www.kidneycommunitykitchen.ca/kkcookbook/recipes/chicken-salad-with-cranberries-and-tarragon/\n",
      "Alert: Skipped recipe at url: https://www.kidneycommunitykitchen.ca/kkcookbook/recipes/chicken-salad-with-cranberries-and-tarragon/ due to non-ideal nutrient tags\n",
      "Getting information from: https://www.kidneycommunitykitchen.ca/kkcookbook/recipes/basmati-rice-with-sweet-onions-and-summer-herbs/\n",
      "Getting information from: https://www.kidneycommunitykitchen.ca/kkcookbook/recipes/double-cranberry-pear-crisp/\n",
      "Page: 10\n",
      "Primary call status: 200\n",
      "Getting information from: https://www.kidneycommunitykitchen.ca/kkcookbook/recipes/slow-cooker-pineapple-pork-roast/\n",
      "Alert: Skipped recipe at url: https://www.kidneycommunitykitchen.ca/kkcookbook/recipes/slow-cooker-pineapple-pork-roast/ due to non-ideal nutrient tags\n",
      "Getting information from: https://www.kidneycommunitykitchen.ca/kkcookbook/recipes/hot-crab-dip/\n",
      "Getting information from: https://www.kidneycommunitykitchen.ca/kkcookbook/recipes/zippy-strawberry-salad/\n",
      "Getting information from: https://www.kidneycommunitykitchen.ca/kkcookbook/recipes/oven-roasted-chicken-and-warm-mushroom-salad-with-watercress/\n",
      "Alert: Skipped recipe at url: https://www.kidneycommunitykitchen.ca/kkcookbook/recipes/oven-roasted-chicken-and-warm-mushroom-salad-with-watercress/ due to non-ideal nutrient tags\n",
      "Getting information from: https://www.kidneycommunitykitchen.ca/kkcookbook/recipes/asian-noodle-stir-fry/\n",
      "Alert: Skipped recipe at url: https://www.kidneycommunitykitchen.ca/kkcookbook/recipes/asian-noodle-stir-fry/ due to non-ideal nutrient tags\n",
      "Getting information from: https://www.kidneycommunitykitchen.ca/kkcookbook/recipes/litchi-sorbet/\n",
      "Getting information from: https://www.kidneycommunitykitchen.ca/kkcookbook/recipes/corn-potage/\n",
      "Getting information from: https://www.kidneycommunitykitchen.ca/kkcookbook/recipes/cucumber-salad/\n",
      "Getting information from: https://www.kidneycommunitykitchen.ca/kkcookbook/recipes/corn-and-fennel-soup/\n",
      "Getting information from: https://www.kidneycommunitykitchen.ca/kkcookbook/recipes/salmon-rice-salad/\n",
      "Getting information from: https://www.kidneycommunitykitchen.ca/kkcookbook/recipes/southern-style-collard-greens/\n",
      "Getting information from: https://www.kidneycommunitykitchen.ca/kkcookbook/recipes/pot-roast/\n",
      "Alert: Skipped recipe at url: https://www.kidneycommunitykitchen.ca/kkcookbook/recipes/pot-roast/ due to non-ideal nutrient tags\n",
      "Getting information from: https://www.kidneycommunitykitchen.ca/kkcookbook/recipes/caramelized-onion-tart-with-arugula-salad/\n",
      "Alert: Skipped recipe at url: https://www.kidneycommunitykitchen.ca/kkcookbook/recipes/caramelized-onion-tart-with-arugula-salad/ due to non-ideal nutrient tags\n",
      "Getting information from: https://www.kidneycommunitykitchen.ca/kkcookbook/recipes/zucchini-pancake/\n",
      "Getting information from: https://www.kidneycommunitykitchen.ca/kkcookbook/recipes/shrimp-sugar-snap-pea-salad-and-wasabi-lime-vinaigrette/\n",
      "Alert: Skipped recipe at url: https://www.kidneycommunitykitchen.ca/kkcookbook/recipes/shrimp-sugar-snap-pea-salad-and-wasabi-lime-vinaigrette/ due to non-ideal nutrient tags\n",
      "Getting information from: https://www.kidneycommunitykitchen.ca/kkcookbook/recipes/herb-and-ricotta-stuffed-chicken/\n",
      "Alert: Skipped recipe at url: https://www.kidneycommunitykitchen.ca/kkcookbook/recipes/herb-and-ricotta-stuffed-chicken/ due to non-ideal nutrient tags\n",
      "Getting information from: https://www.kidneycommunitykitchen.ca/kkcookbook/recipes/cornbread-cassrole/\n",
      "Alert: Skipped recipe at url: https://www.kidneycommunitykitchen.ca/kkcookbook/recipes/cornbread-cassrole/ due to non-ideal nutrient tags\n",
      "Getting information from: https://www.kidneycommunitykitchen.ca/kkcookbook/recipes/easy-pad-thai/\n",
      "Page: 11\n",
      "Primary call status: 200\n",
      "Getting information from: https://www.kidneycommunitykitchen.ca/kkcookbook/recipes/curry-lime-pork-kebabs/\n",
      "Alert: Skipped recipe at url: https://www.kidneycommunitykitchen.ca/kkcookbook/recipes/curry-lime-pork-kebabs/ due to non-ideal nutrient tags\n",
      "Getting information from: https://www.kidneycommunitykitchen.ca/kkcookbook/recipes/spicy-chicken-penne/\n",
      "Alert: Skipped recipe at url: https://www.kidneycommunitykitchen.ca/kkcookbook/recipes/spicy-chicken-penne/ due to non-ideal nutrient tags\n",
      "Getting information from: https://www.kidneycommunitykitchen.ca/kkcookbook/recipes/moroccan-chicken/\n",
      "Alert: Skipped recipe at url: https://www.kidneycommunitykitchen.ca/kkcookbook/recipes/moroccan-chicken/ due to non-ideal nutrient tags\n",
      "Getting information from: https://www.kidneycommunitykitchen.ca/kkcookbook/recipes/cheese-and-fine-herbs-dip/\n",
      "Alert: Skipped recipe at url: https://www.kidneycommunitykitchen.ca/kkcookbook/recipes/cheese-and-fine-herbs-dip/ due to non-ideal nutrient tags\n",
      "Getting information from: https://www.kidneycommunitykitchen.ca/kkcookbook/recipes/curried-eggplant-dip/\n",
      "Getting information from: https://www.kidneycommunitykitchen.ca/kkcookbook/recipes/apple-mint-french-toast/\n",
      "Alert: Skipped recipe at url: https://www.kidneycommunitykitchen.ca/kkcookbook/recipes/apple-mint-french-toast/ due to non-ideal nutrient tags\n",
      "Getting information from: https://www.kidneycommunitykitchen.ca/kkcookbook/recipes/blueberry-yogurt-bran-muffins/\n",
      "Getting information from: https://www.kidneycommunitykitchen.ca/kkcookbook/recipes/cranberry-nut-bread/\n",
      "Getting information from: https://www.kidneycommunitykitchen.ca/kkcookbook/recipes/breakfast-burrito/\n",
      "Alert: Skipped recipe at url: https://www.kidneycommunitykitchen.ca/kkcookbook/recipes/breakfast-burrito/ due to non-ideal nutrient tags\n",
      "Getting information from: https://www.kidneycommunitykitchen.ca/kkcookbook/recipes/spinach-ricotta-frittata/\n",
      "Alert: Skipped recipe at url: https://www.kidneycommunitykitchen.ca/kkcookbook/recipes/spinach-ricotta-frittata/ due to non-ideal nutrient tags\n",
      "Getting information from: https://www.kidneycommunitykitchen.ca/kkcookbook/recipes/glazed-citrus-cake-with-blueberry-compote/\n",
      "Getting information from: https://www.kidneycommunitykitchen.ca/kkcookbook/recipes/baked-pita-crisps/\n",
      "Getting information from: https://www.kidneycommunitykitchen.ca/kkcookbook/recipes/chilli-lime-dip/\n",
      "Getting information from: https://www.kidneycommunitykitchen.ca/kkcookbook/recipes/sugar-and-spice-popcorn/\n",
      "Getting information from: https://www.kidneycommunitykitchen.ca/kkcookbook/recipes/spiced-pear-cupcakes-with-maple-frosting/\n",
      "Getting information from: https://www.kidneycommunitykitchen.ca/kkcookbook/recipes/garlic-green-beans/\n",
      "Getting information from: https://www.kidneycommunitykitchen.ca/kkcookbook/recipes/stir-fry-rice-noodles-with-chicken-and-basil/\n",
      "Alert: Skipped recipe at url: https://www.kidneycommunitykitchen.ca/kkcookbook/recipes/stir-fry-rice-noodles-with-chicken-and-basil/ due to non-ideal nutrient tags\n",
      "Getting information from: https://www.kidneycommunitykitchen.ca/kkcookbook/recipes/fragrant-basmati-rice/\n",
      "Page: 12\n",
      "Primary call status: 200\n",
      "Getting information from: https://www.kidneycommunitykitchen.ca/kkcookbook/recipes/2323/\n",
      "Getting information from: https://www.kidneycommunitykitchen.ca/kkcookbook/recipes/spicy-porcini-mushroom-pasta/\n",
      "Getting information from: https://www.kidneycommunitykitchen.ca/kkcookbook/recipes/zucchini-corn-saute/\n",
      "Getting information from: https://www.kidneycommunitykitchen.ca/kkcookbook/recipes/roasted-red-pepper-coulis/\n",
      "Getting information from: https://www.kidneycommunitykitchen.ca/kkcookbook/recipes/asian-grilled-pork-tenderloin/\n",
      "Alert: Skipped recipe at url: https://www.kidneycommunitykitchen.ca/kkcookbook/recipes/asian-grilled-pork-tenderloin/ due to non-ideal nutrient tags\n",
      "Getting information from: https://www.kidneycommunitykitchen.ca/kkcookbook/recipes/omelet-with-summer-vegetables/\n",
      "Alert: Skipped recipe at url: https://www.kidneycommunitykitchen.ca/kkcookbook/recipes/omelet-with-summer-vegetables/ due to non-ideal nutrient tags\n",
      "Getting information from: https://www.kidneycommunitykitchen.ca/kkcookbook/recipes/buttermilk-biscuits/\n",
      "Getting information from: https://www.kidneycommunitykitchen.ca/kkcookbook/recipes/aunt-bettys-blueberry-pancakes/\n",
      "Getting information from: https://www.kidneycommunitykitchen.ca/kkcookbook/recipes/roasted-red-pepper-soup-with-garlic-croutons/\n",
      "Getting information from: https://www.kidneycommunitykitchen.ca/kkcookbook/recipes/lemony-orzo-salad/\n",
      "Getting information from: https://www.kidneycommunitykitchen.ca/kkcookbook/recipes/asian-eggplant-dip/\n",
      "Getting information from: https://www.kidneycommunitykitchen.ca/kkcookbook/recipes/roasted-garlic-and-ricotta-crostini/\n",
      "Getting information from: https://www.kidneycommunitykitchen.ca/kkcookbook/recipes/pear-and-arugula-salad/\n",
      "Getting information from: https://www.kidneycommunitykitchen.ca/kkcookbook/recipes/tuna-rice-casserole/\n",
      "Alert: Skipped recipe at url: https://www.kidneycommunitykitchen.ca/kkcookbook/recipes/tuna-rice-casserole/ due to non-ideal nutrient tags\n",
      "Getting information from: https://www.kidneycommunitykitchen.ca/kkcookbook/recipes/lemon-dill-fish/\n",
      "Alert: Skipped recipe at url: https://www.kidneycommunitykitchen.ca/kkcookbook/recipes/lemon-dill-fish/ due to non-ideal nutrient tags\n",
      "Getting information from: https://www.kidneycommunitykitchen.ca/kkcookbook/recipes/hot-tuna-sub/\n",
      "Alert: Skipped recipe at url: https://www.kidneycommunitykitchen.ca/kkcookbook/recipes/hot-tuna-sub/ due to non-ideal nutrient tags\n",
      "Getting information from: https://www.kidneycommunitykitchen.ca/kkcookbook/recipes/mushroom-and-egg-pie/\n",
      "Alert: Skipped recipe at url: https://www.kidneycommunitykitchen.ca/kkcookbook/recipes/mushroom-and-egg-pie/ due to non-ideal nutrient tags\n",
      "Getting information from: https://www.kidneycommunitykitchen.ca/kkcookbook/recipes/jerk-chicken-wings/\n",
      "Alert: Skipped recipe at url: https://www.kidneycommunitykitchen.ca/kkcookbook/recipes/jerk-chicken-wings/ due to non-ideal nutrient tags\n",
      "Page: 13\n",
      "Primary call status: 200\n",
      "Getting information from: https://www.kidneycommunitykitchen.ca/kkcookbook/recipes/curried-shrimp-salad-rolls/\n",
      "Alert: Skipped recipe at url: https://www.kidneycommunitykitchen.ca/kkcookbook/recipes/curried-shrimp-salad-rolls/ due to non-ideal nutrient tags\n",
      "Getting information from: https://www.kidneycommunitykitchen.ca/kkcookbook/recipes/roasted-vegetable-salad/\n",
      "Getting information from: https://www.kidneycommunitykitchen.ca/kkcookbook/recipes/bagel-bread-pudding/\n",
      "Getting information from: https://www.kidneycommunitykitchen.ca/kkcookbook/recipes/tarragon-dressing-with-salad/\n",
      "Getting information from: https://www.kidneycommunitykitchen.ca/kkcookbook/recipes/apple-and-cranberry-cake/\n",
      "Getting information from: https://www.kidneycommunitykitchen.ca/kkcookbook/recipes/crock-pot-fruited-pork-loin/\n",
      "Alert: Skipped recipe at url: https://www.kidneycommunitykitchen.ca/kkcookbook/recipes/crock-pot-fruited-pork-loin/ due to non-ideal nutrient tags\n",
      "Getting information from: https://www.kidneycommunitykitchen.ca/kkcookbook/recipes/tourtiere/\n",
      "Alert: Skipped recipe at url: https://www.kidneycommunitykitchen.ca/kkcookbook/recipes/tourtiere/ due to non-ideal nutrient tags\n",
      "Getting information from: https://www.kidneycommunitykitchen.ca/kkcookbook/recipes/roast-turkey/\n",
      "Alert: Skipped recipe at url: https://www.kidneycommunitykitchen.ca/kkcookbook/recipes/roast-turkey/ due to non-ideal nutrient tags\n",
      "Getting information from: https://www.kidneycommunitykitchen.ca/kkcookbook/recipes/double-boiled-mashed-potato-pancakes/\n",
      "Getting information from: https://www.kidneycommunitykitchen.ca/kkcookbook/recipes/chicken-with-mushroom-bread-stuffing-2/\n",
      "Alert: Skipped recipe at url: https://www.kidneycommunitykitchen.ca/kkcookbook/recipes/chicken-with-mushroom-bread-stuffing-2/ due to non-ideal nutrient tags\n",
      "Getting information from: https://www.kidneycommunitykitchen.ca/kkcookbook/recipes/double-boiled-mashed-potatoes/\n",
      "Getting information from: https://www.kidneycommunitykitchen.ca/kkcookbook/recipes/chocolate-zucchini-cake/\n",
      "Getting information from: https://www.kidneycommunitykitchen.ca/kkcookbook/recipes/pineapple-torte/\n",
      "Getting information from: https://www.kidneycommunitykitchen.ca/kkcookbook/recipes/honey-ginger-crackles/\n",
      "Getting information from: https://www.kidneycommunitykitchen.ca/kkcookbook/recipes/cranberry-lemon-parfait/\n",
      "Getting information from: https://www.kidneycommunitykitchen.ca/kkcookbook/recipes/honey-and-5-spice-roasted-pear/\n",
      "Getting information from: https://www.kidneycommunitykitchen.ca/kkcookbook/recipes/cauliflower-with-fresh-dill/\n",
      "Getting information from: https://www.kidneycommunitykitchen.ca/kkcookbook/recipes/snow-peas-with-thyme/\n",
      "Page: 14\n",
      "Primary call status: 200\n",
      "Getting information from: https://www.kidneycommunitykitchen.ca/kkcookbook/recipes/vegetable-fish-bake/\n",
      "Alert: Skipped recipe at url: https://www.kidneycommunitykitchen.ca/kkcookbook/recipes/vegetable-fish-bake/ due to non-ideal nutrient tags\n",
      "Getting information from: https://www.kidneycommunitykitchen.ca/kkcookbook/recipes/lemon-pepper-meatballs-2/\n",
      "Alert: Skipped recipe at url: https://www.kidneycommunitykitchen.ca/kkcookbook/recipes/lemon-pepper-meatballs-2/ due to non-ideal nutrient tags\n",
      "Getting information from: https://www.kidneycommunitykitchen.ca/kkcookbook/recipes/cranberry-risotto/\n",
      "Getting information from: https://www.kidneycommunitykitchen.ca/kkcookbook/recipes/quick-chili/\n",
      "Alert: Skipped recipe at url: https://www.kidneycommunitykitchen.ca/kkcookbook/recipes/quick-chili/ due to non-ideal nutrient tags\n",
      "Getting information from: https://www.kidneycommunitykitchen.ca/kkcookbook/recipes/thai-fish-soup/\n",
      "Getting information from: https://www.kidneycommunitykitchen.ca/kkcookbook/recipes/mushroom-and-leek-pie/\n",
      "Alert: Skipped recipe at url: https://www.kidneycommunitykitchen.ca/kkcookbook/recipes/mushroom-and-leek-pie/ due to non-ideal nutrient tags\n",
      "Getting information from: https://www.kidneycommunitykitchen.ca/kkcookbook/recipes/warm-mushroom-salad-with-watercress/\n",
      "Getting information from: https://www.kidneycommunitykitchen.ca/kkcookbook/recipes/asian-apple-slaw/\n",
      "Getting information from: https://www.kidneycommunitykitchen.ca/kkcookbook/recipes/tilapia-tostadas-with-corn-zucchini-saute-and-basmati-lime-pilaf/\n",
      "Alert: Skipped recipe at url: https://www.kidneycommunitykitchen.ca/kkcookbook/recipes/tilapia-tostadas-with-corn-zucchini-saute-and-basmati-lime-pilaf/ due to non-ideal nutrient tags\n",
      "Getting information from: https://www.kidneycommunitykitchen.ca/kkcookbook/recipes/crab-cakes/\n",
      "Getting information from: https://www.kidneycommunitykitchen.ca/kkcookbook/recipes/broiled-red-snapper-with-herb-pesto/\n",
      "Alert: Skipped recipe at url: https://www.kidneycommunitykitchen.ca/kkcookbook/recipes/broiled-red-snapper-with-herb-pesto/ due to non-ideal nutrient tags\n",
      "Getting information from: https://www.kidneycommunitykitchen.ca/kkcookbook/recipes/baked-tilapia-fillets-gremolata/\n",
      "Alert: Skipped recipe at url: https://www.kidneycommunitykitchen.ca/kkcookbook/recipes/baked-tilapia-fillets-gremolata/ due to non-ideal nutrient tags\n",
      "Getting information from: https://www.kidneycommunitykitchen.ca/kkcookbook/recipes/sage-scented-pork-loin-chops-with-pear-chutney-and-turnip-puree/\n",
      "Alert: Skipped recipe at url: https://www.kidneycommunitykitchen.ca/kkcookbook/recipes/sage-scented-pork-loin-chops-with-pear-chutney-and-turnip-puree/ due to non-ideal nutrient tags\n",
      "Getting information from: https://www.kidneycommunitykitchen.ca/kkcookbook/recipes/coffee-rubbed-sirloin/\n",
      "Alert: Skipped recipe at url: https://www.kidneycommunitykitchen.ca/kkcookbook/recipes/coffee-rubbed-sirloin/ due to non-ideal nutrient tags\n",
      "Getting information from: https://www.kidneycommunitykitchen.ca/kkcookbook/recipes/roast-beef/\n",
      "Alert: Skipped recipe at url: https://www.kidneycommunitykitchen.ca/kkcookbook/recipes/roast-beef/ due to non-ideal nutrient tags\n"
     ]
    }
   ],
   "source": [
    "for i in range(2, 15):\n",
    "    print(f\"Page: {i}\")\n",
    "    page_results = scrape_page(initial_url+'?_paged='+str(i), bad_tags)\n",
    "    for result in page_results:\n",
    "        all_recipes.append(result)"
   ]
  },
  {
   "cell_type": "code",
   "execution_count": 122,
   "id": "acdfd6ec-c6be-4845-98ec-4a599a311372",
   "metadata": {
    "tags": []
   },
   "outputs": [],
   "source": [
    "all_recipes_df = pd.DataFrame(all_recipes)"
   ]
  },
  {
   "cell_type": "code",
   "execution_count": 123,
   "id": "bfc9b1e2-1a55-4d7b-aa72-1dd1cbb88a1c",
   "metadata": {
    "tags": []
   },
   "outputs": [],
   "source": [
    "all_recipes_df.to_csv('kidney-ca-recipes-with-ingredients-and-nutrition.csv')"
   ]
  },
  {
   "cell_type": "code",
   "execution_count": null,
   "id": "afd75976-f5d0-470e-83aa-9b195611cc02",
   "metadata": {},
   "outputs": [],
   "source": [
    "bad_tags = ['High Protein', 'High Sodium', 'High Potassium']\n"
   ]
  },
  {
   "cell_type": "markdown",
   "id": "ca8ca6fe-7407-4c83-a99e-546b6edfa6f2",
   "metadata": {},
   "source": [
    "## Scratch Pad / Debugging"
   ]
  },
  {
   "cell_type": "code",
   "execution_count": 3,
   "id": "c7171235-c5d9-4258-8e5a-ae2c3ac6e300",
   "metadata": {
    "tags": []
   },
   "outputs": [],
   "source": [
    "headers = {'User-Agent': 'Mozilla/5.0 (Windows NT 10.0; Win64; x64) AppleWebKit/537.36 (KHTML, like Gecko) Chrome/119.0.0.0 Safari/537.36'}\n",
    "res = requests.get('https://www.kidneycommunitykitchen.ca/kkcookbook/recipes/shrimp-and-fish-creole-style-stew/', headers=headers)\n",
    "if res.status_code != 200:\n",
    "    print(f\"{url} request status: {res.status_code}\")\n",
    "soup = BeautifulSoup(res.content)"
   ]
  },
  {
   "cell_type": "code",
   "execution_count": 20,
   "id": "689f8b3e-b8f2-487e-80c7-0f6f5b9d9123",
   "metadata": {
    "tags": []
   },
   "outputs": [
    {
     "data": {
      "text/plain": [
       "[<a href=\"https://www.kidneycommunitykitchen.ca/dietcategory/high-protein/\" rel=\"tag\">High Protein</a>,\n",
       " <a href=\"https://www.kidneycommunitykitchen.ca/dietcategory/low-phosphorus/\" rel=\"tag\">Low Phosphorus</a>]"
      ]
     },
     "execution_count": 20,
     "metadata": {},
     "output_type": "execute_result"
    }
   ],
   "source": [
    "soup.find_all('span', {'class': 'cat-links'})[0].find_all('a')#[0].text"
   ]
  },
  {
   "cell_type": "code",
   "execution_count": 21,
   "id": "54ce4d8b-5479-4b78-a39d-5b3623ccdf20",
   "metadata": {
    "tags": []
   },
   "outputs": [
    {
     "name": "stdout",
     "output_type": "stream",
     "text": [
      "High Protein\n",
      "Low Phosphorus\n"
     ]
    }
   ],
   "source": [
    "for a in soup.find_all('span', {'class': 'cat-links'})[0].find_all('a'):\n",
    "    print(a.text)"
   ]
  },
  {
   "cell_type": "code",
   "execution_count": 39,
   "id": "c88a127c-c1c8-4692-8aea-30fb69fafa52",
   "metadata": {
    "tags": []
   },
   "outputs": [
    {
     "data": {
      "text/plain": [
       "'Servings per recipe: 5'"
      ]
     },
     "execution_count": 39,
     "metadata": {},
     "output_type": "execute_result"
    }
   ],
   "source": [
    "soup.find('div', {'class': lambda name : 'diet-analysis' in name if name else False}).find('p', string = lambda t : 'servings' in t.lower() if t else False).text"
   ]
  },
  {
   "cell_type": "code",
   "execution_count": 45,
   "id": "20394399-d28a-441d-a684-2948787cac74",
   "metadata": {
    "tags": []
   },
   "outputs": [
    {
     "data": {
      "text/plain": [
       "[['Calories', ' 292 KCal'],\n",
       " ['Protein', ' 20.2 g'],\n",
       " ['Carbohydrates', ' 43.6 g'],\n",
       " ['Fibre', ' 2.2 g'],\n",
       " ['Total Fat', ' 3.9 g'],\n",
       " ['Sodium', ' 139 mg'],\n",
       " ['Phosphorus', ' 251 mg'],\n",
       " ['Potassium', ' 536 mg']]"
      ]
     },
     "execution_count": 45,
     "metadata": {},
     "output_type": "execute_result"
    }
   ],
   "source": [
    "n_test = [item.text.split(':') for item in soup.find_all('ul', {'class':'list-group'})[0].find_all('li')]\n",
    "n_test"
   ]
  },
  {
   "cell_type": "code",
   "execution_count": null,
   "id": "32352520-e5d0-4383-bf45-2a2a8cdc8b86",
   "metadata": {
    "tags": []
   },
   "outputs": [],
   "source": []
  },
  {
   "cell_type": "code",
   "execution_count": 92,
   "id": "0268c586-25d6-4fef-b02b-1e8eb9621259",
   "metadata": {
    "tags": []
   },
   "outputs": [
    {
     "name": "stdout",
     "output_type": "stream",
     "text": [
      "good to go\n"
     ]
    }
   ],
   "source": [
    "if soup.find('span', {'class': 'cat-links'}):\n",
    "    print('good to go')"
   ]
  },
  {
   "cell_type": "code",
   "execution_count": 47,
   "id": "3f5b742b-6f2c-4ebc-ad63-3a655f144e6e",
   "metadata": {
    "tags": []
   },
   "outputs": [
    {
     "name": "stdout",
     "output_type": "stream",
     "text": [
      " 292 KCal\n"
     ]
    }
   ],
   "source": [
    "for i in n_test:\n",
    "    if i[0].lower().strip() == 'calories':\n",
    "        calories = i[1]\n",
    "    # elif i.text.lower().strip() == 'saturated fat':\n",
    "    #     satfat = j.text\n",
    "    # elif i.text.lower().strip() == 'protein':\n",
    "    #     protein = j.text\n",
    "    # elif i.text.lower().strip() == 'sodium':\n",
    "    #     sodium = j.text\n",
    "    # elif i.text.lower().strip() == 'potassium':\n",
    "    #     potassium = j.text\n",
    "    # elif i.text.lower().strip() == 'phosphorus':\n",
    "    #     phosphorus = j.text\n",
    "\n",
    "print(calories)"
   ]
  },
  {
   "cell_type": "code",
   "execution_count": 62,
   "id": "ef15ae74-8566-4964-b94a-1a37dad43085",
   "metadata": {
    "tags": []
   },
   "outputs": [
    {
     "name": "stdout",
     "output_type": "stream",
     "text": [
      "Getting information from: https://www.kidneycommunitykitchen.ca/kkcookbook/recipes/roasted-red-pepper-chickpea-hummus-2/\n",
      "['Low Potassium']\n"
     ]
    }
   ],
   "source": [
    "url = 'https://www.kidneycommunitykitchen.ca/kkcookbook/recipes/roasted-red-pepper-chickpea-hummus-2/'\n",
    "bad_tags = ['High Protein', 'High Sodium', 'High Potassium']\n",
    "s, i, n = extract_recipe_info(url, bad_tags)"
   ]
  },
  {
   "cell_type": "code",
   "execution_count": 63,
   "id": "2935c9b0-79d8-40af-94e6-c37908898215",
   "metadata": {
    "tags": []
   },
   "outputs": [
    {
     "data": {
      "text/plain": [
       "'Servings per recipe: 5'"
      ]
     },
     "execution_count": 63,
     "metadata": {},
     "output_type": "execute_result"
    }
   ],
   "source": [
    "s"
   ]
  },
  {
   "cell_type": "code",
   "execution_count": 64,
   "id": "615d602a-e0be-42f2-9fe7-96d38b78b794",
   "metadata": {
    "tags": []
   },
   "outputs": [
    {
     "data": {
      "text/plain": [
       "['½ cup canned chickpeas rinsed and drained',\n",
       " '2 cups red pepper cut in 2-inch wedges',\n",
       " '2 garlic cloves',\n",
       " '2 tablespoons extra-virgin olive oil \\xa0',\n",
       " '2 tablespoons lemon juice',\n",
       " '1 tablespoon of tahini',\n",
       " 'Black pepper to taste',\n",
       " 'You may also add cumin or paprika or chili pepper if you like']"
      ]
     },
     "execution_count": 64,
     "metadata": {},
     "output_type": "execute_result"
    }
   ],
   "source": [
    "i"
   ]
  },
  {
   "cell_type": "code",
   "execution_count": 65,
   "id": "f26aa4e2-73f8-45f4-ac77-a0b3185c8e0b",
   "metadata": {
    "tags": []
   },
   "outputs": [
    {
     "data": {
      "text/plain": [
       "{'calories': ' 102 KCal',\n",
       " 'saturated fat': ' 6.9 g',\n",
       " 'protein': ' 1.4 g',\n",
       " 'sodium': ' 36.4 mg',\n",
       " 'potassium': ' 122.4 mg',\n",
       " 'phosphorus': None}"
      ]
     },
     "execution_count": 65,
     "metadata": {},
     "output_type": "execute_result"
    }
   ],
   "source": [
    "n"
   ]
  },
  {
   "cell_type": "code",
   "execution_count": 21,
   "id": "da66273f-ceac-446b-89f5-c1d187625abe",
   "metadata": {
    "tags": []
   },
   "outputs": [
    {
     "name": "stdout",
     "output_type": "stream",
     "text": [
      "Recipe from The Canadian Association of Nephrology Dietitians’ Kidney Friendly cookbook\n"
     ]
    }
   ],
   "source": [
    "for p in flavor_text_ps:\n",
    "    if len(p) > 0:\n",
    "        print(p.text)"
   ]
  },
  {
   "cell_type": "code",
   "execution_count": null,
   "id": "2aa3c6ba-ef41-497b-8336-75c4c86b50ae",
   "metadata": {},
   "outputs": [],
   "source": []
  },
  {
   "cell_type": "code",
   "execution_count": 29,
   "id": "0d58be12-a2a2-4994-be92-97d512f43057",
   "metadata": {
    "tags": []
   },
   "outputs": [
    {
     "name": "stdout",
     "output_type": "stream",
     "text": [
      "Primary call status: 200\n",
      "Printing: spiced-apple-coffee-cake\n",
      "Printing: no-bake-blueberry-pie\n",
      "Printing: kidney-friendly-roasted-red-bell-pepper-cauliflower-pizza\n",
      "Printing: acadian-fricot-with-dumplings\n",
      "Printing: kidney-friendly-chicken-and-ginger-congee\n",
      "Printing: shiitake-broth\n",
      "Printing: korean-style-short-ribs\n",
      "Printing: asian-inspired-summer-salad-with-a-lime-ginger-vinaigrette\n",
      "Printing: fish-tacos\n",
      "Printing: low-sodium-dinner-rolls-hamburger-buns\n",
      "Printing: cucumber-dill-salad\n",
      "Printing: classic-waldorf-salad\n",
      "Printing: the-classic-nicoise\n",
      "Printing: zaatar-chicken-with-garlic-yogurt-sauce\n",
      "Printing: new-orleans-style-pain-perdu\n",
      "Printing: zucchini-brownies\n",
      "Printing: balsamic-vinaigrette\n",
      "Printing: warm-falafel-wraps\n"
     ]
    }
   ],
   "source": [
    "create_files('https://www.kidneycommunitykitchen.ca/kkcookbook/recipes/?_paged=2', test=True)"
   ]
  },
  {
   "cell_type": "code",
   "execution_count": 144,
   "id": "72f5f72a-e560-4f88-af78-4fe2ef4cc343",
   "metadata": {
    "tags": []
   },
   "outputs": [
    {
     "name": "stdout",
     "output_type": "stream",
     "text": [
      "Primary call status: 200\n",
      "Printing: roasted-red-pepper-chickpea-hummus-2\n",
      "Printing: shrimp-and-fish-creole-style-stew\n",
      "Printing: steamed-whole-fish-sea-bass-%e9%b1%b8%e9%ad%9a-or-tilapia-%e7%be%85%e9%9d%9e%e9%ad%9a\n",
      "Printing: tofu-and-veggie-frittata-vegan\n",
      "Printing: strawberry-rhubarb-lemonade\n",
      "Printing: soya-sauce-substitute\n",
      "Printing: lemon-curd\n",
      "Printing: mini-pavlovas\n",
      "Printing: kidney-friendly-vegan-kimchi\n",
      "Printing: instant-pot-vegan-and-13-bean-chili\n",
      "Printing: pink-lemonade\n",
      "Printing: apple-cider-smash\n",
      "Printing: cranberry-mint-mocktail\n",
      "Printing: pineapple-punch\n",
      "Printing: lime-and-mint-soda\n",
      "Printing: cranberry-margarita\n",
      "Printing: molasses-ginger-cookies\n",
      "Printing: carrot-and-apple-soup\n"
     ]
    }
   ],
   "source": [
    "# url = \"https://www.kidneycommunitykitchen.ca/kkcookbook/recipes/\"\n",
    "# ingredients_from_visible(url)"
   ]
  },
  {
   "cell_type": "code",
   "execution_count": 130,
   "id": "94817984-aefa-41fb-a9e6-c6e82c0d94c6",
   "metadata": {
    "tags": []
   },
   "outputs": [
    {
     "data": {
      "text/plain": [
       "'https://www.kidneycommunitykitchen.ca/kkcookbook/recipes/roasted-red-pepper-chickpea-hummus-2/'"
      ]
     },
     "execution_count": 130,
     "metadata": {},
     "output_type": "execute_result"
    }
   ],
   "source": [
    "# soup.find_all('h2', {'class' : 'entry-title card-title'})[0].find('a').attrs['href']"
   ]
  },
  {
   "cell_type": "code",
   "execution_count": 43,
   "id": "7c5cbf77-a9bc-42aa-a5b1-6614f6fa9bf7",
   "metadata": {
    "tags": []
   },
   "outputs": [
    {
     "data": {
      "text/plain": [
       "'½ cup canned chickpeas rinsed and drained'"
      ]
     },
     "execution_count": 43,
     "metadata": {},
     "output_type": "execute_result"
    }
   ],
   "source": [
    "# soup.find_all('div', {'class': lambda x: 'ingredients' in x if x else False})[0].find_all('li')[0].text"
   ]
  },
  {
   "cell_type": "markdown",
   "id": "f40b2429-22e1-4f80-a007-bab40222c667",
   "metadata": {},
   "source": [
    "### After obtaining high protein recipes with the main function call, used the following to remove those recipes by filename from a more comprehensive list, yielding recipes that are NOT high in protein"
   ]
  },
  {
   "cell_type": "code",
   "execution_count": 35,
   "id": "405b1db6-7558-4c05-ab09-6671be5ed1c5",
   "metadata": {
    "tags": []
   },
   "outputs": [],
   "source": [
    "# for file in os.listdir('./high_protein_ingredients_and_descriptions/'):\n",
    "#     if os.path.exists(os.path.join('./no_high_protein_ingredients_and_descriptions', file)):\n",
    "#         os.remove(os.path.join('./no_high_protein_ingredients_and_descriptions', file))"
   ]
  },
  {
   "cell_type": "markdown",
   "id": "164a4a94-09cf-4517-8605-76f0ebdb6d87",
   "metadata": {},
   "source": [
    "Backup experiment with Selenium"
   ]
  },
  {
   "cell_type": "code",
   "execution_count": 152,
   "id": "523eea03-b3bc-4fdc-815a-c7864b6d8fe0",
   "metadata": {
    "tags": []
   },
   "outputs": [],
   "source": [
    "# browser = webdriver.Chrome()\n",
    "# url = \"https://www.kidneycommunitykitchen.ca/kkcookbook/recipes/\"\n",
    "# browser.get(url)\n",
    "# time.sleep(2)\n",
    "\n",
    "# browser.execute_script(\"window.scrollTo(0,document.body.scrollHeight)\")\n",
    "# time.sleep(2)\n",
    "    \n",
    "# while browser.find_element(By.CSS_SELECTOR, \"a.facetwp-page.next\"):\n",
    "#     next_button = browser.find_element(By.CSS_SELECTOR, \"a.facetwp-page.next\")\n",
    "#     next_button.click()\n",
    "#     time.sleep(2)"
   ]
  }
 ],
 "metadata": {
  "kernelspec": {
   "display_name": "Python 3 (ipykernel)",
   "language": "python",
   "name": "python3"
  },
  "language_info": {
   "codemirror_mode": {
    "name": "ipython",
    "version": 3
   },
   "file_extension": ".py",
   "mimetype": "text/x-python",
   "name": "python",
   "nbconvert_exporter": "python",
   "pygments_lexer": "ipython3",
   "version": "3.11.4"
  }
 },
 "nbformat": 4,
 "nbformat_minor": 5
}
