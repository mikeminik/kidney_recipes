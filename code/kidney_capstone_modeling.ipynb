{
 "cells": [
  {
   "cell_type": "code",
   "execution_count": null,
   "metadata": {
    "colab": {
     "base_uri": "https://localhost:8080/"
    },
    "id": "OCTbDDo2RbBN",
    "outputId": "8e2ca0e5-d354-443c-b3c0-bba3d779db7d"
   },
   "outputs": [],
   "source": []
  },
  {
   "cell_type": "code",
   "execution_count": 67,
   "metadata": {
    "id": "h64TmsouRvLo",
    "tags": []
   },
   "outputs": [],
   "source": [
    "import os\n",
    "import shutil\n",
    "import numpy as np\n",
    "import pandas as pd\n",
    "from tensorflow import keras\n",
    "from tensorflow.keras import layers\n",
    "from tensorflow.keras import regularizers\n",
    "from tensorflow.keras.callbacks import ModelCheckpoint, EarlyStopping\n",
    "import matplotlib.pyplot as plt"
   ]
  },
  {
   "cell_type": "code",
   "execution_count": null,
   "metadata": {
    "id": "nQViF7WPW_g9"
   },
   "outputs": [],
   "source": []
  },
  {
   "cell_type": "code",
   "execution_count": null,
   "metadata": {
    "id": "Ksh3GnLSXkCF"
   },
   "outputs": [],
   "source": []
  },
  {
   "cell_type": "code",
   "execution_count": 34,
   "metadata": {
    "id": "VqZnMv0RSMZP",
    "tags": []
   },
   "outputs": [],
   "source": [
    "# !unzip ./drive/MyDrive/colab_notebooks/kidney_capstone/train2/neg/train_neg_2.zip -d ./drive/MyDrive/colab_notebooks/kidney_capstone/train2/neg/"
   ]
  },
  {
   "cell_type": "code",
   "execution_count": 35,
   "metadata": {
    "id": "xgdpI0CSTr6g",
    "tags": []
   },
   "outputs": [],
   "source": [
    "# !unzip ./drive/MyDrive/colab_notebooks/kidney_capstone/train2/pos/train_pos2.zip -d ./drive/MyDrive/colab_notebooks/kidney_capstone/train2/pos/"
   ]
  },
  {
   "cell_type": "code",
   "execution_count": 36,
   "metadata": {
    "tags": []
   },
   "outputs": [],
   "source": [
    "val_dir = f\"../data/generated/text_files/val2/\"\n",
    "train_dir = f\"../data/generated/text_files/train2/\"\n"
   ]
  },
  {
   "cell_type": "code",
   "execution_count": 37,
   "metadata": {
    "id": "crvmqqoVZf4w",
    "tags": []
   },
   "outputs": [],
   "source": [
    "\n",
    "if not os.path.exists(os.path.join(val_dir, 'pos')):\n",
    "    os.mkdir(os.path.join(val_dir, 'pos'))\n",
    "\n",
    "kf_files = os.listdir(os.path.join(train_dir, 'pos'))\n",
    "kf_test_files = kf_files[:1000]\n",
    "\n",
    "for f in kf_test_files:\n",
    "  shutil.move(f\"{train_dir}/pos/{f}\", f\"{val_dir}/pos/{f}\")"
   ]
  },
  {
   "cell_type": "code",
   "execution_count": 38,
   "metadata": {
    "id": "UJEGfbJrdASZ",
    "tags": []
   },
   "outputs": [],
   "source": [
    "if not os.path.exists(os.path.join(val_dir, 'neg')):\n",
    "  os.mkdir(os.path.join(val_dir, 'neg'))\n",
    "\n",
    "nkf_files = os.listdir(os.path.join(train_dir, 'neg'))\n",
    "n_train = len(nkf_files)\n",
    "nkf_test_files = np.random.choice(nkf_files, 1000, replace = False)\n",
    "\n",
    "for f in nkf_test_files:\n",
    "  shutil.move(f\"{train_dir}/neg/{f}\", f\"{val_dir}/neg/{f}\")"
   ]
  },
  {
   "cell_type": "code",
   "execution_count": 39,
   "metadata": {
    "id": "aRLmv1h9a3-F",
    "tags": []
   },
   "outputs": [
    {
     "data": {
      "text/plain": [
       "1000"
      ]
     },
     "execution_count": 39,
     "metadata": {},
     "output_type": "execute_result"
    }
   ],
   "source": [
    "len(os.listdir(os.path.join(val_dir,'pos')))\n"
   ]
  },
  {
   "cell_type": "code",
   "execution_count": 40,
   "metadata": {
    "tags": []
   },
   "outputs": [
    {
     "data": {
      "text/plain": [
       "1000"
      ]
     },
     "execution_count": 40,
     "metadata": {},
     "output_type": "execute_result"
    }
   ],
   "source": [
    "len(os.listdir(os.path.join(val_dir,'neg')))"
   ]
  },
  {
   "cell_type": "code",
   "execution_count": null,
   "metadata": {
    "id": "Y2CP8pjhT3U5"
   },
   "outputs": [],
   "source": [
    "\n",
    "# if not os.path.exists(val_dir):\n",
    "#   os.mkdir(val_dir)\n",
    "\n",
    "# for cat in ['pos', 'neg']:\n",
    "#   train_files = os.listdir(os.path.join(train_dir, cat))\n",
    "#   n_train = len(train_files)\n",
    "\n",
    "#   np.random.seed(2023)\n",
    "#   val_files = np.random.choice(train_files, size=int(0.1*n_train), replace = False)\n",
    "\n",
    "#   if not os.path.exists(os.path.join(val_dir, cat)):\n",
    "#     os.mkdir(os.path.join(val_dir,cat))\n",
    "\n",
    "#   for f in val_files:\n",
    "#     shutil.move(f\"{train_dir}/{cat}/{f}\", f\"{val_dir}/{cat}/{f}\")"
   ]
  },
  {
   "cell_type": "code",
   "execution_count": null,
   "metadata": {
    "colab": {
     "base_uri": "https://localhost:8080/"
    },
    "id": "eUlsf9Rrfp0_",
    "outputId": "cbe07169-f24d-4ea6-ba2d-146ee0cbd82f"
   },
   "outputs": [
    {
     "name": "stdout",
     "output_type": "stream",
     "text": [
      "Archive:  ./drive/MyDrive/colab_notebooks/GloVe/glove.6B.zip\n",
      "  inflating: ./drive/MyDrive/colab_notebooks/GloVe/glove.6B.50d.txt  \n",
      "  inflating: ./drive/MyDrive/colab_notebooks/GloVe/glove.6B.100d.txt  \n",
      "  inflating: ./drive/MyDrive/colab_notebooks/GloVe/glove.6B.200d.txt  \n",
      "  inflating: ./drive/MyDrive/colab_notebooks/GloVe/glove.6B.300d.txt  \n"
     ]
    }
   ],
   "source": [
    "# !unzip ./drive/MyDrive/colab_notebooks/GloVe/glove.6B.zip -d ./drive/MyDrive/colab_notebooks/GloVe/"
   ]
  },
  {
   "cell_type": "code",
   "execution_count": 41,
   "metadata": {
    "colab": {
     "base_uri": "https://localhost:8080/"
    },
    "id": "KPGeFkMLhn7O",
    "outputId": "5853ef7a-6b1b-4406-fcce-c953186cf4dc",
    "tags": []
   },
   "outputs": [
    {
     "name": "stdout",
     "output_type": "stream",
     "text": [
      "Found 16696 files belonging to 2 classes.\n",
      "Found 2000 files belonging to 2 classes.\n"
     ]
    }
   ],
   "source": [
    "batch_size = 32\n",
    "train_ds = keras.utils.text_dataset_from_directory(train_dir, batch_size=batch_size)\n",
    "val_ds = keras.utils.text_dataset_from_directory(val_dir, batch_size=batch_size)\n"
   ]
  },
  {
   "cell_type": "code",
   "execution_count": 42,
   "metadata": {
    "id": "MdvTvLxOhy2m",
    "tags": []
   },
   "outputs": [],
   "source": [
    "text_only_train_ds = train_ds.map(lambda x,y : x)"
   ]
  },
  {
   "cell_type": "code",
   "execution_count": null,
   "metadata": {
    "tags": []
   },
   "outputs": [],
   "source": []
  },
  {
   "cell_type": "code",
   "execution_count": 43,
   "metadata": {
    "id": "MviM6AZRh3Fe",
    "tags": []
   },
   "outputs": [],
   "source": [
    "max_length = 100\n",
    "max_tokens = 20_000\n",
    "\n",
    "text_vectorization = keras.layers.TextVectorization(\n",
    "    max_tokens = max_tokens,\n",
    "    output_mode = 'int',\n",
    "    output_sequence_length=max_length\n",
    ")\n",
    "\n",
    "text_vectorization.adapt(text_only_train_ds)"
   ]
  },
  {
   "cell_type": "code",
   "execution_count": 21,
   "metadata": {
    "colab": {
     "base_uri": "https://localhost:8080/"
    },
    "id": "PZmSvFMWl5-d",
    "outputId": "e1fc932c-1b0d-45a9-fd59-ae56bb6b7c0f",
    "tags": []
   },
   "outputs": [
    {
     "data": {
      "text/plain": [
       "<tf.Tensor: shape=(100,), dtype=int64, numpy=\n",
       "array([ 156,    2, 1962,    0,    0,    0,    0,    0,    0,    0,    0,\n",
       "          0,    0,    0,    0,    0,    0,    0,    0,    0,    0,    0,\n",
       "          0,    0,    0,    0,    0,    0,    0,    0,    0,    0,    0,\n",
       "          0,    0,    0,    0,    0,    0,    0,    0,    0,    0,    0,\n",
       "          0,    0,    0,    0,    0,    0,    0,    0,    0,    0,    0,\n",
       "          0,    0,    0,    0,    0,    0,    0,    0,    0,    0,    0,\n",
       "          0,    0,    0,    0,    0,    0,    0,    0,    0,    0,    0,\n",
       "          0,    0,    0,    0,    0,    0,    0,    0,    0,    0,    0,\n",
       "          0,    0,    0,    0,    0,    0,    0,    0,    0,    0,    0,\n",
       "          0], dtype=int64)>"
      ]
     },
     "execution_count": 21,
     "metadata": {},
     "output_type": "execute_result"
    }
   ],
   "source": [
    "text_vectorization('30 grams lobster')"
   ]
  },
  {
   "cell_type": "code",
   "execution_count": 44,
   "metadata": {
    "id": "d5FlfgQ1mMSk",
    "tags": []
   },
   "outputs": [],
   "source": [
    "int_mapper = lambda x,y: (text_vectorization(x), y)\n",
    "\n",
    "\n",
    "int_train_ds = train_ds.map(int_mapper, num_parallel_calls=4 )\n",
    "int_val_ds = val_ds.map(int_mapper, num_parallel_calls=4 )"
   ]
  },
  {
   "cell_type": "code",
   "execution_count": 49,
   "metadata": {
    "colab": {
     "base_uri": "https://localhost:8080/",
     "height": 245
    },
    "id": "-mOgxLPBpO_8",
    "outputId": "10412dbb-7aff-408b-bcb3-4729a274dd8f",
    "tags": []
   },
   "outputs": [
    {
     "name": "stdout",
     "output_type": "stream",
     "text": [
      "Model: \"model_3\"\n",
      "_________________________________________________________________\n",
      " Layer (type)                Output Shape              Param #   \n",
      "=================================================================\n",
      " input_4 (InputLayer)        [(None, None)]            0         \n",
      "                                                                 \n",
      " embedding_3 (Embedding)     (None, None, 256)         5120000   \n",
      "                                                                 \n",
      " bidirectional_3 (Bidirecti  (None, 64)                73984     \n",
      " onal)                                                           \n",
      "                                                                 \n",
      " dropout_3 (Dropout)         (None, 64)                0         \n",
      "                                                                 \n",
      " dense_6 (Dense)             (None, 32)                2080      \n",
      "                                                                 \n",
      " dense_7 (Dense)             (None, 1)                 33        \n",
      "                                                                 \n",
      "=================================================================\n",
      "Total params: 5196097 (19.82 MB)\n",
      "Trainable params: 5196097 (19.82 MB)\n",
      "Non-trainable params: 0 (0.00 Byte)\n",
      "_________________________________________________________________\n"
     ]
    }
   ],
   "source": [
    "inputs = keras.Input(shape=(None,))\n",
    "embedded = layers.Embedding(\n",
    "    input_dim=max_tokens,\n",
    "    output_dim=256,\n",
    "    mask_zero = True\n",
    ")(inputs)\n",
    "x = layers.Bidirectional(layers.LSTM(32, kernel_regularizer = regularizers.L1L2(l1=0.01, l2=0.01)) )(embedded)\n",
    "x = layers.Dropout(0.5)(x)\n",
    "x = layers.Dense(32, activation='relu')(x)\n",
    "outputs = layers.Dense(1, activation='sigmoid')(x)\n",
    "model = keras.Model(inputs,outputs)\n",
    "model.compile(optimizer='rmsprop', loss='bce', metrics=['acc'])\n",
    "model.summary()"
   ]
  },
  {
   "cell_type": "code",
   "execution_count": 46,
   "metadata": {
    "colab": {
     "base_uri": "https://localhost:8080/",
     "height": 1000
    },
    "id": "dkN55oLep1I0",
    "outputId": "b641647c-8e88-4415-cf65-4159de582a5e",
    "tags": []
   },
   "outputs": [
    {
     "name": "stdout",
     "output_type": "stream",
     "text": [
      "Epoch 1/10\n",
      "522/522 [==============================] - 38s 65ms/step - loss: 4.2694 - acc: 0.9144 - val_loss: 1.2910 - val_acc: 0.7325\n",
      "Epoch 2/10\n",
      "522/522 [==============================] - 29s 55ms/step - loss: 0.4214 - acc: 0.9815 - val_loss: 1.6059 - val_acc: 0.7645\n",
      "Epoch 3/10\n",
      "522/522 [==============================] - 28s 54ms/step - loss: 0.3944 - acc: 0.9885 - val_loss: 1.9875 - val_acc: 0.6745\n",
      "Epoch 4/10\n",
      "522/522 [==============================] - 29s 55ms/step - loss: 0.3817 - acc: 0.9903 - val_loss: 2.1482 - val_acc: 0.7100\n",
      "Epoch 5/10\n",
      "522/522 [==============================] - 28s 53ms/step - loss: 0.3813 - acc: 0.9913 - val_loss: 1.5521 - val_acc: 0.7680\n",
      "Epoch 6/10\n",
      "522/522 [==============================] - 28s 53ms/step - loss: 0.3730 - acc: 0.9933 - val_loss: 2.1077 - val_acc: 0.7390\n",
      "Epoch 7/10\n",
      "522/522 [==============================] - 28s 54ms/step - loss: 0.3673 - acc: 0.9942 - val_loss: 2.4514 - val_acc: 0.7265\n",
      "Epoch 8/10\n",
      "522/522 [==============================] - 27s 51ms/step - loss: 0.3680 - acc: 0.9944 - val_loss: 2.0977 - val_acc: 0.7760\n",
      "Epoch 9/10\n",
      "522/522 [==============================] - 27s 52ms/step - loss: 0.3691 - acc: 0.9949 - val_loss: 2.2207 - val_acc: 0.7520\n",
      "Epoch 10/10\n",
      "522/522 [==============================] - 27s 51ms/step - loss: 0.3653 - acc: 0.9946 - val_loss: 2.1843 - val_acc: 0.7530\n"
     ]
    },
    {
     "data": {
      "image/png": "[encoded data removed]",
      "text/plain": [
       "<Figure size 1200x800 with 1 Axes>"
      ]
     },
     "metadata": {},
     "output_type": "display_data"
    }
   ],
   "source": [
    "res = model.fit(\n",
    "    int_train_ds,\n",
    "    validation_data=int_val_ds,\n",
    "    epochs=10\n",
    ")\n",
    "\n",
    "\n",
    "# Visualize loss\n",
    "train_loss_l1 = res.history['acc']\n",
    "test_loss_l1 = res.history['val_acc']\n",
    "\n",
    "plt.figure(figsize=(12, 8))\n",
    "plt.plot(train_loss_l1, label='Training acc', color='navy')\n",
    "plt.plot(test_loss_l1, label='Testing acc', color='skyblue')\n",
    "plt.legend();"
   ]
  },
  {
   "cell_type": "code",
   "execution_count": 50,
   "metadata": {
    "tags": []
   },
   "outputs": [
    {
     "name": "stdout",
     "output_type": "stream",
     "text": [
      "Archive:  ../data/GloVe/glove.6B.zip\n",
      "  inflating: ../data/GloVe/glove.6B.50d.txt  \n",
      "  inflating: ../data/GloVe/glove.6B.100d.txt  \n",
      "  inflating: ../data/GloVe/glove.6B.200d.txt  \n",
      "  inflating: ../data/GloVe/glove.6B.300d.txt  \n"
     ]
    }
   ],
   "source": [
    "!unzip ../data/GloVe/glove.6B.zip -d ../data/GloVe/"
   ]
  },
  {
   "cell_type": "code",
   "execution_count": 52,
   "metadata": {
    "id": "3PQhS7jyrleE",
    "tags": []
   },
   "outputs": [],
   "source": [
    "embeddings_ix = {}\n",
    "\n",
    "with open('../data/GloVe/glove.6B.100d.txt', 'r', encoding='utf-8') as f:\n",
    "  for line in f:\n",
    "    word, coefs = line.split(maxsplit=1)\n",
    "    coefs = np.fromstring(coefs, 'f', sep=' ')\n",
    "    embeddings_ix[word] = coefs"
   ]
  },
  {
   "cell_type": "code",
   "execution_count": null,
   "metadata": {
    "id": "Br95dicMvsg8"
   },
   "outputs": [],
   "source": []
  },
  {
   "cell_type": "code",
   "execution_count": 53,
   "metadata": {
    "id": "w2cEuNKCv5E7",
    "tags": []
   },
   "outputs": [],
   "source": [
    "embedding_dim = 100\n",
    "\n",
    "vocab = text_vectorization.get_vocabulary()\n",
    "word_ix = dict(enumerate(vocab))\n",
    "word_ix = {word: i for i, word in word_ix.items()}"
   ]
  },
  {
   "cell_type": "code",
   "execution_count": 54,
   "metadata": {
    "colab": {
     "base_uri": "https://localhost:8080/"
    },
    "id": "2sYousE1yaAc",
    "outputId": "c4a3a056-82bf-48dc-92a6-a076cbdc3ebd",
    "tags": []
   },
   "outputs": [
    {
     "name": "stdout",
     "output_type": "stream",
     "text": [
      "158\n"
     ]
    }
   ],
   "source": [
    "print(word_ix['sodium'])"
   ]
  },
  {
   "cell_type": "code",
   "execution_count": 55,
   "metadata": {
    "id": "Ya7YtJ2DxcP7",
    "tags": []
   },
   "outputs": [],
   "source": [
    "embedding_mx = np.zeros((max_tokens, embedding_dim))\n",
    "\n",
    "for word, i in word_ix.items():\n",
    "  if i < max_tokens:\n",
    "    embed_vector = embeddings_ix.get(word)\n",
    "\n",
    "  if embed_vector is not None:\n",
    "    embedding_mx[i, :] = embed_vector"
   ]
  },
  {
   "cell_type": "code",
   "execution_count": 56,
   "metadata": {
    "colab": {
     "base_uri": "https://localhost:8080/"
    },
    "id": "Vk1g6cSXxe5k",
    "outputId": "774eff9f-eef0-4164-dc9d-07f3ebcf6a62",
    "tags": []
   },
   "outputs": [
    {
     "data": {
      "text/plain": [
       "array([-0.93567002,  0.3705    , -0.11117   , -0.037242  , -0.071873  ])"
      ]
     },
     "execution_count": 56,
     "metadata": {},
     "output_type": "execute_result"
    }
   ],
   "source": [
    "embedding_mx[158, :5]"
   ]
  },
  {
   "cell_type": "code",
   "execution_count": 57,
   "metadata": {
    "colab": {
     "base_uri": "https://localhost:8080/"
    },
    "id": "8kfEJNjoznPl",
    "outputId": "c35d5245-ce13-471f-cc44-6be3d28d7a74",
    "tags": []
   },
   "outputs": [
    {
     "data": {
      "text/plain": [
       "array([-0.93567 ,  0.3705  , -0.11117 , -0.037242, -0.071873],\n",
       "      dtype=float32)"
      ]
     },
     "execution_count": 57,
     "metadata": {},
     "output_type": "execute_result"
    }
   ],
   "source": [
    "embeddings_ix['sodium'][:5]"
   ]
  },
  {
   "cell_type": "code",
   "execution_count": 58,
   "metadata": {
    "id": "z1gnWq100SRj",
    "tags": []
   },
   "outputs": [],
   "source": [
    "glove_layer = layers.Embedding(\n",
    "    max_tokens,\n",
    "    embedding_dim,\n",
    "    embeddings_initializer=keras.initializers.Constant(embedding_mx),\n",
    "    trainable=False,\n",
    "    mask_zero=True\n",
    ")"
   ]
  },
  {
   "cell_type": "code",
   "execution_count": 62,
   "metadata": {
    "colab": {
     "base_uri": "https://localhost:8080/"
    },
    "id": "HoboelTA1g_D",
    "outputId": "80f8285a-ee90-4dfc-e3d0-c094c5c33a81",
    "tags": []
   },
   "outputs": [
    {
     "name": "stdout",
     "output_type": "stream",
     "text": [
      "Model: \"model_5\"\n",
      "_________________________________________________________________\n",
      " Layer (type)                Output Shape              Param #   \n",
      "=================================================================\n",
      " input_7 (InputLayer)        [(None, None)]            0         \n",
      "                                                                 \n",
      " embedding_4 (Embedding)     (None, None, 100)         2000000   \n",
      "                                                                 \n",
      " bidirectional_6 (Bidirecti  (None, 64)                34048     \n",
      " onal)                                                           \n",
      "                                                                 \n",
      " dropout_6 (Dropout)         (None, 64)                0         \n",
      "                                                                 \n",
      " dense_11 (Dense)            (None, 32)                2080      \n",
      "                                                                 \n",
      " dense_12 (Dense)            (None, 1)                 33        \n",
      "                                                                 \n",
      "=================================================================\n",
      "Total params: 2036161 (7.77 MB)\n",
      "Trainable params: 36161 (141.25 KB)\n",
      "Non-trainable params: 2000000 (7.63 MB)\n",
      "_________________________________________________________________\n"
     ]
    }
   ],
   "source": [
    "inputs = keras.Input(shape=(None,))\n",
    "embedded = glove_layer(inputs)\n",
    "x = layers.Bidirectional(layers.LSTM(32, kernel_regularizer = regularizers.L1L2(l1=0.01, l2=0.01)))(embedded)\n",
    "x = layers.Dropout(0.5)(x)\n",
    "x = layers.Dense(32, activation='relu')(x)\n",
    "x = layers.Dropout(0.5)(x)\n",
    "outputs = layers.Dense(1, activation='sigmoid')(x)\n",
    "model = keras.Model(inputs,outputs)\n",
    "model.compile(optimizer='rmsprop', loss='bce', metrics=['acc'])\n",
    "model.summary()"
   ]
  },
  {
   "cell_type": "code",
   "execution_count": 70,
   "metadata": {
    "colab": {
     "base_uri": "https://localhost:8080/"
    },
    "id": "1BGJyCPm1x5z",
    "outputId": "f31bb327-f223-4588-b0a0-f233563ced70",
    "tags": []
   },
   "outputs": [
    {
     "name": "stdout",
     "output_type": "stream",
     "text": [
      "Epoch 1/100\n",
      "521/522 [============================>.] - ETA: 0s - loss: 0.4152 - acc: 0.9363\n",
      "Epoch 1: val_acc improved from -inf to 0.71500, saving model to best_model_2.h5\n",
      "522/522 [==============================] - 23s 43ms/step - loss: 0.4151 - acc: 0.9363 - val_loss: 1.0460 - val_acc: 0.7150\n",
      "Epoch 2/100\n",
      "522/522 [==============================] - ETA: 0s - loss: 0.4163 - acc: 0.9336\n",
      "Epoch 2: val_acc improved from 0.71500 to 0.84900, saving model to best_model_2.h5\n",
      "522/522 [==============================] - 22s 43ms/step - loss: 0.4163 - acc: 0.9336 - val_loss: 0.7227 - val_acc: 0.8490\n",
      "Epoch 3/100\n",
      "522/522 [==============================] - ETA: 0s - loss: 0.4131 - acc: 0.9353\n",
      "Epoch 3: val_acc did not improve from 0.84900\n",
      "522/522 [==============================] - 21s 41ms/step - loss: 0.4131 - acc: 0.9353 - val_loss: 1.2534 - val_acc: 0.6860\n",
      "Epoch 4/100\n",
      "522/522 [==============================] - ETA: 0s - loss: 0.4270 - acc: 0.9362\n",
      "Epoch 4: val_acc did not improve from 0.84900\n",
      "522/522 [==============================] - 21s 41ms/step - loss: 0.4270 - acc: 0.9362 - val_loss: 0.9167 - val_acc: 0.7540\n",
      "Epoch 5/100\n",
      "522/522 [==============================] - ETA: 0s - loss: 0.4125 - acc: 0.9368\n",
      "Epoch 5: val_acc did not improve from 0.84900\n",
      "522/522 [==============================] - 21s 41ms/step - loss: 0.4125 - acc: 0.9368 - val_loss: 0.8838 - val_acc: 0.7745\n",
      "Epoch 6/100\n",
      "521/522 [============================>.] - ETA: 0s - loss: 0.4100 - acc: 0.9353\n",
      "Epoch 6: val_acc did not improve from 0.84900\n",
      "522/522 [==============================] - 21s 41ms/step - loss: 0.4099 - acc: 0.9354 - val_loss: 0.8094 - val_acc: 0.8000\n",
      "Epoch 7/100\n",
      "521/522 [============================>.] - ETA: 0s - loss: 0.4092 - acc: 0.9365\n",
      "Epoch 7: val_acc did not improve from 0.84900\n",
      "522/522 [==============================] - 21s 40ms/step - loss: 0.4091 - acc: 0.9366 - val_loss: 0.8701 - val_acc: 0.8080\n",
      "Epoch 8/100\n",
      "522/522 [==============================] - ETA: 0s - loss: 0.4393 - acc: 0.9311\n",
      "Epoch 8: val_acc did not improve from 0.84900\n",
      "522/522 [==============================] - 21s 41ms/step - loss: 0.4393 - acc: 0.9311 - val_loss: 0.9165 - val_acc: 0.7915\n",
      "Epoch 9/100\n",
      "521/522 [============================>.] - ETA: 0s - loss: 0.4033 - acc: 0.9408\n",
      "Epoch 9: val_acc did not improve from 0.84900\n",
      "522/522 [==============================] - 21s 41ms/step - loss: 0.4035 - acc: 0.9407 - val_loss: 1.3121 - val_acc: 0.6775\n",
      "Epoch 10/100\n",
      "521/522 [============================>.] - ETA: 0s - loss: 0.3987 - acc: 0.9412\n",
      "Epoch 10: val_acc did not improve from 0.84900\n",
      "522/522 [==============================] - 21s 41ms/step - loss: 0.3987 - acc: 0.9412 - val_loss: 0.8474 - val_acc: 0.8075\n",
      "Epoch 11/100\n",
      "522/522 [==============================] - ETA: 0s - loss: 0.4103 - acc: 0.9382\n",
      "Epoch 11: val_acc did not improve from 0.84900\n",
      "522/522 [==============================] - 21s 41ms/step - loss: 0.4103 - acc: 0.9382 - val_loss: 0.7755 - val_acc: 0.8295\n",
      "Epoch 12/100\n",
      "521/522 [============================>.] - ETA: 0s - loss: 0.4049 - acc: 0.9395\n",
      "Epoch 12: val_acc did not improve from 0.84900\n",
      "522/522 [==============================] - 21s 41ms/step - loss: 0.4048 - acc: 0.9396 - val_loss: 1.1697 - val_acc: 0.7080\n",
      "Epoch 13/100\n",
      "522/522 [==============================] - ETA: 0s - loss: 0.4054 - acc: 0.9411\n",
      "Epoch 13: val_acc did not improve from 0.84900\n",
      "522/522 [==============================] - 21s 41ms/step - loss: 0.4054 - acc: 0.9411 - val_loss: 0.7692 - val_acc: 0.8275\n",
      "Epoch 14/100\n",
      "521/522 [============================>.] - ETA: 0s - loss: 0.4086 - acc: 0.9428\n",
      "Epoch 14: val_acc did not improve from 0.84900\n",
      "522/522 [==============================] - 22s 41ms/step - loss: 0.4085 - acc: 0.9429 - val_loss: 0.7613 - val_acc: 0.8335\n",
      "Epoch 15/100\n",
      "522/522 [==============================] - ETA: 0s - loss: 0.4135 - acc: 0.9385\n",
      "Epoch 15: val_acc did not improve from 0.84900\n",
      "522/522 [==============================] - 21s 41ms/step - loss: 0.4135 - acc: 0.9385 - val_loss: 0.9620 - val_acc: 0.7705\n",
      "Epoch 16/100\n",
      "521/522 [============================>.] - ETA: 0s - loss: 0.4019 - acc: 0.9431\n",
      "Epoch 16: val_acc did not improve from 0.84900\n",
      "522/522 [==============================] - 21s 41ms/step - loss: 0.4019 - acc: 0.9432 - val_loss: 0.8853 - val_acc: 0.8045\n",
      "Epoch 17/100\n",
      "521/522 [============================>.] - ETA: 0s - loss: 0.3971 - acc: 0.9434\n",
      "Epoch 17: val_acc did not improve from 0.84900\n",
      "522/522 [==============================] - 21s 41ms/step - loss: 0.3969 - acc: 0.9435 - val_loss: 0.9538 - val_acc: 0.7765\n",
      "Epoch 18/100\n",
      "522/522 [==============================] - ETA: 0s - loss: 0.4155 - acc: 0.9400\n",
      "Epoch 18: val_acc did not improve from 0.84900\n",
      "522/522 [==============================] - 21s 41ms/step - loss: 0.4155 - acc: 0.9400 - val_loss: 0.7955 - val_acc: 0.8305\n",
      "Epoch 19/100\n",
      "522/522 [==============================] - ETA: 0s - loss: 0.3957 - acc: 0.9449\n",
      "Epoch 19: val_acc did not improve from 0.84900\n",
      "522/522 [==============================] - 21s 41ms/step - loss: 0.3957 - acc: 0.9449 - val_loss: 0.8544 - val_acc: 0.8090\n",
      "Epoch 20/100\n",
      "522/522 [==============================] - ETA: 0s - loss: 0.3920 - acc: 0.9419\n",
      "Epoch 20: val_acc did not improve from 0.84900\n",
      "522/522 [==============================] - 22s 42ms/step - loss: 0.3920 - acc: 0.9419 - val_loss: 1.2197 - val_acc: 0.7180\n",
      "Epoch 21/100\n",
      "522/522 [==============================] - ETA: 0s - loss: 0.3963 - acc: 0.9420\n",
      "Epoch 21: val_acc did not improve from 0.84900\n",
      "522/522 [==============================] - 22s 41ms/step - loss: 0.3963 - acc: 0.9420 - val_loss: 0.7930 - val_acc: 0.8200\n",
      "Epoch 22/100\n",
      "522/522 [==============================] - ETA: 0s - loss: 0.4031 - acc: 0.9441\n",
      "Epoch 22: val_acc did not improve from 0.84900\n",
      "522/522 [==============================] - 21s 41ms/step - loss: 0.4031 - acc: 0.9441 - val_loss: 0.8244 - val_acc: 0.8205\n",
      "Epoch 23/100\n",
      "522/522 [==============================] - ETA: 0s - loss: 0.3999 - acc: 0.9438\n",
      "Epoch 23: val_acc did not improve from 0.84900\n",
      "522/522 [==============================] - 22s 42ms/step - loss: 0.3999 - acc: 0.9438 - val_loss: 0.8396 - val_acc: 0.8130\n",
      "Epoch 24/100\n",
      "522/522 [==============================] - ETA: 0s - loss: 0.3941 - acc: 0.9466\n",
      "Epoch 24: val_acc did not improve from 0.84900\n",
      "522/522 [==============================] - 22s 42ms/step - loss: 0.3941 - acc: 0.9466 - val_loss: 1.0494 - val_acc: 0.7710\n",
      "Epoch 25/100\n",
      "521/522 [============================>.] - ETA: 0s - loss: 0.3939 - acc: 0.9441\n",
      "Epoch 25: val_acc did not improve from 0.84900\n",
      "522/522 [==============================] - 22s 43ms/step - loss: 0.3940 - acc: 0.9441 - val_loss: 1.2016 - val_acc: 0.7325\n",
      "Epoch 26/100\n",
      "521/522 [============================>.] - ETA: 0s - loss: 0.3992 - acc: 0.9454\n",
      "Epoch 26: val_acc did not improve from 0.84900\n",
      "522/522 [==============================] - 22s 42ms/step - loss: 0.3990 - acc: 0.9454 - val_loss: 0.8477 - val_acc: 0.8130\n",
      "Epoch 27/100\n",
      "522/522 [==============================] - ETA: 0s - loss: 0.3880 - acc: 0.9500\n",
      "Epoch 27: val_acc did not improve from 0.84900\n",
      "522/522 [==============================] - 22s 42ms/step - loss: 0.3880 - acc: 0.9500 - val_loss: 1.2291 - val_acc: 0.7170\n",
      "Epoch 28/100\n",
      "521/522 [============================>.] - ETA: 0s - loss: 0.3906 - acc: 0.9462\n",
      "Epoch 28: val_acc did not improve from 0.84900\n",
      "522/522 [==============================] - 21s 41ms/step - loss: 0.3906 - acc: 0.9462 - val_loss: 0.9828 - val_acc: 0.7845\n",
      "Epoch 29/100\n",
      "521/522 [============================>.] - ETA: 0s - loss: 0.3881 - acc: 0.9490\n",
      "Epoch 29: val_acc did not improve from 0.84900\n",
      "522/522 [==============================] - 22s 41ms/step - loss: 0.3880 - acc: 0.9490 - val_loss: 0.9417 - val_acc: 0.7930\n",
      "Epoch 30/100\n",
      "521/522 [============================>.] - ETA: 0s - loss: 0.3973 - acc: 0.9458\n",
      "Epoch 30: val_acc did not improve from 0.84900\n",
      "522/522 [==============================] - 22s 42ms/step - loss: 0.3976 - acc: 0.9457 - val_loss: 1.0181 - val_acc: 0.7845\n",
      "Epoch 31/100\n",
      "522/522 [==============================] - ETA: 0s - loss: 0.3910 - acc: 0.9471\n",
      "Epoch 31: val_acc did not improve from 0.84900\n",
      "522/522 [==============================] - 22s 42ms/step - loss: 0.3910 - acc: 0.9471 - val_loss: 0.9782 - val_acc: 0.7730\n",
      "Epoch 32/100\n",
      "521/522 [============================>.] - ETA: 0s - loss: 0.3866 - acc: 0.9493\n",
      "Epoch 32: val_acc did not improve from 0.84900\n",
      "522/522 [==============================] - 22s 41ms/step - loss: 0.3869 - acc: 0.9492 - val_loss: 1.4917 - val_acc: 0.6855\n",
      "Epoch 33/100\n",
      "522/522 [==============================] - ETA: 0s - loss: 0.3874 - acc: 0.9494\n",
      "Epoch 33: val_acc did not improve from 0.84900\n",
      "522/522 [==============================] - 22s 41ms/step - loss: 0.3874 - acc: 0.9494 - val_loss: 0.8792 - val_acc: 0.8100\n",
      "Epoch 34/100\n",
      "521/522 [============================>.] - ETA: 0s - loss: 0.3922 - acc: 0.9449\n",
      "Epoch 34: val_acc did not improve from 0.84900\n",
      "522/522 [==============================] - 22s 42ms/step - loss: 0.3920 - acc: 0.9450 - val_loss: 0.8240 - val_acc: 0.8135\n",
      "Epoch 35/100\n",
      "522/522 [==============================] - ETA: 0s - loss: 0.3793 - acc: 0.9505\n",
      "Epoch 35: val_acc did not improve from 0.84900\n",
      "522/522 [==============================] - 22s 42ms/step - loss: 0.3793 - acc: 0.9505 - val_loss: 1.1637 - val_acc: 0.7450\n",
      "Epoch 36/100\n",
      "521/522 [============================>.] - ETA: 0s - loss: 0.3883 - acc: 0.9478\n",
      "Epoch 36: val_acc did not improve from 0.84900\n",
      "522/522 [==============================] - 22s 42ms/step - loss: 0.3881 - acc: 0.9479 - val_loss: 0.8224 - val_acc: 0.8160\n",
      "Epoch 37/100\n",
      "522/522 [==============================] - ETA: 0s - loss: 0.3815 - acc: 0.9511\n",
      "Epoch 37: val_acc improved from 0.84900 to 0.85100, saving model to best_model_2.h5\n",
      "522/522 [==============================] - 23s 44ms/step - loss: 0.3815 - acc: 0.9511 - val_loss: 0.7994 - val_acc: 0.8510\n",
      "Epoch 38/100\n",
      "521/522 [============================>.] - ETA: 0s - loss: 0.3825 - acc: 0.9505\n",
      "Epoch 38: val_acc did not improve from 0.85100\n",
      "522/522 [==============================] - 23s 43ms/step - loss: 0.3824 - acc: 0.9505 - val_loss: 0.7971 - val_acc: 0.8355\n",
      "Epoch 39/100\n",
      "521/522 [============================>.] - ETA: 0s - loss: 0.3811 - acc: 0.9517\n",
      "Epoch 39: val_acc did not improve from 0.85100\n",
      "522/522 [==============================] - 22s 42ms/step - loss: 0.3810 - acc: 0.9517 - val_loss: 1.0342 - val_acc: 0.7755\n",
      "Epoch 40/100\n",
      "522/522 [==============================] - ETA: 0s - loss: 0.3810 - acc: 0.9505\n",
      "Epoch 40: val_acc did not improve from 0.85100\n",
      "522/522 [==============================] - 22s 42ms/step - loss: 0.3810 - acc: 0.9505 - val_loss: 0.8256 - val_acc: 0.8105\n",
      "Epoch 41/100\n",
      "522/522 [==============================] - ETA: 0s - loss: 0.3799 - acc: 0.9500\n",
      "Epoch 41: val_acc did not improve from 0.85100\n",
      "522/522 [==============================] - 23s 43ms/step - loss: 0.3799 - acc: 0.9500 - val_loss: 1.9141 - val_acc: 0.6350\n",
      "Epoch 42/100\n",
      "522/522 [==============================] - ETA: 0s - loss: 0.3797 - acc: 0.9518\n",
      "Epoch 42: val_acc did not improve from 0.85100\n",
      "522/522 [==============================] - 23s 45ms/step - loss: 0.3797 - acc: 0.9518 - val_loss: 0.9758 - val_acc: 0.7885\n",
      "Epoch 43/100\n",
      "521/522 [============================>.] - ETA: 0s - loss: 0.3761 - acc: 0.9532\n",
      "Epoch 43: val_acc did not improve from 0.85100\n",
      "522/522 [==============================] - 22s 43ms/step - loss: 0.3762 - acc: 0.9530 - val_loss: 1.4900 - val_acc: 0.6965\n",
      "Epoch 44/100\n",
      "521/522 [============================>.] - ETA: 0s - loss: 0.3678 - acc: 0.9543\n",
      "Epoch 44: val_acc did not improve from 0.85100\n",
      "522/522 [==============================] - 23s 43ms/step - loss: 0.3680 - acc: 0.9542 - val_loss: 0.8206 - val_acc: 0.8125\n",
      "Epoch 45/100\n",
      "522/522 [==============================] - ETA: 0s - loss: 0.3784 - acc: 0.9520\n",
      "Epoch 45: val_acc did not improve from 0.85100\n",
      "522/522 [==============================] - 22s 43ms/step - loss: 0.3784 - acc: 0.9520 - val_loss: 1.0624 - val_acc: 0.7665\n",
      "Epoch 46/100\n",
      "521/522 [============================>.] - ETA: 0s - loss: 0.3751 - acc: 0.9528\n",
      "Epoch 46: val_acc did not improve from 0.85100\n",
      "522/522 [==============================] - 23s 43ms/step - loss: 0.3750 - acc: 0.9528 - val_loss: 0.8530 - val_acc: 0.8185\n",
      "Epoch 47/100\n",
      "521/522 [============================>.] - ETA: 0s - loss: 0.3762 - acc: 0.9527\n",
      "Epoch 47: val_acc did not improve from 0.85100\n",
      "522/522 [==============================] - 22s 42ms/step - loss: 0.3760 - acc: 0.9527 - val_loss: 1.0222 - val_acc: 0.7710\n",
      "Epoch 48/100\n",
      "521/522 [============================>.] - ETA: 0s - loss: 0.3730 - acc: 0.9538\n",
      "Epoch 48: val_acc did not improve from 0.85100\n",
      "522/522 [==============================] - 22s 43ms/step - loss: 0.3731 - acc: 0.9537 - val_loss: 0.8854 - val_acc: 0.8100\n",
      "Epoch 49/100\n",
      "522/522 [==============================] - ETA: 0s - loss: 0.3738 - acc: 0.9535\n",
      "Epoch 49: val_acc did not improve from 0.85100\n",
      "522/522 [==============================] - 22s 43ms/step - loss: 0.3738 - acc: 0.9535 - val_loss: 0.9999 - val_acc: 0.7995\n",
      "Epoch 50/100\n",
      "521/522 [============================>.] - ETA: 0s - loss: 0.3718 - acc: 0.9549\n",
      "Epoch 50: val_acc did not improve from 0.85100\n",
      "522/522 [==============================] - 22s 42ms/step - loss: 0.3716 - acc: 0.9550 - val_loss: 0.9312 - val_acc: 0.8035\n",
      "Epoch 51/100\n",
      "522/522 [==============================] - ETA: 0s - loss: 0.3689 - acc: 0.9552\n",
      "Epoch 51: val_acc did not improve from 0.85100\n",
      "522/522 [==============================] - 22s 42ms/step - loss: 0.3689 - acc: 0.9552 - val_loss: 0.8840 - val_acc: 0.8105\n",
      "Epoch 52/100\n",
      "522/522 [==============================] - ETA: 0s - loss: 0.3727 - acc: 0.9555\n",
      "Epoch 52: val_acc did not improve from 0.85100\n",
      "522/522 [==============================] - 23s 43ms/step - loss: 0.3727 - acc: 0.9555 - val_loss: 1.0709 - val_acc: 0.7575\n",
      "Epoch 53/100\n",
      "521/522 [============================>.] - ETA: 0s - loss: 0.3683 - acc: 0.9551\n",
      "Epoch 53: val_acc did not improve from 0.85100\n",
      "522/522 [==============================] - 22s 41ms/step - loss: 0.3682 - acc: 0.9551 - val_loss: 1.4812 - val_acc: 0.7185\n",
      "Epoch 54/100\n",
      "521/522 [============================>.] - ETA: 0s - loss: 0.3725 - acc: 0.9534\n",
      "Epoch 54: val_acc did not improve from 0.85100\n",
      "522/522 [==============================] - 22s 42ms/step - loss: 0.3726 - acc: 0.9533 - val_loss: 0.9183 - val_acc: 0.7990\n",
      "Epoch 55/100\n",
      "521/522 [============================>.] - ETA: 0s - loss: 0.3780 - acc: 0.9552\n",
      "Epoch 55: val_acc did not improve from 0.85100\n",
      "522/522 [==============================] - 22s 42ms/step - loss: 0.3780 - acc: 0.9551 - val_loss: 1.0652 - val_acc: 0.7665\n",
      "Epoch 56/100\n",
      "521/522 [============================>.] - ETA: 0s - loss: 0.3672 - acc: 0.9572\n",
      "Epoch 56: val_acc did not improve from 0.85100\n",
      "522/522 [==============================] - 22s 42ms/step - loss: 0.3673 - acc: 0.9572 - val_loss: 1.1870 - val_acc: 0.7480\n",
      "Epoch 57/100\n",
      "522/522 [==============================] - ETA: 0s - loss: 0.3677 - acc: 0.9567\n",
      "Epoch 57: val_acc did not improve from 0.85100\n",
      "522/522 [==============================] - 22s 41ms/step - loss: 0.3677 - acc: 0.9567 - val_loss: 0.9046 - val_acc: 0.8070\n",
      "Epoch 58/100\n",
      "521/522 [============================>.] - ETA: 0s - loss: 0.3662 - acc: 0.9569\n",
      "Epoch 58: val_acc did not improve from 0.85100\n",
      "522/522 [==============================] - 22s 42ms/step - loss: 0.3660 - acc: 0.9569 - val_loss: 1.2862 - val_acc: 0.7415\n",
      "Epoch 59/100\n",
      "522/522 [==============================] - ETA: 0s - loss: 0.3744 - acc: 0.9554\n",
      "Epoch 59: val_acc did not improve from 0.85100\n",
      "522/522 [==============================] - 21s 41ms/step - loss: 0.3744 - acc: 0.9554 - val_loss: 1.2661 - val_acc: 0.7445\n",
      "Epoch 60/100\n",
      "521/522 [============================>.] - ETA: 0s - loss: 0.3700 - acc: 0.9575\n",
      "Epoch 60: val_acc did not improve from 0.85100\n",
      "522/522 [==============================] - 22s 41ms/step - loss: 0.3701 - acc: 0.9575 - val_loss: 1.0830 - val_acc: 0.7840\n",
      "Epoch 61/100\n",
      "521/522 [============================>.] - ETA: 0s - loss: 0.3668 - acc: 0.9586\n",
      "Epoch 61: val_acc did not improve from 0.85100\n",
      "522/522 [==============================] - 22s 41ms/step - loss: 0.3667 - acc: 0.9586 - val_loss: 1.4763 - val_acc: 0.7210\n",
      "Epoch 62/100\n",
      "521/522 [============================>.] - ETA: 0s - loss: 0.3710 - acc: 0.9558\n",
      "Epoch 62: val_acc did not improve from 0.85100\n",
      "522/522 [==============================] - 21s 41ms/step - loss: 0.3708 - acc: 0.9558 - val_loss: 1.1351 - val_acc: 0.7600\n",
      "Epoch 63/100\n",
      "521/522 [============================>.] - ETA: 0s - loss: 0.3706 - acc: 0.9560\n",
      "Epoch 63: val_acc did not improve from 0.85100\n",
      "522/522 [==============================] - 21s 41ms/step - loss: 0.3704 - acc: 0.9561 - val_loss: 0.9599 - val_acc: 0.7885\n",
      "Epoch 64/100\n",
      "521/522 [============================>.] - ETA: 0s - loss: 0.3627 - acc: 0.9594\n",
      "Epoch 64: val_acc did not improve from 0.85100\n",
      "522/522 [==============================] - 21s 41ms/step - loss: 0.3626 - acc: 0.9595 - val_loss: 1.0399 - val_acc: 0.7855\n",
      "Epoch 65/100\n",
      "521/522 [============================>.] - ETA: 0s - loss: 0.3707 - acc: 0.9568\n",
      "Epoch 65: val_acc did not improve from 0.85100\n",
      "522/522 [==============================] - 21s 41ms/step - loss: 0.3709 - acc: 0.9567 - val_loss: 1.5849 - val_acc: 0.7170\n",
      "Epoch 66/100\n",
      "521/522 [============================>.] - ETA: 0s - loss: 0.3711 - acc: 0.9553\n",
      "Epoch 66: val_acc did not improve from 0.85100\n",
      "522/522 [==============================] - 21s 41ms/step - loss: 0.3712 - acc: 0.9553 - val_loss: 1.0781 - val_acc: 0.7645\n",
      "Epoch 67/100\n",
      "521/522 [============================>.] - ETA: 0s - loss: 0.3712 - acc: 0.9563\n",
      "Epoch 67: val_acc did not improve from 0.85100\n",
      "522/522 [==============================] - 21s 41ms/step - loss: 0.3713 - acc: 0.9562 - val_loss: 1.6319 - val_acc: 0.6650\n",
      "Epoch 68/100\n",
      "521/522 [============================>.] - ETA: 0s - loss: 0.3671 - acc: 0.9575\n",
      "Epoch 68: val_acc did not improve from 0.85100\n",
      "522/522 [==============================] - 21s 41ms/step - loss: 0.3671 - acc: 0.9575 - val_loss: 0.9219 - val_acc: 0.7780\n",
      "Epoch 69/100\n",
      "521/522 [============================>.] - ETA: 0s - loss: 0.3736 - acc: 0.9575\n",
      "Epoch 69: val_acc did not improve from 0.85100\n",
      "522/522 [==============================] - 22s 41ms/step - loss: 0.3735 - acc: 0.9576 - val_loss: 1.6595 - val_acc: 0.6965\n",
      "Epoch 70/100\n",
      "521/522 [============================>.] - ETA: 0s - loss: 0.3649 - acc: 0.9598\n",
      "Epoch 70: val_acc did not improve from 0.85100\n",
      "522/522 [==============================] - 22s 41ms/step - loss: 0.3650 - acc: 0.9596 - val_loss: 0.7554 - val_acc: 0.8465\n",
      "Epoch 71/100\n",
      "521/522 [============================>.] - ETA: 0s - loss: 0.3684 - acc: 0.9569\n",
      "Epoch 71: val_acc did not improve from 0.85100\n",
      "522/522 [==============================] - 21s 40ms/step - loss: 0.3682 - acc: 0.9570 - val_loss: 0.8909 - val_acc: 0.8030\n",
      "Epoch 72/100\n",
      "521/522 [============================>.] - ETA: 0s - loss: 0.3638 - acc: 0.9580\n",
      "Epoch 72: val_acc did not improve from 0.85100\n",
      "522/522 [==============================] - 21s 41ms/step - loss: 0.3637 - acc: 0.9581 - val_loss: 0.9907 - val_acc: 0.7845\n",
      "Epoch 73/100\n",
      "521/522 [============================>.] - ETA: 0s - loss: 0.3635 - acc: 0.9602\n",
      "Epoch 73: val_acc did not improve from 0.85100\n",
      "522/522 [==============================] - 21s 41ms/step - loss: 0.3635 - acc: 0.9602 - val_loss: 0.8073 - val_acc: 0.8375\n",
      "Epoch 74/100\n",
      "522/522 [==============================] - ETA: 0s - loss: 0.3635 - acc: 0.9586\n",
      "Epoch 74: val_acc did not improve from 0.85100\n",
      "522/522 [==============================] - 21s 41ms/step - loss: 0.3635 - acc: 0.9586 - val_loss: 0.9956 - val_acc: 0.8045\n",
      "Epoch 75/100\n",
      "522/522 [==============================] - ETA: 0s - loss: 0.3700 - acc: 0.9586\n",
      "Epoch 75: val_acc did not improve from 0.85100\n",
      "522/522 [==============================] - 22s 42ms/step - loss: 0.3700 - acc: 0.9586 - val_loss: 1.3611 - val_acc: 0.7280\n",
      "Epoch 76/100\n",
      "522/522 [==============================] - ETA: 0s - loss: 0.3587 - acc: 0.9610\n",
      "Epoch 76: val_acc did not improve from 0.85100\n",
      "522/522 [==============================] - 23s 43ms/step - loss: 0.3587 - acc: 0.9610 - val_loss: 1.0799 - val_acc: 0.7595\n",
      "Epoch 77/100\n",
      "522/522 [==============================] - ETA: 0s - loss: 0.3647 - acc: 0.9597\n",
      "Epoch 77: val_acc did not improve from 0.85100\n",
      "522/522 [==============================] - 22s 42ms/step - loss: 0.3647 - acc: 0.9597 - val_loss: 1.1525 - val_acc: 0.7785\n",
      "Epoch 78/100\n",
      "521/522 [============================>.] - ETA: 0s - loss: 0.3576 - acc: 0.9620\n",
      "Epoch 78: val_acc did not improve from 0.85100\n",
      "522/522 [==============================] - 21s 41ms/step - loss: 0.3577 - acc: 0.9619 - val_loss: 0.8242 - val_acc: 0.8095\n",
      "Epoch 79/100\n",
      "521/522 [============================>.] - ETA: 0s - loss: 0.3616 - acc: 0.9592\n",
      "Epoch 79: val_acc did not improve from 0.85100\n",
      "522/522 [==============================] - 21s 41ms/step - loss: 0.3617 - acc: 0.9592 - val_loss: 1.0811 - val_acc: 0.7595\n",
      "Epoch 80/100\n",
      "521/522 [============================>.] - ETA: 0s - loss: 0.3620 - acc: 0.9599\n",
      "Epoch 80: val_acc did not improve from 0.85100\n",
      "522/522 [==============================] - 21s 41ms/step - loss: 0.3623 - acc: 0.9599 - val_loss: 1.6305 - val_acc: 0.6780\n",
      "Epoch 81/100\n",
      "522/522 [==============================] - ETA: 0s - loss: 0.3627 - acc: 0.9598\n",
      "Epoch 81: val_acc did not improve from 0.85100\n",
      "522/522 [==============================] - 22s 42ms/step - loss: 0.3627 - acc: 0.9598 - val_loss: 1.0949 - val_acc: 0.7500\n",
      "Epoch 82/100\n",
      "521/522 [============================>.] - ETA: 0s - loss: 0.3580 - acc: 0.9602\n",
      "Epoch 82: val_acc did not improve from 0.85100\n",
      "522/522 [==============================] - 22s 41ms/step - loss: 0.3585 - acc: 0.9600 - val_loss: 0.7599 - val_acc: 0.8400\n",
      "Epoch 83/100\n",
      "521/522 [============================>.] - ETA: 0s - loss: 0.3629 - acc: 0.9607\n",
      "Epoch 83: val_acc did not improve from 0.85100\n",
      "522/522 [==============================] - 21s 41ms/step - loss: 0.3628 - acc: 0.9608 - val_loss: 1.0264 - val_acc: 0.7870\n",
      "Epoch 84/100\n",
      "521/522 [============================>.] - ETA: 0s - loss: 0.3696 - acc: 0.9594\n",
      "Epoch 84: val_acc did not improve from 0.85100\n",
      "522/522 [==============================] - 21s 41ms/step - loss: 0.3694 - acc: 0.9595 - val_loss: 1.0904 - val_acc: 0.7515\n",
      "Epoch 85/100\n",
      "521/522 [============================>.] - ETA: 0s - loss: 0.3589 - acc: 0.9616\n",
      "Epoch 85: val_acc did not improve from 0.85100\n",
      "522/522 [==============================] - 22s 41ms/step - loss: 0.3590 - acc: 0.9615 - val_loss: 1.1505 - val_acc: 0.7610\n",
      "Epoch 86/100\n",
      "521/522 [============================>.] - ETA: 0s - loss: 0.3598 - acc: 0.9629\n",
      "Epoch 86: val_acc did not improve from 0.85100\n",
      "522/522 [==============================] - 22s 42ms/step - loss: 0.3598 - acc: 0.9629 - val_loss: 1.1947 - val_acc: 0.7625\n",
      "Epoch 87/100\n",
      "521/522 [============================>.] - ETA: 0s - loss: 0.3598 - acc: 0.9612\n",
      "Epoch 87: val_acc did not improve from 0.85100\n",
      "522/522 [==============================] - 22s 42ms/step - loss: 0.3599 - acc: 0.9611 - val_loss: 1.8770 - val_acc: 0.6660\n",
      "Epoch 88/100\n",
      "521/522 [============================>.] - ETA: 0s - loss: 0.3627 - acc: 0.9613\n",
      "Epoch 88: val_acc did not improve from 0.85100\n",
      "522/522 [==============================] - 22s 41ms/step - loss: 0.3626 - acc: 0.9613 - val_loss: 1.6141 - val_acc: 0.6880\n",
      "Epoch 89/100\n",
      "522/522 [==============================] - ETA: 0s - loss: 0.3593 - acc: 0.9626\n",
      "Epoch 89: val_acc did not improve from 0.85100\n",
      "522/522 [==============================] - 22s 41ms/step - loss: 0.3593 - acc: 0.9626 - val_loss: 0.9285 - val_acc: 0.7840\n",
      "Epoch 90/100\n",
      "521/522 [============================>.] - ETA: 0s - loss: 0.3565 - acc: 0.9626\n",
      "Epoch 90: val_acc did not improve from 0.85100\n",
      "522/522 [==============================] - 22s 41ms/step - loss: 0.3564 - acc: 0.9626 - val_loss: 2.0147 - val_acc: 0.6550\n",
      "Epoch 91/100\n",
      "521/522 [============================>.] - ETA: 0s - loss: 0.3561 - acc: 0.9635\n",
      "Epoch 91: val_acc did not improve from 0.85100\n",
      "522/522 [==============================] - 22s 41ms/step - loss: 0.3564 - acc: 0.9634 - val_loss: 0.8746 - val_acc: 0.8060\n",
      "Epoch 92/100\n",
      "521/522 [============================>.] - ETA: 0s - loss: 0.3632 - acc: 0.9611\n",
      "Epoch 92: val_acc did not improve from 0.85100\n",
      "522/522 [==============================] - 22s 41ms/step - loss: 0.3631 - acc: 0.9611 - val_loss: 0.9068 - val_acc: 0.8090\n",
      "Epoch 93/100\n",
      "521/522 [============================>.] - ETA: 0s - loss: 0.3540 - acc: 0.9640\n",
      "Epoch 93: val_acc did not improve from 0.85100\n",
      "522/522 [==============================] - 22s 41ms/step - loss: 0.3541 - acc: 0.9639 - val_loss: 1.2993 - val_acc: 0.7615\n",
      "Epoch 94/100\n",
      "522/522 [==============================] - ETA: 0s - loss: 0.3553 - acc: 0.9644\n",
      "Epoch 94: val_acc did not improve from 0.85100\n",
      "522/522 [==============================] - 22s 41ms/step - loss: 0.3553 - acc: 0.9644 - val_loss: 0.8735 - val_acc: 0.8085\n",
      "Epoch 95/100\n",
      "521/522 [============================>.] - ETA: 0s - loss: 0.3661 - acc: 0.9635\n",
      "Epoch 95: val_acc did not improve from 0.85100\n",
      "522/522 [==============================] - 22s 41ms/step - loss: 0.3661 - acc: 0.9633 - val_loss: 1.0542 - val_acc: 0.7900\n",
      "Epoch 96/100\n",
      "522/522 [==============================] - ETA: 0s - loss: 0.3586 - acc: 0.9620\n",
      "Epoch 96: val_acc did not improve from 0.85100\n",
      "522/522 [==============================] - 22s 41ms/step - loss: 0.3586 - acc: 0.9620 - val_loss: 1.4044 - val_acc: 0.7155\n",
      "Epoch 97/100\n",
      "522/522 [==============================] - ETA: 0s - loss: 0.3565 - acc: 0.9636\n",
      "Epoch 97: val_acc did not improve from 0.85100\n",
      "522/522 [==============================] - 22s 41ms/step - loss: 0.3565 - acc: 0.9636 - val_loss: 1.3642 - val_acc: 0.7255\n",
      "Epoch 98/100\n",
      "521/522 [============================>.] - ETA: 0s - loss: 0.3616 - acc: 0.9636\n",
      "Epoch 98: val_acc did not improve from 0.85100\n",
      "522/522 [==============================] - 22s 41ms/step - loss: 0.3616 - acc: 0.9636 - val_loss: 0.7592 - val_acc: 0.8475\n",
      "Epoch 99/100\n",
      "521/522 [============================>.] - ETA: 0s - loss: 0.3570 - acc: 0.9659\n",
      "Epoch 99: val_acc did not improve from 0.85100\n",
      "522/522 [==============================] - 22s 41ms/step - loss: 0.3569 - acc: 0.9659 - val_loss: 1.7623 - val_acc: 0.6985\n",
      "Epoch 100/100\n",
      "521/522 [============================>.] - ETA: 0s - loss: 0.3506 - acc: 0.9671\n",
      "Epoch 100: val_acc did not improve from 0.85100\n",
      "522/522 [==============================] - 22s 41ms/step - loss: 0.3506 - acc: 0.9671 - val_loss: 1.2861 - val_acc: 0.7510\n"
     ]
    },
    {
     "data": {
      "image/png": "[encoded data removed]",
      "text/plain": [
       "<Figure size 1200x800 with 1 Axes>"
      ]
     },
     "metadata": {},
     "output_type": "display_data"
    }
   ],
   "source": [
    "mc = ModelCheckpoint('best_model_2.h5', monitor='val_acc', save_best_only=True, verbose = 1)\n",
    "# es = EarlyStopping(monitor='acc', mode='max', patience = 3, min_delta = 0.01)\n",
    "res = model.fit(\n",
    "    int_train_ds,\n",
    "    validation_data=int_val_ds,\n",
    "    epochs=100,\n",
    "    callbacks=[mc]\n",
    ")\n",
    "\n",
    "# Visualize loss\n",
    "train_loss = res.history['acc']\n",
    "test_loss = res.history['val_acc']\n",
    "\n",
    "plt.figure(figsize=(12, 8))\n",
    "plt.plot(train_loss, label='Training acc', color='navy')\n",
    "plt.plot(test_loss, label='Testing acc', color='skyblue')\n",
    "plt.legend();"
   ]
  },
  {
   "cell_type": "markdown",
   "metadata": {
    "id": "RcOOHsc32GiD"
   },
   "source": [
    "### GloVe 42B 300d"
   ]
  },
  {
   "cell_type": "code",
   "execution_count": 73,
   "metadata": {
    "id": "3PQhS7jyrleE",
    "tags": []
   },
   "outputs": [],
   "source": [
    "embeddings_ix = {}\n",
    "\n",
    "with open('../data/GloVe/glove.42B.300d.txt', 'r', encoding='utf-8') as f:\n",
    "  for line in f:\n",
    "    word, coefs = line.split(maxsplit=1)\n",
    "    coefs = np.fromstring(coefs, 'f', sep=' ')\n",
    "    embeddings_ix[word] = coefs"
   ]
  },
  {
   "cell_type": "code",
   "execution_count": null,
   "metadata": {
    "id": "Br95dicMvsg8"
   },
   "outputs": [],
   "source": []
  },
  {
   "cell_type": "code",
   "execution_count": 77,
   "metadata": {
    "id": "w2cEuNKCv5E7",
    "tags": []
   },
   "outputs": [],
   "source": [
    "embedding_dim = 300\n",
    "\n",
    "vocab = text_vectorization.get_vocabulary()\n",
    "word_ix = dict(enumerate(vocab))\n",
    "word_ix = {word: i for i, word in word_ix.items()}"
   ]
  },
  {
   "cell_type": "code",
   "execution_count": 78,
   "metadata": {
    "colab": {
     "base_uri": "https://localhost:8080/"
    },
    "id": "2sYousE1yaAc",
    "outputId": "c4a3a056-82bf-48dc-92a6-a076cbdc3ebd",
    "tags": []
   },
   "outputs": [
    {
     "name": "stdout",
     "output_type": "stream",
     "text": [
      "158\n"
     ]
    }
   ],
   "source": [
    "print(word_ix['sodium'])"
   ]
  },
  {
   "cell_type": "code",
   "execution_count": 79,
   "metadata": {
    "id": "Ya7YtJ2DxcP7",
    "tags": []
   },
   "outputs": [],
   "source": [
    "embedding_mx = np.zeros((max_tokens, embedding_dim))\n",
    "\n",
    "for word, i in word_ix.items():\n",
    "  if i < max_tokens:\n",
    "    embed_vector = embeddings_ix.get(word)\n",
    "\n",
    "  if embed_vector is not None:\n",
    "    embedding_mx[i, :] = embed_vector"
   ]
  },
  {
   "cell_type": "code",
   "execution_count": 80,
   "metadata": {
    "colab": {
     "base_uri": "https://localhost:8080/"
    },
    "id": "Vk1g6cSXxe5k",
    "outputId": "774eff9f-eef0-4164-dc9d-07f3ebcf6a62",
    "tags": []
   },
   "outputs": [
    {
     "data": {
      "text/plain": [
       "array([ 0.017378  , -0.51845998,  0.55386001, -0.84460998,  0.17639001])"
      ]
     },
     "execution_count": 80,
     "metadata": {},
     "output_type": "execute_result"
    }
   ],
   "source": [
    "embedding_mx[158, :5]"
   ]
  },
  {
   "cell_type": "code",
   "execution_count": 81,
   "metadata": {
    "colab": {
     "base_uri": "https://localhost:8080/"
    },
    "id": "8kfEJNjoznPl",
    "outputId": "c35d5245-ce13-471f-cc44-6be3d28d7a74",
    "tags": []
   },
   "outputs": [
    {
     "data": {
      "text/plain": [
       "array([ 0.017378, -0.51846 ,  0.55386 , -0.84461 ,  0.17639 ],\n",
       "      dtype=float32)"
      ]
     },
     "execution_count": 81,
     "metadata": {},
     "output_type": "execute_result"
    }
   ],
   "source": [
    "embeddings_ix['sodium'][:5]"
   ]
  },
  {
   "cell_type": "code",
   "execution_count": 82,
   "metadata": {
    "id": "z1gnWq100SRj",
    "tags": []
   },
   "outputs": [],
   "source": [
    "glove_layer = layers.Embedding(\n",
    "    max_tokens,\n",
    "    embedding_dim,\n",
    "    embeddings_initializer=keras.initializers.Constant(embedding_mx),\n",
    "    trainable=False,\n",
    "    mask_zero=True\n",
    ")"
   ]
  },
  {
   "cell_type": "code",
   "execution_count": 83,
   "metadata": {
    "colab": {
     "base_uri": "https://localhost:8080/"
    },
    "id": "HoboelTA1g_D",
    "outputId": "80f8285a-ee90-4dfc-e3d0-c094c5c33a81",
    "tags": []
   },
   "outputs": [
    {
     "name": "stdout",
     "output_type": "stream",
     "text": [
      "Model: \"model_6\"\n",
      "_________________________________________________________________\n",
      " Layer (type)                Output Shape              Param #   \n",
      "=================================================================\n",
      " input_8 (InputLayer)        [(None, None)]            0         \n",
      "                                                                 \n",
      " embedding_5 (Embedding)     (None, None, 300)         6000000   \n",
      "                                                                 \n",
      " bidirectional_7 (Bidirecti  (None, 64)                85248     \n",
      " onal)                                                           \n",
      "                                                                 \n",
      " dropout_7 (Dropout)         (None, 64)                0         \n",
      "                                                                 \n",
      " dense_13 (Dense)            (None, 32)                2080      \n",
      "                                                                 \n",
      " dropout_8 (Dropout)         (None, 32)                0         \n",
      "                                                                 \n",
      " dense_14 (Dense)            (None, 1)                 33        \n",
      "                                                                 \n",
      "=================================================================\n",
      "Total params: 6087361 (23.22 MB)\n",
      "Trainable params: 87361 (341.25 KB)\n",
      "Non-trainable params: 6000000 (22.89 MB)\n",
      "_________________________________________________________________\n"
     ]
    }
   ],
   "source": [
    "inputs = keras.Input(shape=(None,))\n",
    "embedded = glove_layer(inputs)\n",
    "x = layers.Bidirectional(layers.LSTM(32, kernel_regularizer = regularizers.L1L2(l1=0.01, l2=0.01)))(embedded)\n",
    "x = layers.Dropout(0.5)(x)\n",
    "x = layers.Dense(32, activation='relu')(x)\n",
    "x = layers.Dropout(0.5)(x)\n",
    "outputs = layers.Dense(1, activation='sigmoid')(x)\n",
    "model = keras.Model(inputs,outputs)\n",
    "model.compile(optimizer='rmsprop', loss='bce', metrics=['acc'])\n",
    "model.summary()"
   ]
  },
  {
   "cell_type": "code",
   "execution_count": 84,
   "metadata": {
    "tags": []
   },
   "outputs": [
    {
     "name": "stdout",
     "output_type": "stream",
     "text": [
      "Epoch 1/100\n",
      "522/522 [==============================] - ETA: 0s - loss: 4.1009 - acc: 0.7006\n",
      "Epoch 1: val_acc improved from -inf to 0.75650, saving model to best_model_3.h5\n"
     ]
    },
    {
     "name": "stderr",
     "output_type": "stream",
     "text": [
      "C:\\Users\\mikem\\anaconda3\\Lib\\site-packages\\keras\\src\\engine\\training.py:3000: UserWarning: You are saving your model as an HDF5 file via `model.save()`. This file format is considered legacy. We recommend using instead the native Keras format, e.g. `model.save('my_model.keras')`.\n",
      "  saving_api.save_model(\n"
     ]
    },
    {
     "name": "stdout",
     "output_type": "stream",
     "text": [
      "522/522 [==============================] - 80s 145ms/step - loss: 4.1009 - acc: 0.7006 - val_loss: 1.0335 - val_acc: 0.7565\n",
      "Epoch 2/100\n",
      "522/522 [==============================] - ETA: 0s - loss: 0.9094 - acc: 0.8400\n",
      "Epoch 2: val_acc improved from 0.75650 to 0.81100, saving model to best_model_3.h5\n",
      "522/522 [==============================] - 80s 153ms/step - loss: 0.9094 - acc: 0.8400 - val_loss: 0.9578 - val_acc: 0.8110\n",
      "Epoch 3/100\n",
      "522/522 [==============================] - ETA: 0s - loss: 0.8544 - acc: 0.8769\n",
      "Epoch 3: val_acc did not improve from 0.81100\n",
      "522/522 [==============================] - 76s 145ms/step - loss: 0.8544 - acc: 0.8769 - val_loss: 1.0299 - val_acc: 0.7820\n",
      "Epoch 4/100\n",
      "522/522 [==============================] - ETA: 0s - loss: 0.8259 - acc: 0.8931\n",
      "Epoch 4: val_acc did not improve from 0.81100\n",
      "522/522 [==============================] - 76s 145ms/step - loss: 0.8259 - acc: 0.8931 - val_loss: 1.8699 - val_acc: 0.5505\n",
      "Epoch 5/100\n",
      "522/522 [==============================] - ETA: 0s - loss: 0.8006 - acc: 0.9021\n",
      "Epoch 5: val_acc improved from 0.81100 to 0.81650, saving model to best_model_3.h5\n",
      "522/522 [==============================] - 80s 153ms/step - loss: 0.8006 - acc: 0.9021 - val_loss: 1.0650 - val_acc: 0.8165\n",
      "Epoch 6/100\n",
      "522/522 [==============================] - ETA: 0s - loss: 0.7911 - acc: 0.9076\n",
      "Epoch 6: val_acc did not improve from 0.81650\n",
      "522/522 [==============================] - 76s 145ms/step - loss: 0.7911 - acc: 0.9076 - val_loss: 1.4756 - val_acc: 0.6175\n",
      "Epoch 7/100\n",
      "522/522 [==============================] - ETA: 0s - loss: 0.7799 - acc: 0.9135\n",
      "Epoch 7: val_acc improved from 0.81650 to 0.81700, saving model to best_model_3.h5\n",
      "522/522 [==============================] - 80s 153ms/step - loss: 0.7799 - acc: 0.9135 - val_loss: 1.0018 - val_acc: 0.8170\n",
      "Epoch 8/100\n",
      "522/522 [==============================] - ETA: 0s - loss: 0.7648 - acc: 0.9182\n",
      "Epoch 8: val_acc did not improve from 0.81700\n",
      "522/522 [==============================] - 76s 145ms/step - loss: 0.7648 - acc: 0.9182 - val_loss: 1.2631 - val_acc: 0.7510\n",
      "Epoch 9/100\n",
      "522/522 [==============================] - ETA: 0s - loss: 0.7651 - acc: 0.9173\n",
      "Epoch 9: val_acc did not improve from 0.81700\n",
      "522/522 [==============================] - 76s 145ms/step - loss: 0.7651 - acc: 0.9173 - val_loss: 1.6835 - val_acc: 0.6250\n",
      "Epoch 10/100\n",
      "522/522 [==============================] - ETA: 0s - loss: 0.7591 - acc: 0.9232\n",
      "Epoch 10: val_acc improved from 0.81700 to 0.82050, saving model to best_model_3.h5\n",
      "522/522 [==============================] - 80s 153ms/step - loss: 0.7591 - acc: 0.9232 - val_loss: 1.0856 - val_acc: 0.8205\n",
      "Epoch 11/100\n",
      "522/522 [==============================] - ETA: 0s - loss: 0.7524 - acc: 0.9248\n",
      "Epoch 11: val_acc improved from 0.82050 to 0.85500, saving model to best_model_3.h5\n",
      "522/522 [==============================] - 80s 153ms/step - loss: 0.7524 - acc: 0.9248 - val_loss: 0.9728 - val_acc: 0.8550\n",
      "Epoch 12/100\n",
      "522/522 [==============================] - ETA: 0s - loss: 0.7521 - acc: 0.9257\n",
      "Epoch 12: val_acc did not improve from 0.85500\n",
      "522/522 [==============================] - 76s 145ms/step - loss: 0.7521 - acc: 0.9257 - val_loss: 1.2558 - val_acc: 0.7360\n",
      "Epoch 13/100\n",
      "522/522 [==============================] - ETA: 0s - loss: 0.7472 - acc: 0.9283\n",
      "Epoch 13: val_acc improved from 0.85500 to 0.85750, saving model to best_model_3.h5\n",
      "522/522 [==============================] - 80s 154ms/step - loss: 0.7472 - acc: 0.9283 - val_loss: 0.9520 - val_acc: 0.8575\n",
      "Epoch 14/100\n",
      "522/522 [==============================] - ETA: 0s - loss: 0.7464 - acc: 0.9284\n",
      "Epoch 14: val_acc did not improve from 0.85750\n",
      "522/522 [==============================] - 75s 144ms/step - loss: 0.7464 - acc: 0.9284 - val_loss: 1.0637 - val_acc: 0.8225\n",
      "Epoch 15/100\n",
      "522/522 [==============================] - ETA: 0s - loss: 0.7438 - acc: 0.9285\n",
      "Epoch 15: val_acc did not improve from 0.85750\n",
      "522/522 [==============================] - 75s 143ms/step - loss: 0.7438 - acc: 0.9285 - val_loss: 1.1981 - val_acc: 0.8190\n",
      "Epoch 16/100\n",
      "522/522 [==============================] - ETA: 0s - loss: 0.7354 - acc: 0.9334\n",
      "Epoch 16: val_acc did not improve from 0.85750\n",
      "522/522 [==============================] - 76s 145ms/step - loss: 0.7354 - acc: 0.9334 - val_loss: 1.7288 - val_acc: 0.7020\n",
      "Epoch 17/100\n",
      "522/522 [==============================] - ETA: 0s - loss: 0.7427 - acc: 0.9313\n",
      "Epoch 17: val_acc did not improve from 0.85750\n",
      "522/522 [==============================] - 76s 145ms/step - loss: 0.7427 - acc: 0.9313 - val_loss: 1.0922 - val_acc: 0.8210\n",
      "Epoch 18/100\n",
      "522/522 [==============================] - ETA: 0s - loss: 0.7371 - acc: 0.9314\n",
      "Epoch 18: val_acc did not improve from 0.85750\n",
      "522/522 [==============================] - 76s 146ms/step - loss: 0.7371 - acc: 0.9314 - val_loss: 1.0357 - val_acc: 0.8515\n",
      "Epoch 19/100\n",
      "522/522 [==============================] - ETA: 0s - loss: 0.7278 - acc: 0.9352\n",
      "Epoch 19: val_acc did not improve from 0.85750\n",
      "522/522 [==============================] - 76s 146ms/step - loss: 0.7278 - acc: 0.9352 - val_loss: 1.1796 - val_acc: 0.8185\n",
      "Epoch 20/100\n",
      "522/522 [==============================] - ETA: 0s - loss: 0.7360 - acc: 0.9322\n",
      "Epoch 20: val_acc did not improve from 0.85750\n",
      "522/522 [==============================] - 77s 147ms/step - loss: 0.7360 - acc: 0.9322 - val_loss: 1.0868 - val_acc: 0.8315\n",
      "Epoch 21/100\n",
      "522/522 [==============================] - ETA: 0s - loss: 0.7332 - acc: 0.9330\n",
      "Epoch 21: val_acc did not improve from 0.85750\n",
      "522/522 [==============================] - 76s 146ms/step - loss: 0.7332 - acc: 0.9330 - val_loss: 1.2090 - val_acc: 0.8240\n",
      "Epoch 22/100\n",
      "522/522 [==============================] - ETA: 0s - loss: 0.7279 - acc: 0.9379\n",
      "Epoch 22: val_acc did not improve from 0.85750\n",
      "522/522 [==============================] - 76s 146ms/step - loss: 0.7279 - acc: 0.9379 - val_loss: 1.4888 - val_acc: 0.7445\n",
      "Epoch 23/100\n",
      "522/522 [==============================] - ETA: 0s - loss: 0.7258 - acc: 0.9376\n",
      "Epoch 23: val_acc did not improve from 0.85750\n",
      "522/522 [==============================] - 76s 146ms/step - loss: 0.7258 - acc: 0.9376 - val_loss: 1.1142 - val_acc: 0.8405\n",
      "Epoch 24/100\n",
      "522/522 [==============================] - ETA: 0s - loss: 0.7236 - acc: 0.9386\n",
      "Epoch 24: val_acc did not improve from 0.85750\n",
      "522/522 [==============================] - 76s 146ms/step - loss: 0.7236 - acc: 0.9386 - val_loss: 1.2490 - val_acc: 0.8375\n",
      "Epoch 25/100\n",
      "522/522 [==============================] - ETA: 0s - loss: 0.7196 - acc: 0.9418\n",
      "Epoch 25: val_acc did not improve from 0.85750\n",
      "522/522 [==============================] - 76s 145ms/step - loss: 0.7196 - acc: 0.9418 - val_loss: 1.0182 - val_acc: 0.8465\n",
      "Epoch 26/100\n",
      "522/522 [==============================] - ETA: 0s - loss: 0.7269 - acc: 0.9366\n",
      "Epoch 26: val_acc did not improve from 0.85750\n",
      "522/522 [==============================] - 76s 146ms/step - loss: 0.7269 - acc: 0.9366 - val_loss: 1.1273 - val_acc: 0.8220\n",
      "Epoch 27/100\n",
      "522/522 [==============================] - ETA: 0s - loss: 0.7222 - acc: 0.9378\n",
      "Epoch 27: val_acc did not improve from 0.85750\n",
      "522/522 [==============================] - 76s 146ms/step - loss: 0.7222 - acc: 0.9378 - val_loss: 1.5056 - val_acc: 0.7445\n",
      "Epoch 28/100\n",
      "522/522 [==============================] - ETA: 0s - loss: 0.7178 - acc: 0.9385\n",
      "Epoch 28: val_acc did not improve from 0.85750\n",
      "522/522 [==============================] - 76s 145ms/step - loss: 0.7178 - acc: 0.9385 - val_loss: 1.3869 - val_acc: 0.7715\n",
      "Epoch 29/100\n",
      "522/522 [==============================] - ETA: 0s - loss: 0.7254 - acc: 0.9383\n",
      "Epoch 29: val_acc did not improve from 0.85750\n",
      "522/522 [==============================] - 76s 145ms/step - loss: 0.7254 - acc: 0.9383 - val_loss: 1.0569 - val_acc: 0.8265\n",
      "Epoch 30/100\n",
      "522/522 [==============================] - ETA: 0s - loss: 0.7137 - acc: 0.9406\n",
      "Epoch 30: val_acc did not improve from 0.85750\n",
      "522/522 [==============================] - 76s 145ms/step - loss: 0.7137 - acc: 0.9406 - val_loss: 1.0959 - val_acc: 0.8320\n",
      "Epoch 31/100\n",
      "522/522 [==============================] - ETA: 0s - loss: 0.7445 - acc: 0.9376\n",
      "Epoch 31: val_acc did not improve from 0.85750\n",
      "522/522 [==============================] - 76s 145ms/step - loss: 0.7445 - acc: 0.9376 - val_loss: 1.0435 - val_acc: 0.8420\n",
      "Epoch 32/100\n",
      "522/522 [==============================] - ETA: 0s - loss: 0.7170 - acc: 0.9397\n",
      "Epoch 32: val_acc improved from 0.85750 to 0.85950, saving model to best_model_3.h5\n",
      "522/522 [==============================] - 79s 152ms/step - loss: 0.7170 - acc: 0.9397 - val_loss: 0.9572 - val_acc: 0.8595\n",
      "Epoch 33/100\n",
      "522/522 [==============================] - ETA: 0s - loss: 0.7733 - acc: 0.9307\n",
      "Epoch 33: val_acc did not improve from 0.85950\n",
      "522/522 [==============================] - 75s 144ms/step - loss: 0.7733 - acc: 0.9307 - val_loss: 1.6784 - val_acc: 0.7450\n",
      "Epoch 34/100\n",
      "522/522 [==============================] - ETA: 0s - loss: 0.7107 - acc: 0.9438\n",
      "Epoch 34: val_acc did not improve from 0.85950\n",
      "522/522 [==============================] - 74s 142ms/step - loss: 0.7107 - acc: 0.9438 - val_loss: 2.3475 - val_acc: 0.6130\n",
      "Epoch 35/100\n",
      "522/522 [==============================] - ETA: 0s - loss: 0.7210 - acc: 0.9447\n",
      "Epoch 35: val_acc did not improve from 0.85950\n",
      "522/522 [==============================] - 74s 142ms/step - loss: 0.7210 - acc: 0.9447 - val_loss: 1.1322 - val_acc: 0.8360\n",
      "Epoch 36/100\n",
      "522/522 [==============================] - ETA: 0s - loss: 0.7238 - acc: 0.9433\n",
      "Epoch 36: val_acc did not improve from 0.85950\n",
      "522/522 [==============================] - 74s 142ms/step - loss: 0.7238 - acc: 0.9433 - val_loss: 1.4257 - val_acc: 0.7830\n",
      "Epoch 37/100\n",
      "522/522 [==============================] - ETA: 0s - loss: 0.7092 - acc: 0.9428\n",
      "Epoch 37: val_acc did not improve from 0.85950\n",
      "522/522 [==============================] - 74s 142ms/step - loss: 0.7092 - acc: 0.9428 - val_loss: 1.1275 - val_acc: 0.8365\n",
      "Epoch 38/100\n",
      "522/522 [==============================] - ETA: 0s - loss: 0.7575 - acc: 0.9452\n",
      "Epoch 38: val_acc did not improve from 0.85950\n",
      "522/522 [==============================] - 74s 142ms/step - loss: 0.7575 - acc: 0.9452 - val_loss: 1.1155 - val_acc: 0.8505\n",
      "Epoch 39/100\n",
      "522/522 [==============================] - ETA: 0s - loss: 0.7349 - acc: 0.9411\n",
      "Epoch 39: val_acc did not improve from 0.85950\n",
      "522/522 [==============================] - 74s 142ms/step - loss: 0.7349 - acc: 0.9411 - val_loss: 1.4391 - val_acc: 0.7525\n",
      "Epoch 40/100\n",
      "522/522 [==============================] - ETA: 0s - loss: 0.8123 - acc: 0.9227\n",
      "Epoch 40: val_acc did not improve from 0.85950\n",
      "522/522 [==============================] - 75s 144ms/step - loss: 0.8123 - acc: 0.9227 - val_loss: 1.0417 - val_acc: 0.8425\n",
      "Epoch 41/100\n",
      "522/522 [==============================] - ETA: 0s - loss: 0.7311 - acc: 0.9406\n",
      "Epoch 41: val_acc did not improve from 0.85950\n",
      "522/522 [==============================] - 78s 149ms/step - loss: 0.7311 - acc: 0.9406 - val_loss: 1.7224 - val_acc: 0.6935\n",
      "Epoch 42/100\n",
      "522/522 [==============================] - ETA: 0s - loss: 0.7059 - acc: 0.9438\n",
      "Epoch 42: val_acc did not improve from 0.85950\n",
      "522/522 [==============================] - 76s 145ms/step - loss: 0.7059 - acc: 0.9438 - val_loss: 1.6092 - val_acc: 0.7355\n",
      "Epoch 43/100\n",
      "522/522 [==============================] - ETA: 0s - loss: 0.7120 - acc: 0.9462\n",
      "Epoch 43: val_acc did not improve from 0.85950\n",
      "522/522 [==============================] - 76s 145ms/step - loss: 0.7120 - acc: 0.9462 - val_loss: 2.4376 - val_acc: 0.6290\n",
      "Epoch 44/100\n",
      "522/522 [==============================] - ETA: 0s - loss: 0.7026 - acc: 0.9472\n",
      "Epoch 44: val_acc did not improve from 0.85950\n",
      "522/522 [==============================] - 77s 147ms/step - loss: 0.7026 - acc: 0.9472 - val_loss: 0.9763 - val_acc: 0.8595\n",
      "Epoch 45/100\n",
      "522/522 [==============================] - ETA: 0s - loss: 0.7258 - acc: 0.9401\n",
      "Epoch 45: val_acc did not improve from 0.85950\n",
      "522/522 [==============================] - 75s 143ms/step - loss: 0.7258 - acc: 0.9401 - val_loss: 1.0409 - val_acc: 0.8475\n",
      "Epoch 46/100\n",
      "522/522 [==============================] - ETA: 0s - loss: 0.7199 - acc: 0.9442\n",
      "Epoch 46: val_acc did not improve from 0.85950\n",
      "522/522 [==============================] - 74s 142ms/step - loss: 0.7199 - acc: 0.9442 - val_loss: 1.1597 - val_acc: 0.8270\n",
      "Epoch 47/100\n",
      "522/522 [==============================] - ETA: 0s - loss: 0.7066 - acc: 0.9457\n",
      "Epoch 47: val_acc did not improve from 0.85950\n",
      "522/522 [==============================] - 74s 142ms/step - loss: 0.7066 - acc: 0.9457 - val_loss: 1.2979 - val_acc: 0.8160\n",
      "Epoch 48/100\n",
      "522/522 [==============================] - ETA: 0s - loss: 0.7270 - acc: 0.9467\n",
      "Epoch 48: val_acc did not improve from 0.85950\n",
      "522/522 [==============================] - 75s 143ms/step - loss: 0.7270 - acc: 0.9467 - val_loss: 1.1797 - val_acc: 0.8355\n",
      "Epoch 49/100\n",
      "522/522 [==============================] - ETA: 0s - loss: 0.7499 - acc: 0.9388\n",
      "Epoch 49: val_acc did not improve from 0.85950\n",
      "522/522 [==============================] - 75s 143ms/step - loss: 0.7499 - acc: 0.9388 - val_loss: 1.2142 - val_acc: 0.8265\n",
      "Epoch 50/100\n",
      "522/522 [==============================] - ETA: 0s - loss: 0.7129 - acc: 0.9442\n",
      "Epoch 50: val_acc did not improve from 0.85950\n",
      "522/522 [==============================] - 75s 143ms/step - loss: 0.7129 - acc: 0.9442 - val_loss: 1.2639 - val_acc: 0.8250\n",
      "Epoch 51/100\n",
      "522/522 [==============================] - ETA: 0s - loss: 0.7017 - acc: 0.9473\n",
      "Epoch 51: val_acc did not improve from 0.85950\n",
      "522/522 [==============================] - 75s 144ms/step - loss: 0.7017 - acc: 0.9473 - val_loss: 1.2997 - val_acc: 0.8195\n",
      "Epoch 52/100\n",
      "522/522 [==============================] - ETA: 0s - loss: 0.7101 - acc: 0.9465\n",
      "Epoch 52: val_acc did not improve from 0.85950\n",
      "522/522 [==============================] - 74s 142ms/step - loss: 0.7101 - acc: 0.9465 - val_loss: 1.0534 - val_acc: 0.8380\n",
      "Epoch 53/100\n",
      "522/522 [==============================] - ETA: 0s - loss: 0.7382 - acc: 0.9485\n",
      "Epoch 53: val_acc did not improve from 0.85950\n",
      "522/522 [==============================] - 74s 142ms/step - loss: 0.7382 - acc: 0.9485 - val_loss: 3.6212 - val_acc: 0.5345\n",
      "Epoch 54/100\n",
      "522/522 [==============================] - ETA: 0s - loss: 0.7206 - acc: 0.9503\n",
      "Epoch 54: val_acc did not improve from 0.85950\n",
      "522/522 [==============================] - 74s 142ms/step - loss: 0.7206 - acc: 0.9503 - val_loss: 1.0618 - val_acc: 0.8435\n",
      "Epoch 55/100\n",
      "522/522 [==============================] - ETA: 0s - loss: 0.7163 - acc: 0.9454\n",
      "Epoch 55: val_acc did not improve from 0.85950\n",
      "522/522 [==============================] - 72s 139ms/step - loss: 0.7163 - acc: 0.9454 - val_loss: 1.5205 - val_acc: 0.7445\n",
      "Epoch 56/100\n",
      "522/522 [==============================] - ETA: 0s - loss: 0.6968 - acc: 0.9505\n",
      "Epoch 56: val_acc improved from 0.85950 to 0.86000, saving model to best_model_3.h5\n",
      "522/522 [==============================] - 76s 146ms/step - loss: 0.6968 - acc: 0.9505 - val_loss: 1.0454 - val_acc: 0.8600\n",
      "Epoch 57/100\n",
      "522/522 [==============================] - ETA: 0s - loss: 0.7020 - acc: 0.9480\n",
      "Epoch 57: val_acc did not improve from 0.86000\n",
      "522/522 [==============================] - 72s 139ms/step - loss: 0.7020 - acc: 0.9480 - val_loss: 1.1032 - val_acc: 0.8240\n",
      "Epoch 58/100\n",
      "522/522 [==============================] - ETA: 0s - loss: 0.7360 - acc: 0.9445\n",
      "Epoch 58: val_acc did not improve from 0.86000\n",
      "522/522 [==============================] - 72s 139ms/step - loss: 0.7360 - acc: 0.9445 - val_loss: 1.4432 - val_acc: 0.7750\n",
      "Epoch 59/100\n",
      "522/522 [==============================] - ETA: 0s - loss: 0.6942 - acc: 0.9509\n",
      "Epoch 59: val_acc did not improve from 0.86000\n",
      "522/522 [==============================] - 72s 139ms/step - loss: 0.6942 - acc: 0.9509 - val_loss: 1.3901 - val_acc: 0.7585\n",
      "Epoch 60/100\n",
      "522/522 [==============================] - ETA: 0s - loss: 0.6963 - acc: 0.9487\n",
      "Epoch 60: val_acc did not improve from 0.86000\n",
      "522/522 [==============================] - 72s 139ms/step - loss: 0.6963 - acc: 0.9487 - val_loss: 1.1761 - val_acc: 0.8355\n",
      "Epoch 61/100\n",
      "522/522 [==============================] - ETA: 0s - loss: 0.6977 - acc: 0.9506\n",
      "Epoch 61: val_acc did not improve from 0.86000\n",
      "522/522 [==============================] - 72s 138ms/step - loss: 0.6977 - acc: 0.9506 - val_loss: 1.0845 - val_acc: 0.8325\n",
      "Epoch 62/100\n",
      "522/522 [==============================] - ETA: 0s - loss: 0.7255 - acc: 0.9474\n",
      "Epoch 62: val_acc did not improve from 0.86000\n",
      "522/522 [==============================] - 72s 137ms/step - loss: 0.7255 - acc: 0.9474 - val_loss: 1.0960 - val_acc: 0.8390\n",
      "Epoch 63/100\n",
      "522/522 [==============================] - ETA: 0s - loss: 0.7298 - acc: 0.9480\n",
      "Epoch 63: val_acc did not improve from 0.86000\n",
      "522/522 [==============================] - 72s 138ms/step - loss: 0.7298 - acc: 0.9480 - val_loss: 1.2063 - val_acc: 0.8310\n",
      "Epoch 64/100\n",
      "522/522 [==============================] - ETA: 0s - loss: 0.6909 - acc: 0.9492\n",
      "Epoch 64: val_acc did not improve from 0.86000\n",
      "522/522 [==============================] - 72s 138ms/step - loss: 0.6909 - acc: 0.9492 - val_loss: 2.1748 - val_acc: 0.6780\n",
      "Epoch 65/100\n",
      "522/522 [==============================] - ETA: 0s - loss: 0.7060 - acc: 0.9477\n",
      "Epoch 65: val_acc did not improve from 0.86000\n",
      "522/522 [==============================] - 72s 138ms/step - loss: 0.7060 - acc: 0.9477 - val_loss: 1.0139 - val_acc: 0.8580\n",
      "Epoch 66/100\n",
      "522/522 [==============================] - ETA: 0s - loss: 0.6950 - acc: 0.9502\n",
      "Epoch 66: val_acc did not improve from 0.86000\n",
      "522/522 [==============================] - 72s 138ms/step - loss: 0.6950 - acc: 0.9502 - val_loss: 1.7606 - val_acc: 0.6865\n",
      "Epoch 67/100\n",
      "522/522 [==============================] - ETA: 0s - loss: 0.7518 - acc: 0.9466\n",
      "Epoch 67: val_acc did not improve from 0.86000\n",
      "522/522 [==============================] - 72s 139ms/step - loss: 0.7518 - acc: 0.9466 - val_loss: 1.1361 - val_acc: 0.8235\n",
      "Epoch 68/100\n",
      "522/522 [==============================] - ETA: 0s - loss: 0.6853 - acc: 0.9513\n",
      "Epoch 68: val_acc did not improve from 0.86000\n",
      "522/522 [==============================] - 72s 139ms/step - loss: 0.6853 - acc: 0.9513 - val_loss: 1.0021 - val_acc: 0.8395\n",
      "Epoch 69/100\n",
      "522/522 [==============================] - ETA: 0s - loss: 0.7031 - acc: 0.9519\n",
      "Epoch 69: val_acc did not improve from 0.86000\n",
      "522/522 [==============================] - 72s 139ms/step - loss: 0.7031 - acc: 0.9519 - val_loss: 1.5554 - val_acc: 0.7565\n",
      "Epoch 70/100\n",
      "522/522 [==============================] - ETA: 0s - loss: 0.6916 - acc: 0.9505\n",
      "Epoch 70: val_acc did not improve from 0.86000\n",
      "522/522 [==============================] - 72s 139ms/step - loss: 0.6916 - acc: 0.9505 - val_loss: 1.1969 - val_acc: 0.8250\n",
      "Epoch 71/100\n",
      "522/522 [==============================] - ETA: 0s - loss: 0.7054 - acc: 0.9496\n",
      "Epoch 71: val_acc did not improve from 0.86000\n",
      "522/522 [==============================] - 73s 139ms/step - loss: 0.7054 - acc: 0.9496 - val_loss: 1.0408 - val_acc: 0.8515\n",
      "Epoch 72/100\n",
      "522/522 [==============================] - ETA: 0s - loss: 0.6801 - acc: 0.9549\n",
      "Epoch 72: val_acc did not improve from 0.86000\n",
      "522/522 [==============================] - 73s 139ms/step - loss: 0.6801 - acc: 0.9549 - val_loss: 1.1651 - val_acc: 0.8295\n",
      "Epoch 73/100\n",
      "522/522 [==============================] - ETA: 0s - loss: 0.6853 - acc: 0.9518\n",
      "Epoch 73: val_acc improved from 0.86000 to 0.86600, saving model to best_model_3.h5\n",
      "522/522 [==============================] - 77s 147ms/step - loss: 0.6853 - acc: 0.9518 - val_loss: 1.1276 - val_acc: 0.8660\n",
      "Epoch 74/100\n",
      "522/522 [==============================] - ETA: 0s - loss: 0.7127 - acc: 0.9468\n",
      "Epoch 74: val_acc did not improve from 0.86600\n",
      "522/522 [==============================] - 73s 139ms/step - loss: 0.7127 - acc: 0.9468 - val_loss: 1.1291 - val_acc: 0.8455\n",
      "Epoch 75/100\n",
      "522/522 [==============================] - ETA: 0s - loss: 0.6940 - acc: 0.9520\n",
      "Epoch 75: val_acc did not improve from 0.86600\n",
      "522/522 [==============================] - 72s 139ms/step - loss: 0.6940 - acc: 0.9520 - val_loss: 1.0354 - val_acc: 0.8490\n",
      "Epoch 76/100\n",
      "522/522 [==============================] - ETA: 0s - loss: 0.6845 - acc: 0.9516\n",
      "Epoch 76: val_acc did not improve from 0.86600\n",
      "522/522 [==============================] - 73s 139ms/step - loss: 0.6845 - acc: 0.9516 - val_loss: 1.0266 - val_acc: 0.8535\n",
      "Epoch 77/100\n",
      "522/522 [==============================] - ETA: 0s - loss: 0.6900 - acc: 0.9497\n",
      "Epoch 77: val_acc did not improve from 0.86600\n",
      "522/522 [==============================] - 73s 139ms/step - loss: 0.6900 - acc: 0.9497 - val_loss: 1.9718 - val_acc: 0.7100\n",
      "Epoch 78/100\n",
      "522/522 [==============================] - ETA: 0s - loss: 0.7021 - acc: 0.9502\n",
      "Epoch 78: val_acc did not improve from 0.86600\n",
      "522/522 [==============================] - 72s 139ms/step - loss: 0.7021 - acc: 0.9502 - val_loss: 0.9251 - val_acc: 0.8635\n",
      "Epoch 79/100\n",
      "522/522 [==============================] - ETA: 0s - loss: 0.6900 - acc: 0.9524\n",
      "Epoch 79: val_acc did not improve from 0.86600\n",
      "522/522 [==============================] - 73s 139ms/step - loss: 0.6900 - acc: 0.9524 - val_loss: 1.5053 - val_acc: 0.7745\n",
      "Epoch 80/100\n",
      "522/522 [==============================] - ETA: 0s - loss: 0.6903 - acc: 0.9514\n",
      "Epoch 80: val_acc did not improve from 0.86600\n",
      "522/522 [==============================] - 73s 139ms/step - loss: 0.6903 - acc: 0.9514 - val_loss: 1.1492 - val_acc: 0.8180\n",
      "Epoch 81/100\n",
      "522/522 [==============================] - ETA: 0s - loss: 0.6895 - acc: 0.9540\n",
      "Epoch 81: val_acc did not improve from 0.86600\n",
      "522/522 [==============================] - 72s 138ms/step - loss: 0.6895 - acc: 0.9540 - val_loss: 1.1889 - val_acc: 0.8030\n",
      "Epoch 82/100\n",
      "522/522 [==============================] - ETA: 0s - loss: 0.6984 - acc: 0.9502\n",
      "Epoch 82: val_acc did not improve from 0.86600\n",
      "522/522 [==============================] - 72s 138ms/step - loss: 0.6984 - acc: 0.9502 - val_loss: 1.3920 - val_acc: 0.7805\n",
      "Epoch 83/100\n",
      "522/522 [==============================] - ETA: 0s - loss: 0.7121 - acc: 0.9503\n",
      "Epoch 83: val_acc did not improve from 0.86600\n",
      "522/522 [==============================] - 72s 138ms/step - loss: 0.7121 - acc: 0.9503 - val_loss: 1.1865 - val_acc: 0.8210\n",
      "Epoch 84/100\n",
      "522/522 [==============================] - ETA: 0s - loss: 0.6798 - acc: 0.9517\n",
      "Epoch 84: val_acc did not improve from 0.86600\n",
      "522/522 [==============================] - 72s 138ms/step - loss: 0.6798 - acc: 0.9517 - val_loss: 1.2359 - val_acc: 0.8160\n",
      "Epoch 85/100\n",
      "522/522 [==============================] - ETA: 0s - loss: 0.6816 - acc: 0.9518\n",
      "Epoch 85: val_acc did not improve from 0.86600\n",
      "522/522 [==============================] - 72s 137ms/step - loss: 0.6816 - acc: 0.9518 - val_loss: 1.2402 - val_acc: 0.8060\n",
      "Epoch 86/100\n",
      "522/522 [==============================] - ETA: 0s - loss: 0.6793 - acc: 0.9532\n",
      "Epoch 86: val_acc did not improve from 0.86600\n",
      "522/522 [==============================] - 72s 138ms/step - loss: 0.6793 - acc: 0.9532 - val_loss: 1.8437 - val_acc: 0.7185\n",
      "Epoch 87/100\n",
      "522/522 [==============================] - ETA: 0s - loss: 0.6894 - acc: 0.9511\n",
      "Epoch 87: val_acc did not improve from 0.86600\n",
      "522/522 [==============================] - 72s 138ms/step - loss: 0.6894 - acc: 0.9511 - val_loss: 1.4059 - val_acc: 0.7605\n",
      "Epoch 88/100\n",
      "522/522 [==============================] - ETA: 0s - loss: 0.6819 - acc: 0.9545\n",
      "Epoch 88: val_acc did not improve from 0.86600\n",
      "522/522 [==============================] - 72s 138ms/step - loss: 0.6819 - acc: 0.9545 - val_loss: 1.0257 - val_acc: 0.8645\n",
      "Epoch 89/100\n",
      "522/522 [==============================] - ETA: 0s - loss: 0.6855 - acc: 0.9544\n",
      "Epoch 89: val_acc did not improve from 0.86600\n",
      "522/522 [==============================] - 72s 138ms/step - loss: 0.6855 - acc: 0.9544 - val_loss: 2.8616 - val_acc: 0.5770\n",
      "Epoch 90/100\n",
      "522/522 [==============================] - ETA: 0s - loss: 0.7044 - acc: 0.9500\n",
      "Epoch 90: val_acc did not improve from 0.86600\n",
      "522/522 [==============================] - 72s 138ms/step - loss: 0.7044 - acc: 0.9500 - val_loss: 1.9097 - val_acc: 0.7300\n",
      "Epoch 91/100\n",
      "522/522 [==============================] - ETA: 0s - loss: 0.6764 - acc: 0.9520\n",
      "Epoch 91: val_acc did not improve from 0.86600\n",
      "522/522 [==============================] - 72s 138ms/step - loss: 0.6764 - acc: 0.9520 - val_loss: 1.4740 - val_acc: 0.7930\n",
      "Epoch 92/100\n",
      "522/522 [==============================] - ETA: 0s - loss: 0.6801 - acc: 0.9551\n",
      "Epoch 92: val_acc did not improve from 0.86600\n",
      "522/522 [==============================] - 72s 137ms/step - loss: 0.6801 - acc: 0.9551 - val_loss: 1.1720 - val_acc: 0.8195\n",
      "Epoch 93/100\n",
      "522/522 [==============================] - ETA: 0s - loss: 0.6799 - acc: 0.9536\n",
      "Epoch 93: val_acc did not improve from 0.86600\n",
      "522/522 [==============================] - 72s 137ms/step - loss: 0.6799 - acc: 0.9536 - val_loss: 1.1737 - val_acc: 0.8235\n",
      "Epoch 94/100\n",
      "522/522 [==============================] - ETA: 0s - loss: 0.6830 - acc: 0.9541\n",
      "Epoch 94: val_acc did not improve from 0.86600\n",
      "522/522 [==============================] - 72s 137ms/step - loss: 0.6830 - acc: 0.9541 - val_loss: 1.4052 - val_acc: 0.7925\n",
      "Epoch 95/100\n",
      "522/522 [==============================] - ETA: 0s - loss: 0.6820 - acc: 0.9545\n",
      "Epoch 95: val_acc did not improve from 0.86600\n",
      "522/522 [==============================] - 72s 138ms/step - loss: 0.6820 - acc: 0.9545 - val_loss: 1.0351 - val_acc: 0.8395\n",
      "Epoch 96/100\n",
      "522/522 [==============================] - ETA: 0s - loss: 0.6799 - acc: 0.9537\n",
      "Epoch 96: val_acc did not improve from 0.86600\n",
      "522/522 [==============================] - 73s 139ms/step - loss: 0.6799 - acc: 0.9537 - val_loss: 2.0285 - val_acc: 0.6790\n",
      "Epoch 97/100\n",
      "522/522 [==============================] - ETA: 0s - loss: 0.8053 - acc: 0.9475\n",
      "Epoch 97: val_acc did not improve from 0.86600\n",
      "522/522 [==============================] - 73s 139ms/step - loss: 0.8053 - acc: 0.9475 - val_loss: 0.9940 - val_acc: 0.8555\n",
      "Epoch 98/100\n",
      "522/522 [==============================] - ETA: 0s - loss: 0.6830 - acc: 0.9539\n",
      "Epoch 98: val_acc did not improve from 0.86600\n",
      "522/522 [==============================] - 74s 141ms/step - loss: 0.6830 - acc: 0.9539 - val_loss: 1.4426 - val_acc: 0.7945\n",
      "Epoch 99/100\n",
      "522/522 [==============================] - ETA: 0s - loss: 0.6946 - acc: 0.9556\n",
      "Epoch 99: val_acc did not improve from 0.86600\n",
      "522/522 [==============================] - 73s 140ms/step - loss: 0.6946 - acc: 0.9556 - val_loss: 1.0375 - val_acc: 0.8535\n",
      "Epoch 100/100\n",
      "522/522 [==============================] - ETA: 0s - loss: 0.6840 - acc: 0.9524\n",
      "Epoch 100: val_acc did not improve from 0.86600\n",
      "522/522 [==============================] - 73s 140ms/step - loss: 0.6840 - acc: 0.9524 - val_loss: 1.2410 - val_acc: 0.8040\n"
     ]
    },
    {
     "data": {
      "image/png": "[encoded data removed]",
      "text/plain": [
       "<Figure size 1200x800 with 1 Axes>"
      ]
     },
     "metadata": {},
     "output_type": "display_data"
    }
   ],
   "source": [
    "mc = ModelCheckpoint('best_model_3.h5', monitor='val_acc', save_best_only=True, verbose = 1)\n",
    "# es = EarlyStopping(monitor='acc', mode='max', patience = 3, min_delta = 0.01)\n",
    "res = model.fit(\n",
    "    int_train_ds,\n",
    "    validation_data=int_val_ds,\n",
    "    epochs=100,\n",
    "    callbacks=[mc]\n",
    ")\n",
    "\n",
    "# Visualize loss\n",
    "train_loss = res.history['acc']\n",
    "test_loss = res.history['val_acc']\n",
    "\n",
    "plt.figure(figsize=(12, 8))\n",
    "plt.plot(train_loss, label='Training acc', color='navy')\n",
    "plt.plot(test_loss, label='Testing acc', color='skyblue')\n",
    "plt.legend();"
   ]
  }
 ],
 "metadata": {
  "accelerator": "GPU",
  "colab": {
   "gpuType": "T4",
   "provenance": []
  },
  "kernelspec": {
   "display_name": "Python 3 (ipykernel)",
   "language": "python",
   "name": "python3"
  },
  "language_info": {
   "codemirror_mode": {
    "name": "ipython",
    "version": 3
   },
   "file_extension": ".py",
   "mimetype": "text/x-python",
   "name": "python",
   "nbconvert_exporter": "python",
   "pygments_lexer": "ipython3",
   "version": "3.11.4"
  }
 },
 "nbformat": 4,
 "nbformat_minor": 4
}
