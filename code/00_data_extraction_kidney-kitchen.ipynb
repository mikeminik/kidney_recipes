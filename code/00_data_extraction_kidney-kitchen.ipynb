{
 "cells": [
  {
   "cell_type": "code",
   "execution_count": 1,
   "id": "837dd7cc-b807-4cae-a3f4-961b4cce448f",
   "metadata": {
    "tags": []
   },
   "outputs": [],
   "source": [
    "import numpy as np\n",
    "import pandas as pd\n",
    "import requests\n",
    "from bs4 import BeautifulSoup\n",
    "import os\n",
    "\n",
    "from selenium import webdriver\n",
    "from selenium.webdriver.common.by import By\n",
    "import time"
   ]
  },
  {
   "cell_type": "markdown",
   "id": "325234e4-1b2b-4d28-9784-e02bec72b9e0",
   "metadata": {
    "tags": []
   },
   "source": [
    "### Kidney Kitchen Scraper Functions"
   ]
  },
  {
   "cell_type": "code",
   "execution_count": 3,
   "id": "adf87c9c-c7eb-4ae1-8aa0-094e04ae68de",
   "metadata": {
    "tags": []
   },
   "outputs": [],
   "source": [
    "def get_file_name(url):\n",
    "    # create a \"file name\" that is derived from the URL that is primarily used to identify the ingredients\n",
    "    file_name = url.split('recipe/')[1].strip('/')\n",
    "    return file_name"
   ]
  },
  {
   "cell_type": "code",
   "execution_count": 14,
   "id": "512e9a96-8713-4a79-9e49-4c7184b66063",
   "metadata": {
    "tags": []
   },
   "outputs": [],
   "source": [
    "def extract_urls_from_soup(soup):\n",
    "    # create a list of individual recipe URLs from \"visible\" HTML/soup\n",
    "    urls = []\n",
    "    cards = soup.find_all('div', {'class' : 'right'})\n",
    "    for i in range(1,len(cards)):\n",
    "        urls.append(soup.find_all('div', {'class' : 'right'})[i].attrs['onclick'].split('=')[1].replace(\"'\",\"\").strip())\n",
    "    return urls"
   ]
  },
  {
   "cell_type": "code",
   "execution_count": 124,
   "id": "fce8b811-22e2-45cd-83fc-dac8089f1fd0",
   "metadata": {
    "tags": []
   },
   "outputs": [],
   "source": [
    "def extract_recipe_info(url, omit_tags = []):\n",
    "    # given a recipe page's url, extract key recipe info\n",
    "    \n",
    "    time.sleep(3)\n",
    "    print(f\"Getting information from: {url}\")\n",
    "    # extracts ingredients from a specific recipes\n",
    "    \n",
    "    ingredients_text = []\n",
    "    tags = []\n",
    "    \n",
    "    # make request and soup\n",
    "    headers = {'User-Agent': 'Mozilla/5.0 (Windows NT 10.0; Win64; x64) AppleWebKit/537.36 (KHTML, like Gecko) Chrome/119.0.0.0 Safari/537.36'}\n",
    "    res = requests.get(url, headers=headers)\n",
    "    if res.status_code != 200:\n",
    "        print(f\"{url} request status: {res.status_code}\")\n",
    "    soup = BeautifulSoup(res.content)\n",
    "    \n",
    "    # get the tags\n",
    "    \n",
    "    for li in soup.find_all('ul', {'class':'recipe-nutrients'})[0].find_all('li'):\n",
    "        tags.append(li['class'][0])\n",
    "    # if tags are not ideal, skip the rest\n",
    "    if not any(string in tags for string in omit_tags):\n",
    "        # get the serving size\n",
    "        serving_size = soup.find_all('div', {'class', 'elementor-element elementor-element-79fbba0c elementor-widget elementor-widget-text-editor'})[0].find('div').text.strip()\n",
    "\n",
    "\n",
    "        # Ingredients: focus in on the element that contains ingredients using 'li' first\n",
    "        ingredients_div = soup.find_all('div', {'class': 'elementor-element elementor-element-6eb817d elementor-widget elementor-widget-text-editor'})\n",
    "        ingredient_items = [ result.find_all('p') for result in ingredients_div]\n",
    "\n",
    "        # Ingredients: if first pass above yields no results, try for 'li' elements instead\n",
    "        if len(ingredient_items[0]) == 0:\n",
    "            ingredient_items = [ result.find_all('li') for result in ingredients_div]\n",
    "\n",
    "        [ingredients_text.append(l.text) for l in ingredient_items[0]]\n",
    "        \n",
    "        # nutritional info:\n",
    "        nutrition_titles = soup.find_all('p', {'class', 'nutritional-item-title'})\n",
    "        nutrition_data = soup.find_all('p', {'class', 'nutritional-item-data'})\n",
    "        calories = None\n",
    "        satfat = None\n",
    "        protein = None\n",
    "        sodium = None\n",
    "        potassium = None\n",
    "        phosphorus = None\n",
    "        \n",
    "        for i,j in zip(nutrition_titles, nutrition_data):\n",
    "            if i.text.lower().strip() == 'calories':\n",
    "                calories = j.text\n",
    "            elif i.text.lower().strip() == 'saturated fat':\n",
    "                satfat = j.text\n",
    "            elif i.text.lower().strip() == 'protein':\n",
    "                protein = j.text\n",
    "            elif i.text.lower().strip() == 'sodium':\n",
    "                sodium = j.text\n",
    "            elif i.text.lower().strip() == 'potassium':\n",
    "                potassium = j.text\n",
    "            elif i.text.lower().strip() == 'phosphorus':\n",
    "                phosphorus = j.text\n",
    "        nutrition = {'calories': calories,\n",
    "                     'saturated fat': satfat,\n",
    "                     'protein': protein,\n",
    "                     'sodium': sodium,\n",
    "                     'potassium': potassium,\n",
    "                     'phosphorus': phosphorus\n",
    "                    }\n",
    "        \n",
    "        return serving_size, ingredients_text, nutrition\n",
    "    print(f\"Alert: Skipped recipe at url: {url} due to non-ideal nutrient tags\")\n",
    "    return None, None, None"
   ]
  },
  {
   "cell_type": "code",
   "execution_count": 6,
   "id": "a3336855-a270-4220-a0b8-68fcea596b9d",
   "metadata": {
    "tags": []
   },
   "outputs": [],
   "source": [
    "def create_files_from_urls(urls, output_relative_directory):\n",
    "    \n",
    "    # run the ingredient extractor secondary func\n",
    "    for u in urls:\n",
    "        file_name = get_file_name(u)\n",
    "        item_ingredients = extract_ingredients(u)\n",
    "        \n",
    "        if len(item_ingredients) > 0:\n",
    "            print('Printing: ' + file_name)\n",
    "        else:\n",
    "            print(f\"WARNING: {file_name} ingredients list is empty\")\n",
    "        \n",
    "        # create text file to directory\n",
    "\n",
    "            \n",
    "        with open(os.path.join(output_relative_directory, file_name), 'w', encoding='utf-8') as f:\n",
    "            # for i in item_description:\n",
    "            #     line = f\"{i}\\n\"\n",
    "            #     f.write(line)\n",
    "            for i in item_ingredients:\n",
    "                line = f\"{i}\\n\"\n",
    "                f.write(line)"
   ]
  },
  {
   "cell_type": "markdown",
   "id": "e1011b25-e41f-4eef-b4e2-578e17087cc1",
   "metadata": {},
   "source": [
    "Below, Selenium was used to expand the infinite scrolling recipe list in its entirety so that the full HTML could be extracted. HTML included for convenience"
   ]
  },
  {
   "cell_type": "code",
   "execution_count": 10,
   "id": "26bda50e-092a-45b9-b084-e17df5209e6f",
   "metadata": {
    "tags": []
   },
   "outputs": [],
   "source": [
    "# browser = webdriver.Chrome()\n",
    "# url = \"https://kitchen.kidneyfund.org/find-recipes/\"\n",
    "# browser.get(url)\n",
    "# time.sleep(2)\n",
    "# click = 0\n",
    "# browser.execute_script(\"window.scrollTo(0,document.body.scrollHeight)\")\n",
    "# time.sleep(4)\n",
    "# while browser.find_element(By.CSS_SELECTOR, \"button.wpgb-button.wpgb-load-more\"):\n",
    "#     next_button = browser.find_element(By.CSS_SELECTOR, \"button.wpgb-button.wpgb-load-more\")\n",
    "#     next_button.click()\n",
    "#     click+=1\n",
    "#     print(f\"Completed click: {click}\")\n",
    "#     time.sleep(3)\n",
    "#     browser.execute_script(\"window.scrollTo(0,document.body.scrollHeight)\")\n",
    "#     time.sleep(2)\n",
    "#     html = browser.page_source\n",
    "#     with open('kidney_kitchen_html.txt','w', encoding='utf-8') as f:\n",
    "#         f.write(html)\n",
    "\n"
   ]
  },
  {
   "cell_type": "markdown",
   "id": "5fd328ee-f2f1-4690-a26c-a6a76ba94b2e",
   "metadata": {},
   "source": [
    "Load in the HTML extracted and created as part of the Selenium venture"
   ]
  },
  {
   "cell_type": "code",
   "execution_count": 8,
   "id": "3277e460-e501-49d0-b025-f502ef02c929",
   "metadata": {
    "tags": []
   },
   "outputs": [],
   "source": [
    "with open ('../data/kidney-kitchen/kidney_kitchen_html.txt', 'r', encoding='utf-8') as f:\n",
    "    html = f.read()\n",
    "soup = BeautifulSoup(html)"
   ]
  },
  {
   "cell_type": "markdown",
   "id": "769665cd-ba5b-4778-a616-493ae2a2a425",
   "metadata": {},
   "source": [
    "Get the list of individual recipe URLs for next step"
   ]
  },
  {
   "cell_type": "code",
   "execution_count": 15,
   "id": "fb86ac77-d765-43fd-a56a-d65e62938129",
   "metadata": {
    "tags": []
   },
   "outputs": [],
   "source": [
    "recipes = extract_urls_from_soup(soup)"
   ]
  },
  {
   "cell_type": "markdown",
   "id": "23394df1-0e26-410c-b12b-d7dcae815080",
   "metadata": {
    "tags": []
   },
   "source": [
    "### Extract ingredients from each individual URL"
   ]
  },
  {
   "cell_type": "code",
   "execution_count": 106,
   "id": "070bf042-7ad8-4cef-af2f-e26430d69d6d",
   "metadata": {
    "tags": []
   },
   "outputs": [],
   "source": [
    "all_recipes = []"
   ]
  },
  {
   "cell_type": "code",
   "execution_count": 17,
   "id": "6bac9af2-7c66-44fa-95c1-f810b0216360",
   "metadata": {
    "tags": []
   },
   "outputs": [],
   "source": [
    "# uncomment below if DataFramescraping is necessary\n",
    "# warning: may need to take note of any failures and resume where the error occurred\n",
    "# bad_tags = ['high-protein', 'high-sodium', 'high-potassium']\n",
    "# for url in recipes:\n",
    "#     serving, ingredients, nutrition = extract_recipe_info(url, bad_tags)\n",
    "#     if not any(value == None for value in [serving, ingredients,nutrition]):\n",
    "#         all_recipes.append({'url': url,\n",
    "#                             'serving_size': serving,\n",
    "#                             'ingredients_raw': ingredients,\n",
    "#                             'calories': nutrition['calories'],\n",
    "#                             'saturated fat': nutrition['saturated fat'],\n",
    "#                             'protein': nutrition['protein'],\n",
    "#                             'sodium': nutrition['sodium'],\n",
    "#                             'potassium': nutrition['potassium'],\n",
    "#                             'phosphorus': nutrition['phosphorus'] \n",
    "#                            })"
   ]
  },
  {
   "cell_type": "code",
   "execution_count": null,
   "id": "e9b6989e-e955-441c-afcd-a0766f608649",
   "metadata": {},
   "outputs": [],
   "source": [
    "# all_recipes_df = pd.DataFrame(all_recipes)\n",
    "# all_recipes_df.to_csv('kidney-kitchen-recipes-with-ingredients-and-nutrition.csv')"
   ]
  },
  {
   "cell_type": "code",
   "execution_count": 19,
   "id": "905c6108-e50f-4812-aed1-962caf012fe1",
   "metadata": {
    "tags": []
   },
   "outputs": [],
   "source": [
    "headers = {'User-Agent': 'Mozilla/5.0 (Windows NT 10.0; Win64; x64) AppleWebKit/537.36 (KHTML, like Gecko) Chrome/119.0.0.0 Safari/537.36'}\n",
    "url = \"https://kitchen.kidneyfund.org/recipe/sweet-chiffon-pie/\"\n",
    "res = requests.get(url, headers=headers)\n",
    "soup = BeautifulSoup(res.content)"
   ]
  },
  {
   "cell_type": "code",
   "execution_count": 43,
   "id": "24d902f9-c032-4119-a55c-a0aaad9ba442",
   "metadata": {
    "tags": []
   },
   "outputs": [],
   "source": [
    "tags = []\n",
    "for li in soup.find_all('ul', {'class':'recipe-nutrients'})[0].find_all('li'):\n",
    "    tags.append(li['class'][0])"
   ]
  },
  {
   "cell_type": "code",
   "execution_count": 45,
   "id": "c31daf1a-dedc-4b4a-869b-93aae7760dd5",
   "metadata": {
    "tags": []
   },
   "outputs": [
    {
     "data": {
      "text/plain": [
       "['low-phosphorus', 'low-potassium', 'low-protein', 'low-sodium']"
      ]
     },
     "execution_count": 45,
     "metadata": {},
     "output_type": "execute_result"
    }
   ],
   "source": [
    "tags"
   ]
  },
  {
   "cell_type": "code",
   "execution_count": 52,
   "id": "5c7ed88c-0704-4067-8d47-d86c5682ae77",
   "metadata": {
    "tags": []
   },
   "outputs": [],
   "source": [
    "test_tags = ['high-protein', 'high-sodium']"
   ]
  },
  {
   "cell_type": "code",
   "execution_count": 55,
   "id": "891f5036-6ce6-4b70-ab33-582fac488e35",
   "metadata": {
    "tags": []
   },
   "outputs": [
    {
     "name": "stdout",
     "output_type": "stream",
     "text": [
      "Good to go\n"
     ]
    }
   ],
   "source": [
    "if not any(string in tags for string in test_tags ):\n",
    "    print('Good to go')"
   ]
  },
  {
   "cell_type": "code",
   "execution_count": 38,
   "id": "f3ed46fc-4547-43c8-90be-ff916ebcc534",
   "metadata": {
    "tags": []
   },
   "outputs": [
    {
     "data": {
      "text/plain": [
       "'12 servings'"
      ]
     },
     "execution_count": 38,
     "metadata": {},
     "output_type": "execute_result"
    }
   ],
   "source": [
    "soup.find_all('div', {'class', 'elementor-element elementor-element-79fbba0c elementor-widget elementor-widget-text-editor'})[0].find('div').text.strip()"
   ]
  },
  {
   "cell_type": "code",
   "execution_count": 30,
   "id": "61952aaf-1708-4afc-b3d8-ed28fd095d83",
   "metadata": {
    "tags": []
   },
   "outputs": [
    {
     "name": "stdout",
     "output_type": "stream",
     "text": [
      "low-phosphorus\n",
      "low-potassium\n",
      "low-protein\n",
      "low-sodium\n"
     ]
    }
   ],
   "source": [
    "for tag in tags:\n",
    "    print(tag['class'][0])"
   ]
  },
  {
   "cell_type": "code",
   "execution_count": 56,
   "id": "9d5d8ff0-9269-40d5-afe0-611a1ed02b3c",
   "metadata": {
    "tags": []
   },
   "outputs": [
    {
     "name": "stdout",
     "output_type": "stream",
     "text": [
      "24\n",
      "359\n"
     ]
    }
   ],
   "source": [
    "for r in recipes:\n",
    "    if 'tarragon' in r:\n",
    "        print(recipes.index(r))"
   ]
  },
  {
   "cell_type": "code",
   "execution_count": 91,
   "id": "c27544a1-8db0-442e-afb2-72e0e80ccd79",
   "metadata": {
    "tags": []
   },
   "outputs": [],
   "source": [
    "url = 'https://kitchen.kidneyfund.org/recipe/sweet-chiffon-pie/'\n",
    "test_tags = ['high-protein', 'high-sodium']\n",
    "serving, ingredients, nutrition = extract_ingredients(url, test_tags)"
   ]
  },
  {
   "cell_type": "code",
   "execution_count": 99,
   "id": "ec4d17b2-8945-4ecf-8331-f233f426fa6d",
   "metadata": {
    "tags": []
   },
   "outputs": [],
   "source": [
    "all_recipes = []"
   ]
  },
  {
   "cell_type": "code",
   "execution_count": 93,
   "id": "e857dcc3-f6e9-4853-b419-f3b3019107de",
   "metadata": {
    "tags": []
   },
   "outputs": [],
   "source": []
  },
  {
   "cell_type": "code",
   "execution_count": 95,
   "id": "a67f95dd-40c4-427e-8e2e-8c9f14d5de95",
   "metadata": {
    "tags": []
   },
   "outputs": [
    {
     "data": {
      "text/html": [
       "<div>\n",
       "<style scoped>\n",
       "    .dataframe tbody tr th:only-of-type {\n",
       "        vertical-align: middle;\n",
       "    }\n",
       "\n",
       "    .dataframe tbody tr th {\n",
       "        vertical-align: top;\n",
       "    }\n",
       "\n",
       "    .dataframe thead th {\n",
       "        text-align: right;\n",
       "    }\n",
       "</style>\n",
       "<table border=\"1\" class=\"dataframe\">\n",
       "  <thead>\n",
       "    <tr style=\"text-align: right;\">\n",
       "      <th></th>\n",
       "      <th>url</th>\n",
       "      <th>serving_size</th>\n",
       "      <th>ingredients_raw</th>\n",
       "      <th>calories</th>\n",
       "      <th>saturated fat</th>\n",
       "      <th>protein</th>\n",
       "      <th>sodium</th>\n",
       "      <th>potassium</th>\n",
       "      <th>phosphorus</th>\n",
       "    </tr>\n",
       "  </thead>\n",
       "  <tbody>\n",
       "    <tr>\n",
       "      <th>0</th>\n",
       "      <td>https://kitchen.kidneyfund.org/recipe/sweet-ch...</td>\n",
       "      <td>12 servings</td>\n",
       "      <td>[9-inch-deep dish pie crust, 1 ½ cups (about ½...</td>\n",
       "      <td>\\n213\\n</td>\n",
       "      <td>\\n4 g\\n</td>\n",
       "      <td>\\n3 g\\n</td>\n",
       "      <td>\\n91 mg\\n</td>\n",
       "      <td>\\n197 mg\\n</td>\n",
       "      <td>\\n49 mg\\n</td>\n",
       "    </tr>\n",
       "  </tbody>\n",
       "</table>\n",
       "</div>"
      ],
      "text/plain": [
       "                                                 url serving_size  \\\n",
       "0  https://kitchen.kidneyfund.org/recipe/sweet-ch...  12 servings   \n",
       "\n",
       "                                     ingredients_raw calories saturated fat  \\\n",
       "0  [9-inch-deep dish pie crust, 1 ½ cups (about ½...  \\n213\\n       \\n4 g\\n   \n",
       "\n",
       "   protein     sodium   potassium phosphorus  \n",
       "0  \\n3 g\\n  \\n91 mg\\n  \\n197 mg\\n  \\n49 mg\\n  "
      ]
     },
     "execution_count": 95,
     "metadata": {},
     "output_type": "execute_result"
    }
   ],
   "source": [
    "pd.DataFrame(all_recipes)"
   ]
  },
  {
   "cell_type": "code",
   "execution_count": 59,
   "id": "19a42ba0-2a06-49de-9554-093a09843604",
   "metadata": {
    "tags": []
   },
   "outputs": [
    {
     "data": {
      "text/plain": [
       "'12 servings'"
      ]
     },
     "execution_count": 59,
     "metadata": {},
     "output_type": "execute_result"
    }
   ],
   "source": [
    "serving"
   ]
  },
  {
   "cell_type": "code",
   "execution_count": 60,
   "id": "1f9b5627-4b42-402f-be03-fd52f2a30c4b",
   "metadata": {
    "tags": []
   },
   "outputs": [
    {
     "data": {
      "text/plain": [
       "['9-inch-deep dish pie crust',\n",
       " '1 ½ cups (about ½ pound) sweet potato, peeled and chopped into small chunks',\n",
       " '¼ cup cold water',\n",
       " '1 envelope unflavored gelatin',\n",
       " '2 tablespoons sugar',\n",
       " '1 teaspoon pumpkin pie spice',\n",
       " '¼ teaspoon nutmeg',\n",
       " '¼ cup honey',\n",
       " '2 large eggs, yolk and whites separated',\n",
       " '¼ cup heavy cream mixed with ½ cup water',\n",
       " '1 ¼ teaspoon vanilla, divided',\n",
       " '2 tablespoons unsalted butter, melted and cooled',\n",
       " '¼ cup caster sugar',\n",
       " '⅛ teaspoon cornstarch',\n",
       " 'Whipped cream (optional)',\n",
       " '\\xa0',\n",
       " 'Special Equipment',\n",
       " 'Blender',\n",
       " 'Baking beads',\n",
       " 'Electric mixer']"
      ]
     },
     "execution_count": 60,
     "metadata": {},
     "output_type": "execute_result"
    }
   ],
   "source": [
    "ingredients"
   ]
  },
  {
   "cell_type": "code",
   "execution_count": 74,
   "id": "8a9f79e3-ca49-4db5-a548-4cb04f42c42f",
   "metadata": {
    "tags": []
   },
   "outputs": [
    {
     "name": "stdout",
     "output_type": "stream",
     "text": [
      "Calories\n",
      "\n",
      "213\n",
      "\n",
      "Fat         \n",
      "\n",
      "10 g\n",
      "\n",
      "Saturated Fat\n",
      "\n",
      "4 g\n",
      "\n",
      "Trans Fat \n",
      "\n",
      "0 g\n",
      "\n",
      "Cholesterol \n",
      "\n",
      "42 mg\n",
      "\n",
      "Carbohydrates \n",
      "\n",
      "26 g\n",
      "\n",
      "Sugar \n",
      "\n",
      "14 g\n",
      "\n",
      "Fiber \n",
      "\n",
      "2 g\n",
      "\n",
      "Protein \n",
      "\n",
      "3 g\n",
      "\n",
      "Sodium \n",
      "\n",
      "91 mg\n",
      "\n",
      "Calcium\n",
      "\n",
      "26 mg\n",
      "\n",
      "Phosphorus\n",
      "\n",
      "49 mg\n",
      "\n",
      "Potassium \n",
      "\n",
      "197 mg\n",
      "\n"
     ]
    }
   ],
   "source": [
    "nutrition_titles = soup.find_all('p', {'class', 'nutritional-item-title'})\n",
    "nutrition_data = soup.find_all('p', {'class', 'nutritional-item-data'})\n",
    "for i,j in zip(nutrition_titles, nutrition_data):\n",
    "    print(i.text)\n",
    "    print(j.text)"
   ]
  },
  {
   "cell_type": "code",
   "execution_count": 71,
   "id": "c8268232-9319-41f6-bb93-e04dd63a48f3",
   "metadata": {
    "tags": []
   },
   "outputs": [
    {
     "name": "stdout",
     "output_type": "stream",
     "text": [
      "213\n",
      "10 g\n",
      "4 g\n",
      "0 g\n",
      "42 mg\n",
      "26 g\n",
      "14 g\n",
      "2 g\n",
      "3 g\n",
      "91 mg\n",
      "26 mg\n",
      "49 mg\n",
      "197 mg\n"
     ]
    }
   ],
   "source": [
    "nutrition_data = soup.find_all('p', {'class', 'nutritional-item-data'})\n",
    "for i in nutrition_data:\n",
    "    print(i.find('span').text)"
   ]
  },
  {
   "cell_type": "code",
   "execution_count": 64,
   "id": "d288232a-a082-4010-a9fc-31259d7a4dee",
   "metadata": {
    "tags": []
   },
   "outputs": [
    {
     "data": {
      "text/plain": [
       "['https://kitchen.kidneyfund.org/recipe/poultry-gravy-and-wings/',\n",
       " 'https://kitchen.kidneyfund.org/recipe/sweet-chiffon-pie/',\n",
       " 'https://kitchen.kidneyfund.org/recipe/sweet-carrots/',\n",
       " 'https://kitchen.kidneyfund.org/recipe/sugar-free-pumpkin-cheese-pie/',\n",
       " 'https://kitchen.kidneyfund.org/recipe/pork-with-glazed-plums/',\n",
       " 'https://kitchen.kidneyfund.org/recipe/non-alcoholic-eggnog/',\n",
       " 'https://kitchen.kidneyfund.org/recipe/non-alcoholic-champagne/',\n",
       " 'https://kitchen.kidneyfund.org/recipe/gingerbread-1/',\n",
       " 'https://kitchen.kidneyfund.org/recipe/roasted-asparagus-and-wild-mushroom/',\n",
       " 'https://kitchen.kidneyfund.org/recipe/carrot-leek-and-goat-cheese-tarts/',\n",
       " 'https://kitchen.kidneyfund.org/recipe/soft-pretzels/',\n",
       " 'https://kitchen.kidneyfund.org/recipe/shrimp-spread-with-crackers/',\n",
       " 'https://kitchen.kidneyfund.org/recipe/shrimp-scampi-linguine/',\n",
       " 'https://kitchen.kidneyfund.org/recipe/raspberry-muffins-with-streusel/',\n",
       " 'https://kitchen.kidneyfund.org/recipe/popcorn-munch/',\n",
       " 'https://kitchen.kidneyfund.org/recipe/poached-fish-and-peppers-in-tomato-broth/',\n",
       " 'https://kitchen.kidneyfund.org/recipe/oven-fried-chicken-2/',\n",
       " 'https://kitchen.kidneyfund.org/recipe/onion-steak-2/',\n",
       " 'https://kitchen.kidneyfund.org/recipe/oat-pancakes-with-fruit-2/',\n",
       " 'https://kitchen.kidneyfund.org/recipe/onion-bagel-chips-2/',\n",
       " 'https://kitchen.kidneyfund.org/recipe/herb-topped-fish-2/',\n",
       " 'https://kitchen.kidneyfund.org/recipe/no-salt-added-pizza/',\n",
       " 'https://kitchen.kidneyfund.org/recipe/no-sugar-added-chocolate-chip-cookies/',\n",
       " 'https://kitchen.kidneyfund.org/recipe/meatloaf/',\n",
       " 'https://kitchen.kidneyfund.org/recipe/lemon-tarragon-chicken/',\n",
       " 'https://kitchen.kidneyfund.org/recipe/hearty-beef-soup/',\n",
       " 'https://kitchen.kidneyfund.org/recipe/fish-lemongrass-stir-fry/',\n",
       " 'https://kitchen.kidneyfund.org/recipe/creamy-chicken-mac/',\n",
       " 'https://kitchen.kidneyfund.org/recipe/cheesy-cauliflower-steak-2/',\n",
       " 'https://kitchen.kidneyfund.org/recipe/chicken-nuggets-honey-mustard-sauce-2/',\n",
       " 'https://kitchen.kidneyfund.org/recipe/country-biscuits-and-gravy/',\n",
       " 'https://kitchen.kidneyfund.org/recipe/carnival-chicken-with-peppers-and-rice/',\n",
       " 'https://kitchen.kidneyfund.org/recipe/pasta-salad-nicoise-2/',\n",
       " 'https://kitchen.kidneyfund.org/recipe/strawberry-fool/',\n",
       " 'https://kitchen.kidneyfund.org/recipe/zucchini-and-meatballs/',\n",
       " 'https://kitchen.kidneyfund.org/recipe/tropical-mini-pavlovas/',\n",
       " 'https://kitchen.kidneyfund.org/recipe/zucchini-bread/',\n",
       " 'https://kitchen.kidneyfund.org/recipe/summer-vegetable-saute/',\n",
       " 'https://kitchen.kidneyfund.org/recipe/summer-antipasto-pasta-salad/',\n",
       " 'https://kitchen.kidneyfund.org/recipe/poppy-seed-dressing/',\n",
       " 'https://kitchen.kidneyfund.org/recipe/low-potassium-fruit-kabobs/',\n",
       " 'https://kitchen.kidneyfund.org/recipe/light-summer-sandwich/',\n",
       " 'https://kitchen.kidneyfund.org/recipe/lemon-cranberry-muffins/',\n",
       " 'https://kitchen.kidneyfund.org/recipe/grilled-chicken-breasts-sesame/',\n",
       " 'https://kitchen.kidneyfund.org/recipe/frosted-lemon-cookies/',\n",
       " 'https://kitchen.kidneyfund.org/recipe/barbecued-brisket/',\n",
       " 'https://kitchen.kidneyfund.org/recipe/garlic-bread/',\n",
       " 'https://kitchen.kidneyfund.org/recipe/cranberry-bars/',\n",
       " 'https://kitchen.kidneyfund.org/recipe/hush-puppies/',\n",
       " 'https://kitchen.kidneyfund.org/recipe/savory-meatballs/',\n",
       " 'https://kitchen.kidneyfund.org/recipe/apple-cider-chicken-and-veggies/',\n",
       " 'https://kitchen.kidneyfund.org/recipe/chocolate-granola-bites/',\n",
       " 'https://kitchen.kidneyfund.org/recipe/hash-brown-casserole/',\n",
       " 'https://kitchen.kidneyfund.org/recipe/cabbage-roll/',\n",
       " 'https://kitchen.kidneyfund.org/recipe/drop-biscuits/',\n",
       " 'https://kitchen.kidneyfund.org/recipe/fruit-and-nut-broccoli-slaw/',\n",
       " 'https://kitchen.kidneyfund.org/recipe/warm-spiced-root-veggies/',\n",
       " 'https://kitchen.kidneyfund.org/recipe/magic-hot-water-pie/',\n",
       " 'https://kitchen.kidneyfund.org/recipe/gingerbread-cake/',\n",
       " 'https://kitchen.kidneyfund.org/recipe/cheese-ball-bites/',\n",
       " 'https://kitchen.kidneyfund.org/recipe/caramel-apple-crumble/',\n",
       " 'https://kitchen.kidneyfund.org/recipe/breakfast-hash/',\n",
       " 'https://kitchen.kidneyfund.org/recipe/wild-rice-stuffing/',\n",
       " 'https://kitchen.kidneyfund.org/recipe/potato-piles/',\n",
       " 'https://kitchen.kidneyfund.org/recipe/green-bean-casserole/',\n",
       " 'https://kitchen.kidneyfund.org/recipe/pumpkin-crepes/',\n",
       " 'https://kitchen.kidneyfund.org/recipe/cream-cheese-pumpkin-muffins/',\n",
       " 'https://kitchen.kidneyfund.org/recipe/apple-beef-stew/',\n",
       " 'https://kitchen.kidneyfund.org/recipe/sunshine-salad/',\n",
       " 'https://kitchen.kidneyfund.org/recipe/quick-breakfast-egg-salad/',\n",
       " 'https://kitchen.kidneyfund.org/recipe/ginger-apple-bites/',\n",
       " 'https://kitchen.kidneyfund.org/recipe/root-and-fruit-bowl/',\n",
       " 'https://kitchen.kidneyfund.org/recipe/quinoa-fruit-and-nut-salad/',\n",
       " 'https://kitchen.kidneyfund.org/recipe/no-bake-biscoff-cookies/',\n",
       " 'https://kitchen.kidneyfund.org/recipe/mango-raspberry-yogurt-cup/',\n",
       " 'https://kitchen.kidneyfund.org/recipe/lower-carb-chicken-and-veggie-salad/',\n",
       " 'https://kitchen.kidneyfund.org/recipe/individual-apple-crisps/',\n",
       " 'https://kitchen.kidneyfund.org/recipe/fiesta-veggie-bowl/',\n",
       " 'https://kitchen.kidneyfund.org/recipe/whole-grain-gluten-free-pancakes/',\n",
       " 'https://kitchen.kidneyfund.org/recipe/vegetable-filled-eggs-with-goat-cheese/',\n",
       " 'https://kitchen.kidneyfund.org/recipe/summer-succotash/',\n",
       " 'https://kitchen.kidneyfund.org/recipe/apple-raisin-strudel/',\n",
       " 'https://kitchen.kidneyfund.org/recipe/berry-gelatin-fluff/',\n",
       " 'https://kitchen.kidneyfund.org/recipe/vegan-bolognese-sauce/',\n",
       " 'https://kitchen.kidneyfund.org/recipe/vegan-macaroni-salad/',\n",
       " 'https://kitchen.kidneyfund.org/recipe/breakfast-sausage-and-pepper-skillet/',\n",
       " 'https://kitchen.kidneyfund.org/recipe/roasted-vegetable-salad/',\n",
       " 'https://kitchen.kidneyfund.org/recipe/cinnamon-molasses-cookies/',\n",
       " 'https://kitchen.kidneyfund.org/recipe/chocolate-chip-sour-cream-coffee-cake/',\n",
       " 'https://kitchen.kidneyfund.org/recipe/creamy-chicken-and-egg-salad/',\n",
       " 'https://kitchen.kidneyfund.org/recipe/tembleque-de-coco/',\n",
       " 'https://kitchen.kidneyfund.org/recipe/rosemary-olive-oil-crackers/',\n",
       " 'https://kitchen.kidneyfund.org/recipe/root-vegetable-risotto-with-pancetta-and-paprika-oil/',\n",
       " 'https://kitchen.kidneyfund.org/recipe/piquillo-pepper-hummus/',\n",
       " 'https://kitchen.kidneyfund.org/recipe/spicy-oven-baked-onion-rings/',\n",
       " 'https://kitchen.kidneyfund.org/recipe/green-goddess-dressing/',\n",
       " 'https://kitchen.kidneyfund.org/recipe/greek-lemon-chicken-soup/',\n",
       " 'https://kitchen.kidneyfund.org/recipe/creamy-mac-n-cheese-with-kale-pesto/',\n",
       " 'https://kitchen.kidneyfund.org/recipe/apple-pie-french-toast/',\n",
       " 'https://kitchen.kidneyfund.org/recipe/spaghetti-with-cauliflower-cream-and-spicy-breadcrumbs/',\n",
       " 'https://kitchen.kidneyfund.org/recipe/south-asian-veggie-patties/',\n",
       " 'https://kitchen.kidneyfund.org/recipe/salmon-mousse/',\n",
       " 'https://kitchen.kidneyfund.org/recipe/lentils-and-veggies-in-peanut-sauce/',\n",
       " 'https://kitchen.kidneyfund.org/recipe/lentil-and-orzo-with-roasted-eggplant/',\n",
       " 'https://kitchen.kidneyfund.org/recipe/holiday-panettone/',\n",
       " 'https://kitchen.kidneyfund.org/recipe/festive-fennel-salad/',\n",
       " 'https://kitchen.kidneyfund.org/recipe/cranberry-clafoutis/',\n",
       " 'https://kitchen.kidneyfund.org/recipe/chicken-paprikash/',\n",
       " 'https://kitchen.kidneyfund.org/recipe/vegetable-pot-pie/',\n",
       " 'https://kitchen.kidneyfund.org/recipe/tagliatelle-with-herbed-lentils-and-grapes/',\n",
       " 'https://kitchen.kidneyfund.org/recipe/scrambled-tofu/',\n",
       " 'https://kitchen.kidneyfund.org/recipe/pumpkin-scones-with-maple-cardamom-glaze/',\n",
       " 'https://kitchen.kidneyfund.org/recipe/panamanian-sancocho-soup/',\n",
       " 'https://kitchen.kidneyfund.org/recipe/figs-in-a-blanket/',\n",
       " 'https://kitchen.kidneyfund.org/recipe/fall-cabbage-salad/',\n",
       " 'https://kitchen.kidneyfund.org/recipe/crispy-scallop-salad/',\n",
       " 'https://kitchen.kidneyfund.org/recipe/ropa-vieja/',\n",
       " 'https://kitchen.kidneyfund.org/recipe/root-hash-and-poached-eggs/',\n",
       " 'https://kitchen.kidneyfund.org/recipe/paraguayan-cheese-bread-chipa-argolla/',\n",
       " 'https://kitchen.kidneyfund.org/recipe/eggplant-kasha/',\n",
       " 'https://kitchen.kidneyfund.org/recipe/curried-tofu-salad/',\n",
       " 'https://kitchen.kidneyfund.org/recipe/colombian-fish-tamales/',\n",
       " 'https://kitchen.kidneyfund.org/recipe/chocolate-hazelnut-biscotti/',\n",
       " 'https://kitchen.kidneyfund.org/recipe/caribbean-style-coconut-fish-stew/',\n",
       " 'https://kitchen.kidneyfund.org/recipe/poached-apples-with-custard-sauce/',\n",
       " 'https://kitchen.kidneyfund.org/recipe/pecan-and-pank-crusted-sole-with-saffron-aioli/',\n",
       " 'https://kitchen.kidneyfund.org/recipe/mushroom-calzone/',\n",
       " 'https://kitchen.kidneyfund.org/recipe/kohlrabi-salad-with-cilantro-dressing/',\n",
       " 'https://kitchen.kidneyfund.org/recipe/fig-and-pear-tart/',\n",
       " 'https://kitchen.kidneyfund.org/recipe/endive-pear-and-gorgonzola-salad/',\n",
       " 'https://kitchen.kidneyfund.org/recipe/chocolate-marble-cake-with-orange-icing/',\n",
       " 'https://kitchen.kidneyfund.org/recipe/chocolate-granola/',\n",
       " 'https://kitchen.kidneyfund.org/recipe/brussel-sprout-and-leek-quiche/',\n",
       " 'https://kitchen.kidneyfund.org/recipe/grilled-fish-tacos-with-peach-salsa/',\n",
       " 'https://kitchen.kidneyfund.org/recipe/zucchini-ribbon-pita-pizza/',\n",
       " 'https://kitchen.kidneyfund.org/recipe/watermelon-feta-salad/',\n",
       " 'https://kitchen.kidneyfund.org/recipe/watermelon-coconut-swirl-popscicles/',\n",
       " 'https://kitchen.kidneyfund.org/recipe/roasted-eggplant-salad-escalivada-style/',\n",
       " 'https://kitchen.kidneyfund.org/recipe/raspberry-pistachio-thumbprint-cookies/',\n",
       " 'https://kitchen.kidneyfund.org/recipe/grilled-summer-vegetables-with-polenta/',\n",
       " 'https://kitchen.kidneyfund.org/recipe/cucumber-radish-salad/',\n",
       " 'https://kitchen.kidneyfund.org/recipe/creamy-kohlrabi-with-quinoa/',\n",
       " 'https://kitchen.kidneyfund.org/recipe/tropical-yogurt-ice-pops/',\n",
       " 'https://kitchen.kidneyfund.org/recipe/tropical-salad/',\n",
       " 'https://kitchen.kidneyfund.org/recipe/summer-corn-soup/',\n",
       " 'https://kitchen.kidneyfund.org/recipe/shiitake-mushroom-breakfast-toast/',\n",
       " 'https://kitchen.kidneyfund.org/recipe/rosemary-and-cauliflower-pesto-pasta/',\n",
       " 'https://kitchen.kidneyfund.org/recipe/greek-inspired-egg-salad/',\n",
       " 'https://kitchen.kidneyfund.org/recipe/chilled-beet-soup/',\n",
       " 'https://kitchen.kidneyfund.org/recipe/cherry-cobbler/',\n",
       " 'https://kitchen.kidneyfund.org/recipe/carrot-pancakes/',\n",
       " 'https://kitchen.kidneyfund.org/recipe/zesty-rice-salad/',\n",
       " 'https://kitchen.kidneyfund.org/recipe/sunshine-eggs/',\n",
       " 'https://kitchen.kidneyfund.org/recipe/spicy-corn-dip/',\n",
       " 'https://kitchen.kidneyfund.org/recipe/rhubarb-orange-strudel/',\n",
       " 'https://kitchen.kidneyfund.org/recipe/ramp-flatbread/',\n",
       " 'https://kitchen.kidneyfund.org/recipe/mango-plus-smoothie/',\n",
       " 'https://kitchen.kidneyfund.org/recipe/indian-inspired-stuffed-mushrooms/',\n",
       " 'https://kitchen.kidneyfund.org/recipe/choco-yogurt-muffins/',\n",
       " 'https://kitchen.kidneyfund.org/recipe/cabbage-hash-browns/',\n",
       " 'https://kitchen.kidneyfund.org/recipe/summer-sausage/',\n",
       " 'https://kitchen.kidneyfund.org/recipe/savory-breakfast-pizza/',\n",
       " 'https://kitchen.kidneyfund.org/recipe/black-forest-dessert/',\n",
       " 'https://kitchen.kidneyfund.org/recipe/zucchini-lasagna-roll-ups/',\n",
       " 'https://kitchen.kidneyfund.org/recipe/spring-asparagus-farro-salad/',\n",
       " 'https://kitchen.kidneyfund.org/recipe/rose-scented-strawberry-rhubarb-shortcake/',\n",
       " 'https://kitchen.kidneyfund.org/recipe/pineapple-strawberry-upside-down-cake/',\n",
       " 'https://kitchen.kidneyfund.org/recipe/panko-crusted-catfish-n-grits/',\n",
       " 'https://kitchen.kidneyfund.org/recipe/festive-turkey-meatball-skewers/',\n",
       " 'https://kitchen.kidneyfund.org/recipe/crispy-lentil-and-collard-green-salad/',\n",
       " 'https://kitchen.kidneyfund.org/recipe/carrot-and-parsnip-soup/',\n",
       " 'https://kitchen.kidneyfund.org/recipe/berry-baked-oatmeal/',\n",
       " 'https://kitchen.kidneyfund.org/recipe/tropical-cheesy-fruit-salad/',\n",
       " 'https://kitchen.kidneyfund.org/recipe/quick-mini-strawberry-cream-cheese-brownie/',\n",
       " 'https://kitchen.kidneyfund.org/recipe/gluten-free-vanilla-souffle/',\n",
       " 'https://kitchen.kidneyfund.org/recipe/garlic-apricot-rice-blend/',\n",
       " 'https://kitchen.kidneyfund.org/recipe/vietnamese-fresh-spring-rolls/',\n",
       " 'https://kitchen.kidneyfund.org/recipe/vegetable-kare-kare-peanut-stew/',\n",
       " 'https://kitchen.kidneyfund.org/recipe/teriyaki-glazed-salmon-with-stir-fried-vegetables/',\n",
       " 'https://kitchen.kidneyfund.org/recipe/savory-potato-salad/',\n",
       " 'https://kitchen.kidneyfund.org/recipe/sauteed-mung-beans-munggo-guisado/',\n",
       " 'https://kitchen.kidneyfund.org/recipe/pasta-caprese/',\n",
       " 'https://kitchen.kidneyfund.org/recipe/marinated-chicken-adobong-manok/',\n",
       " 'https://kitchen.kidneyfund.org/recipe/jamaican-jerk-chicken/',\n",
       " 'https://kitchen.kidneyfund.org/recipe/grilled-pork-tenderloin-with-asian-sauce/',\n",
       " 'https://kitchen.kidneyfund.org/recipe/fish-simmered-with-ginger-and-tomatoes/',\n",
       " 'https://kitchen.kidneyfund.org/recipe/fish-cardillo/',\n",
       " 'https://kitchen.kidneyfund.org/recipe/chicken-picadillo/',\n",
       " 'https://kitchen.kidneyfund.org/recipe/cauliflower-with-whole-wheat-breadcrumbs/',\n",
       " 'https://kitchen.kidneyfund.org/recipe/caribbean-casserole/',\n",
       " 'https://kitchen.kidneyfund.org/recipe/cantaloupe-crush/',\n",
       " 'https://kitchen.kidneyfund.org/recipe/baked-pork-chops-with-apple-cranberry-sauce/',\n",
       " 'https://kitchen.kidneyfund.org/recipe/baked-eggrolls/',\n",
       " 'https://kitchen.kidneyfund.org/recipe/pasta-with-golden-beets-and-walnut/',\n",
       " 'https://kitchen.kidneyfund.org/recipe/braised-lamb-shanks-tunisian/',\n",
       " 'https://kitchen.kidneyfund.org/recipe/waffles-with-maple-yogurt/',\n",
       " 'https://kitchen.kidneyfund.org/recipe/turkish-manti-or-dumplings/',\n",
       " 'https://kitchen.kidneyfund.org/recipe/stuffed-cabbage/',\n",
       " 'https://kitchen.kidneyfund.org/recipe/rose-cardamom-hot-cocoa/',\n",
       " 'https://kitchen.kidneyfund.org/recipe/grape-studded-olive-oil-cake/',\n",
       " 'https://kitchen.kidneyfund.org/recipe/lemony-bulgur-salad/',\n",
       " 'https://kitchen.kidneyfund.org/recipe/vegan-tofu-tortilla-soup/',\n",
       " 'https://kitchen.kidneyfund.org/recipe/bell-pepper-turkey-nachos/',\n",
       " 'https://kitchen.kidneyfund.org/recipe/spanish-almond-cake/',\n",
       " 'https://kitchen.kidneyfund.org/recipe/southern-corn-souffle/',\n",
       " 'https://kitchen.kidneyfund.org/recipe/shrimp-and-farro-winter-salad/',\n",
       " 'https://kitchen.kidneyfund.org/recipe/persian-lima-bean-rice-with-chicken-and-dill/',\n",
       " 'https://kitchen.kidneyfund.org/recipe/middle-eastern-inspired-roast-cauliflower/',\n",
       " 'https://kitchen.kidneyfund.org/recipe/garlic-bok-choy/',\n",
       " 'https://kitchen.kidneyfund.org/recipe/fruit-salad-with-poppy-seed-dressing/',\n",
       " 'https://kitchen.kidneyfund.org/recipe/chayote-chicken-soup/',\n",
       " 'https://kitchen.kidneyfund.org/recipe/sheet-pan-egg-breakfast/',\n",
       " 'https://kitchen.kidneyfund.org/recipe/polenta-egg-breakfast-cups/',\n",
       " 'https://kitchen.kidneyfund.org/recipe/cherry-and-squash-rice-blend/',\n",
       " 'https://kitchen.kidneyfund.org/recipe/vegan-southwest-breakfast-tacos/',\n",
       " 'https://kitchen.kidneyfund.org/recipe/tropical-chicken-and-rice/',\n",
       " 'https://kitchen.kidneyfund.org/recipe/southwest-breakfast-tacos/',\n",
       " 'https://kitchen.kidneyfund.org/recipe/asian-inspired-hoisin-bowl/',\n",
       " 'https://kitchen.kidneyfund.org/recipe/zucchini-medley/',\n",
       " 'https://kitchen.kidneyfund.org/recipe/turkey-meatloaf/',\n",
       " 'https://kitchen.kidneyfund.org/recipe/scrumptious-meatloaf/',\n",
       " 'https://kitchen.kidneyfund.org/recipe/pupusas-revueltas/',\n",
       " 'https://kitchen.kidneyfund.org/recipe/mexican-pozole/',\n",
       " 'https://kitchen.kidneyfund.org/recipe/indian-corn-casserole/',\n",
       " 'https://kitchen.kidneyfund.org/recipe/homestyle-biscuits/',\n",
       " 'https://kitchen.kidneyfund.org/recipe/ground-caribou-soup/',\n",
       " 'https://kitchen.kidneyfund.org/recipe/green-bean-saute/',\n",
       " 'https://kitchen.kidneyfund.org/recipe/grilled-vegetable-kabobs/',\n",
       " 'https://kitchen.kidneyfund.org/recipe/fresh-salsa-pico-de-gallo/',\n",
       " 'https://kitchen.kidneyfund.org/recipe/classic-honey-flan/',\n",
       " 'https://kitchen.kidneyfund.org/recipe/chicken-chile-stew/',\n",
       " 'https://kitchen.kidneyfund.org/recipe/alaska-salmon-salad/',\n",
       " 'https://kitchen.kidneyfund.org/recipe/crispy-oven-fried-chicken/',\n",
       " 'https://kitchen.kidneyfund.org/recipe/vegetarian-reuben-sandwich/',\n",
       " 'https://kitchen.kidneyfund.org/recipe/spanish-codfish-cakes/',\n",
       " 'https://kitchen.kidneyfund.org/recipe/southern-seafood-chowder/',\n",
       " 'https://kitchen.kidneyfund.org/recipe/salad-with-hearts-of-palm-and-candied-walnuts/',\n",
       " 'https://kitchen.kidneyfund.org/recipe/pecan-thins/',\n",
       " 'https://kitchen.kidneyfund.org/recipe/fried-green-plantain/',\n",
       " 'https://kitchen.kidneyfund.org/recipe/farina-latin-style/',\n",
       " 'https://kitchen.kidneyfund.org/recipe/cocadas/',\n",
       " 'https://kitchen.kidneyfund.org/recipe/chayote-vegan-ceviche/',\n",
       " 'https://kitchen.kidneyfund.org/recipe/yuca-frita-with-citrus-dipping-sauce/',\n",
       " 'https://kitchen.kidneyfund.org/recipe/vietnamese-spring-roll/',\n",
       " 'https://kitchen.kidneyfund.org/recipe/upside-down-pear-pancake/',\n",
       " 'https://kitchen.kidneyfund.org/recipe/turkey-and-sweet-potato-patties/',\n",
       " 'https://kitchen.kidneyfund.org/recipe/pasta-with-collards-and-sun-dried-tomatoes/',\n",
       " 'https://kitchen.kidneyfund.org/recipe/pan-fried-tofu-with-eggs-and-chive/',\n",
       " 'https://kitchen.kidneyfund.org/recipe/oolong-tea-with-cream-foam/',\n",
       " 'https://kitchen.kidneyfund.org/recipe/grilled-eggplant-with-tangy-yogurt-sauce/',\n",
       " 'https://kitchen.kidneyfund.org/recipe/egg-drop-congee/',\n",
       " 'https://kitchen.kidneyfund.org/recipe/fuyu-persimmon-fruit-salad/',\n",
       " 'https://kitchen.kidneyfund.org/recipe/couscous-with-peas-and-mint/',\n",
       " 'https://kitchen.kidneyfund.org/recipe/chicken-all-italia/',\n",
       " 'https://kitchen.kidneyfund.org/recipe/cioppino/',\n",
       " 'https://kitchen.kidneyfund.org/recipe/chinese-corn-soup/',\n",
       " 'https://kitchen.kidneyfund.org/recipe/zero-waste-creamy-cauliflower-carrot-ginger-soup/',\n",
       " 'https://kitchen.kidneyfund.org/recipe/tunisian-breakfast-tajine/',\n",
       " 'https://kitchen.kidneyfund.org/recipe/tropical-frozen-yogurt-bars/',\n",
       " 'https://kitchen.kidneyfund.org/recipe/tamarind-drink/',\n",
       " 'https://kitchen.kidneyfund.org/recipe/stir-fry-cabbage-and-glass-noodles/',\n",
       " 'https://kitchen.kidneyfund.org/recipe/veggie-latkes/',\n",
       " 'https://kitchen.kidneyfund.org/recipe/portobello-pizza/',\n",
       " 'https://kitchen.kidneyfund.org/recipe/parsnip-toast/',\n",
       " 'https://kitchen.kidneyfund.org/recipe/fluffy-vegan-pancakes/',\n",
       " 'https://kitchen.kidneyfund.org/recipe/festive-cranberry-chess-pie/',\n",
       " 'https://kitchen.kidneyfund.org/recipe/cauliflower-potato-salad/',\n",
       " 'https://kitchen.kidneyfund.org/recipe/cactus-salad/',\n",
       " 'https://kitchen.kidneyfund.org/recipe/breakfast-pumpkin-muffins/',\n",
       " 'https://kitchen.kidneyfund.org/recipe/blueberry-cream-crepes/',\n",
       " 'https://kitchen.kidneyfund.org/recipe/basic-pie-crust/',\n",
       " 'https://kitchen.kidneyfund.org/recipe/veggie-lasagna/',\n",
       " 'https://kitchen.kidneyfund.org/recipe/sauerkraut-and-egg-noodles/',\n",
       " 'https://kitchen.kidneyfund.org/recipe/quinoa-crackers/',\n",
       " 'https://kitchen.kidneyfund.org/recipe/pumpkin-apple-cakes/',\n",
       " 'https://kitchen.kidneyfund.org/recipe/pasta-carbonara/',\n",
       " 'https://kitchen.kidneyfund.org/recipe/louisiana-style-chicken-gumbo/',\n",
       " 'https://kitchen.kidneyfund.org/recipe/homemade-tomato-sauce/',\n",
       " 'https://kitchen.kidneyfund.org/recipe/golden-turmeric-latte/',\n",
       " 'https://kitchen.kidneyfund.org/recipe/fall-pasta-bake/',\n",
       " 'https://kitchen.kidneyfund.org/recipe/fall-acorn-cookies/',\n",
       " 'https://kitchen.kidneyfund.org/recipe/homemade-bread/',\n",
       " 'https://kitchen.kidneyfund.org/recipe/cauliflower-mashed-potatoes/',\n",
       " 'https://kitchen.kidneyfund.org/recipe/berry-breakfast-toast/',\n",
       " 'https://kitchen.kidneyfund.org/recipe/picadillo-de-pollo/',\n",
       " 'https://kitchen.kidneyfund.org/recipe/tortitas-de-pimenton/',\n",
       " 'https://kitchen.kidneyfund.org/recipe/samosas/',\n",
       " 'https://kitchen.kidneyfund.org/recipe/pasta-with-buckwheat-groats/',\n",
       " 'https://kitchen.kidneyfund.org/recipe/hungarian-cauliflower-soup/',\n",
       " 'https://kitchen.kidneyfund.org/recipe/grilled-cheese-with-poblano-peppers/',\n",
       " 'https://kitchen.kidneyfund.org/recipe/homemade-crema-mexicana-creme-fraiche/',\n",
       " 'https://kitchen.kidneyfund.org/recipe/rajas-con-crema/',\n",
       " 'https://kitchen.kidneyfund.org/recipe/southern-cornbread/',\n",
       " 'https://kitchen.kidneyfund.org/recipe/cornbread-panzanella/',\n",
       " 'https://kitchen.kidneyfund.org/recipe/coq-au-vin/',\n",
       " 'https://kitchen.kidneyfund.org/recipe/concord-grape-sorbet/',\n",
       " 'https://kitchen.kidneyfund.org/recipe/coco-grapes/',\n",
       " 'https://kitchen.kidneyfund.org/recipe/chocolate-oatmeal/',\n",
       " 'https://kitchen.kidneyfund.org/recipe/ajo-blanco/',\n",
       " 'https://kitchen.kidneyfund.org/recipe/homemade-barbecue-sauce/',\n",
       " 'https://kitchen.kidneyfund.org/recipe/watermelon-ice-cream/',\n",
       " 'https://kitchen.kidneyfund.org/recipe/tropical-slaw/',\n",
       " 'https://kitchen.kidneyfund.org/recipe/spanish-tortilla-omelet/',\n",
       " 'https://kitchen.kidneyfund.org/recipe/southern-corn-spoonbread/',\n",
       " 'https://kitchen.kidneyfund.org/recipe/savory-tex-mex-brunch-strata/',\n",
       " 'https://kitchen.kidneyfund.org/recipe/salmon-patties-with-pear-salsa/',\n",
       " 'https://kitchen.kidneyfund.org/recipe/pear-and-parsnip-soup/',\n",
       " 'https://kitchen.kidneyfund.org/recipe/mediterranean-style-mussels/',\n",
       " 'https://kitchen.kidneyfund.org/recipe/late-summer-blackberry-tart/',\n",
       " 'https://kitchen.kidneyfund.org/recipe/korean-chicken-and-vegetables/',\n",
       " 'https://kitchen.kidneyfund.org/recipe/coconut-lemongrass-fish-with-rice/',\n",
       " 'https://kitchen.kidneyfund.org/recipe/coco-coffee-frappe/',\n",
       " 'https://kitchen.kidneyfund.org/recipe/breakfast-strata-pear-muffins/',\n",
       " 'https://kitchen.kidneyfund.org/recipe/apple-chocolate-pecan-treats/',\n",
       " 'https://kitchen.kidneyfund.org/recipe/anytime-chopped-salad/',\n",
       " 'https://kitchen.kidneyfund.org/recipe/zucchini-flan/',\n",
       " 'https://kitchen.kidneyfund.org/recipe/veggie-enchiladas/',\n",
       " 'https://kitchen.kidneyfund.org/recipe/tex-mex-deviled-eggs/',\n",
       " 'https://kitchen.kidneyfund.org/recipe/stone-cobbler/',\n",
       " 'https://kitchen.kidneyfund.org/recipe/spiced-chicken-breast-with-southern-chocolate-gravy/',\n",
       " 'https://kitchen.kidneyfund.org/recipe/scallop-carpaccio/',\n",
       " 'https://kitchen.kidneyfund.org/recipe/rose-hibiscus-limeade/',\n",
       " 'https://kitchen.kidneyfund.org/recipe/rice-salad-with-tuna-and-roasted-peppers/',\n",
       " 'https://kitchen.kidneyfund.org/recipe/rhubarb-cake/',\n",
       " 'https://kitchen.kidneyfund.org/recipe/red-salad-with-raspberry-dressing/',\n",
       " 'https://kitchen.kidneyfund.org/recipe/leek-soup/',\n",
       " 'https://kitchen.kidneyfund.org/recipe/fudgesicles/',\n",
       " 'https://kitchen.kidneyfund.org/recipe/frozen-key-lime-pie/',\n",
       " 'https://kitchen.kidneyfund.org/recipe/fried-green-tomatoes/',\n",
       " 'https://kitchen.kidneyfund.org/recipe/egg-salad-on-homemade-biscuit/',\n",
       " 'https://kitchen.kidneyfund.org/recipe/braised-purple-cabbage/',\n",
       " 'https://kitchen.kidneyfund.org/recipe/tzatziki-sauce/',\n",
       " 'https://kitchen.kidneyfund.org/recipe/stuffed-zucchini-boats/',\n",
       " 'https://kitchen.kidneyfund.org/recipe/stewed-cinnamon-apples/',\n",
       " 'https://kitchen.kidneyfund.org/recipe/spiced-chicken-orange-and-avocado-salad/',\n",
       " 'https://kitchen.kidneyfund.org/recipe/slow-cooked-steel-cut-oats/',\n",
       " 'https://kitchen.kidneyfund.org/recipe/roasted-carrots-cranberries-and-couscous/',\n",
       " 'https://kitchen.kidneyfund.org/recipe/roasted-brussels-sprouts/',\n",
       " 'https://kitchen.kidneyfund.org/recipe/leek-and-yellow-squash-soup/',\n",
       " 'https://kitchen.kidneyfund.org/recipe/iced-tea-with-orange-and-mint/',\n",
       " 'https://kitchen.kidneyfund.org/recipe/honey-mustard-tofu-and-rice-bowl/',\n",
       " 'https://kitchen.kidneyfund.org/recipe/herb-dijon-salmon/',\n",
       " 'https://kitchen.kidneyfund.org/recipe/edamame-dip/',\n",
       " 'https://kitchen.kidneyfund.org/recipe/dijon-vinaigrette/',\n",
       " 'https://kitchen.kidneyfund.org/recipe/deviled-eggs-with-pickled-red-onions/',\n",
       " 'https://kitchen.kidneyfund.org/recipe/creole-chicken-burgers/',\n",
       " 'https://kitchen.kidneyfund.org/recipe/cranberrly-pepita-and-broccoli-salad/',\n",
       " 'https://kitchen.kidneyfund.org/recipe/apple-and-zuccini-harvest-muffins/',\n",
       " 'https://kitchen.kidneyfund.org/recipe/sun-butter-chocolate-chip-energy-bites/',\n",
       " 'https://kitchen.kidneyfund.org/recipe/stuffed-zucchini/',\n",
       " 'https://kitchen.kidneyfund.org/recipe/southern-peach-upside-down-cake/',\n",
       " 'https://kitchen.kidneyfund.org/recipe/snap-pea-cucumber-and-mustard-green-salad/',\n",
       " 'https://kitchen.kidneyfund.org/recipe/shrimp-and-grits/',\n",
       " 'https://kitchen.kidneyfund.org/recipe/savory-zucchini-loaf/',\n",
       " 'https://kitchen.kidneyfund.org/recipe/mango-salad/',\n",
       " 'https://kitchen.kidneyfund.org/recipe/rhubarb-couscous-breakfast/',\n",
       " 'https://kitchen.kidneyfund.org/recipe/orzo-corn-asparagus-pasta-salad/',\n",
       " 'https://kitchen.kidneyfund.org/recipe/mexican-coconut-drink/',\n",
       " 'https://kitchen.kidneyfund.org/recipe/cuban-style-stuffed-pork-tenderloin/',\n",
       " 'https://kitchen.kidneyfund.org/recipe/crunchy-chicken-tarragon-salad/',\n",
       " 'https://kitchen.kidneyfund.org/recipe/chilled-pea-and-mint-soup/',\n",
       " 'https://kitchen.kidneyfund.org/recipe/beef-and-red-pepper-empanadas/',\n",
       " 'https://kitchen.kidneyfund.org/recipe/watermelon-and-cantaloupe-salad/',\n",
       " 'https://kitchen.kidneyfund.org/recipe/spicy-miso-ramen-soup/',\n",
       " 'https://kitchen.kidneyfund.org/recipe/vietnamese-chicken-pho/',\n",
       " 'https://kitchen.kidneyfund.org/recipe/strawberry-sesame-milkshake/',\n",
       " 'https://kitchen.kidneyfund.org/recipe/strawberry-olive-oil-cake/',\n",
       " 'https://kitchen.kidneyfund.org/recipe/southern-fried-okra/',\n",
       " 'https://kitchen.kidneyfund.org/recipe/sauteed-chicken-tenders/',\n",
       " 'https://kitchen.kidneyfund.org/recipe/roasted-asparagus/',\n",
       " 'https://kitchen.kidneyfund.org/recipe/rhubarb-and-strawberry-tartlets/',\n",
       " 'https://kitchen.kidneyfund.org/recipe/red-lentil-soup/',\n",
       " 'https://kitchen.kidneyfund.org/recipe/popovers-with-apricot-butter/',\n",
       " 'https://kitchen.kidneyfund.org/recipe/mexican-rice/',\n",
       " 'https://kitchen.kidneyfund.org/recipe/korean-mushroom-bibimbap/',\n",
       " 'https://kitchen.kidneyfund.org/recipe/dominican-asopao-de-camarones/',\n",
       " 'https://kitchen.kidneyfund.org/recipe/carrot-hummus/',\n",
       " 'https://kitchen.kidneyfund.org/recipe/black-eyed-peas-salad/',\n",
       " 'https://kitchen.kidneyfund.org/recipe/chocolate-muffins/',\n",
       " 'https://kitchen.kidneyfund.org/recipe/lemon-chicken-with-artichokes-and-olives/',\n",
       " 'https://kitchen.kidneyfund.org/recipe/mushroom-soup/',\n",
       " 'https://kitchen.kidneyfund.org/recipe/papaya-smoothie/',\n",
       " 'https://kitchen.kidneyfund.org/recipe/asparagus-and-green-bean-salad/',\n",
       " 'https://kitchen.kidneyfund.org/recipe/salmon-with-fennel-and-lemon/',\n",
       " 'https://kitchen.kidneyfund.org/recipe/roasted-eggplant/',\n",
       " 'https://kitchen.kidneyfund.org/recipe/mexican-breakfast-chilaquiles/',\n",
       " 'https://kitchen.kidneyfund.org/recipe/poached-egg-with-watercress/',\n",
       " 'https://kitchen.kidneyfund.org/recipe/poke-bowl-with-shrimp-and-red-cabbage/',\n",
       " 'https://kitchen.kidneyfund.org/recipe/rigatoni-with-emerald-sauce/',\n",
       " 'https://kitchen.kidneyfund.org/recipe/savory-breakfast-bars/',\n",
       " 'https://kitchen.kidneyfund.org/recipe/southern-chicken-and-dumplings/',\n",
       " 'https://kitchen.kidneyfund.org/recipe/spring-squid-with-pasta-and-anchovy-sauce/',\n",
       " 'https://kitchen.kidneyfund.org/recipe/southern-blueberry-muffins-2/',\n",
       " 'https://kitchen.kidneyfund.org/recipe/ceviche-with-mango-and-chili/',\n",
       " 'https://kitchen.kidneyfund.org/recipe/date-indulgence/',\n",
       " 'https://kitchen.kidneyfund.org/recipe/cherry-citrus-mocktail/',\n",
       " 'https://kitchen.kidneyfund.org/recipe/toad-in-a-hole/',\n",
       " 'https://kitchen.kidneyfund.org/recipe/vegan-chocolate-mousse/',\n",
       " 'https://kitchen.kidneyfund.org/recipe/asparagus-medley/',\n",
       " 'https://kitchen.kidneyfund.org/recipe/southwestern-eggs/',\n",
       " 'https://kitchen.kidneyfund.org/recipe/spinach-salad-with-pear-vinaigrette-and-toasted-sunflower-seeds/',\n",
       " 'https://kitchen.kidneyfund.org/recipe/thai-chicken-and-coconut-milk-soup/',\n",
       " 'https://kitchen.kidneyfund.org/recipe/vegan-banana-bread/',\n",
       " 'https://kitchen.kidneyfund.org/recipe/zaletti-italian-cornmeal-cookies/',\n",
       " 'https://kitchen.kidneyfund.org/recipe/greek-spinach-pie/',\n",
       " 'https://kitchen.kidneyfund.org/recipe/yogurt-cucumber-soup/',\n",
       " 'https://kitchen.kidneyfund.org/recipe/southern-hush-puppies/',\n",
       " 'https://kitchen.kidneyfund.org/recipe/smoothie-bowl/',\n",
       " 'https://kitchen.kidneyfund.org/recipe/homemade-breadcrumbs/',\n",
       " 'https://kitchen.kidneyfund.org/recipe/crepes-with-passion-fruit/',\n",
       " 'https://kitchen.kidneyfund.org/recipe/homemade-muesli/',\n",
       " 'https://kitchen.kidneyfund.org/recipe/coco-shrimp-with-cilantro-sauce/',\n",
       " 'https://kitchen.kidneyfund.org/recipe/risotto-with-peas-and-herbs/',\n",
       " 'https://kitchen.kidneyfund.org/recipe/stuffed-piquillo-peppers/',\n",
       " 'https://kitchen.kidneyfund.org/recipe/persian-celery-stew-with-rice/',\n",
       " 'https://kitchen.kidneyfund.org/recipe/irish-colcannon/',\n",
       " 'https://kitchen.kidneyfund.org/recipe/vegan-shortbread-cookies/',\n",
       " 'https://kitchen.kidneyfund.org/recipe/winter-quinoa-salad/',\n",
       " 'https://kitchen.kidneyfund.org/recipe/vegan-hot-chocolate/',\n",
       " 'https://kitchen.kidneyfund.org/recipe/slovakian-sauerkraut-and-egg-noodles/',\n",
       " 'https://kitchen.kidneyfund.org/recipe/costa-rican-gallo-pinto/',\n",
       " 'https://kitchen.kidneyfund.org/recipe/simple-chicken-broth/',\n",
       " 'https://kitchen.kidneyfund.org/recipe/herb-pesto/',\n",
       " 'https://kitchen.kidneyfund.org/recipe/poached-eggs-with-cilantro-butter/',\n",
       " 'https://kitchen.kidneyfund.org/recipe/strawberry-cheesecake-smoothie/',\n",
       " 'https://kitchen.kidneyfund.org/recipe/chicken-pho-duplicate-1/',\n",
       " 'https://kitchen.kidneyfund.org/recipe/homemade-rice-milk/',\n",
       " 'https://kitchen.kidneyfund.org/recipe/phosphorus-free-baking-powder/',\n",
       " 'https://kitchen.kidneyfund.org/recipe/chocolate-peanut-butter-overnight-oats/',\n",
       " 'https://kitchen.kidneyfund.org/recipe/avocado-egg-bake/',\n",
       " 'https://kitchen.kidneyfund.org/recipe/peach-berry-parfait/',\n",
       " 'https://kitchen.kidneyfund.org/recipe/open-faced-bagel-breakfast-sandwich/',\n",
       " 'https://kitchen.kidneyfund.org/recipe/stuffed-bell-peppers/',\n",
       " 'https://kitchen.kidneyfund.org/recipe/vibrant-carrot-soup/',\n",
       " 'https://kitchen.kidneyfund.org/recipe/pretty-pink-smoothie/',\n",
       " 'https://kitchen.kidneyfund.org/recipe/sauteed-butternut-squash/',\n",
       " 'https://kitchen.kidneyfund.org/recipe/seared-herbed-scallops/',\n",
       " 'https://kitchen.kidneyfund.org/recipe/spiced-french-toast/',\n",
       " 'https://kitchen.kidneyfund.org/recipe/marinated-chicken/',\n",
       " 'https://kitchen.kidneyfund.org/recipe/old-fashioned-pancakes/',\n",
       " 'https://kitchen.kidneyfund.org/recipe/peach-cucumber-salad/',\n",
       " 'https://kitchen.kidneyfund.org/recipe/pork-with-brown-sugar-rub/',\n",
       " 'https://kitchen.kidneyfund.org/recipe/green-kiwi-smoothie/',\n",
       " 'https://kitchen.kidneyfund.org/recipe/grilled-zucchini-and-red-onion-salad/',\n",
       " 'https://kitchen.kidneyfund.org/recipe/homestyle-hamburgers/',\n",
       " 'https://kitchen.kidneyfund.org/recipe/italian-style-meatballs/',\n",
       " 'https://kitchen.kidneyfund.org/recipe/lime-baked-haddock/',\n",
       " 'https://kitchen.kidneyfund.org/recipe/german-braised-cabbage/',\n",
       " 'https://kitchen.kidneyfund.org/recipe/ginger-spiced-lamb-chops/',\n",
       " 'https://kitchen.kidneyfund.org/recipe/greek-couscous-salad/',\n",
       " 'https://kitchen.kidneyfund.org/recipe/cobb-salad/',\n",
       " 'https://kitchen.kidneyfund.org/recipe/crunchy-chicken-salad-wraps/',\n",
       " 'https://kitchen.kidneyfund.org/recipe/curried-turkey-bake/',\n",
       " 'https://kitchen.kidneyfund.org/recipe/chicken-alphabet-soup/',\n",
       " 'https://kitchen.kidneyfund.org/recipe/chicken-cabbage-salad/',\n",
       " 'https://kitchen.kidneyfund.org/recipe/citrus-orzo-salad/',\n",
       " 'https://kitchen.kidneyfund.org/recipe/citrus-sesame-cookies/',\n",
       " 'https://kitchen.kidneyfund.org/recipe/blackberry-kale-smoothie/',\n",
       " 'https://kitchen.kidneyfund.org/recipe/blueberry-bread-pudding/',\n",
       " 'https://kitchen.kidneyfund.org/recipe/blueberry-citrus-muffins/',\n",
       " 'https://kitchen.kidneyfund.org/recipe/bulgur-vegetable-salad/',\n",
       " 'https://kitchen.kidneyfund.org/recipe/traditional-chicken-vegetable-soup/',\n",
       " 'https://kitchen.kidneyfund.org/recipe/turkey-bulgur-soup/',\n",
       " 'https://kitchen.kidneyfund.org/recipe/baked-cauliflower-rice-cakes/',\n",
       " 'https://kitchen.kidneyfund.org/recipe/baked-egg-casserole/',\n",
       " 'https://kitchen.kidneyfund.org/recipe/bell-pepper-and-feta-crustless-quiche/',\n",
       " 'https://kitchen.kidneyfund.org/recipe/sweet-and-sour-meat-loaf/',\n",
       " 'https://kitchen.kidneyfund.org/recipe/sweet-glazed-salmon/',\n",
       " 'https://kitchen.kidneyfund.org/recipe/vegetable-biriyani/',\n",
       " 'https://kitchen.kidneyfund.org/recipe/white-bean-veggie-burgers/',\n",
       " 'https://kitchen.kidneyfund.org/recipe/roasted-beef-stew/',\n",
       " 'https://kitchen.kidneyfund.org/recipe/skillet-baked-pancake/',\n",
       " 'https://kitchen.kidneyfund.org/recipe/spinach-falafel-wrap/',\n",
       " 'https://kitchen.kidneyfund.org/recipe/summer-pasta-salad-with-white-wine-vinaigrette/',\n",
       " 'https://kitchen.kidneyfund.org/recipe/tofu-and-rice-salad-bowl/',\n",
       " 'https://kitchen.kidneyfund.org/recipe/turkey-burger-soup/',\n",
       " 'https://kitchen.kidneyfund.org/recipe/persian-chicken/',\n",
       " 'https://kitchen.kidneyfund.org/recipe/pesto-pork-chops/',\n",
       " 'https://kitchen.kidneyfund.org/recipe/rhubarb-bread-pudding/',\n",
       " 'https://kitchen.kidneyfund.org/recipe/mixed-green-leaf-and-citrus-salad/',\n",
       " 'https://kitchen.kidneyfund.org/recipe/salmon-burgers-high-phosphorus/',\n",
       " 'https://kitchen.kidneyfund.org/recipe/mediterranean-seasoning/',\n",
       " 'https://kitchen.kidneyfund.org/recipe/mixed-grain-hot-cereal/',\n",
       " 'https://kitchen.kidneyfund.org/recipe/roasted-root-vegetables/',\n",
       " 'https://kitchen.kidneyfund.org/recipe/marinated-pork-tenderloin/',\n",
       " 'https://kitchen.kidneyfund.org/recipe/one-pan-curried-chicken-thighs-and-cauliflower/',\n",
       " 'https://kitchen.kidneyfund.org/recipe/chicken-chow-mein/',\n",
       " 'https://kitchen.kidneyfund.org/recipe/creamy-broccoli-soup/',\n",
       " 'https://kitchen.kidneyfund.org/recipe/creamy-pesto-pasta/',\n",
       " 'https://kitchen.kidneyfund.org/recipe/green-breakfast-soup/',\n",
       " 'https://kitchen.kidneyfund.org/recipe/indian-curry-chicken/',\n",
       " 'https://kitchen.kidneyfund.org/recipe/lemon-herb-chicken/',\n",
       " 'https://kitchen.kidneyfund.org/recipe/linguine-with-roasted-red-pepper-basil-sauce/',\n",
       " 'https://kitchen.kidneyfund.org/recipe/cauliflower-and-potato-curry/',\n",
       " 'https://kitchen.kidneyfund.org/recipe/chicken-breast-and-bok-choy-in-parchment/',\n",
       " 'https://kitchen.kidneyfund.org/recipe/ginger-beef-salad/',\n",
       " 'https://kitchen.kidneyfund.org/recipe/grilled-steak-with-cucumber-cilantro-salsa/',\n",
       " 'https://kitchen.kidneyfund.org/recipe/herb-pesto-tuna/',\n",
       " 'https://kitchen.kidneyfund.org/recipe/five-spice-chicken-lettuce-wraps/',\n",
       " 'https://kitchen.kidneyfund.org/recipe/easy-chicken-stock/',\n",
       " 'https://kitchen.kidneyfund.org/recipe/broccoli-basil-quiche-duplicate-1/',\n",
       " 'https://kitchen.kidneyfund.org/recipe/hot-curry-powder/',\n",
       " 'https://kitchen.kidneyfund.org/recipe/low-sodium-mayonnaise/',\n",
       " 'https://kitchen.kidneyfund.org/recipe/classic-pot-roast/',\n",
       " 'https://kitchen.kidneyfund.org/recipe/bulgur-bowl-with-strawberries-and-walnuts-duplicate-1/',\n",
       " 'https://kitchen.kidneyfund.org/recipe/baked-cod-with-cucumber-dill-salsa/',\n",
       " 'https://kitchen.kidneyfund.org/recipe/herb-roasted-cauliflower/',\n",
       " 'https://kitchen.kidneyfund.org/recipe/simple-cabbage-soup/',\n",
       " 'https://kitchen.kidneyfund.org/recipe/plain-overnight-oats-duplicate-1/',\n",
       " 'https://kitchen.kidneyfund.org/recipe/lime-asparagus-spaghetti/',\n",
       " 'https://kitchen.kidneyfund.org/recipe/blueberry-cheesecake-overnight-oats/',\n",
       " 'https://kitchen.kidneyfund.org/recipe/tender-oatmeal-pancakes/',\n",
       " 'https://kitchen.kidneyfund.org/recipe/vegetable-lentil-soup/',\n",
       " 'https://kitchen.kidneyfund.org/recipe/creamy-shrimp-fettuccine/',\n",
       " 'https://kitchen.kidneyfund.org/recipe/vegetable-stew/',\n",
       " 'https://kitchen.kidneyfund.org/recipe/collard-and-rice-stuffed-red-peppers/',\n",
       " 'https://kitchen.kidneyfund.org/recipe/crab-cakes-with-lime-salsa/',\n",
       " 'https://kitchen.kidneyfund.org/recipe/fish-tacos-with-vegetable-slaw/',\n",
       " 'https://kitchen.kidneyfund.org/recipe/buckwheat-pancakes/',\n",
       " 'https://kitchen.kidneyfund.org/recipe/asparagus-frittata/',\n",
       " 'https://kitchen.kidneyfund.org/recipe/oatmeal-cookies/',\n",
       " 'https://kitchen.kidneyfund.org/recipe/fish-tacos/',\n",
       " 'https://kitchen.kidneyfund.org/recipe/japanese-tofu-with-mushrooms/',\n",
       " 'https://kitchen.kidneyfund.org/recipe/moroccan-chicken-tagine/',\n",
       " 'https://kitchen.kidneyfund.org/recipe/persian-polo-with-raisins-and-lentils/',\n",
       " 'https://kitchen.kidneyfund.org/recipe/roast-chicken-with-vegetables/',\n",
       " 'https://kitchen.kidneyfund.org/recipe/seared-broccoli/',\n",
       " 'https://kitchen.kidneyfund.org/recipe/tangy-coleslaw/',\n",
       " 'https://kitchen.kidneyfund.org/recipe/winter-minestrone/',\n",
       " 'https://kitchen.kidneyfund.org/recipe/spiced-pepitas/',\n",
       " 'https://kitchen.kidneyfund.org/recipe/spaghettini-with-shrimp/',\n",
       " 'https://kitchen.kidneyfund.org/recipe/shiitake-soba-noodles-and-miso-bowl/',\n",
       " 'https://kitchen.kidneyfund.org/recipe/easy-anytime-soup/',\n",
       " 'https://kitchen.kidneyfund.org/recipe/chocolate-fondue-with-fruits/',\n",
       " 'https://kitchen.kidneyfund.org/recipe/apple-pumpkin-muffins/',\n",
       " 'https://kitchen.kidneyfund.org/recipe/savory-citrus-salad/',\n",
       " 'https://kitchen.kidneyfund.org/recipe/riced-cauliflower-salad/',\n",
       " 'https://kitchen.kidneyfund.org/recipe/poached-pears-in-red-wine/',\n",
       " 'https://kitchen.kidneyfund.org/recipe/persian-eggs/',\n",
       " 'https://kitchen.kidneyfund.org/recipe/lemon-ricotta-pancakes/',\n",
       " 'https://kitchen.kidneyfund.org/recipe/homemade-corn-tortilla/',\n",
       " 'https://kitchen.kidneyfund.org/recipe/fruity-baked-tea/',\n",
       " 'https://kitchen.kidneyfund.org/recipe/eggplant-dip/',\n",
       " 'https://kitchen.kidneyfund.org/recipe/dill-lightful-bulgur-pilaf/',\n",
       " 'https://kitchen.kidneyfund.org/recipe/clam-fricassee-with-orzo/',\n",
       " 'https://kitchen.kidneyfund.org/recipe/chicken-soup-with-rice-and-spice/',\n",
       " 'https://kitchen.kidneyfund.org/recipe/barley-porridge-with-miso/',\n",
       " 'https://kitchen.kidneyfund.org/recipe/banana-chocolate-chip-bread-pudding/',\n",
       " 'https://kitchen.kidneyfund.org/recipe/cheesy-scrambled-eggs-with-fresh-herbs/',\n",
       " 'https://kitchen.kidneyfund.org/recipe/cinnamon-nutmeg-blueberry-muffins/',\n",
       " 'https://kitchen.kidneyfund.org/recipe/corn-pudding/',\n",
       " 'https://kitchen.kidneyfund.org/recipe/couscous-burgers/',\n",
       " 'https://kitchen.kidneyfund.org/recipe/creole-seasoning-mix/',\n",
       " 'https://kitchen.kidneyfund.org/recipe/curried-egg-pita-pockets/',\n",
       " 'https://kitchen.kidneyfund.org/recipe/egg-white-frittata-with-penne/',\n",
       " 'https://kitchen.kidneyfund.org/recipe/egg-in-the-hole/',\n",
       " 'https://kitchen.kidneyfund.org/recipe/fruit-and-cheese-breakfast-wrap/',\n",
       " 'https://kitchen.kidneyfund.org/recipe/asian-seasoning/',\n",
       " 'https://kitchen.kidneyfund.org/recipe/blueberry-coconut-overnight-oats/',\n",
       " 'https://kitchen.kidneyfund.org/recipe/winter-fennel-and-citrus-salad/',\n",
       " 'https://kitchen.kidneyfund.org/recipe/vegetable-curry/',\n",
       " 'https://kitchen.kidneyfund.org/recipe/tangine-of-fish-with-lemons-and-caper-berries/',\n",
       " 'https://kitchen.kidneyfund.org/recipe/tabbouleh/',\n",
       " 'https://kitchen.kidneyfund.org/recipe/stuffed-poblano-peppers/',\n",
       " 'https://kitchen.kidneyfund.org/recipe/rice-pudding/',\n",
       " 'https://kitchen.kidneyfund.org/recipe/pumpkin-spiced-cornbread/',\n",
       " 'https://kitchen.kidneyfund.org/recipe/new-mexican-style-green-chili/',\n",
       " 'https://kitchen.kidneyfund.org/recipe/mediterranean-chicken-and-figs/',\n",
       " 'https://kitchen.kidneyfund.org/recipe/green-lentils-and-jicama-salad/',\n",
       " 'https://kitchen.kidneyfund.org/recipe/goulash/',\n",
       " 'https://kitchen.kidneyfund.org/recipe/festive-paella/',\n",
       " 'https://kitchen.kidneyfund.org/recipe/citrus-cake/',\n",
       " 'https://kitchen.kidneyfund.org/recipe/instant-pot-sloppy-joes/',\n",
       " 'https://kitchen.kidneyfund.org/recipe/instant-pot-or-slow-cooker-sauerbraten-noodle-casserole/',\n",
       " 'https://kitchen.kidneyfund.org/recipe/raspberry-clafoutis/',\n",
       " 'https://kitchen.kidneyfund.org/recipe/penne-with-tomato-basil-and-parmesan-cheese/',\n",
       " 'https://kitchen.kidneyfund.org/recipe/pasta-with-peas-and-lemon/',\n",
       " 'https://kitchen.kidneyfund.org/recipe/minestrone-soup/',\n",
       " 'https://kitchen.kidneyfund.org/recipe/kale-and-cheddar-frittata/',\n",
       " 'https://kitchen.kidneyfund.org/recipe/huevos-rancheros/',\n",
       " 'https://kitchen.kidneyfund.org/recipe/cucumber-watermelon-salad/',\n",
       " 'https://kitchen.kidneyfund.org/recipe/coconut-curry-cauliflower/',\n",
       " 'https://kitchen.kidneyfund.org/recipe/cilantro-lime-chicken/',\n",
       " 'https://kitchen.kidneyfund.org/recipe/chicken-with-peppers-and-onions/',\n",
       " 'https://kitchen.kidneyfund.org/recipe/chicken-thighs-with-lemon-and-onion/',\n",
       " 'https://kitchen.kidneyfund.org/recipe/cherry-overnight-oats/',\n",
       " 'https://kitchen.kidneyfund.org/recipe/carrot-ginger-soup/',\n",
       " 'https://kitchen.kidneyfund.org/recipe/carribean-style-chicken-with-pineapple-coconut-rice/',\n",
       " 'https://kitchen.kidneyfund.org/recipe/butternut-squash-and-cider-soup/',\n",
       " 'https://kitchen.kidneyfund.org/recipe/wild-rice-salad/',\n",
       " 'https://kitchen.kidneyfund.org/recipe/chestnut-celery-root-soup/',\n",
       " 'https://kitchen.kidneyfund.org/recipe/cauliflower-parmesan/',\n",
       " 'https://kitchen.kidneyfund.org/recipe/smoked-trout-and-scrambled-eggs/',\n",
       " 'https://kitchen.kidneyfund.org/recipe/muhammara-dip/',\n",
       " 'https://kitchen.kidneyfund.org/recipe/fall-farro-salad/',\n",
       " 'https://kitchen.kidneyfund.org/recipe/cheddar-chive-scones/',\n",
       " 'https://kitchen.kidneyfund.org/recipe/scandinavian-barley-salad-with-apples/',\n",
       " 'https://kitchen.kidneyfund.org/recipe/chocolate-chai-pudding/',\n",
       " 'https://kitchen.kidneyfund.org/recipe/apple-pie/',\n",
       " 'https://kitchen.kidneyfund.org/recipe/apple-cookies/',\n",
       " 'https://kitchen.kidneyfund.org/recipe/spanish-bean-and-chorizo-stew/',\n",
       " 'https://kitchen.kidneyfund.org/recipe/raspberry-cake/',\n",
       " 'https://kitchen.kidneyfund.org/recipe/persian-fruit-cake/',\n",
       " 'https://kitchen.kidneyfund.org/recipe/jamaican-rice-and-beans/',\n",
       " 'https://kitchen.kidneyfund.org/recipe/red-lentil-stew/',\n",
       " 'https://kitchen.kidneyfund.org/recipe/green-shashuka/',\n",
       " 'https://kitchen.kidneyfund.org/recipe/ginger-cookies/',\n",
       " 'https://kitchen.kidneyfund.org/recipe/garlic-pepper-squid/',\n",
       " 'https://kitchen.kidneyfund.org/recipe/frozen-yogurt-bark/',\n",
       " 'https://kitchen.kidneyfund.org/recipe/lemon-lime-steamed-fish-and-pineapple-salsa/',\n",
       " 'https://kitchen.kidneyfund.org/recipe/aromatic-tea/',\n",
       " 'https://kitchen.kidneyfund.org/recipe/alsatian-onion-pie/',\n",
       " 'https://kitchen.kidneyfund.org/recipe/tuscan-bean-soup/',\n",
       " 'https://kitchen.kidneyfund.org/recipe/roasted-fall-vegetables/',\n",
       " 'https://kitchen.kidneyfund.org/recipe/mushroom-stew-with-creamy-polenta/',\n",
       " 'https://kitchen.kidneyfund.org/recipe/chickpea-turnip-greens-tacos/',\n",
       " 'https://kitchen.kidneyfund.org/recipe/chai-spice-apples-in-custard/',\n",
       " 'https://kitchen.kidneyfund.org/recipe/braised-cabbage-with-turkey-sausage/',\n",
       " 'https://kitchen.kidneyfund.org/recipe/banana-chocolate-chip-muffins/',\n",
       " 'https://kitchen.kidneyfund.org/recipe/bagel-and-schmear-with-pesto/',\n",
       " 'https://kitchen.kidneyfund.org/recipe/aromatic-cauliflower-soup/',\n",
       " 'https://kitchen.kidneyfund.org/recipe/swiss-chard-crostini/',\n",
       " 'https://kitchen.kidneyfund.org/recipe/stuffed-chicken-breasts/',\n",
       " 'https://kitchen.kidneyfund.org/recipe/southern-style-grits/',\n",
       " 'https://kitchen.kidneyfund.org/recipe/quinoa-porridge/',\n",
       " 'https://kitchen.kidneyfund.org/recipe/ginger-pear-crisp/',\n",
       " 'https://kitchen.kidneyfund.org/recipe/native-american-inspired-spicy-corn-salad/',\n",
       " 'https://kitchen.kidneyfund.org/recipe/mushroom-and-barley-soup/',\n",
       " 'https://kitchen.kidneyfund.org/recipe/german-pancake-dutch-baby/',\n",
       " 'https://kitchen.kidneyfund.org/recipe/chicken-and-escarole-salad/',\n",
       " 'https://kitchen.kidneyfund.org/recipe/caribbean-salsa-and-steamed-snapper/',\n",
       " 'https://kitchen.kidneyfund.org/recipe/apple-and-swiss-chard-quesadillas/',\n",
       " 'https://kitchen.kidneyfund.org/recipe/spicy-kenyan-greens/',\n",
       " 'https://kitchen.kidneyfund.org/recipe/watermelon-cooler/',\n",
       " 'https://kitchen.kidneyfund.org/recipe/venezuelan-corn-fritter-arepas/',\n",
       " 'https://kitchen.kidneyfund.org/recipe/veggie-mug-omelet/',\n",
       " 'https://kitchen.kidneyfund.org/recipe/three-sisters-salad/',\n",
       " 'https://kitchen.kidneyfund.org/recipe/strawberry-spinach-pasta-salad/',\n",
       " 'https://kitchen.kidneyfund.org/recipe/sardine-and-veggie-nordic-sandwich/',\n",
       " 'https://kitchen.kidneyfund.org/recipe/poached-flounder-with-summer-vegetables/',\n",
       " 'https://kitchen.kidneyfund.org/recipe/peach-quinoa-salad/',\n",
       " 'https://kitchen.kidneyfund.org/recipe/hibiscus-ice-pops/',\n",
       " 'https://kitchen.kidneyfund.org/recipe/fruit-galette/',\n",
       " 'https://kitchen.kidneyfund.org/recipe/egg-sandwich/',\n",
       " 'https://kitchen.kidneyfund.org/recipe/creamy-fruit-salad/',\n",
       " 'https://kitchen.kidneyfund.org/recipe/fruit-tart/',\n",
       " 'https://kitchen.kidneyfund.org/recipe/scallion-ginger-shrimp-and-bok-choy/',\n",
       " 'https://kitchen.kidneyfund.org/recipe/turkey-taco-lettuce-wraps/',\n",
       " 'https://kitchen.kidneyfund.org/recipe/soy-ginger-roasted-eggplant/',\n",
       " 'https://kitchen.kidneyfund.org/recipe/seared-caper-lemon-shrimp/',\n",
       " 'https://kitchen.kidneyfund.org/recipe/pesto-pasta-with-peas-and-mozzarella/',\n",
       " 'https://kitchen.kidneyfund.org/recipe/marinated-cucumber-and-celery-salad/',\n",
       " 'https://kitchen.kidneyfund.org/recipe/kale-and-wild-rice-soup/',\n",
       " 'https://kitchen.kidneyfund.org/recipe/herbed-chicken-and-rice-meatballs/',\n",
       " 'https://kitchen.kidneyfund.org/recipe/cinnamon-scented-applesauce/',\n",
       " 'https://kitchen.kidneyfund.org/recipe/balsamic-roasted-green-beans/',\n",
       " 'https://kitchen.kidneyfund.org/recipe/jerk-salmon/',\n",
       " 'https://kitchen.kidneyfund.org/recipe/simple-puerto-rican-sofrito/',\n",
       " 'https://kitchen.kidneyfund.org/recipe/oven-fried-fish/',\n",
       " 'https://kitchen.kidneyfund.org/recipe/mexican-style-cucumber-salad/',\n",
       " 'https://kitchen.kidneyfund.org/recipe/everyday-spanish-style-beans/',\n",
       " 'https://kitchen.kidneyfund.org/recipe/southern-collard-greens/',\n",
       " 'https://kitchen.kidneyfund.org/recipe/caribbean-carrot-salad/',\n",
       " 'https://kitchen.kidneyfund.org/recipe/spicy-pasta-with-chicken/',\n",
       " 'https://kitchen.kidneyfund.org/recipe/glazed-green-beans/',\n",
       " 'https://kitchen.kidneyfund.org/recipe/summer-corn-salad/',\n",
       " 'https://kitchen.kidneyfund.org/recipe/rainbow-rice-noodle-salad/',\n",
       " 'https://kitchen.kidneyfund.org/recipe/fried-string-beans/',\n",
       " 'https://kitchen.kidneyfund.org/recipe/egg-white-omelet-with-asparagus-and-goat-cheese/',\n",
       " 'https://kitchen.kidneyfund.org/recipe/cream-of-crab-soup/',\n",
       " 'https://kitchen.kidneyfund.org/recipe/chili-wheat-treats/',\n",
       " 'https://kitchen.kidneyfund.org/recipe/chicken-salad-2/',\n",
       " 'https://kitchen.kidneyfund.org/recipe/aunt-bettys-blueberry-pancakes/',\n",
       " 'https://kitchen.kidneyfund.org/recipe/baked-apples/',\n",
       " 'https://kitchen.kidneyfund.org/recipe/barley-rice-pilaf/',\n",
       " 'https://kitchen.kidneyfund.org/recipe/beef-stew/',\n",
       " 'https://kitchen.kidneyfund.org/recipe/bow-tie-pasta-salad/',\n",
       " 'https://kitchen.kidneyfund.org/recipe/braised-pork-cutlets/',\n",
       " 'https://kitchen.kidneyfund.org/recipe/breakfast-burrito-with-egg-and-chorizo/',\n",
       " 'https://kitchen.kidneyfund.org/recipe/broccoli-blossom/',\n",
       " 'https://kitchen.kidneyfund.org/recipe/broccoli-cauliflower-carrot-bake/',\n",
       " 'https://kitchen.kidneyfund.org/recipe/broiled-garlic-peel-and-eat-shrimp/',\n",
       " 'https://kitchen.kidneyfund.org/recipe/cajun-pork-chops/',\n",
       " 'https://kitchen.kidneyfund.org/recipe/cauliflower-and-broccoli/',\n",
       " 'https://kitchen.kidneyfund.org/recipe/cauliflower-soup/',\n",
       " 'https://kitchen.kidneyfund.org/recipe/chicken-asparagus-linguine/',\n",
       " 'https://kitchen.kidneyfund.org/recipe/cherry-berry-pie/',\n",
       " 'https://kitchen.kidneyfund.org/recipe/chicken-egg-rolls/',\n",
       " 'https://kitchen.kidneyfund.org/recipe/low-sodium-deviled-eggs/',\n",
       " 'https://kitchen.kidneyfund.org/recipe/pumpkin-spice-no-bake-cheesecake/',\n",
       " 'https://kitchen.kidneyfund.org/recipe/salmon-spread/',\n",
       " 'https://kitchen.kidneyfund.org/recipe/turkey-stuffed-peppers-2/',\n",
       " 'https://kitchen.kidneyfund.org/recipe/blueberry-peanut-butter-overnight-oatmeal/',\n",
       " 'https://kitchen.kidneyfund.org/recipe/green-chile-chicken-enchiladas/',\n",
       " 'https://kitchen.kidneyfund.org/recipe/carrot-cake-cookies/',\n",
       " 'https://kitchen.kidneyfund.org/recipe/lemon-garlic-chicken-with-zucchini-noodles/',\n",
       " 'https://kitchen.kidneyfund.org/recipe/honey-dijon-cobb-salad/',\n",
       " 'https://kitchen.kidneyfund.org/recipe/mediterranean-chickpea-side-salad/',\n",
       " 'https://kitchen.kidneyfund.org/recipe/watermelon-lime-refresher/',\n",
       " 'https://kitchen.kidneyfund.org/recipe/asparagus-and-swiss-cheese-frittata/',\n",
       " 'https://kitchen.kidneyfund.org/recipe/strawberry-shortcake-chia-seed-pudding/',\n",
       " 'https://kitchen.kidneyfund.org/recipe/caramelized-onion-pork-chops/',\n",
       " 'https://kitchen.kidneyfund.org/recipe/chicken-tacos/',\n",
       " 'https://kitchen.kidneyfund.org/recipe/crisp-and-creamy-shrimp-salad-with-creamy-lime-dressing/',\n",
       " 'https://kitchen.kidneyfund.org/recipe/dr-pearls-delicious-salad-dressing-recipe/',\n",
       " 'https://kitchen.kidneyfund.org/recipe/french-style-vinaigrette/',\n",
       " 'https://kitchen.kidneyfund.org/recipe/pesto-pita-pizza/',\n",
       " 'https://kitchen.kidneyfund.org/recipe/festive-cranberry-stuffing/',\n",
       " 'https://kitchen.kidneyfund.org/recipe/chicken-salad/',\n",
       " 'https://kitchen.kidneyfund.org/recipe/low-sodium-turkey-burger-sliders/',\n",
       " 'https://kitchen.kidneyfund.org/recipe/sweet-spice-cottage-cheese/',\n",
       " 'https://kitchen.kidneyfund.org/recipe/sunny-angel-food-cake/',\n",
       " 'https://kitchen.kidneyfund.org/recipe/shrimp-ceviche-with-pita-chips/',\n",
       " 'https://kitchen.kidneyfund.org/recipe/savory-egg-muffins/',\n",
       " 'https://kitchen.kidneyfund.org/recipe/quick-fettuccine/',\n",
       " 'https://kitchen.kidneyfund.org/recipe/sour-cream-dip/',\n",
       " 'https://kitchen.kidneyfund.org/recipe/pineapple-chicken-salad-pitas/',\n",
       " 'https://kitchen.kidneyfund.org/recipe/no-bake-pumpkin-mousse-pie/',\n",
       " 'https://kitchen.kidneyfund.org/recipe/mac-in-a-flash-macaroni-and-cheese/',\n",
       " 'https://kitchen.kidneyfund.org/recipe/lemon-curry-chicken-salad/',\n",
       " 'https://kitchen.kidneyfund.org/recipe/fruit-salsa/',\n",
       " 'https://kitchen.kidneyfund.org/recipe/energy-bites/',\n",
       " 'https://kitchen.kidneyfund.org/recipe/eggs-with-chiles/',\n",
       " 'https://kitchen.kidneyfund.org/recipe/egg-and-rice-muffins/',\n",
       " 'https://kitchen.kidneyfund.org/recipe/easy-tuna-lettuce-wraps/',\n",
       " 'https://kitchen.kidneyfund.org/recipe/easy-blueberry-lemon-parfait/',\n",
       " 'https://kitchen.kidneyfund.org/recipe/cucumber-dill-cream-cheese-bites/',\n",
       " 'https://kitchen.kidneyfund.org/recipe/cheese-quiche/',\n",
       " 'https://kitchen.kidneyfund.org/recipe/cream-cheese-cookies/',\n",
       " 'https://kitchen.kidneyfund.org/recipe/confetti-rice/',\n",
       " 'https://kitchen.kidneyfund.org/recipe/cider-cream-chicken/',\n",
       " 'https://kitchen.kidneyfund.org/recipe/chicken-rice-and-green-beans/',\n",
       " 'https://kitchen.kidneyfund.org/recipe/chicken-in-wine-sauce/',\n",
       " 'https://kitchen.kidneyfund.org/recipe/burritos-rapidos/',\n",
       " 'https://kitchen.kidneyfund.org/recipe/buffalo-chicken-dip/',\n",
       " 'https://kitchen.kidneyfund.org/recipe/5-ingredient-soup/',\n",
       " 'https://kitchen.kidneyfund.org/recipe/shrimp-and-pea-risotto/',\n",
       " 'https://kitchen.kidneyfund.org/recipe/shanghai-stir-fried-pork-and-cabbage/',\n",
       " 'https://kitchen.kidneyfund.org/recipe/salmon-salad-crackers/',\n",
       " 'https://kitchen.kidneyfund.org/recipe/cinnamon-sugar-popcorn/',\n",
       " 'https://kitchen.kidneyfund.org/recipe/sriracha-popcorn/',\n",
       " 'https://kitchen.kidneyfund.org/recipe/lemony-chicken-soup/',\n",
       " 'https://kitchen.kidneyfund.org/recipe/spaghetti-squash-with-maple-balsamic-roasted-vegetables/',\n",
       " 'https://kitchen.kidneyfund.org/recipe/greek-style-couscous-salad/',\n",
       " 'https://kitchen.kidneyfund.org/recipe/fruit-kabobs-with-marshmallow-creme/',\n",
       " 'https://kitchen.kidneyfund.org/recipe/cream-cheese-and-tomatillo-spread/',\n",
       " 'https://kitchen.kidneyfund.org/recipe/chicken-salad-lettuce-wraps/',\n",
       " 'https://kitchen.kidneyfund.org/recipe/cheesy-cauliflower-steak/',\n",
       " 'https://kitchen.kidneyfund.org/recipe/apple-crisp/',\n",
       " 'https://kitchen.kidneyfund.org/recipe/apple-rice-salad/',\n",
       " 'https://kitchen.kidneyfund.org/recipe/american-favorite-blend/']"
      ]
     },
     "execution_count": 64,
     "metadata": {},
     "output_type": "execute_result"
    }
   ],
   "source": [
    "\n",
    "for url in recipes:\n",
    "    "
   ]
  },
  {
   "cell_type": "code",
   "execution_count": 15,
   "id": "19dc667c-3694-436e-ba31-f521cf6d1099",
   "metadata": {
    "tags": []
   },
   "outputs": [
    {
     "data": {
      "text/plain": [
       "\"javascript:window.location.href = 'https://kitchen.kidneyfund.org/recipe/poultry-gravy-and-wings/'\""
      ]
     },
     "execution_count": 15,
     "metadata": {},
     "output_type": "execute_result"
    }
   ],
   "source": [
    "#soup.find_all('div', {'class' : 'right'})[1].attrs['onclick']"
   ]
  },
  {
   "cell_type": "code",
   "execution_count": 16,
   "id": "43da5cd1-af57-423b-9767-044713163ca1",
   "metadata": {
    "tags": []
   },
   "outputs": [],
   "source": [
    "recipes = []\n",
    "for i in range(1,len(cards)):\n",
    "    recipes.append(soup.find_all('div', {'class' : 'right'})[i].attrs['onclick'].split('=')[1].replace(\"'\",\"\").strip())\n",
    "    "
   ]
  },
  {
   "cell_type": "code",
   "execution_count": null,
   "id": "9df783e5-e366-4cd3-a1ac-51fcae069c23",
   "metadata": {
    "tags": []
   },
   "outputs": [],
   "source": []
  },
  {
   "cell_type": "code",
   "execution_count": 21,
   "id": "f0528b92-3ed7-40d9-afd3-71ec5b8ec479",
   "metadata": {
    "tags": []
   },
   "outputs": [
    {
     "data": {
      "text/plain": [
       "200"
      ]
     },
     "execution_count": 21,
     "metadata": {},
     "output_type": "execute_result"
    }
   ],
   "source": [
    "sub_url = recipes[0]\n",
    "sub_res = requests.get(sub_url, headers=headers)\n",
    "sub_res.status_code\n"
   ]
  },
  {
   "cell_type": "code",
   "execution_count": 22,
   "id": "d558e7fc-d2c6-402e-8477-db438f6ac465",
   "metadata": {
    "tags": []
   },
   "outputs": [],
   "source": [
    "sub_soup = BeautifulSoup(sub_res.content)"
   ]
  },
  {
   "cell_type": "code",
   "execution_count": 26,
   "id": "1ecfe04e-7f98-41e4-8fd8-3b756c5001cb",
   "metadata": {
    "tags": []
   },
   "outputs": [],
   "source": [
    "divs = sub_soup.find_all('div', {'class': 'elementor-element elementor-element-6eb817d elementor-widget elementor-widget-text-editor'})"
   ]
  },
  {
   "cell_type": "code",
   "execution_count": 27,
   "id": "ccfb5ac1-52c3-4f58-8e8c-7ed8f86af93e",
   "metadata": {
    "tags": []
   },
   "outputs": [
    {
     "data": {
      "text/plain": [
       "1"
      ]
     },
     "execution_count": 27,
     "metadata": {},
     "output_type": "execute_result"
    }
   ],
   "source": [
    "len(divs)"
   ]
  },
  {
   "cell_type": "code",
   "execution_count": 35,
   "id": "033a3112-002b-4e56-8f13-d2f213eaf914",
   "metadata": {
    "tags": []
   },
   "outputs": [
    {
     "data": {
      "text/plain": [
       "[<p>½ teaspoon canola oil</p>,\n",
       " <p>1 ¼ cups onion, diced</p>,\n",
       " <p>1 cup celery, diced</p>,\n",
       " <p>1 ½ pounds chicken wings</p>,\n",
       " <p>4 cups water</p>,\n",
       " <p>¾ teaspoon poultry seasoning</p>,\n",
       " <p>¼ teaspoon sage</p>,\n",
       " <p>¼ teaspoon white pepper</p>,\n",
       " <p>1 teaspoon chicken bouillon</p>,\n",
       " <p>¼ cup cornstarch</p>,\n",
       " <p>½ cup water</p>]"
      ]
     },
     "execution_count": 35,
     "metadata": {},
     "output_type": "execute_result"
    }
   ],
   "source": [
    "divs[0].find_all('p')"
   ]
  },
  {
   "cell_type": "code",
   "execution_count": 37,
   "id": "545ab913-c67a-48c1-bcab-1bee09d1d3ed",
   "metadata": {},
   "outputs": [
    {
     "data": {
      "text/plain": [
       "['½ teaspoon canola oil',\n",
       " '1 ¼ cups onion, diced',\n",
       " '1 cup celery, diced',\n",
       " '1 ½ pounds chicken wings',\n",
       " '4 cups water',\n",
       " '¾ teaspoon poultry seasoning',\n",
       " '¼ teaspoon sage',\n",
       " '¼ teaspoon white pepper',\n",
       " '1 teaspoon chicken bouillon',\n",
       " '¼ cup cornstarch',\n",
       " '½ cup water']"
      ]
     },
     "execution_count": 37,
     "metadata": {},
     "output_type": "execute_result"
    }
   ],
   "source": [
    "extract_description_and_ingredients(recipes[0])"
   ]
  },
  {
   "cell_type": "code",
   "execution_count": null,
   "id": "8b4f0191-e149-400a-b3ae-fc73bc17b73f",
   "metadata": {},
   "outputs": [],
   "source": []
  }
 ],
 "metadata": {
  "kernelspec": {
   "display_name": "Python 3 (ipykernel)",
   "language": "python",
   "name": "python3"
  },
  "language_info": {
   "codemirror_mode": {
    "name": "ipython",
    "version": 3
   },
   "file_extension": ".py",
   "mimetype": "text/x-python",
   "name": "python",
   "nbconvert_exporter": "python",
   "pygments_lexer": "ipython3",
   "version": "3.11.5"
  }
 },
 "nbformat": 4,
 "nbformat_minor": 5
}
