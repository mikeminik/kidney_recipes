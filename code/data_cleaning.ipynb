{
 "cells": [
  {
   "cell_type": "code",
   "execution_count": 459,
   "id": "f2dcd7ea-fde9-4e3d-b41a-1d61a022b4f3",
   "metadata": {
    "tags": []
   },
   "outputs": [],
   "source": [
    "import numpy as np\n",
    "import pandas as pd\n",
    "import matplotlib.pyplot as plt\n",
    "import missingno as msno\n",
    "from fractions import Fraction\n",
    "import re"
   ]
  },
  {
   "cell_type": "code",
   "execution_count": 460,
   "id": "0818eddf-b034-4b86-9749-b45719b7b559",
   "metadata": {
    "tags": []
   },
   "outputs": [],
   "source": [
    "# kidney friendly recipes\n",
    "kf1 = pd.read_csv('../data/generated/kidney-ca-recipes-with-ingredients-and-nutrition.csv')\n",
    "kf2 = pd.read_csv('../data/generated/kidney-kitchen-recipes-with-ingredients-and-nutrition.csv')"
   ]
  },
  {
   "cell_type": "code",
   "execution_count": null,
   "id": "de407335-c9ff-4d99-9c84-1d6c2a8b2e13",
   "metadata": {
    "tags": []
   },
   "outputs": [],
   "source": []
  },
  {
   "cell_type": "code",
   "execution_count": 461,
   "id": "87a93b01-ce96-4bc0-99b1-13c653725068",
   "metadata": {
    "tags": []
   },
   "outputs": [],
   "source": [
    "# non kidney friendly recipes\n",
    "nkf1 = pd.read_csv('../data/generated/non_kidney_friendly_recipes.csv')"
   ]
  },
  {
   "cell_type": "code",
   "execution_count": 462,
   "id": "eb6b6c2b-6072-46f2-bc50-7811b1255b0b",
   "metadata": {
    "tags": []
   },
   "outputs": [],
   "source": [
    "fraction_map = {'¼':'.25',\n",
    "                '½':'.5',\n",
    "                '⅓':'.33',                \n",
    "                '¾':'.75',\n",
    "                '⅒':'.1',\n",
    "                '⅔':'.66',\n",
    "                '⅕':'.2',\n",
    "                '⅖':'.4',\n",
    "                '⅗':'.6',\n",
    "                '⅘':'.8',\n",
    "                '⅙':'.166',\n",
    "                '⅛':'.125'} "
   ]
  },
  {
   "cell_type": "code",
   "execution_count": 463,
   "id": "d530e456-005f-4182-8758-4b04aaeb0aec",
   "metadata": {
    "tags": []
   },
   "outputs": [],
   "source": [
    "# bard\n",
    "conversion_table = {\n",
    "    \"teaspoon\": 5.0,\n",
    "    \"teaspoons\": 5.0,\n",
    "    \"tsp\": 5.0,\n",
    "    \"tsps\": 5.0,\n",
    "    \"tablespoon\": 15.0,\n",
    "    \"tablespoons\": 15.0,\n",
    "    \"tbsp\": 15.0,\n",
    "    \"tbsps\": 15.0,\n",
    "    \"fl oz\": 29.5735,\n",
    "    \"fluid ounce\": 29.5735,\n",
    "    \"fl ozs\": 29.5735,\n",
    "    \"fluid ounces\": 29.5735,\n",
    "    \"cup\": 236.588,\n",
    "    \"cups\": 236.588,\n",
    "    \"pint\": 473.176,\n",
    "    \"pints\": 473.176,\n",
    "    \"quart\": 946.352,\n",
    "    \"quarts\": 946.352,\n",
    "    \"gallon\": 3785.41,\n",
    "    \"pound\": 453.592,\n",
    "    \"pounds\": 453.592,\n",
    "    \"ounce\": 28.3495,\n",
    "    \"ounces\": 28.3495,\n",
    "    \"lb\": 453.592,\n",
    "    \"lbs\": 453.592,\n",
    "    \"oz\": 28.3495,\n",
    "    \"ozs\": 28.3495\n",
    "}"
   ]
  },
  {
   "cell_type": "code",
   "execution_count": 464,
   "id": "1cd7b2f9-12a8-48b0-b5fe-d0f94a9eaf78",
   "metadata": {
    "tags": []
   },
   "outputs": [],
   "source": [
    "def find_numerics(string):\n",
    "    #regex = r\"\\d+\\.?\\d*\"\n",
    "    #regex = r\"\\d+(?:\\.\\d+)?\"\n",
    "    regex = r\"\\d*\\.?\\d+\"\n",
    "    matches = re.findall(regex, string)\n",
    "    return matches"
   ]
  },
  {
   "cell_type": "code",
   "execution_count": null,
   "id": "ebb705dd-d1f7-4e32-80bc-e0bfb0487f33",
   "metadata": {
    "tags": []
   },
   "outputs": [],
   "source": []
  },
  {
   "cell_type": "code",
   "execution_count": 465,
   "id": "221bc79b-4b72-4b9b-9474-d3a46e414d97",
   "metadata": {
    "tags": []
   },
   "outputs": [],
   "source": [
    "def find_units(string):\n",
    "    units = []\n",
    "    [units.append(x) for x in string.split() if x in conversion_table.keys()]\n",
    "    return units"
   ]
  },
  {
   "cell_type": "code",
   "execution_count": 466,
   "id": "2f91a8d8-d2ab-4530-9f48-3e731a36316f",
   "metadata": {
    "tags": []
   },
   "outputs": [],
   "source": [
    "def convert_vulgar_fractions_in_place(value):\n",
    "    new_string = value\n",
    "    for c in new_string:\n",
    "        if c in fraction_map.keys():\n",
    "            new_string = new_string.replace(c,str(fraction_map[c]))\n",
    "    return new_string"
   ]
  },
  {
   "cell_type": "code",
   "execution_count": 467,
   "id": "88fff9e8-f0d3-4e29-a380-b527bee1e69e",
   "metadata": {
    "tags": []
   },
   "outputs": [],
   "source": [
    "def convert_vulgar_fractions_concat(value):\n",
    "    new_string = value\n",
    "    for c in new_string:\n",
    "        if c in fraction_map.keys():\n",
    "            new_string = new_string.replace(c,str(fraction_map[c]))\n",
    "            \n",
    "    return new_string.replace(' ','')"
   ]
  },
  {
   "cell_type": "code",
   "execution_count": 468,
   "id": "b589ab9c-62a2-4226-ba00-9619136bfa9c",
   "metadata": {
    "tags": []
   },
   "outputs": [],
   "source": [
    "def fraction_replacer(string):\n",
    "    if '/' in string:\n",
    "        for c in string:\n",
    "            if c in '/':\n",
    "                pos_min_2 = ''\n",
    "                pos_min_1 = ''\n",
    "                pos = string.index(c)\n",
    "                pos_plus_1 = ''\n",
    "                pos_plus_2 = ''\n",
    "                if pos >= 2:\n",
    "                    pos_min_2 = string[pos - 2]\n",
    "                pos_min_1 = string[pos - 1]\n",
    "                pos_plus_1 = string[pos + 1]\n",
    "                if len(string) > pos+2:\n",
    "                    pos_plus_2 = string[pos + 2]\n",
    "                eval_char = [pos_min_2, pos_min_1, c, pos_plus_1, pos_plus_2]\n",
    "                final = [i if i.isnumeric() or i in '/' else '' for i in eval_char]\n",
    "        fraction = ''.join(final)\n",
    "        \n",
    "        if fraction != '/':\n",
    "            fraction_replacement = str(round(float(sum(Fraction(c) for c in fraction.split())),2))\n",
    "            string = string.replace(fraction, fraction_replacement)\n",
    "            #return string.replace(fraction, fraction_replacement)\n",
    "        else:\n",
    "            pass\n",
    "    return string\n",
    "    "
   ]
  },
  {
   "cell_type": "code",
   "execution_count": 469,
   "id": "353e02a9-16d1-4490-bb26-6aa0d127b0d8",
   "metadata": {
    "tags": []
   },
   "outputs": [],
   "source": [
    "def ingredient_standardizer(string, serving_size):\n",
    "    #grab a list of numerics, if present\n",
    "    quantities = find_numerics(string)\n",
    "    # print(quantities)\n",
    "    #grab a list of convertible units, if present\n",
    "    units = find_units(string.lower())\n",
    "    # if the string has at least one quantity and a convertible unit (examples 1 cup water, 1 14.5 oz can of beans)\n",
    "    if (len(quantities) and len(units) > 0) and units[0] in conversion_table.keys():\n",
    "        # take the first instance of a quantity and convert it to grams via conversion table\n",
    "        # this assumes that the first unit is associated with the first quantity, which is often the case (i.e. 1 cup water) \n",
    "        grams = float(quantities[0]) * conversion_table[units[0]]\n",
    "        \n",
    "        # create a new string that will replace the convertible unit with grams and the value used for conversion, also dividing by serving size\n",
    "        new_string = string.lower().replace(units[0], 'grams', 1).replace(quantities[0], str(round(grams/serving_size, 2)), 1)\n",
    "    # if the string has at leasy one quantity but no units (example: 1 egg) \n",
    "    elif len(quantities) > 0:\n",
    "        # just replace the quantity divided by serving size\n",
    "        new_string = string.replace(quantities[0], str(round(float(quantities[0]) / serving_size, 2)), 1)\n",
    "    else:\n",
    "        new_string = string\n",
    "    return new_string"
   ]
  },
  {
   "cell_type": "code",
   "execution_count": 470,
   "id": "50e8b44e-590b-4f69-bf5e-04ff49ceb041",
   "metadata": {
    "tags": []
   },
   "outputs": [],
   "source": [
    "def clean_ingredients(ingredients):\n",
    "    full = []\n",
    "    ingredients = ingredients.replace('\\\\n', ',').replace('\\n',',')\n",
    "    for string in ingredients.split(','):\n",
    "        string = ' '.join(string.strip().split())\n",
    "        string = string.replace(\"'\", '').replace('\\\\xa0',' ').replace('[','').replace(']','').replace('\"','')\n",
    "        full += string.split(',')\n",
    "    return full"
   ]
  },
  {
   "cell_type": "code",
   "execution_count": 471,
   "id": "d2108321-aa20-466b-9858-6e2ad64d7e0b",
   "metadata": {
    "tags": []
   },
   "outputs": [],
   "source": [
    "# def clean_ingredients(ingredients):\n",
    "#     full = []\n",
    "#     ingredients = ingredients.replace('\\\\n', ',').replace('\\n',',')\n",
    "#     for string in ingredients.split(','):\n",
    "#         string = ' '.join(string.strip().split())\n",
    "#         string = string.replace(\"'\", '').replace('\\\\xa0',' ').replace('[','').replace(']','')\n",
    "#         full += string.split(',')\n",
    "#     return full"
   ]
  },
  {
   "cell_type": "code",
   "execution_count": 472,
   "id": "7536d78f-7855-4624-856b-c32939c9a543",
   "metadata": {
    "tags": []
   },
   "outputs": [
    {
     "name": "stdout",
     "output_type": "stream",
     "text": [
      "113.4 grams package super firm tofu 0.25 cup red onion\n",
      "0.25 stalk celery\n",
      "3.75 grams fresh dill (or 1 teaspoon dried dill)\n",
      "3.75 grams mustard of choice\n",
      "18.75 grams mayonnaise\n",
      "0.62 grams turmeric for color\n",
      "Juice from 0.12 lemon\n"
     ]
    }
   ],
   "source": [
    "test_unseen = []\n",
    "test = '''[16 ounce package Super Firm Tofu' '1/4 cup red onion\n",
    "1 stalk celery\n",
    "1 Tablespoon fresh dill (or 1 teaspoon dried dill)\n",
    "1 Tablespoon mustard of choice\n",
    "5 Tablespoons mayonnaise\n",
    "1/2 teaspoon turmeric for color\n",
    "Juice from 1/2 lemon']'''\n",
    "\n",
    "test = clean_ingredients(test)\n",
    "for x in test:\n",
    "    string = convert_vulgar_fractions_in_place(x)\n",
    "    try:    \n",
    "        string = fraction_replacer(string)\n",
    "    except Exception as e:\n",
    "        print(f\"Error converting [{string}] on item {count}\")\n",
    "        continue\n",
    "    else:\n",
    "        pass\n",
    "    string = ingredient_standardizer(string, 4)\n",
    "    print(string)"
   ]
  },
  {
   "cell_type": "code",
   "execution_count": null,
   "id": "40ab3655-9e23-4096-82e7-121fffaf97a6",
   "metadata": {},
   "outputs": [],
   "source": []
  },
  {
   "cell_type": "code",
   "execution_count": 473,
   "id": "84a91ed4-c781-41b7-a704-14da9f035bce",
   "metadata": {
    "tags": []
   },
   "outputs": [
    {
     "data": {
      "text/html": [
       "<div>\n",
       "<style scoped>\n",
       "    .dataframe tbody tr th:only-of-type {\n",
       "        vertical-align: middle;\n",
       "    }\n",
       "\n",
       "    .dataframe tbody tr th {\n",
       "        vertical-align: top;\n",
       "    }\n",
       "\n",
       "    .dataframe thead th {\n",
       "        text-align: right;\n",
       "    }\n",
       "</style>\n",
       "<table border=\"1\" class=\"dataframe\">\n",
       "  <thead>\n",
       "    <tr style=\"text-align: right;\">\n",
       "      <th></th>\n",
       "      <th>Unnamed: 0</th>\n",
       "      <th>url</th>\n",
       "      <th>serving_size</th>\n",
       "      <th>ingredients_raw</th>\n",
       "      <th>calories</th>\n",
       "      <th>saturated fat</th>\n",
       "      <th>protein</th>\n",
       "      <th>sodium</th>\n",
       "      <th>potassium</th>\n",
       "      <th>phosphorus</th>\n",
       "    </tr>\n",
       "  </thead>\n",
       "  <tbody>\n",
       "    <tr>\n",
       "      <th>0</th>\n",
       "      <td>0</td>\n",
       "      <td>https://www.kidneycommunitykitchen.ca/kkcookbo...</td>\n",
       "      <td>Servings per recipe: 5</td>\n",
       "      <td>['½ cup canned chickpeas rinsed and drained', ...</td>\n",
       "      <td>102 KCal</td>\n",
       "      <td>6.9 g</td>\n",
       "      <td>1.4 g</td>\n",
       "      <td>36.4 mg</td>\n",
       "      <td>122.4 mg</td>\n",
       "      <td>47.4 mg</td>\n",
       "    </tr>\n",
       "    <tr>\n",
       "      <th>1</th>\n",
       "      <td>1</td>\n",
       "      <td>https://www.kidneycommunitykitchen.ca/kkcookbo...</td>\n",
       "      <td>Servings per recipe: 8</td>\n",
       "      <td>['1.5 lbs – Sea Bass or Tilapia Fish of choice...</td>\n",
       "      <td>140 KCal</td>\n",
       "      <td>5 g</td>\n",
       "      <td>20 g</td>\n",
       "      <td>128 mg</td>\n",
       "      <td>353 mg</td>\n",
       "      <td>169 mg</td>\n",
       "    </tr>\n",
       "    <tr>\n",
       "      <th>2</th>\n",
       "      <td>2</td>\n",
       "      <td>https://www.kidneycommunitykitchen.ca/kkcookbo...</td>\n",
       "      <td>Servings per recipe: 4</td>\n",
       "      <td>['1 1/2 cups rhubarb ginger simple syrup &lt;&lt;&lt; G...</td>\n",
       "      <td>363 KCal</td>\n",
       "      <td>NaN</td>\n",
       "      <td>NaN</td>\n",
       "      <td>100 mg</td>\n",
       "      <td>285 mg</td>\n",
       "      <td>13.54 mg</td>\n",
       "    </tr>\n",
       "    <tr>\n",
       "      <th>3</th>\n",
       "      <td>3</td>\n",
       "      <td>https://www.kidneycommunitykitchen.ca/kkcookbo...</td>\n",
       "      <td>Servings per recipe: Makes 1 1/2 cups (375 ml)...</td>\n",
       "      <td>['1/3 cup (75 ml) beef broth, no salt added\\n1...</td>\n",
       "      <td>6.1 KCal</td>\n",
       "      <td>NaN</td>\n",
       "      <td>0.1 g</td>\n",
       "      <td>4 mg</td>\n",
       "      <td>26 mg</td>\n",
       "      <td>2 mg</td>\n",
       "    </tr>\n",
       "    <tr>\n",
       "      <th>4</th>\n",
       "      <td>4</td>\n",
       "      <td>https://www.kidneycommunitykitchen.ca/kkcookbo...</td>\n",
       "      <td>Servings per recipe: 8</td>\n",
       "      <td>['5 egg yolks\\n2 Tbsp fresh lemon zest\\n½ cup ...</td>\n",
       "      <td>150.7 KCal</td>\n",
       "      <td>10.7 g</td>\n",
       "      <td>4.3 g</td>\n",
       "      <td>34.1 mg</td>\n",
       "      <td>57.93 mg</td>\n",
       "      <td>75.21 mg</td>\n",
       "    </tr>\n",
       "  </tbody>\n",
       "</table>\n",
       "</div>"
      ],
      "text/plain": [
       "   Unnamed: 0                                                url  \\\n",
       "0           0  https://www.kidneycommunitykitchen.ca/kkcookbo...   \n",
       "1           1  https://www.kidneycommunitykitchen.ca/kkcookbo...   \n",
       "2           2  https://www.kidneycommunitykitchen.ca/kkcookbo...   \n",
       "3           3  https://www.kidneycommunitykitchen.ca/kkcookbo...   \n",
       "4           4  https://www.kidneycommunitykitchen.ca/kkcookbo...   \n",
       "\n",
       "                                        serving_size  \\\n",
       "0                             Servings per recipe: 5   \n",
       "1                             Servings per recipe: 8   \n",
       "2                             Servings per recipe: 4   \n",
       "3  Servings per recipe: Makes 1 1/2 cups (375 ml)...   \n",
       "4                             Servings per recipe: 8   \n",
       "\n",
       "                                     ingredients_raw     calories  \\\n",
       "0  ['½ cup canned chickpeas rinsed and drained', ...     102 KCal   \n",
       "1  ['1.5 lbs – Sea Bass or Tilapia Fish of choice...     140 KCal   \n",
       "2  ['1 1/2 cups rhubarb ginger simple syrup <<< G...     363 KCal   \n",
       "3  ['1/3 cup (75 ml) beef broth, no salt added\\n1...     6.1 KCal   \n",
       "4  ['5 egg yolks\\n2 Tbsp fresh lemon zest\\n½ cup ...   150.7 KCal   \n",
       "\n",
       "  saturated fat protein    sodium  potassium phosphorus  \n",
       "0         6.9 g   1.4 g   36.4 mg   122.4 mg    47.4 mg  \n",
       "1           5 g    20 g    128 mg     353 mg     169 mg  \n",
       "2           NaN     NaN    100 mg     285 mg   13.54 mg  \n",
       "3           NaN   0.1 g      4 mg      26 mg       2 mg  \n",
       "4        10.7 g   4.3 g   34.1 mg   57.93 mg   75.21 mg  "
      ]
     },
     "execution_count": 473,
     "metadata": {},
     "output_type": "execute_result"
    }
   ],
   "source": [
    "kf1.head()"
   ]
  },
  {
   "cell_type": "code",
   "execution_count": 474,
   "id": "d5c70142-e44d-4752-964e-30e2bbda9fc1",
   "metadata": {
    "tags": []
   },
   "outputs": [
    {
     "data": {
      "text/html": [
       "<div>\n",
       "<style scoped>\n",
       "    .dataframe tbody tr th:only-of-type {\n",
       "        vertical-align: middle;\n",
       "    }\n",
       "\n",
       "    .dataframe tbody tr th {\n",
       "        vertical-align: top;\n",
       "    }\n",
       "\n",
       "    .dataframe thead th {\n",
       "        text-align: right;\n",
       "    }\n",
       "</style>\n",
       "<table border=\"1\" class=\"dataframe\">\n",
       "  <thead>\n",
       "    <tr style=\"text-align: right;\">\n",
       "      <th></th>\n",
       "      <th>Unnamed: 0</th>\n",
       "      <th>url</th>\n",
       "      <th>serving_size</th>\n",
       "      <th>ingredients_raw</th>\n",
       "      <th>calories</th>\n",
       "      <th>saturated fat</th>\n",
       "      <th>protein</th>\n",
       "      <th>sodium</th>\n",
       "      <th>potassium</th>\n",
       "      <th>phosphorus</th>\n",
       "    </tr>\n",
       "  </thead>\n",
       "  <tbody>\n",
       "    <tr>\n",
       "      <th>0</th>\n",
       "      <td>0</td>\n",
       "      <td>https://kitchen.kidneyfund.org/recipe/sweet-ch...</td>\n",
       "      <td>12 servings</td>\n",
       "      <td>['9-inch-deep dish pie crust', '1 ½ cups (abou...</td>\n",
       "      <td>213</td>\n",
       "      <td>\\n4 g\\n</td>\n",
       "      <td>\\n3 g\\n</td>\n",
       "      <td>\\n91 mg\\n</td>\n",
       "      <td>\\n197 mg\\n</td>\n",
       "      <td>\\n49 mg\\n</td>\n",
       "    </tr>\n",
       "    <tr>\n",
       "      <th>1</th>\n",
       "      <td>1</td>\n",
       "      <td>https://kitchen.kidneyfund.org/recipe/sweet-ca...</td>\n",
       "      <td>4 servings</td>\n",
       "      <td>['3 cups carrots, sliced', '1 tablespoon sugar...</td>\n",
       "      <td>111</td>\n",
       "      <td>\\n4 g\\n</td>\n",
       "      <td>\\n1 g\\n</td>\n",
       "      <td>\\n81 mg\\n</td>\n",
       "      <td>\\n376 mg\\n</td>\n",
       "      <td>\\n43 mg\\n</td>\n",
       "    </tr>\n",
       "    <tr>\n",
       "      <th>2</th>\n",
       "      <td>2</td>\n",
       "      <td>https://kitchen.kidneyfund.org/recipe/sugar-fr...</td>\n",
       "      <td>8 servings</td>\n",
       "      <td>['1 ¼ cups graham cracker crumbs', '⅓ cup unsa...</td>\n",
       "      <td>229</td>\n",
       "      <td>\\n7 g\\n</td>\n",
       "      <td>\\n4 g\\n</td>\n",
       "      <td>\\n172 mg\\n</td>\n",
       "      <td>\\n136 mg\\n</td>\n",
       "      <td>\\n82 mg\\n</td>\n",
       "    </tr>\n",
       "    <tr>\n",
       "      <th>3</th>\n",
       "      <td>3</td>\n",
       "      <td>https://kitchen.kidneyfund.org/recipe/non-alco...</td>\n",
       "      <td>6 servings</td>\n",
       "      <td>['1 ½ cups liquid non-dairy coffee creamer\\xa0...</td>\n",
       "      <td>110</td>\n",
       "      <td>\\n3 g\\n</td>\n",
       "      <td>\\n2 g\\n</td>\n",
       "      <td>\\n81 mg\\n</td>\n",
       "      <td>\\n45 mg\\n</td>\n",
       "      <td>\\n15 mg\\n</td>\n",
       "    </tr>\n",
       "    <tr>\n",
       "      <th>4</th>\n",
       "      <td>4</td>\n",
       "      <td>https://kitchen.kidneyfund.org/recipe/non-alco...</td>\n",
       "      <td>4 servings</td>\n",
       "      <td>['1 cup apple juice, chilled\\xa0', '1 cup ging...</td>\n",
       "      <td>49</td>\n",
       "      <td>\\n0 g\\n</td>\n",
       "      <td>\\n0 g\\n</td>\n",
       "      <td>\\n7 mg\\n</td>\n",
       "      <td>\\n63 mg\\n</td>\n",
       "      <td>\\n4 mg\\n</td>\n",
       "    </tr>\n",
       "  </tbody>\n",
       "</table>\n",
       "</div>"
      ],
      "text/plain": [
       "   Unnamed: 0                                                url serving_size  \\\n",
       "0           0  https://kitchen.kidneyfund.org/recipe/sweet-ch...  12 servings   \n",
       "1           1  https://kitchen.kidneyfund.org/recipe/sweet-ca...   4 servings   \n",
       "2           2  https://kitchen.kidneyfund.org/recipe/sugar-fr...   8 servings   \n",
       "3           3  https://kitchen.kidneyfund.org/recipe/non-alco...   6 servings   \n",
       "4           4  https://kitchen.kidneyfund.org/recipe/non-alco...   4 servings   \n",
       "\n",
       "                                     ingredients_raw  calories saturated fat  \\\n",
       "0  ['9-inch-deep dish pie crust', '1 ½ cups (abou...       213       \\n4 g\\n   \n",
       "1  ['3 cups carrots, sliced', '1 tablespoon sugar...       111       \\n4 g\\n   \n",
       "2  ['1 ¼ cups graham cracker crumbs', '⅓ cup unsa...       229       \\n7 g\\n   \n",
       "3  ['1 ½ cups liquid non-dairy coffee creamer\\xa0...       110       \\n3 g\\n   \n",
       "4  ['1 cup apple juice, chilled\\xa0', '1 cup ging...        49       \\n0 g\\n   \n",
       "\n",
       "   protein      sodium   potassium phosphorus  \n",
       "0  \\n3 g\\n   \\n91 mg\\n  \\n197 mg\\n  \\n49 mg\\n  \n",
       "1  \\n1 g\\n   \\n81 mg\\n  \\n376 mg\\n  \\n43 mg\\n  \n",
       "2  \\n4 g\\n  \\n172 mg\\n  \\n136 mg\\n  \\n82 mg\\n  \n",
       "3  \\n2 g\\n   \\n81 mg\\n   \\n45 mg\\n  \\n15 mg\\n  \n",
       "4  \\n0 g\\n    \\n7 mg\\n   \\n63 mg\\n   \\n4 mg\\n  "
      ]
     },
     "execution_count": 474,
     "metadata": {},
     "output_type": "execute_result"
    }
   ],
   "source": [
    "kf2.head()"
   ]
  },
  {
   "cell_type": "code",
   "execution_count": 475,
   "id": "bf5a008a-a9cc-44fb-a6dc-dc1f07a017f4",
   "metadata": {
    "tags": []
   },
   "outputs": [],
   "source": [
    "kf_df = pd.concat([kf1, kf2], axis = 0)"
   ]
  },
  {
   "cell_type": "code",
   "execution_count": 476,
   "id": "8c045552-1ab4-4943-adcc-eb8d253924fb",
   "metadata": {},
   "outputs": [],
   "source": [
    "kf_df['label'] = 1"
   ]
  },
  {
   "cell_type": "code",
   "execution_count": 477,
   "id": "9d2014e9-fa36-452e-a364-0a6a323169de",
   "metadata": {
    "tags": []
   },
   "outputs": [],
   "source": [
    "kf_df = kf_df[['ingredients_raw','serving_size','label']]"
   ]
  },
  {
   "cell_type": "code",
   "execution_count": 478,
   "id": "e19e6f40-59a2-499c-bdbe-b57b3e14db9e",
   "metadata": {
    "tags": []
   },
   "outputs": [],
   "source": [
    "kf_df['serving_size'] = kf_df['serving_size'].apply(find_numerics)\n"
   ]
  },
  {
   "cell_type": "code",
   "execution_count": 479,
   "id": "82c184d6-330b-438f-9c81-f523825aa435",
   "metadata": {
    "tags": []
   },
   "outputs": [
    {
     "data": {
      "text/plain": [
       "[]"
      ]
     },
     "execution_count": 479,
     "metadata": {},
     "output_type": "execute_result"
    }
   ],
   "source": [
    "test = []\n",
    "test"
   ]
  },
  {
   "cell_type": "code",
   "execution_count": null,
   "id": "ef7704fe-4c89-4481-b0af-a1290300c006",
   "metadata": {
    "tags": []
   },
   "outputs": [],
   "source": []
  },
  {
   "cell_type": "code",
   "execution_count": 480,
   "id": "f8320b74-1d91-43bc-9d6b-23181121381a",
   "metadata": {
    "tags": []
   },
   "outputs": [],
   "source": [
    "serving_size_values = []\n",
    "for i in kf_df['serving_size']:\n",
    "    if len(i) > 0:\n",
    "        serving_size_values.append(i[0])\n",
    "    else:\n",
    "        serving_size_values.append(1)\n",
    "# kf_df['serving_size_nums'] = serving_size_values"
   ]
  },
  {
   "cell_type": "code",
   "execution_count": 481,
   "id": "5b080fa3-491d-4164-a76e-d08d5a3ac7ff",
   "metadata": {
    "tags": []
   },
   "outputs": [],
   "source": [
    "kf_df['serving_size_nums'] = serving_size_values"
   ]
  },
  {
   "cell_type": "code",
   "execution_count": null,
   "id": "2fa4535d-1962-45e7-aaaa-d72f718cab9f",
   "metadata": {
    "tags": []
   },
   "outputs": [],
   "source": []
  },
  {
   "cell_type": "code",
   "execution_count": 482,
   "id": "24ce89da-affc-4d80-9b3a-039c7aaf65e5",
   "metadata": {
    "tags": []
   },
   "outputs": [],
   "source": [
    "sn = kf_df['serving_size_nums']"
   ]
  },
  {
   "cell_type": "code",
   "execution_count": 483,
   "id": "e7f52230-c240-4d07-b3c4-c95c9cdbeca6",
   "metadata": {
    "tags": []
   },
   "outputs": [],
   "source": [
    "odd_servings = kf_df[sn.str.len() > 3].index"
   ]
  },
  {
   "cell_type": "code",
   "execution_count": 484,
   "id": "e53a3495-63cd-4889-86f9-30deba3f640c",
   "metadata": {
    "tags": []
   },
   "outputs": [],
   "source": [
    "kf_df = kf_df.drop(odd_servings)"
   ]
  },
  {
   "cell_type": "code",
   "execution_count": 485,
   "id": "eb8cab47-ff7f-49d8-badb-157944e481a7",
   "metadata": {
    "tags": []
   },
   "outputs": [
    {
     "data": {
      "text/plain": [
       "Int64Index([  0,   1,   2,   3,   4,   5,   6,   7,   8,   9,\n",
       "            ...\n",
       "            657, 658, 659, 660, 661, 662, 663, 664, 665, 666],\n",
       "           dtype='int64', length=831)"
      ]
     },
     "execution_count": 485,
     "metadata": {},
     "output_type": "execute_result"
    }
   ],
   "source": [
    "kf_df.index"
   ]
  },
  {
   "cell_type": "code",
   "execution_count": 486,
   "id": "873aef90-b8a9-4947-88ba-7f7886a82e8e",
   "metadata": {
    "tags": []
   },
   "outputs": [],
   "source": [
    "kf_df.reset_index(inplace=True)"
   ]
  },
  {
   "cell_type": "code",
   "execution_count": 487,
   "id": "cb842f88-cf40-4752-811a-be826c6ecc94",
   "metadata": {
    "tags": []
   },
   "outputs": [
    {
     "data": {
      "text/plain": [
       "RangeIndex(start=0, stop=831, step=1)"
      ]
     },
     "execution_count": 487,
     "metadata": {},
     "output_type": "execute_result"
    }
   ],
   "source": [
    "kf_df.index"
   ]
  },
  {
   "cell_type": "code",
   "execution_count": 488,
   "id": "d6562d25-0484-4c4f-a7b0-f37e4fa1cd12",
   "metadata": {
    "tags": []
   },
   "outputs": [
    {
     "data": {
      "text/plain": [
       "RangeIndex(start=0, stop=185848, step=1)"
      ]
     },
     "execution_count": 488,
     "metadata": {},
     "output_type": "execute_result"
    }
   ],
   "source": [
    "nkf_df.index"
   ]
  },
  {
   "cell_type": "code",
   "execution_count": 489,
   "id": "96522170-8e62-4317-91a4-83e13c4ef339",
   "metadata": {
    "tags": []
   },
   "outputs": [],
   "source": [
    "kf_df.drop('index', axis = 1, inplace=True)"
   ]
  },
  {
   "cell_type": "code",
   "execution_count": 490,
   "id": "a9cfaa9a-31ad-47d9-a548-d40cf639d622",
   "metadata": {
    "tags": []
   },
   "outputs": [
    {
     "data": {
      "text/plain": [
       "RangeIndex(start=0, stop=831, step=1)"
      ]
     },
     "execution_count": 490,
     "metadata": {},
     "output_type": "execute_result"
    }
   ],
   "source": [
    "kf_df.index"
   ]
  },
  {
   "cell_type": "code",
   "execution_count": null,
   "id": "1a0ce661-9a1b-43e5-9dd9-683ddb085770",
   "metadata": {
    "tags": []
   },
   "outputs": [],
   "source": []
  },
  {
   "cell_type": "code",
   "execution_count": 491,
   "id": "35af865f-b640-4541-85d2-b93948932b9a",
   "metadata": {},
   "outputs": [],
   "source": [
    "# kf_df.reset_index(inplace=True)\n",
    "# nkf_df.reset_index(inplace=True)"
   ]
  },
  {
   "cell_type": "code",
   "execution_count": null,
   "id": "69f9cff8-16eb-4d5d-8bb0-c32fa91177fc",
   "metadata": {
    "tags": []
   },
   "outputs": [],
   "source": []
  },
  {
   "cell_type": "code",
   "execution_count": 492,
   "id": "2e2bb3eb-a573-434c-a038-0674abda38d9",
   "metadata": {
    "tags": []
   },
   "outputs": [
    {
     "data": {
      "text/plain": [
       "array(['5', '8', '4', '1', '30', '64', '2', '40', '16', '6', '12', '10',\n",
       "       '18', '9', '22', '17', '20', '3', '24', '19', '15', '32', '14',\n",
       "       '36', '23', '7', 1, '48', '72', '52'], dtype=object)"
      ]
     },
     "execution_count": 492,
     "metadata": {},
     "output_type": "execute_result"
    }
   ],
   "source": [
    "kf_df['serving_size_nums'].unique()"
   ]
  },
  {
   "cell_type": "markdown",
   "id": "6377dbb1-4001-4c3e-8e40-36b4baa20897",
   "metadata": {},
   "source": [
    "### Replace instances of vulgar fractions (unicode fractions) with decimals"
   ]
  },
  {
   "cell_type": "code",
   "execution_count": 493,
   "id": "3950c60c-5e63-459d-a3e2-d6d0438660f6",
   "metadata": {},
   "outputs": [],
   "source": [
    "#kf_df['serving_size_nums'] = kf_df['serving_size_nums'].apply(convert_vulgar_fractions_concat)\n",
    "#kf_df['serving_size_nums'] = kf_df['serving_size_nums'].apply(lambda x: convert_vulgar_fractions(x))"
   ]
  },
  {
   "cell_type": "code",
   "execution_count": null,
   "id": "a5776b5a-bcde-42c7-9cfc-ea97846957c5",
   "metadata": {
    "tags": []
   },
   "outputs": [],
   "source": []
  },
  {
   "cell_type": "markdown",
   "id": "f57f0758-fc3d-4d6d-855f-1058ca95861b",
   "metadata": {},
   "source": [
    "### Replace instances of fractions in strings represented as '1 1/4' with decimals"
   ]
  },
  {
   "cell_type": "code",
   "execution_count": 494,
   "id": "d65bffa2-d760-4a28-a257-6dab5fe64a43",
   "metadata": {
    "tags": []
   },
   "outputs": [],
   "source": [
    "#kf_df['serving_size_nums'] = kf_df['serving_size_nums'].apply(fraction_replacer)"
   ]
  },
  {
   "cell_type": "code",
   "execution_count": 495,
   "id": "fa2ebc9b-69ac-4ac4-a972-61de7e7e05a7",
   "metadata": {
    "tags": []
   },
   "outputs": [],
   "source": [
    "#kf_df['serving_size_nums'].unique()"
   ]
  },
  {
   "cell_type": "code",
   "execution_count": 496,
   "id": "80ef0611-de33-4b0e-a453-0ce05cf962ac",
   "metadata": {
    "tags": []
   },
   "outputs": [],
   "source": [
    "# kf_df['serving_size_nums'] = kf_df['serving_size_nums'].apply(lambda x : float(sum(Fraction(c) for c in x.split())))"
   ]
  },
  {
   "cell_type": "code",
   "execution_count": null,
   "id": "ca99924f-b58b-4cfc-be3c-79c1f9a2e4dc",
   "metadata": {
    "tags": []
   },
   "outputs": [],
   "source": []
  },
  {
   "cell_type": "markdown",
   "id": "582a07a6-d4f9-48a1-a863-8defd0298590",
   "metadata": {},
   "source": [
    "### Cast converted serving sizes to numeric"
   ]
  },
  {
   "cell_type": "code",
   "execution_count": 497,
   "id": "fee3d796-fbe9-4ab1-a2bd-00c4f90873ec",
   "metadata": {
    "tags": []
   },
   "outputs": [],
   "source": [
    "kf_df['serving_size_nums'] = pd.to_numeric(kf_df['serving_size_nums'])"
   ]
  },
  {
   "cell_type": "code",
   "execution_count": 498,
   "id": "22b28a07-cf4b-4cc3-b289-a94ad512fe3d",
   "metadata": {
    "tags": []
   },
   "outputs": [
    {
     "data": {
      "text/plain": [
       "ingredients_raw      object\n",
       "serving_size         object\n",
       "label                 int64\n",
       "serving_size_nums     int64\n",
       "dtype: object"
      ]
     },
     "execution_count": 498,
     "metadata": {},
     "output_type": "execute_result"
    }
   ],
   "source": [
    "kf_df.dtypes"
   ]
  },
  {
   "cell_type": "code",
   "execution_count": 499,
   "id": "0167a787-b2f2-451b-a451-829d00d845f9",
   "metadata": {
    "tags": []
   },
   "outputs": [],
   "source": [
    "kf_df = kf_df[['serving_size_nums', 'ingredients_raw', 'label']]"
   ]
  },
  {
   "cell_type": "code",
   "execution_count": 500,
   "id": "a6bfed31-f0ef-40b1-b0d7-b44c6d19c09d",
   "metadata": {
    "tags": []
   },
   "outputs": [
    {
     "data": {
      "text/html": [
       "<div>\n",
       "<style scoped>\n",
       "    .dataframe tbody tr th:only-of-type {\n",
       "        vertical-align: middle;\n",
       "    }\n",
       "\n",
       "    .dataframe tbody tr th {\n",
       "        vertical-align: top;\n",
       "    }\n",
       "\n",
       "    .dataframe thead th {\n",
       "        text-align: right;\n",
       "    }\n",
       "</style>\n",
       "<table border=\"1\" class=\"dataframe\">\n",
       "  <thead>\n",
       "    <tr style=\"text-align: right;\">\n",
       "      <th></th>\n",
       "      <th>serving_size_nums</th>\n",
       "      <th>ingredients_raw</th>\n",
       "      <th>label</th>\n",
       "    </tr>\n",
       "  </thead>\n",
       "  <tbody>\n",
       "    <tr>\n",
       "      <th>0</th>\n",
       "      <td>5</td>\n",
       "      <td>['½ cup canned chickpeas rinsed and drained', ...</td>\n",
       "      <td>1</td>\n",
       "    </tr>\n",
       "    <tr>\n",
       "      <th>1</th>\n",
       "      <td>8</td>\n",
       "      <td>['1.5 lbs – Sea Bass or Tilapia Fish of choice...</td>\n",
       "      <td>1</td>\n",
       "    </tr>\n",
       "    <tr>\n",
       "      <th>2</th>\n",
       "      <td>4</td>\n",
       "      <td>['1 1/2 cups rhubarb ginger simple syrup &lt;&lt;&lt; G...</td>\n",
       "      <td>1</td>\n",
       "    </tr>\n",
       "    <tr>\n",
       "      <th>3</th>\n",
       "      <td>1</td>\n",
       "      <td>['1/3 cup (75 ml) beef broth, no salt added\\n1...</td>\n",
       "      <td>1</td>\n",
       "    </tr>\n",
       "    <tr>\n",
       "      <th>4</th>\n",
       "      <td>8</td>\n",
       "      <td>['5 egg yolks\\n2 Tbsp fresh lemon zest\\n½ cup ...</td>\n",
       "      <td>1</td>\n",
       "    </tr>\n",
       "  </tbody>\n",
       "</table>\n",
       "</div>"
      ],
      "text/plain": [
       "   serving_size_nums                                    ingredients_raw  label\n",
       "0                  5  ['½ cup canned chickpeas rinsed and drained', ...      1\n",
       "1                  8  ['1.5 lbs – Sea Bass or Tilapia Fish of choice...      1\n",
       "2                  4  ['1 1/2 cups rhubarb ginger simple syrup <<< G...      1\n",
       "3                  1  ['1/3 cup (75 ml) beef broth, no salt added\\n1...      1\n",
       "4                  8  ['5 egg yolks\\n2 Tbsp fresh lemon zest\\n½ cup ...      1"
      ]
     },
     "execution_count": 500,
     "metadata": {},
     "output_type": "execute_result"
    }
   ],
   "source": [
    "kf_df.head()"
   ]
  },
  {
   "cell_type": "code",
   "execution_count": null,
   "id": "25f8dd49-da41-45c4-9963-158aab97c0d7",
   "metadata": {
    "tags": []
   },
   "outputs": [],
   "source": []
  },
  {
   "cell_type": "code",
   "execution_count": 501,
   "id": "3f60691c-74b5-4bf6-8f68-32fd26886c46",
   "metadata": {
    "tags": []
   },
   "outputs": [],
   "source": [
    "nkf1['label'] = 0"
   ]
  },
  {
   "cell_type": "code",
   "execution_count": 502,
   "id": "a23bb66a-2e1a-4738-80e1-5b59991671bf",
   "metadata": {
    "tags": []
   },
   "outputs": [],
   "source": [
    "nkf_df = nkf1[['RecipeServings', 'ingredients_raw_str', 'label']]"
   ]
  },
  {
   "cell_type": "code",
   "execution_count": 503,
   "id": "49c7535c-0393-4fe8-97b8-2c6e4d639e22",
   "metadata": {
    "tags": []
   },
   "outputs": [
    {
     "data": {
      "text/plain": [
       "RecipeServings         float64\n",
       "ingredients_raw_str     object\n",
       "label                    int64\n",
       "dtype: object"
      ]
     },
     "execution_count": 503,
     "metadata": {},
     "output_type": "execute_result"
    }
   ],
   "source": [
    "nkf_df.dtypes"
   ]
  },
  {
   "cell_type": "code",
   "execution_count": 504,
   "id": "2c770b46-b89e-49f6-82aa-68c5af2e3176",
   "metadata": {
    "tags": []
   },
   "outputs": [
    {
     "data": {
      "text/plain": [
       "serving_size_nums     int64\n",
       "ingredients_raw      object\n",
       "label                 int64\n",
       "dtype: object"
      ]
     },
     "execution_count": 504,
     "metadata": {},
     "output_type": "execute_result"
    }
   ],
   "source": [
    "kf_df.dtypes"
   ]
  },
  {
   "cell_type": "code",
   "execution_count": 505,
   "id": "c5f7471e-41c3-4a2c-b891-f47fcc47696c",
   "metadata": {
    "tags": []
   },
   "outputs": [
    {
     "name": "stderr",
     "output_type": "stream",
     "text": [
      "C:\\Users\\mikem\\AppData\\Local\\Temp\\ipykernel_59308\\3592584830.py:1: SettingWithCopyWarning: \n",
      "A value is trying to be set on a copy of a slice from a DataFrame\n",
      "\n",
      "See the caveats in the documentation: https://pandas.pydata.org/pandas-docs/stable/user_guide/indexing.html#returning-a-view-versus-a-copy\n",
      "  nkf_df.rename({'RecipeServings' : 'serving_size'}, axis =1, inplace = True)\n"
     ]
    }
   ],
   "source": [
    "nkf_df.rename({'RecipeServings' : 'serving_size'}, axis =1, inplace = True)"
   ]
  },
  {
   "cell_type": "code",
   "execution_count": 506,
   "id": "ace5fe14-7b8e-48e5-9689-f2d12a85a19a",
   "metadata": {
    "tags": []
   },
   "outputs": [],
   "source": [
    "kf_df.rename({'serving_size_nums': 'serving_size'}, axis = 1, inplace = True)"
   ]
  },
  {
   "cell_type": "code",
   "execution_count": 507,
   "id": "189d60e6-f494-4080-b365-01070f7ec356",
   "metadata": {
    "tags": []
   },
   "outputs": [
    {
     "data": {
      "text/plain": [
       "(185848, 3)"
      ]
     },
     "execution_count": 507,
     "metadata": {},
     "output_type": "execute_result"
    }
   ],
   "source": [
    "nkf_df.shape"
   ]
  },
  {
   "cell_type": "code",
   "execution_count": 508,
   "id": "f76831ba-c923-40ce-9681-44793587604f",
   "metadata": {
    "tags": []
   },
   "outputs": [
    {
     "data": {
      "text/plain": [
       "(831, 3)"
      ]
     },
     "execution_count": 508,
     "metadata": {},
     "output_type": "execute_result"
    }
   ],
   "source": [
    "kf_df.shape"
   ]
  },
  {
   "cell_type": "code",
   "execution_count": null,
   "id": "09864fcb-ae62-4758-8b5c-da5bf77dff87",
   "metadata": {
    "tags": []
   },
   "outputs": [],
   "source": []
  },
  {
   "cell_type": "code",
   "execution_count": 509,
   "id": "e47e1215-3033-4d10-8433-b3cf2e0c78c9",
   "metadata": {
    "tags": []
   },
   "outputs": [
    {
     "data": {
      "text/plain": [
       "RangeIndex(start=0, stop=185848, step=1)"
      ]
     },
     "execution_count": 509,
     "metadata": {},
     "output_type": "execute_result"
    }
   ],
   "source": [
    "nkf_df.index"
   ]
  },
  {
   "cell_type": "markdown",
   "id": "306824a5-b399-4a63-8ccd-8fc9dc5e50eb",
   "metadata": {
    "tags": []
   },
   "source": [
    "### Convert the list-like raw string in kidney friendly recipes to a true list, then feed each item into a \"standardizer\" workflow"
   ]
  },
  {
   "cell_type": "code",
   "execution_count": 510,
   "id": "07c265ed-ad66-40e7-a55c-23e0731ac2e3",
   "metadata": {
    "tags": []
   },
   "outputs": [],
   "source": [
    "parsed_ingredients = []\n",
    "for x in kf_df['ingredients_raw'].index:\n",
    "    parsed_ingredients.append(clean_ingredients(kf_df['ingredients_raw'][x]))\n"
   ]
  },
  {
   "cell_type": "code",
   "execution_count": null,
   "id": "6cc28c8b-7938-4a32-aff1-1f671c7eafac",
   "metadata": {
    "tags": []
   },
   "outputs": [],
   "source": []
  },
  {
   "cell_type": "code",
   "execution_count": 511,
   "id": "c831c3c3-b363-4fb7-a1fc-63f0c9e41ea7",
   "metadata": {
    "tags": []
   },
   "outputs": [
    {
     "name": "stdout",
     "output_type": "stream",
     "text": [
      "Error converting [200 g dry rice noodles (.25 inch/.5 cm wide)] on item 124\n"
     ]
    }
   ],
   "source": [
    "all_standardized_ingredients = []\n",
    "count = 0\n",
    "for item_list in parsed_ingredients:\n",
    "    item_standardized_ingredients = []\n",
    "    for i in item_list:\n",
    "        string = convert_vulgar_fractions_in_place(i)\n",
    "        try:    \n",
    "            string = fraction_replacer(string)\n",
    "        except Exception as e:\n",
    "            print(f\"Error converting [{string}] on item {count}\")\n",
    "            continue\n",
    "        else:\n",
    "            pass\n",
    "        string = ingredient_standardizer(string, kf_df['serving_size'][count])\n",
    "        item_standardized_ingredients.append(string)\n",
    "    all_standardized_ingredients.append(item_standardized_ingredients)\n",
    "    count+=1"
   ]
  },
  {
   "cell_type": "code",
   "execution_count": 512,
   "id": "8ee8a4e4-94b0-4258-8660-c7887a35b9bc",
   "metadata": {
    "tags": []
   },
   "outputs": [],
   "source": [
    "kf_df['standardized_ingredients'] = all_standardized_ingredients"
   ]
  },
  {
   "cell_type": "code",
   "execution_count": 513,
   "id": "14dfa02d-1c49-46b2-b327-b3f1d21d7879",
   "metadata": {
    "tags": []
   },
   "outputs": [
    {
     "data": {
      "text/html": [
       "<div>\n",
       "<style scoped>\n",
       "    .dataframe tbody tr th:only-of-type {\n",
       "        vertical-align: middle;\n",
       "    }\n",
       "\n",
       "    .dataframe tbody tr th {\n",
       "        vertical-align: top;\n",
       "    }\n",
       "\n",
       "    .dataframe thead th {\n",
       "        text-align: right;\n",
       "    }\n",
       "</style>\n",
       "<table border=\"1\" class=\"dataframe\">\n",
       "  <thead>\n",
       "    <tr style=\"text-align: right;\">\n",
       "      <th></th>\n",
       "      <th>serving_size</th>\n",
       "      <th>ingredients_raw</th>\n",
       "      <th>label</th>\n",
       "      <th>standardized_ingredients</th>\n",
       "    </tr>\n",
       "  </thead>\n",
       "  <tbody>\n",
       "    <tr>\n",
       "      <th>0</th>\n",
       "      <td>5</td>\n",
       "      <td>['½ cup canned chickpeas rinsed and drained', ...</td>\n",
       "      <td>1</td>\n",
       "      <td>[23.66 grams canned chickpeas rinsed and drain...</td>\n",
       "    </tr>\n",
       "    <tr>\n",
       "      <th>1</th>\n",
       "      <td>8</td>\n",
       "      <td>['1.5 lbs – Sea Bass or Tilapia Fish of choice...</td>\n",
       "      <td>1</td>\n",
       "      <td>[85.05 grams – sea bass or tilapia fish of cho...</td>\n",
       "    </tr>\n",
       "    <tr>\n",
       "      <th>2</th>\n",
       "      <td>4</td>\n",
       "      <td>['1 1/2 cups rhubarb ginger simple syrup &lt;&lt;&lt; G...</td>\n",
       "      <td>1</td>\n",
       "      <td>[59.15 0.5 grams rhubarb ginger simple syrup &lt;...</td>\n",
       "    </tr>\n",
       "    <tr>\n",
       "      <th>3</th>\n",
       "      <td>1</td>\n",
       "      <td>['1/3 cup (75 ml) beef broth, no salt added\\n1...</td>\n",
       "      <td>1</td>\n",
       "      <td>[78.07 grams (75 ml) beef broth, no salt added...</td>\n",
       "    </tr>\n",
       "    <tr>\n",
       "      <th>4</th>\n",
       "      <td>8</td>\n",
       "      <td>['5 egg yolks\\n2 Tbsp fresh lemon zest\\n½ cup ...</td>\n",
       "      <td>1</td>\n",
       "      <td>[0.62 egg yolks, 3.75 grams fresh lemon zest, ...</td>\n",
       "    </tr>\n",
       "  </tbody>\n",
       "</table>\n",
       "</div>"
      ],
      "text/plain": [
       "   serving_size                                    ingredients_raw  label  \\\n",
       "0             5  ['½ cup canned chickpeas rinsed and drained', ...      1   \n",
       "1             8  ['1.5 lbs – Sea Bass or Tilapia Fish of choice...      1   \n",
       "2             4  ['1 1/2 cups rhubarb ginger simple syrup <<< G...      1   \n",
       "3             1  ['1/3 cup (75 ml) beef broth, no salt added\\n1...      1   \n",
       "4             8  ['5 egg yolks\\n2 Tbsp fresh lemon zest\\n½ cup ...      1   \n",
       "\n",
       "                            standardized_ingredients  \n",
       "0  [23.66 grams canned chickpeas rinsed and drain...  \n",
       "1  [85.05 grams – sea bass or tilapia fish of cho...  \n",
       "2  [59.15 0.5 grams rhubarb ginger simple syrup <...  \n",
       "3  [78.07 grams (75 ml) beef broth, no salt added...  \n",
       "4  [0.62 egg yolks, 3.75 grams fresh lemon zest, ...  "
      ]
     },
     "execution_count": 513,
     "metadata": {},
     "output_type": "execute_result"
    }
   ],
   "source": [
    "kf_df.head()"
   ]
  },
  {
   "cell_type": "code",
   "execution_count": 525,
   "id": "8e7a61e1-689a-4fac-9a70-26d72cec5c06",
   "metadata": {
    "tags": []
   },
   "outputs": [],
   "source": [
    "kf_df.to_csv('../data/generated/kidney-friendly-standardized_2.csv', index=True)"
   ]
  },
  {
   "cell_type": "markdown",
   "id": "61cbdf17-5c18-4b05-a709-ad204c127fae",
   "metadata": {
    "tags": []
   },
   "source": [
    "### Take a sample of the much larger non-kidney friendly database and repeat the standardization steps"
   ]
  },
  {
   "cell_type": "code",
   "execution_count": 515,
   "id": "26137ac0-ecbf-478a-a858-03db1d10860e",
   "metadata": {
    "tags": []
   },
   "outputs": [],
   "source": [
    "nkf_df_sample = nkf_df.sample(10000, ignore_index=True)"
   ]
  },
  {
   "cell_type": "code",
   "execution_count": 516,
   "id": "f631e006-ddae-4303-abe6-e934bfc9d4d7",
   "metadata": {},
   "outputs": [],
   "source": [
    "parsed_ingredients = []\n",
    "for x in nkf_df_sample['ingredients_raw_str'].index:\n",
    "    parsed_ingredients.append(clean_ingredients(nkf_df_sample['ingredients_raw_str'][x]))"
   ]
  },
  {
   "cell_type": "code",
   "execution_count": null,
   "id": "f2fcd40c-6b57-4f01-b5d4-2069b261dfc8",
   "metadata": {
    "tags": []
   },
   "outputs": [],
   "source": []
  },
  {
   "cell_type": "code",
   "execution_count": 517,
   "id": "57acc142-4c07-451f-829c-c4145eda140a",
   "metadata": {
    "tags": []
   },
   "outputs": [
    {
     "name": "stdout",
     "output_type": "stream",
     "text": [
      "Error converting [14 cups \\u003ca href\\u003d\\https://www.geniuskitchen.com/recipe/milkmoon-meringue-buttercream-536136\\\\u003eMilkmoon Meringue Buttercream\\u003c/a\\u003e for frosting] on item 11\n",
      "Error converting [1 (1 ounce) package taco seasoning mix (or use my own \\u003ca href\\u003d\\https://www.geniuskitchen.com/recipe/kittencals-taco-seasoning-mix-76616\\\\u003eKittencal\\u0027s Taco Seasoning Mix\\u003c/a\\u003e)] on item 737\n",
      "Error converting [ caramelized shallot (\\u003ca href\\u003d\\https://www.geniuskitchen.com/recipe/caramelized-shallots-408147\\\\u003eCaramelized Shallots\\u003c/a\\u003e)] on item 1208\n",
      "Error converting [ piquillo pepper ketchup (\\u003ca href\\u003d\\https://www.geniuskitchen.com/recipe/piquillo-pepper-ketchup-408089\\\\u003ePiquillo Pepper Ketchup\\u003c/a\\u003e)] on item 1208\n",
      "Error converting [ \\u003ca href\\u003d\\https://www.geniuskitchen.com/recipe/basic-massoni-pizza-base-537146\\\\u003eBasic Massoni Pizza Base\\u003c/a\\u003e for pizza dough] on item 1389\n",
      "Error converting [1 cup medium white sauce (\\u003ca href\\u003d\\https://www.geniuskitchen.com/recipe/magic-white-sauce-and-variations-92008/\\\\u003eMagic White Sauce (and Variations)\\u003c/a\\u003e or your own recipe)] on item 1556\n",
      "Error converting [1 pork tenderloin (about 12 oz./375g)] on item 2153\n",
      "Error converting [I use Texas Red Enchilada Sauce \\u003ca href\\u003d\\https://www.geniuskitchen.com/recipe/texas-red-enchilada-sauce-42094\\\\u003eTexas Red Enchilada Sauce\\u003c/a\\u003e ] on item 2246\n",
      "Error converting [about 14 ounces/390 g ] on item 2460\n",
      "Error converting [about 4 ounces/110 g each ] on item 2460\n",
      "Error converting [2 cups sticky rice (see my recipe \\u003ca href\\u003d\\https://www.geniuskitchen.com/recipe/easy-sticky-rice-in-a-pasta-pot-505768\\\\u003eEasy Sticky Rice (In a Pasta Pot)\\u003c/a\\u003e)] on item 2545\n",
      "Error converting [room temperature (I used Hot As Hell Habanero Zucchini Jelly \\u003ca href\\u003d\\https://www.geniuskitchen.com/recipe/hot-as-hell-habanero-zucchini-jelly-95424\\\\u003eHot As Hell Habanero Zucchini Jelly\\u003c/a\\u003e)] on item 2801\n",
      "Error converting [\\u003ca href\\u003d\\https://www.geniuskitchen.com/recipe/classic-pie-crust-idiot-proof-step-by-step-photo-tutorial-26205\\\\u003eClassic Pie Crust] on item 3529\n",
      "Error converting [Idiot Proof Step-By-Step Photo Tutorial\\u003c/a\\u003e)] on item 3529\n",
      "Error converting [1 pint curry sauce (\\u003ca href\\u003d\\https://www.geniuskitchen.com/recipe/tikka-masala-sauce-534840\\\\u003eTikka Masala Sauce\\u003c/a\\u003e)] on item 3685\n",
      "Error converting [\\u003ca href\\u003d\\https://www.geniuskitchen.com/recipe/paula-deens-house-seasoning-mix-57340/\\\\u003ePaula Deen\\u0027s House Seasoning Mix\\u003c/a\\u003e ] on item 3719\n",
      "Error converting [1 cup pizza sauce (I use \\u003ca href\\u003d\\https://www.geniuskitchen.com/recipe/freezer-pizza-sauce-137051\\\\u003eFreezer Pizza Sauce\\u003c/a\\u003e] on item 3768\n",
      "Error converting [ wasabi dill sauce (I use \\u003ca href\\u003d\\https://www.geniuskitchen.com/recipe/wasabi-tartar-sauce-256609\\\\u003eWasabi Tartar Sauce\\u003c/a\\u003e)] on item 3821\n",
      "Error converting [1 cup pesto sauce (i use \\u003ca href\\u003d\\https://www.geniuskitchen.com/recipe/flat-iron-steaks-with-lemon-basil-pesto-366872\\\\u003eFlat Iron Steaks With Lemon-Basil Pesto\\u003c/a\\u003e for my pesto sauce)] on item 4030\n",
      "Error converting [2 ounces roux (*try \\u003ca href\\u003d\\https://www.geniuskitchen.com/recipe/gumbo-base-aka-roux-47651\\\\u003eGumbo Base (Aka Roux)\\u003c/a\\u003e] on item 4215\n",
      "Error converting [1 ounce shrimp stock (try \\u003ca href\\u003d\\https://www.geniuskitchen.com/recipe/shrimp-stock-61197\\\\u003eShrimp Stock\\u003c/a\\u003e)] on item 4215\n",
      "Error converting [1 lb lucy lu\\u0027s turkey sausage (I use \\u003ca href\\u003d\\https://www.geniuskitchen.com/recipe/lucy-lus-spicy-turkey-sausage-207153\\\\u003eLucy Lu\\u0027s Spicy Turkey Sausage\\u003c/a\\u003e on Recipezaar)] on item 5120\n",
      "Error converting [like May Ploy (or see \\u003ca href\\u003d\\https://www.geniuskitchen.com/recipe/thai-sweet-chili-sauce-457035\\\\u003eThai Sweet Chili Sauce\\u003c/a\\u003e Thai Sweet Chili Sauce)] on item 5282\n",
      "Error converting [\\u003ca href\\u003d\\https://www.geniuskitchen.com/recipe/hot-as-hell-habanero-zucchini-jelly-95424\\\\u003eHot As Hell Habanero Zucchini Jelly\\u003c/a\\u003e ] on item 5365\n",
      "Error converting [I use Gram\\u0027s Chocolate Sauce \\u003ca href\\u003d\\https://www.geniuskitchen.com/recipe/grams-chocolate-sauce-113384\\\\u003eGram\\u0027s Chocolate Sauce\\u003c/a\\u003e ] on item 6205\n",
      "Error converting [1 stewing chicken (or 3lb/1.5kg chicken pieces)] on item 6206\n",
      "Error converting [1 tablespoon/ 15 ml red wine vinegar] on item 6339\n",
      "Error converting [1 tablespoon/ 15 ml red wine vinegar] on item 6339\n",
      "Error converting [1 teaspoon/ 5 ml sugar] on item 6339\n",
      "Error converting [1 pound/ 450 g pork tenderloin] on item 6339\n",
      "Error converting [1 tablespoon/ 15 ml smoked paprika] on item 6339\n",
      "Error converting [1 tablespoon/ 15 ml sweet paprika] on item 6339\n",
      "Error converting [1 teaspoon/ 5 ml cayenne] on item 6339\n",
      "Error converting [2 tablespoons/ 30 ml canola oil] on item 6339\n",
      "Error converting [warm (or Shredded Beef \\u003ca href\\u003d\\https://www.geniuskitchen.com/recipe/versatile-roast-beef-in-the-crock-pot-269126\\\\u003eVersatile Roast Beef in the Crock Pot\\u003c/a\\u003e #269126)] on item 6555\n",
      "Error converting [horseradish spread (\\u003ca href\\u003d\\https://www.geniuskitchen.com/recipe/california-avocado-horseradish-spread-sauce-284084\\\\u003eCalifornia Avocado Horseradish Spread/Sauce\\u003c/a\\u003e # 284084 optional] on item 6555\n",
      "Error converting [unbaked (see \\u003ca href\\u003d\\https://www.geniuskitchen.com/recipe/one-pie-shell-139232\\\\u003eOne Pie Shell\\u003c/a\\u003e)] on item 6709\n",
      "Error converting [use 1 1/§ cup fresh thyme plus 2 teaspoons findly shredded lemon peel)] on item 6886\n",
      "Error converting [4 crepes (See \\u003ca href\\u003d\\https://www.geniuskitchen.com/recipe/crepes-for-two-233067\\\\u003eCrepes for Two\\u003c/a\\u003e)] on item 6980\n",
      "Error converting [1 cup basil pesto (I use Basil Pesto \\Lighter\\ Version-\\u003ca href\\u003d\\https://www.geniuskitchen.com/recipe/basil-pesto-lighter-version-63388\\\\u003eBasil Pesto - \\u0026quot;Lighter Version\\u0026quot;\\u003c/a\\u003e)] on item 7270\n",
      "Error converting [2 -3 cups texas red enchilada sauce (1 batch \\u003ca href\\u003d\\https://www.geniuskitchen.com/recipe/texas-red-enchilada-sauce-42094\\\\u003eTexas Red Enchilada Sauce\\u003c/a\\u003e)] on item 7344\n",
      "Error converting [preferably homemade (Recipe #143924) or 12 cups rich turkey stock (\\u003ca href\\u003d\\https://www.geniuskitchen.com/recipe/rich-turkey-stock-143924\\\\u003eRich Turkey Stock\\u003c/a\\u003e)] on item 7438\n",
      "Error converting [8 chicken drumsticks (about 2 lb/1 kg in total)] on item 7575\n",
      "Error converting [2 tablespoons seasoning (\\u003ca href\\u003d\\https://www.geniuskitchen.com/recipe/kfc-original-recipe-breading-mix-copycat-422315\\\\u003eKFC Original Recipe Breading Mix (Copycat)\\u003c/a\\u003e)] on item 7772\n",
      "Error converting [1 lb chorizo sausage (see \\u003ca href\\u003d\\https://www.geniuskitchen.com/recipe/chorizo-12818\\\\u003eChorizo\\u003c/a\\u003e)] on item 8619\n",
      "Error converting [1 (12 ounce) can sweetened condensed milk (or make your own with \\u003ca href\\u003d\\https://www.geniuskitchen.com/recipe/sweetened-condensed-milk-22881\\\\u003eSweetened Condensed Milk\\u003c/a\\u003e)] on item 8647\n",
      "Error converting [1 tablespoon spicy habanero pepper jelly (\\u003ca href\\u003d\\https://www.geniuskitchen.com/recipe/spicy-habanero-jelly-68981/\\\\u003eSpicy Habanero Jelly\\u003c/a\\u003e Or store bought or your favorite Jalapeno jelly)] on item 8759\n",
      "Error converting [4 skin-on salmon fillets (5 to 6 oz/140 to 170 g each)] on item 9150\n",
      "Error converting [6 -12 tablespoons tomato bruschetta topping (I use \\u003ca href\\u003d\\https://www.geniuskitchen.com/recipe/red-carpet-bruschetta-222776\\\\u003eRed Carpet Bruschetta\\u003c/a\\u003e)] on item 9408\n",
      "Error converting [3 cups red chili sauce (i use \\u003ca href\\u003d\\https://www.geniuskitchen.com/recipe/red-chili-sauce-314038\\\\u003eRed Chili Sauce\\u003c/a\\u003e or la victoria enchillada sauce)] on item 9672\n",
      "Error converting [1 pound/ 450g chorizo sausage] on item 9685\n",
      "Error converting [heated (I use \\u003ca href\\u003d\\https://www.geniuskitchen.com/recipe/mexican-red-chile-sauce-273750\\\\u003eMexican Red Chile Sauce\\u003c/a\\u003e)] on item 9783\n",
      "Error converting [\\u003ca href\\u003d\\https://www.geniuskitchen.com/recipe/moms-hummus-339204\\\\u003eMom\\u0027s Hummus\\u003c/a\\u003e ] on item 9856\n",
      "Error converting [salad aka tabouli \\u003ca href\\u003d\\https://www.geniuskitchen.com/recipe/tabouli-232941\\\\u003eTabouli\\u003c/a\\u003e ] on item 9856\n",
      "Error converting [1 tablespoon Emeril\\u0027s Original Essence (\\u003ca href\\u003d\\https://www.geniuskitchen.com/recipe/emerils-essence-creole-seasoning-41970\\\\u003eEmeril\\u0027s Essence Creole Seasoning\\u003c/a\\u003e)] on item 9859\n",
      "Error converting [ l/ 2 tsp. garlic powder] on item 9973\n"
     ]
    }
   ],
   "source": [
    "all_standardized_ingredients = []\n",
    "count = 0\n",
    "for item_list in parsed_ingredients:\n",
    "    item_standardized_ingredients = []\n",
    "    for i in item_list:\n",
    "        string = convert_vulgar_fractions_in_place(i)\n",
    "        try:    \n",
    "            string = fraction_replacer(string)\n",
    "        except Exception as e:\n",
    "            print(f\"Error converting [{string}] on item {count}\")\n",
    "            continue\n",
    "        else:\n",
    "            pass\n",
    "        string = ingredient_standardizer(string, nkf_df_sample['serving_size'][count])\n",
    "        item_standardized_ingredients.append(string)\n",
    "    all_standardized_ingredients.append(item_standardized_ingredients)\n",
    "    count+=1"
   ]
  },
  {
   "cell_type": "code",
   "execution_count": 518,
   "id": "8e2b14c2-8ed6-4e6e-926d-e3ed1ee7a6f5",
   "metadata": {
    "tags": []
   },
   "outputs": [],
   "source": [
    "nkf_df_sample['standardized_ingredients'] = all_standardized_ingredients"
   ]
  },
  {
   "cell_type": "code",
   "execution_count": 519,
   "id": "bfbf42e4-bf75-43f8-936c-a636ca6e80f1",
   "metadata": {
    "tags": []
   },
   "outputs": [
    {
     "data": {
      "text/plain": [
       "['78.07 grams rice',\n",
       " 'raw',\n",
       " 'uncooked (NOT instant)',\n",
       " '158.51 grams chicken broth (canned is fine)',\n",
       " '30.0 grams butter',\n",
       " 'divided ',\n",
       " '1.0 (6 ounce) can tuna',\n",
       " 'drained ',\n",
       " '15.0 grams lemon juice',\n",
       " '78.07 grams onion',\n",
       " 'diced ',\n",
       " '78.07 grams red bell pepper',\n",
       " '78.07 grams green bell pepper',\n",
       " ' salt and pepper']"
      ]
     },
     "execution_count": 519,
     "metadata": {},
     "output_type": "execute_result"
    }
   ],
   "source": [
    "nkf_df_sample.standardized_ingredients[1]"
   ]
  },
  {
   "cell_type": "code",
   "execution_count": 520,
   "id": "58e62a8c-6fd1-4bd4-93ef-a629c7be8a79",
   "metadata": {},
   "outputs": [
    {
     "data": {
      "text/html": [
       "<div>\n",
       "<style scoped>\n",
       "    .dataframe tbody tr th:only-of-type {\n",
       "        vertical-align: middle;\n",
       "    }\n",
       "\n",
       "    .dataframe tbody tr th {\n",
       "        vertical-align: top;\n",
       "    }\n",
       "\n",
       "    .dataframe thead th {\n",
       "        text-align: right;\n",
       "    }\n",
       "</style>\n",
       "<table border=\"1\" class=\"dataframe\">\n",
       "  <thead>\n",
       "    <tr style=\"text-align: right;\">\n",
       "      <th></th>\n",
       "      <th>standardized_ingredients</th>\n",
       "      <th>label</th>\n",
       "    </tr>\n",
       "  </thead>\n",
       "  <tbody>\n",
       "    <tr>\n",
       "      <th>0</th>\n",
       "      <td>[0.25 (28 ounce) can whole tomatoes, drained ,...</td>\n",
       "      <td>0</td>\n",
       "    </tr>\n",
       "    <tr>\n",
       "      <th>1</th>\n",
       "      <td>[78.07 grams rice, raw, uncooked (NOT instant)...</td>\n",
       "      <td>0</td>\n",
       "    </tr>\n",
       "    <tr>\n",
       "      <th>2</th>\n",
       "      <td>[1.0 whole wheat tortillas, 56.7 grams shredde...</td>\n",
       "      <td>0</td>\n",
       "    </tr>\n",
       "    <tr>\n",
       "      <th>3</th>\n",
       "      <td>[, 1.0 large potatoes (peeled and cooked), 3.3...</td>\n",
       "      <td>0</td>\n",
       "    </tr>\n",
       "    <tr>\n",
       "      <th>4</th>\n",
       "      <td>[11.25 grams butter, 11.25 grams all-purpose f...</td>\n",
       "      <td>0</td>\n",
       "    </tr>\n",
       "  </tbody>\n",
       "</table>\n",
       "</div>"
      ],
      "text/plain": [
       "                            standardized_ingredients  label\n",
       "0  [0.25 (28 ounce) can whole tomatoes, drained ,...      0\n",
       "1  [78.07 grams rice, raw, uncooked (NOT instant)...      0\n",
       "2  [1.0 whole wheat tortillas, 56.7 grams shredde...      0\n",
       "3  [, 1.0 large potatoes (peeled and cooked), 3.3...      0\n",
       "4  [11.25 grams butter, 11.25 grams all-purpose f...      0"
      ]
     },
     "execution_count": 520,
     "metadata": {},
     "output_type": "execute_result"
    }
   ],
   "source": [
    "nkf_df_sample = nkf_df_sample[['standardized_ingredients', 'label']]\n",
    "nkf_df_sample.head()"
   ]
  },
  {
   "cell_type": "code",
   "execution_count": 524,
   "id": "40a53813-d61c-4146-8ee7-7474096b5b82",
   "metadata": {
    "tags": []
   },
   "outputs": [],
   "source": [
    "nkf_df_sample.to_csv('../data/generated/nkf_sample_10000_2.csv')"
   ]
  },
  {
   "cell_type": "code",
   "execution_count": 522,
   "id": "f392684b-981a-4d95-aec1-099fd0c77180",
   "metadata": {
    "tags": []
   },
   "outputs": [
    {
     "data": {
      "text/plain": [
       "0    [0.25 (28 ounce) can whole tomatoes, drained ,...\n",
       "1    [78.07 grams rice, raw, uncooked (NOT instant)...\n",
       "2    [1.0 whole wheat tortillas, 56.7 grams shredde...\n",
       "3    [, 1.0 large potatoes (peeled and cooked), 3.3...\n",
       "4    [11.25 grams butter, 11.25 grams all-purpose f...\n",
       "Name: standardized_ingredients, dtype: object"
      ]
     },
     "execution_count": 522,
     "metadata": {},
     "output_type": "execute_result"
    }
   ],
   "source": [
    "nkf_df_sample['standardized_ingredients'].head()"
   ]
  },
  {
   "cell_type": "code",
   "execution_count": 523,
   "id": "b036db2e-9401-4095-bc19-60a2346a194d",
   "metadata": {
    "tags": []
   },
   "outputs": [
    {
     "data": {
      "text/plain": [
       "0    [23.66 grams canned chickpeas rinsed and drain...\n",
       "1    [85.05 grams – sea bass or tilapia fish of cho...\n",
       "2    [59.15 0.5 grams rhubarb ginger simple syrup <...\n",
       "3    [78.07 grams (75 ml) beef broth, no salt added...\n",
       "4    [0.62 egg yolks, 3.75 grams fresh lemon zest, ...\n",
       "Name: standardized_ingredients, dtype: object"
      ]
     },
     "execution_count": 523,
     "metadata": {},
     "output_type": "execute_result"
    }
   ],
   "source": [
    "kf_df['standardized_ingredients'].head()"
   ]
  },
  {
   "cell_type": "code",
   "execution_count": null,
   "id": "e7f72585-ad91-483d-a99a-f07586bb8e05",
   "metadata": {},
   "outputs": [],
   "source": []
  }
 ],
 "metadata": {
  "kernelspec": {
   "display_name": "Python 3 (ipykernel)",
   "language": "python",
   "name": "python3"
  },
  "language_info": {
   "codemirror_mode": {
    "name": "ipython",
    "version": 3
   },
   "file_extension": ".py",
   "mimetype": "text/x-python",
   "name": "python",
   "nbconvert_exporter": "python",
   "pygments_lexer": "ipython3",
   "version": "3.11.4"
  }
 },
 "nbformat": 4,
 "nbformat_minor": 5
}
