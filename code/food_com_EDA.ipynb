{
 "cells": [
  {
   "cell_type": "code",
   "execution_count": 123,
   "id": "80368c02-9ff3-419c-bb8b-7537dfa86279",
   "metadata": {
    "tags": []
   },
   "outputs": [],
   "source": [
    "import pandas as pd\n",
    "import numpy as np\n",
    "import matplotlib.pyplot as plt\n",
    "import seaborn as sns\n",
    "import missingno as msno\n",
    "from scipy import stats"
   ]
  },
  {
   "cell_type": "code",
   "execution_count": 124,
   "id": "f68cdd5e-056e-42af-89d0-64ad115c6006",
   "metadata": {
    "tags": []
   },
   "outputs": [],
   "source": [
    "pd.options.display.float_format = '{:.4f}'.format \n",
    "# no scientific notation!"
   ]
  },
  {
   "cell_type": "code",
   "execution_count": 125,
   "id": "8718453c-6658-44c0-ad55-7fe5fbe8fa06",
   "metadata": {
    "tags": []
   },
   "outputs": [],
   "source": [
    "food_df_1 = pd.read_csv('../data/food-com/food_com_bulk_data/recipes.csv')\n",
    "food_df_2 = pd.read_csv('../data/food-com/food_com_bulk_data/recipes_w_ing_qtys.csv')"
   ]
  },
  {
   "cell_type": "code",
   "execution_count": 126,
   "id": "a5dcca96-f9ed-4821-bd6c-65289f3201ed",
   "metadata": {
    "tags": []
   },
   "outputs": [
    {
     "data": {
      "text/plain": [
       "(522517, 28)"
      ]
     },
     "execution_count": 126,
     "metadata": {},
     "output_type": "execute_result"
    }
   ],
   "source": [
    "food_df_1.shape"
   ]
  },
  {
   "cell_type": "code",
   "execution_count": 127,
   "id": "32d70c2b-d0cb-49e8-8d80-f14be5cc153c",
   "metadata": {
    "tags": []
   },
   "outputs": [
    {
     "data": {
      "text/plain": [
       "(494963, 10)"
      ]
     },
     "execution_count": 127,
     "metadata": {},
     "output_type": "execute_result"
    }
   ],
   "source": [
    "food_df_2.shape"
   ]
  },
  {
   "cell_type": "code",
   "execution_count": null,
   "id": "6b517788-b29d-42c9-9b20-ac0b1359403d",
   "metadata": {},
   "outputs": [],
   "source": []
  },
  {
   "cell_type": "code",
   "execution_count": 129,
   "id": "a944f100-9000-451a-acb5-d8313c5de93a",
   "metadata": {
    "tags": []
   },
   "outputs": [
    {
     "data": {
      "text/html": [
       "<div>\n",
       "<style scoped>\n",
       "    .dataframe tbody tr th:only-of-type {\n",
       "        vertical-align: middle;\n",
       "    }\n",
       "\n",
       "    .dataframe tbody tr th {\n",
       "        vertical-align: top;\n",
       "    }\n",
       "\n",
       "    .dataframe thead th {\n",
       "        text-align: right;\n",
       "    }\n",
       "</style>\n",
       "<table border=\"1\" class=\"dataframe\">\n",
       "  <thead>\n",
       "    <tr style=\"text-align: right;\">\n",
       "      <th></th>\n",
       "      <th>id</th>\n",
       "      <th>ingredients_raw_str</th>\n",
       "    </tr>\n",
       "  </thead>\n",
       "  <tbody>\n",
       "    <tr>\n",
       "      <th>0</th>\n",
       "      <td>96313</td>\n",
       "      <td>[\"4   cups    water\",\"1   cup   uncooked old fashion grits\",\"1   teaspoon    salt\",\"4   ounces   shredded cheddar cheese\",\"1 -2   clove    garlic, minced \",\"1   tablespoon    olive oil\"]</td>\n",
       "    </tr>\n",
       "    <tr>\n",
       "      <th>1</th>\n",
       "      <td>232037</td>\n",
       "      <td>[\"1   medium    onion, chopped coarse \",\"1   medium    red bell pepper, chopped coarse \",\"5   medium    garlic cloves, chopped coarse \",\"1   lb   extra large shrimp, shelled and deveined \",\"  salt...</td>\n",
       "    </tr>\n",
       "    <tr>\n",
       "      <th>2</th>\n",
       "      <td>41090</td>\n",
       "      <td>[\"1   cup   canned white beans, rinsed and drained \",\"1   cup    canned black beans, rinsed and drained \",\"1   large    tomatoes, diced \",\"1   small    onion, diced \",\"1   stalk    celery, diced \"...</td>\n",
       "    </tr>\n",
       "    <tr>\n",
       "      <th>3</th>\n",
       "      <td>60656</td>\n",
       "      <td>[\"2       zucchini, sliced \",\"2   small    yellow squash, sliced \",\"2 -3   cans    diced tomatoes\",\"1       onion, chopped \",\"4   cloves    garlic, crushed \",\"1       green bell pepper, chopped \",...</td>\n",
       "    </tr>\n",
       "    <tr>\n",
       "      <th>4</th>\n",
       "      <td>232047</td>\n",
       "      <td>[\"3   lbs    beef stew meat\",\"3   tablespoons    flour\",\"1   teaspoon    salt\",\"1/2  teaspoon    allspice\",\"1/2  teaspoon    cinnamon\",\"1/2  teaspoon    black pepper\",\"1   tablespoon    vegetable ...</td>\n",
       "    </tr>\n",
       "  </tbody>\n",
       "</table>\n",
       "</div>"
      ],
      "text/plain": [
       "       id  \\\n",
       "0   96313   \n",
       "1  232037   \n",
       "2   41090   \n",
       "3   60656   \n",
       "4  232047   \n",
       "\n",
       "                                                                                                                                                                                       ingredients_raw_str  \n",
       "0               [\"4   cups    water\",\"1   cup   uncooked old fashion grits\",\"1   teaspoon    salt\",\"4   ounces   shredded cheddar cheese\",\"1 -2   clove    garlic, minced \",\"1   tablespoon    olive oil\"]  \n",
       "1  [\"1   medium    onion, chopped coarse \",\"1   medium    red bell pepper, chopped coarse \",\"5   medium    garlic cloves, chopped coarse \",\"1   lb   extra large shrimp, shelled and deveined \",\"  salt...  \n",
       "2  [\"1   cup   canned white beans, rinsed and drained \",\"1   cup    canned black beans, rinsed and drained \",\"1   large    tomatoes, diced \",\"1   small    onion, diced \",\"1   stalk    celery, diced \"...  \n",
       "3  [\"2       zucchini, sliced \",\"2   small    yellow squash, sliced \",\"2 -3   cans    diced tomatoes\",\"1       onion, chopped \",\"4   cloves    garlic, crushed \",\"1       green bell pepper, chopped \",...  \n",
       "4  [\"3   lbs    beef stew meat\",\"3   tablespoons    flour\",\"1   teaspoon    salt\",\"1/2  teaspoon    allspice\",\"1/2  teaspoon    cinnamon\",\"1/2  teaspoon    black pepper\",\"1   tablespoon    vegetable ...  "
      ]
     },
     "execution_count": 129,
     "metadata": {},
     "output_type": "execute_result"
    }
   ],
   "source": [
    "food_df_2_ing = food_df_2[['id', 'ingredients_raw_str']]\n",
    "food_df_2_ing.head()"
   ]
  },
  {
   "cell_type": "code",
   "execution_count": 130,
   "id": "90b4ca07-acc7-4522-99d9-8b1e4081fa27",
   "metadata": {
    "tags": []
   },
   "outputs": [],
   "source": [
    "food_df_1.set_index('RecipeId', inplace=True)"
   ]
  },
  {
   "cell_type": "code",
   "execution_count": 131,
   "id": "3380b675-3357-4b56-a028-4d22696c36a1",
   "metadata": {
    "tags": []
   },
   "outputs": [],
   "source": [
    "food_df_2_ing.set_index('id', inplace = True)"
   ]
  },
  {
   "cell_type": "code",
   "execution_count": 132,
   "id": "7d0a1123-e405-4ea3-bfd6-79d19f749e3c",
   "metadata": {
    "tags": []
   },
   "outputs": [],
   "source": [
    "food_df = food_df_1.join(food_df_2_ing, how='inner')"
   ]
  },
  {
   "cell_type": "code",
   "execution_count": 133,
   "id": "d37485bc-591b-43cc-af2f-9bbe9033d744",
   "metadata": {
    "tags": []
   },
   "outputs": [
    {
     "data": {
      "text/html": [
       "<div>\n",
       "<style scoped>\n",
       "    .dataframe tbody tr th:only-of-type {\n",
       "        vertical-align: middle;\n",
       "    }\n",
       "\n",
       "    .dataframe tbody tr th {\n",
       "        vertical-align: top;\n",
       "    }\n",
       "\n",
       "    .dataframe thead th {\n",
       "        text-align: right;\n",
       "    }\n",
       "</style>\n",
       "<table border=\"1\" class=\"dataframe\">\n",
       "  <thead>\n",
       "    <tr style=\"text-align: right;\">\n",
       "      <th></th>\n",
       "      <th>Name</th>\n",
       "      <th>RecipeIngredientParts</th>\n",
       "      <th>ingredients_raw_str</th>\n",
       "    </tr>\n",
       "  </thead>\n",
       "  <tbody>\n",
       "    <tr>\n",
       "      <th>38</th>\n",
       "      <td>Low-Fat Berry Blue Frozen Dessert</td>\n",
       "      <td>c(\"blueberries\", \"granulated sugar\", \"vanilla yogurt\", \"lemon juice\")</td>\n",
       "      <td>[\"4   cups    blueberries, fresh or frozen \",\"1/4  cup    granulated sugar\",\"1   cup    vanilla yogurt, 1% or nonfat \",\"1   tablespoon    lemon juice\"]</td>\n",
       "    </tr>\n",
       "    <tr>\n",
       "      <th>39</th>\n",
       "      <td>Biryani</td>\n",
       "      <td>c(\"saffron\", \"milk\", \"hot green chili peppers\", \"onions\", \"garlic\", \"clove\", \"peppercorns\", \"cardamom seed\", \"cumin seed\", \"poppy seed\", \"mace\", \"cilantro\", \"mint leaf\", \"fresh lemon juice\", \"plai...</td>\n",
       "      <td>[\"1   tablespoon    saffron\",\"4   teaspoons    milk, warm \",\"2       hot green chili peppers, as serranos -- seeded \\u0026 stemmed \",\"2   large    onions, chopped \",\"8   cloves    garlic, peeled \"...</td>\n",
       "    </tr>\n",
       "    <tr>\n",
       "      <th>40</th>\n",
       "      <td>Best Lemonade</td>\n",
       "      <td>c(\"sugar\", \"lemons, rind of\", \"lemon, zest of\", \"fresh water\", \"fresh lemon juice\")</td>\n",
       "      <td>[\"1 1/2  cups    sugar\",\"1   tablespoon    lemons, rind of or 1   tablespoon    lemon, zest of, finely grated  (without any white rind)\",\"  to taste    fresh water\",\"1 1/2  cups    fresh lemon jui...</td>\n",
       "    </tr>\n",
       "    <tr>\n",
       "      <th>41</th>\n",
       "      <td>Carina's Tofu-Vegetable Kebabs</td>\n",
       "      <td>c(\"extra firm tofu\", \"eggplant\", \"zucchini\", \"mushrooms\", \"soy sauce\", \"low sodium soy sauce\", \"olive oil\", \"maple syrup\", \"honey\", \"red wine vinegar\", \"lemon juice\", \"garlic cloves\", \"mustard pow...</td>\n",
       "      <td>[\"12   ounces    extra firm tofu, water-packed \",\"1   medium    eggplant\",\"2   small    zucchini\",\"1   medium    red pepper\",\"10   ounces    mushrooms\",\"1 (5 1/2  ounce) can   baby corn, drained \"...</td>\n",
       "    </tr>\n",
       "    <tr>\n",
       "      <th>42</th>\n",
       "      <td>Cabbage Soup</td>\n",
       "      <td>c(\"plain tomato juice\", \"cabbage\", \"onion\", \"carrots\", \"celery\")</td>\n",
       "      <td>[\"46   ounces    plain tomato juice\",\"4   cups    cabbage, shredded \",\"1   medium    onion, chopped \",\"2   large    carrots, cleaned skinned and shredded \",\"1   cup    celery, finely diced \"]</td>\n",
       "    </tr>\n",
       "    <tr>\n",
       "      <th>...</th>\n",
       "      <td>...</td>\n",
       "      <td>...</td>\n",
       "      <td>...</td>\n",
       "    </tr>\n",
       "    <tr>\n",
       "      <th>537800</th>\n",
       "      <td>BBQ Chicken Flatbreads from 'Every Day Easy Air Fryer'</td>\n",
       "      <td>c(\"barbecue sauce\", \"smoked gouda cheese\", \"mozzarella cheese\", \"red onion\", \"fresh cilantro\")</td>\n",
       "      <td>[\"2   cups   chopped cooked chicken\",\"3/4  cup   prepared barbecue sauce\",\"2      prepared naan flat bread\",\"1/2  cup   shredded smoked gouda cheese\",\"3/4  cup   shredded mozzarella cheese\",\"1/2  ...</td>\n",
       "    </tr>\n",
       "    <tr>\n",
       "      <th>537801</th>\n",
       "      <td>Jalape&amp;ntilde;o Popper Bake from 'Every Day Easy Air Fryer'</td>\n",
       "      <td>c(\"chicken thighs\", \"bell pepper\", \"cream cheese\", \"chili powder\", \"kosher salt\", \"bacon\", \"scallion\", \"celery rib\", \"celery rib\", \"tortilla chips\")</td>\n",
       "      <td>[\"  vegetable oil, for greasing \",\"1 1/2  lbs    chicken thighs (boneless, skinless, diced)\",\"1/2  cup   diced bell pepper\",\"1 -4       jalapeno, minced \",\"2   ounces    cream cheese, softened \",\"...</td>\n",
       "    </tr>\n",
       "    <tr>\n",
       "      <th>537802</th>\n",
       "      <td>Shrimp Scampi from 'Every Day Easy Air Fryer'</td>\n",
       "      <td>c(\"salted butter\", \"ghee\", \"fresh lemon juice\", \"garlic\", \"red pepper flakes\", \"shrimp\", \"chicken broth\", \"dry white wine\", \"fresh basil\", \"dried basil\", \"fresh chives\", \"dried chives\")</td>\n",
       "      <td>[\"4   tablespoons    salted butter or 4   tablespoons    ghee\",\"1   tablespoon    fresh lemon juice\",\"1   tablespoon   minced garlic\",\"2   teaspoons    red pepper flakes\",\"1   lb    shrimp, peeled...</td>\n",
       "    </tr>\n",
       "    <tr>\n",
       "      <th>537803</th>\n",
       "      <td>Taco Chile Casserole from 'Every Day Easy Air Fryer'</td>\n",
       "      <td>c(\"kosher salt\", \"eggs\", \"milk\", \"all-purpose flour\", \"mild green chilies\", \"kosher salt\")</td>\n",
       "      <td>[\"\",\"1   lb    85% lean ground beef\",\"1   tablespoon   salt-free taco seasoning\",\"1   teaspoon    kosher salt\",\"  vegetable oil cooking spray\",\"\",\"2   large    eggs\",\"1/2  cup    milk\",\"2   tables...</td>\n",
       "    </tr>\n",
       "    <tr>\n",
       "      <th>537804</th>\n",
       "      <td>Baked Four Cheese Spaghetti With Italian Sausage</td>\n",
       "      <td>c(\"spaghetti\", \"Italian sausage\", \"onions\", \"green bell peppers\", \"garlic\", \"sharp cheddar cheese\", \"mozzarella cheese\", \"Fontina cheese\", \"parmesan cheese\")</td>\n",
       "      <td>[\"8   ounces    spaghetti\",\"1   lb    Italian sausage (about 4 links)\",\"4   ounces   chopped onions\",\"4   ounces   chopped green bell peppers\",\"2   teaspoons   jarred minced garlic\",\"1   tablespoo...</td>\n",
       "    </tr>\n",
       "  </tbody>\n",
       "</table>\n",
       "<p>494949 rows × 3 columns</p>\n",
       "</div>"
      ],
      "text/plain": [
       "                                                               Name  \\\n",
       "38                                Low-Fat Berry Blue Frozen Dessert   \n",
       "39                                                          Biryani   \n",
       "40                                                    Best Lemonade   \n",
       "41                                   Carina's Tofu-Vegetable Kebabs   \n",
       "42                                                     Cabbage Soup   \n",
       "...                                                             ...   \n",
       "537800       BBQ Chicken Flatbreads from 'Every Day Easy Air Fryer'   \n",
       "537801  Jalape&ntilde;o Popper Bake from 'Every Day Easy Air Fryer'   \n",
       "537802                Shrimp Scampi from 'Every Day Easy Air Fryer'   \n",
       "537803         Taco Chile Casserole from 'Every Day Easy Air Fryer'   \n",
       "537804             Baked Four Cheese Spaghetti With Italian Sausage   \n",
       "\n",
       "                                                                                                                                                                                          RecipeIngredientParts  \\\n",
       "38                                                                                                                                        c(\"blueberries\", \"granulated sugar\", \"vanilla yogurt\", \"lemon juice\")   \n",
       "39      c(\"saffron\", \"milk\", \"hot green chili peppers\", \"onions\", \"garlic\", \"clove\", \"peppercorns\", \"cardamom seed\", \"cumin seed\", \"poppy seed\", \"mace\", \"cilantro\", \"mint leaf\", \"fresh lemon juice\", \"plai...   \n",
       "40                                                                                                                          c(\"sugar\", \"lemons, rind of\", \"lemon, zest of\", \"fresh water\", \"fresh lemon juice\")   \n",
       "41      c(\"extra firm tofu\", \"eggplant\", \"zucchini\", \"mushrooms\", \"soy sauce\", \"low sodium soy sauce\", \"olive oil\", \"maple syrup\", \"honey\", \"red wine vinegar\", \"lemon juice\", \"garlic cloves\", \"mustard pow...   \n",
       "42                                                                                                                                             c(\"plain tomato juice\", \"cabbage\", \"onion\", \"carrots\", \"celery\")   \n",
       "...                                                                                                                                                                                                         ...   \n",
       "537800                                                                                                           c(\"barbecue sauce\", \"smoked gouda cheese\", \"mozzarella cheese\", \"red onion\", \"fresh cilantro\")   \n",
       "537801                                                     c(\"chicken thighs\", \"bell pepper\", \"cream cheese\", \"chili powder\", \"kosher salt\", \"bacon\", \"scallion\", \"celery rib\", \"celery rib\", \"tortilla chips\")   \n",
       "537802                c(\"salted butter\", \"ghee\", \"fresh lemon juice\", \"garlic\", \"red pepper flakes\", \"shrimp\", \"chicken broth\", \"dry white wine\", \"fresh basil\", \"dried basil\", \"fresh chives\", \"dried chives\")   \n",
       "537803                                                                                                               c(\"kosher salt\", \"eggs\", \"milk\", \"all-purpose flour\", \"mild green chilies\", \"kosher salt\")   \n",
       "537804                                            c(\"spaghetti\", \"Italian sausage\", \"onions\", \"green bell peppers\", \"garlic\", \"sharp cheddar cheese\", \"mozzarella cheese\", \"Fontina cheese\", \"parmesan cheese\")   \n",
       "\n",
       "                                                                                                                                                                                            ingredients_raw_str  \n",
       "38                                                      [\"4   cups    blueberries, fresh or frozen \",\"1/4  cup    granulated sugar\",\"1   cup    vanilla yogurt, 1% or nonfat \",\"1   tablespoon    lemon juice\"]  \n",
       "39      [\"1   tablespoon    saffron\",\"4   teaspoons    milk, warm \",\"2       hot green chili peppers, as serranos -- seeded \\u0026 stemmed \",\"2   large    onions, chopped \",\"8   cloves    garlic, peeled \"...  \n",
       "40      [\"1 1/2  cups    sugar\",\"1   tablespoon    lemons, rind of or 1   tablespoon    lemon, zest of, finely grated  (without any white rind)\",\"  to taste    fresh water\",\"1 1/2  cups    fresh lemon jui...  \n",
       "41      [\"12   ounces    extra firm tofu, water-packed \",\"1   medium    eggplant\",\"2   small    zucchini\",\"1   medium    red pepper\",\"10   ounces    mushrooms\",\"1 (5 1/2  ounce) can   baby corn, drained \"...  \n",
       "42              [\"46   ounces    plain tomato juice\",\"4   cups    cabbage, shredded \",\"1   medium    onion, chopped \",\"2   large    carrots, cleaned skinned and shredded \",\"1   cup    celery, finely diced \"]  \n",
       "...                                                                                                                                                                                                         ...  \n",
       "537800  [\"2   cups   chopped cooked chicken\",\"3/4  cup   prepared barbecue sauce\",\"2      prepared naan flat bread\",\"1/2  cup   shredded smoked gouda cheese\",\"3/4  cup   shredded mozzarella cheese\",\"1/2  ...  \n",
       "537801  [\"  vegetable oil, for greasing \",\"1 1/2  lbs    chicken thighs (boneless, skinless, diced)\",\"1/2  cup   diced bell pepper\",\"1 -4       jalapeno, minced \",\"2   ounces    cream cheese, softened \",\"...  \n",
       "537802  [\"4   tablespoons    salted butter or 4   tablespoons    ghee\",\"1   tablespoon    fresh lemon juice\",\"1   tablespoon   minced garlic\",\"2   teaspoons    red pepper flakes\",\"1   lb    shrimp, peeled...  \n",
       "537803  [\"\",\"1   lb    85% lean ground beef\",\"1   tablespoon   salt-free taco seasoning\",\"1   teaspoon    kosher salt\",\"  vegetable oil cooking spray\",\"\",\"2   large    eggs\",\"1/2  cup    milk\",\"2   tables...  \n",
       "537804  [\"8   ounces    spaghetti\",\"1   lb    Italian sausage (about 4 links)\",\"4   ounces   chopped onions\",\"4   ounces   chopped green bell peppers\",\"2   teaspoons   jarred minced garlic\",\"1   tablespoo...  \n",
       "\n",
       "[494949 rows x 3 columns]"
      ]
     },
     "execution_count": 133,
     "metadata": {},
     "output_type": "execute_result"
    }
   ],
   "source": [
    "food_df[['Name', 'RecipeIngredientParts', 'ingredients_raw_str']]"
   ]
  },
  {
   "cell_type": "code",
   "execution_count": 134,
   "id": "ec33501f-a529-4223-a357-4fce1d75e8be",
   "metadata": {
    "tags": []
   },
   "outputs": [
    {
     "data": {
      "text/plain": [
       "Name                           object\n",
       "AuthorId                        int64\n",
       "AuthorName                     object\n",
       "CookTime                       object\n",
       "PrepTime                       object\n",
       "TotalTime                      object\n",
       "DatePublished                  object\n",
       "Description                    object\n",
       "Images                         object\n",
       "RecipeCategory                 object\n",
       "Keywords                       object\n",
       "RecipeIngredientQuantities     object\n",
       "RecipeIngredientParts          object\n",
       "AggregatedRating              float64\n",
       "ReviewCount                   float64\n",
       "Calories                      float64\n",
       "FatContent                    float64\n",
       "SaturatedFatContent           float64\n",
       "CholesterolContent            float64\n",
       "SodiumContent                 float64\n",
       "CarbohydrateContent           float64\n",
       "FiberContent                  float64\n",
       "SugarContent                  float64\n",
       "ProteinContent                float64\n",
       "RecipeServings                float64\n",
       "RecipeYield                    object\n",
       "RecipeInstructions             object\n",
       "ingredients_raw_str            object\n",
       "dtype: object"
      ]
     },
     "execution_count": 134,
     "metadata": {},
     "output_type": "execute_result"
    }
   ],
   "source": [
    "food_df.dtypes"
   ]
  },
  {
   "cell_type": "markdown",
   "id": "495e93ce-384d-4a0b-b617-cd862103f399",
   "metadata": {},
   "source": [
    "The following explains how high sodium and high protein per serving thresholds were reached. For protein, the value would stand as the threshold for a male - for females, it is lower. It would follow that a recipe whose protein per serving is unsuitable for males would also be unsuitable for females.\n",
    "\n",
    "Locating recipes on food.com's live website confirmed that the following units are in use:\n",
    "- All fat, protein: grams\n",
    "- All sodium: milligrams"
   ]
  },
  {
   "cell_type": "code",
   "execution_count": 135,
   "id": "0dee4d42-16a2-40a9-b464-3f005aa759c1",
   "metadata": {
    "tags": []
   },
   "outputs": [],
   "source": [
    "high_protein_threshold = (((200 / 2.2) # median weight of a male in the US converted to kg\n",
    "* 0.6) # multiplied by the 0.6 g/ kg recommendation (low end) provided by (https://www.ncbi.nlm.nih.gov/pmc/articles/PMC5962279/)\n",
    "/ 3) # divided by 3 as a generalized assumption that protein intake is largely divided across 3 meals a day"
   ]
  },
  {
   "cell_type": "code",
   "execution_count": 136,
   "id": "ccbb1e80-735c-443e-a397-b843784a5d3d",
   "metadata": {
    "tags": []
   },
   "outputs": [],
   "source": [
    "high_sodium_threshold = 2300 * 0.2 # value derived from the FDA recommendation that adults consume no more thant 2,300mg a day\n",
    "#combined with kidney institute's designation of high sodium serving being > 20%\n",
    "# https://www.fda.gov/food/nutrition-education-resources-materials/sodium-your-diet#:~:text=Americans%20eat%20on%20average%20about,recommended%20limits%20are%20even%20lower.\n",
    "# See supporting documents folder on sodium intake sourced dfrom National Institute of Diabetes and Digestive and Kidney Diseases"
   ]
  },
  {
   "cell_type": "code",
   "execution_count": 137,
   "id": "4339cf91-5300-4bcf-a660-a0b7c4ae29b7",
   "metadata": {
    "tags": []
   },
   "outputs": [],
   "source": [
    "high_satfat_threshold = (((2000 * 0.1) / # according to the AHA, guidelines advocate a limitation that calories from saturated fat should not exceed 10% of daily total caloric intake\n",
    "                          9) # this report from the Institute of Medicine of the National Academies of Sciences, Engineering and Medicine finds that 1g provides 9 kcal\n",
    "                         / 3) # this is a generalized assumption that sat fat instake is largely divided across 3 meals a day"
   ]
  },
  {
   "cell_type": "code",
   "execution_count": null,
   "id": "5e288756-cba1-48ad-9cc3-3afe0018fee3",
   "metadata": {
    "tags": []
   },
   "outputs": [],
   "source": []
  },
  {
   "cell_type": "code",
   "execution_count": null,
   "id": "9a8137bb-d976-4efe-9ea7-e1dbe2f5bd1c",
   "metadata": {
    "tags": []
   },
   "outputs": [],
   "source": []
  },
  {
   "cell_type": "code",
   "execution_count": null,
   "id": "89214527-9045-40ae-8313-7cc6d7a7d8e0",
   "metadata": {},
   "outputs": [],
   "source": []
  },
  {
   "cell_type": "code",
   "execution_count": 138,
   "id": "0c68bb05-4f3c-470c-8565-7cb994d24cca",
   "metadata": {
    "tags": []
   },
   "outputs": [],
   "source": [
    "food_df['high_sodium'] = np.where(food_df['SodiumContent'] > high_sodium_threshold, 1, 0)"
   ]
  },
  {
   "cell_type": "code",
   "execution_count": 139,
   "id": "c97e3589-9f99-4cf6-a021-cf262e55dd70",
   "metadata": {
    "tags": []
   },
   "outputs": [],
   "source": [
    "food_df['high_protein'] = np.where(food_df['ProteinContent'] > high_protein_threshold, 1 , 0)"
   ]
  },
  {
   "cell_type": "code",
   "execution_count": 140,
   "id": "51689ae6-d2ee-46f8-836a-78210c3a12b0",
   "metadata": {
    "tags": []
   },
   "outputs": [],
   "source": [
    "food_df['high_satfat'] = np.where(food_df['SaturatedFatContent'] > high_satfat_threshold, 1 , 0)"
   ]
  },
  {
   "cell_type": "code",
   "execution_count": 141,
   "id": "274cf8db-dccc-4d7f-afc7-1777f7b7f8f2",
   "metadata": {
    "tags": []
   },
   "outputs": [
    {
     "data": {
      "text/plain": [
       "Index(['Name', 'AuthorId', 'AuthorName', 'CookTime', 'PrepTime', 'TotalTime',\n",
       "       'DatePublished', 'Description', 'Images', 'RecipeCategory', 'Keywords',\n",
       "       'RecipeIngredientQuantities', 'RecipeIngredientParts',\n",
       "       'AggregatedRating', 'ReviewCount', 'Calories', 'FatContent',\n",
       "       'SaturatedFatContent', 'CholesterolContent', 'SodiumContent',\n",
       "       'CarbohydrateContent', 'FiberContent', 'SugarContent', 'ProteinContent',\n",
       "       'RecipeServings', 'RecipeYield', 'RecipeInstructions',\n",
       "       'ingredients_raw_str', 'high_sodium', 'high_protein', 'high_satfat'],\n",
       "      dtype='object')"
      ]
     },
     "execution_count": 141,
     "metadata": {},
     "output_type": "execute_result"
    }
   ],
   "source": [
    "food_df.columns"
   ]
  },
  {
   "cell_type": "code",
   "execution_count": null,
   "id": "e84cab94-8c5d-4c5c-85cd-2a99b00179e1",
   "metadata": {},
   "outputs": [],
   "source": []
  },
  {
   "cell_type": "markdown",
   "id": "262d6be5-0482-4f27-9950-a1025e915c88",
   "metadata": {
    "tags": []
   },
   "source": [
    "### Exploratory visualizations"
   ]
  },
  {
   "cell_type": "code",
   "execution_count": 142,
   "id": "ab5491b3-59ee-49e4-92d3-574b4961ac7f",
   "metadata": {
    "tags": []
   },
   "outputs": [
    {
     "data": {
      "text/html": [
       "<div>\n",
       "<style scoped>\n",
       "    .dataframe tbody tr th:only-of-type {\n",
       "        vertical-align: middle;\n",
       "    }\n",
       "\n",
       "    .dataframe tbody tr th {\n",
       "        vertical-align: top;\n",
       "    }\n",
       "\n",
       "    .dataframe thead th {\n",
       "        text-align: right;\n",
       "    }\n",
       "</style>\n",
       "<table border=\"1\" class=\"dataframe\">\n",
       "  <thead>\n",
       "    <tr style=\"text-align: right;\">\n",
       "      <th></th>\n",
       "      <th>SodiumContent</th>\n",
       "      <th>ProteinContent</th>\n",
       "      <th>SaturatedFatContent</th>\n",
       "    </tr>\n",
       "  </thead>\n",
       "  <tbody>\n",
       "    <tr>\n",
       "      <th>count</th>\n",
       "      <td>494949.0000</td>\n",
       "      <td>494949.0000</td>\n",
       "      <td>494949.0000</td>\n",
       "    </tr>\n",
       "    <tr>\n",
       "      <th>mean</th>\n",
       "      <td>740.1425</td>\n",
       "      <td>17.8235</td>\n",
       "      <td>9.6735</td>\n",
       "    </tr>\n",
       "    <tr>\n",
       "      <th>std</th>\n",
       "      <td>3535.8126</td>\n",
       "      <td>40.4522</td>\n",
       "      <td>46.8779</td>\n",
       "    </tr>\n",
       "    <tr>\n",
       "      <th>min</th>\n",
       "      <td>0.0000</td>\n",
       "      <td>0.0000</td>\n",
       "      <td>0.0000</td>\n",
       "    </tr>\n",
       "    <tr>\n",
       "      <th>25%</th>\n",
       "      <td>131.3000</td>\n",
       "      <td>3.7000</td>\n",
       "      <td>1.6000</td>\n",
       "    </tr>\n",
       "    <tr>\n",
       "      <th>50%</th>\n",
       "      <td>360.8000</td>\n",
       "      <td>9.6000</td>\n",
       "      <td>4.8000</td>\n",
       "    </tr>\n",
       "    <tr>\n",
       "      <th>75%</th>\n",
       "      <td>796.3000</td>\n",
       "      <td>25.5000</td>\n",
       "      <td>10.9000</td>\n",
       "    </tr>\n",
       "    <tr>\n",
       "      <th>max</th>\n",
       "      <td>731056.4000</td>\n",
       "      <td>18396.2000</td>\n",
       "      <td>26740.6000</td>\n",
       "    </tr>\n",
       "  </tbody>\n",
       "</table>\n",
       "</div>"
      ],
      "text/plain": [
       "       SodiumContent  ProteinContent  SaturatedFatContent\n",
       "count    494949.0000     494949.0000          494949.0000\n",
       "mean        740.1425         17.8235               9.6735\n",
       "std        3535.8126         40.4522              46.8779\n",
       "min           0.0000          0.0000               0.0000\n",
       "25%         131.3000          3.7000               1.6000\n",
       "50%         360.8000          9.6000               4.8000\n",
       "75%         796.3000         25.5000              10.9000\n",
       "max      731056.4000      18396.2000           26740.6000"
      ]
     },
     "execution_count": 142,
     "metadata": {},
     "output_type": "execute_result"
    }
   ],
   "source": [
    "food_df[['SodiumContent', 'ProteinContent', 'SaturatedFatContent']].describe()"
   ]
  },
  {
   "cell_type": "code",
   "execution_count": 143,
   "id": "7b31ca8f-2cf1-457d-8c36-ae6cb6b17b17",
   "metadata": {
    "tags": []
   },
   "outputs": [
    {
     "data": {
      "text/plain": [
       "Text(0.5, 0, 'Sodium Content (mg)')"
      ]
     },
     "execution_count": 143,
     "metadata": {},
     "output_type": "execute_result"
    },
    {
     "data": {
      "image/png": "[encoded data removed]",
      "text/plain": [
       "<Figure size 1200x600 with 1 Axes>"
      ]
     },
     "metadata": {},
     "output_type": "display_data"
    }
   ],
   "source": [
    "\n",
    "plt.figure(figsize=(12,6))\n",
    "plt.hist(food_df[['SodiumContent']], bins = 100, range=(0, 10000))\n",
    "plt.title('Sodium Content (mg) Per Serving Distribution')\n",
    "plt.ylabel('Number of Recipes')\n",
    "plt.xlabel('Sodium Content (mg)')\n"
   ]
  },
  {
   "cell_type": "code",
   "execution_count": null,
   "id": "74823e08-4c3a-41c0-a270-86c0822adc41",
   "metadata": {},
   "outputs": [],
   "source": []
  },
  {
   "cell_type": "code",
   "execution_count": 144,
   "id": "efaa2fbf-0c66-446d-851e-570d78d93a02",
   "metadata": {
    "tags": []
   },
   "outputs": [
    {
     "data": {
      "text/plain": [
       "Text(0.5, 0, 'Saturated Fat Content (g)')"
      ]
     },
     "execution_count": 144,
     "metadata": {},
     "output_type": "execute_result"
    },
    {
     "data": {
      "image/png": "[encoded data removed]",
      "text/plain": [
       "<Figure size 1200x600 with 1 Axes>"
      ]
     },
     "metadata": {},
     "output_type": "display_data"
    }
   ],
   "source": [
    "plt.figure(figsize=(12,6))\n",
    "plt.hist(food_df[['SaturatedFatContent']], bins = 100, range=(0, 200), color = 'orange')\n",
    "plt.title('Saturated Fat Content (g) Per Serving Distribution')\n",
    "plt.ylabel('Number of Recipes')\n",
    "plt.xlabel('Saturated Fat Content (g)')\n"
   ]
  },
  {
   "cell_type": "code",
   "execution_count": 145,
   "id": "44708f1b-279b-4eac-8661-1639c960930e",
   "metadata": {
    "tags": []
   },
   "outputs": [
    {
     "data": {
      "text/plain": [
       "Text(0.5, 0, 'Protrain Content (g)')"
      ]
     },
     "execution_count": 145,
     "metadata": {},
     "output_type": "execute_result"
    },
    {
     "data": {
      "image/png": "[encoded data removed]",
      "text/plain": [
       "<Figure size 1200x600 with 1 Axes>"
      ]
     },
     "metadata": {},
     "output_type": "display_data"
    }
   ],
   "source": [
    "plt.figure(figsize=(12,6))\n",
    "plt.hist(food_df[['ProteinContent']], bins = 100, range=(0, 200), color = 'green')\n",
    "plt.title('Protein Content (g) Per Serving Distribution')\n",
    "plt.ylabel('Number of Recipes')\n",
    "plt.xlabel('Protrain Content (g)')\n"
   ]
  },
  {
   "cell_type": "code",
   "execution_count": null,
   "id": "a1c8d5b1-2660-4ac1-991a-af28841d3abb",
   "metadata": {},
   "outputs": [],
   "source": []
  },
  {
   "cell_type": "code",
   "execution_count": null,
   "id": "3209c793-dfe8-4a0f-8df8-9828e2cd16f1",
   "metadata": {},
   "outputs": [],
   "source": []
  },
  {
   "cell_type": "markdown",
   "id": "e3cc87de-27a8-4e37-b1c0-83d466e76393",
   "metadata": {},
   "source": [
    "The above histograms show that the nutritional content of this dataset is not parametric. As such, I perform a log transform below and find z-scores to better identify outliers which will be omitted from the data later."
   ]
  },
  {
   "cell_type": "code",
   "execution_count": 146,
   "id": "618bcfc4-3f0b-4d18-9452-b10a419325dc",
   "metadata": {
    "tags": []
   },
   "outputs": [],
   "source": [
    "for col in ['SodiumContent', 'ProteinContent', 'SaturatedFatContent']:\n",
    "    if col == 'SodiumContent':\n",
    "        food_df[col] = np.where(food_df[col] == 0, 1, food_df[col])\n",
    "    else:\n",
    "        food_df[col] = np.where(food_df[col] == 0, 0.001, food_df[col])\n",
    "    food_df[f\"{col}_log\"] = np.log(food_df[col])\n",
    "    food_df[f\"{col}_z\"] = stats.zscore(food_df[f\"{col}_log\"])"
   ]
  },
  {
   "cell_type": "code",
   "execution_count": null,
   "id": "805149af-8b7b-47b6-a86e-a986c96fc7e4",
   "metadata": {},
   "outputs": [],
   "source": []
  },
  {
   "cell_type": "code",
   "execution_count": null,
   "id": "af9311a6-5f07-4841-ba43-ed4c669210ba",
   "metadata": {
    "tags": []
   },
   "outputs": [],
   "source": []
  },
  {
   "cell_type": "code",
   "execution_count": 147,
   "id": "210cc2c4-f005-48e6-9677-b7c457a27590",
   "metadata": {
    "tags": []
   },
   "outputs": [
    {
     "data": {
      "text/plain": [
       "[Text(0, 0, 'log(SodiumContent) Z Score'),\n",
       " Text(1, 0, 'log(SaturatedFatContent) Z Score'),\n",
       " Text(2, 0, 'log(ProteinContent) Z Score')]"
      ]
     },
     "execution_count": 147,
     "metadata": {},
     "output_type": "execute_result"
    },
    {
     "data": {
      "image/png": "[encoded data removed]",
      "text/plain": [
       "<Figure size 1200x600 with 1 Axes>"
      ]
     },
     "metadata": {},
     "output_type": "display_data"
    }
   ],
   "source": [
    "plt.figure(figsize=(12,6))\n",
    "box = sns.boxplot(data= [food_df['SodiumContent_z'], food_df['SaturatedFatContent_z'], food_df['ProteinContent_z'] ])\n",
    "box.set_xticklabels(['log(SodiumContent) Z Score', 'log(SaturatedFatContent) Z Score', 'log(ProteinContent) Z Score'])"
   ]
  },
  {
   "cell_type": "code",
   "execution_count": 148,
   "id": "13b15266-1615-44f3-b919-2654e9aa9134",
   "metadata": {
    "tags": []
   },
   "outputs": [],
   "source": [
    "sodium_mask_low = food_df['SodiumContent_z'] > -2\n",
    "sodium_mask_high = food_df['SodiumContent_z'] < 2\n",
    "satfat_mask_low = food_df['SaturatedFatContent_z'] > -1.5\n",
    "satfat_mask_high = food_df['SaturatedFatContent_z'] < 1.5\n",
    "protein_mask_low = food_df['ProteinContent_z'] > -2\n",
    "protein_mask_high = food_df['ProteinContent_z'] < 2"
   ]
  },
  {
   "cell_type": "code",
   "execution_count": null,
   "id": "eb0ab407-9d64-400f-95ab-f430d34915ac",
   "metadata": {
    "tags": []
   },
   "outputs": [],
   "source": []
  },
  {
   "cell_type": "code",
   "execution_count": 149,
   "id": "f2454cd1-2e80-44ba-8a5f-58750f7fe23b",
   "metadata": {
    "tags": []
   },
   "outputs": [
    {
     "data": {
      "text/plain": [
       "(439991, 37)"
      ]
     },
     "execution_count": 149,
     "metadata": {},
     "output_type": "execute_result"
    }
   ],
   "source": [
    "food_NO_df = food_df[(sodium_mask_low) & (sodium_mask_high) & (satfat_mask_low) & (satfat_mask_high) & (protein_mask_low) & (protein_mask_high)].copy()\n",
    "food_NO_df.shape"
   ]
  },
  {
   "cell_type": "code",
   "execution_count": 150,
   "id": "cfcb4dc3-53bb-428f-ba24-cad3936df4e5",
   "metadata": {
    "tags": []
   },
   "outputs": [],
   "source": [
    "food_NO_df.dropna(subset=['SodiumContent', 'ProteinContent', 'SaturatedFatContent', 'RecipeServings', 'RecipeIngredientParts', 'RecipeIngredientQuantities'], inplace=True)"
   ]
  },
  {
   "cell_type": "code",
   "execution_count": 151,
   "id": "81e2c7eb-9de6-4981-9f16-9a6dc30e1a0d",
   "metadata": {
    "tags": []
   },
   "outputs": [
    {
     "data": {
      "text/plain": [
       "(289608, 37)"
      ]
     },
     "execution_count": 151,
     "metadata": {},
     "output_type": "execute_result"
    }
   ],
   "source": [
    "food_NO_df.shape"
   ]
  },
  {
   "cell_type": "code",
   "execution_count": 152,
   "id": "5f3f855f-ab3c-4510-b241-b995d4ebcd91",
   "metadata": {
    "tags": []
   },
   "outputs": [
    {
     "data": {
      "text/plain": [
       "Index(['Name', 'AuthorId', 'AuthorName', 'CookTime', 'PrepTime', 'TotalTime',\n",
       "       'DatePublished', 'Description', 'Images', 'RecipeCategory', 'Keywords',\n",
       "       'RecipeIngredientQuantities', 'RecipeIngredientParts',\n",
       "       'AggregatedRating', 'ReviewCount', 'Calories', 'FatContent',\n",
       "       'SaturatedFatContent', 'CholesterolContent', 'SodiumContent',\n",
       "       'CarbohydrateContent', 'FiberContent', 'SugarContent', 'ProteinContent',\n",
       "       'RecipeServings', 'RecipeYield', 'RecipeInstructions',\n",
       "       'ingredients_raw_str', 'high_sodium', 'high_protein', 'high_satfat',\n",
       "       'SodiumContent_log', 'SodiumContent_z', 'ProteinContent_log',\n",
       "       'ProteinContent_z', 'SaturatedFatContent_log', 'SaturatedFatContent_z'],\n",
       "      dtype='object')"
      ]
     },
     "execution_count": 152,
     "metadata": {},
     "output_type": "execute_result"
    }
   ],
   "source": [
    "food_NO_df.columns"
   ]
  },
  {
   "cell_type": "code",
   "execution_count": 155,
   "id": "bbbc3ad9-5d7a-4559-a040-bc80e5ad130f",
   "metadata": {},
   "outputs": [
    {
     "data": {
      "text/html": [
       "<div>\n",
       "<style scoped>\n",
       "    .dataframe tbody tr th:only-of-type {\n",
       "        vertical-align: middle;\n",
       "    }\n",
       "\n",
       "    .dataframe tbody tr th {\n",
       "        vertical-align: top;\n",
       "    }\n",
       "\n",
       "    .dataframe thead th {\n",
       "        text-align: right;\n",
       "    }\n",
       "</style>\n",
       "<table border=\"1\" class=\"dataframe\">\n",
       "  <thead>\n",
       "    <tr style=\"text-align: right;\">\n",
       "      <th></th>\n",
       "      <th>Name</th>\n",
       "      <th>Description</th>\n",
       "      <th>SodiumContent</th>\n",
       "      <th>high_sodium</th>\n",
       "      <th>ProteinContent</th>\n",
       "      <th>high_protein</th>\n",
       "      <th>SaturatedFatContent</th>\n",
       "      <th>high_satfat</th>\n",
       "      <th>RecipeServings</th>\n",
       "      <th>ingredients_raw_str</th>\n",
       "    </tr>\n",
       "  </thead>\n",
       "  <tbody>\n",
       "    <tr>\n",
       "      <th>126290</th>\n",
       "      <td>Baked Chicken in Honey Barbecue Sauce</td>\n",
       "      <td>A little on the sweet side but kids will love this dish. This is one of my moms recipes, so the cooking time is about an hour until chicken is cooked through and the chicken gets brownish from the...</td>\n",
       "      <td>639.4000</td>\n",
       "      <td>1</td>\n",
       "      <td>1.9000</td>\n",
       "      <td>0</td>\n",
       "      <td>0.2000</td>\n",
       "      <td>0</td>\n",
       "      <td>6.0000</td>\n",
       "      <td>[\"6       chicken pieces (I use skinless boneless)\",\"1 (455   ml) bottle  kraft original barbecue sauce\",\"1 (19   ounce) can   pineapple chunks\",\"1   teaspoon    ground ginger\",\"1/2  cup    honey\"...</td>\n",
       "    </tr>\n",
       "    <tr>\n",
       "      <th>443254</th>\n",
       "      <td>Special Rhubarb Cake</td>\n",
       "      <td>This recipe came from a friend who got it from an old lady who was famous for it at her church functions.</td>\n",
       "      <td>290.7000</td>\n",
       "      <td>0</td>\n",
       "      <td>4.6000</td>\n",
       "      <td>0</td>\n",
       "      <td>3.3000</td>\n",
       "      <td>0</td>\n",
       "      <td>10.0000</td>\n",
       "      <td>[\"\",\"2   tablespoons    butter, softened \",\"1   cup    sugar\",\"1       egg\",\"2   cups    all-purpose flour\",\"1   teaspoon    baking powder\",\"1/2  teaspoon    baking soda\",\"1/2  teaspoon    salt\",\"...</td>\n",
       "    </tr>\n",
       "    <tr>\n",
       "      <th>129060</th>\n",
       "      <td>Louisiana Shrimp Stew</td>\n",
       "      <td>Make and share this Louisiana Shrimp Stew recipe from Food.com.</td>\n",
       "      <td>361.9000</td>\n",
       "      <td>0</td>\n",
       "      <td>24.9000</td>\n",
       "      <td>1</td>\n",
       "      <td>1.3000</td>\n",
       "      <td>0</td>\n",
       "      <td>8.0000</td>\n",
       "      <td>[\"2   tablespoons    flour\",\"1   tablespoon    butter\",\"1   cup    onion, chopped \",\"1   bunch    green onion, chopped \",\"4       garlic cloves, chopped \",\"3/4  cup    celery, chopped \",\"1/3  cup ...</td>\n",
       "    </tr>\n",
       "    <tr>\n",
       "      <th>438645</th>\n",
       "      <td>Tagliatelle With Squash, Chili &amp;amp; Ricotta</td>\n",
       "      <td>Make and share this Tagliatelle With Squash, Chili &amp;amp; Ricotta recipe from Food.com.</td>\n",
       "      <td>42.9000</td>\n",
       "      <td>0</td>\n",
       "      <td>14.3000</td>\n",
       "      <td>0</td>\n",
       "      <td>2.1000</td>\n",
       "      <td>0</td>\n",
       "      <td>2.0000</td>\n",
       "      <td>[\"10 1/2  ounces    butternut squash, peeled and cut into small dice \",\"1   pinch    chili flakes\",\"4       garlic cloves, finely chopped \",\"5   ounces   tagliatelle pasta\",\"1 1/2  ounces   flat-l...</td>\n",
       "    </tr>\n",
       "    <tr>\n",
       "      <th>254267</th>\n",
       "      <td>1950's Brownies</td>\n",
       "      <td>This batter is very thick but bakes up to a YUM YUM chewy brownie that you will want to eat the whole pan. I usually double this recipe</td>\n",
       "      <td>122.2000</td>\n",
       "      <td>0</td>\n",
       "      <td>2.4000</td>\n",
       "      <td>0</td>\n",
       "      <td>2.5000</td>\n",
       "      <td>0</td>\n",
       "      <td>16.0000</td>\n",
       "      <td>[\"1       unsweetened chocolate square\",\"1       semisweet baking chocolate square\",\"1/3  cup    shortening\",\"1   cup    sugar\",\"2       eggs\",\"3/4  cup   sifted flour\",\"1/2  teaspoon    baking po...</td>\n",
       "    </tr>\n",
       "  </tbody>\n",
       "</table>\n",
       "</div>"
      ],
      "text/plain": [
       "                                                Name  \\\n",
       "126290         Baked Chicken in Honey Barbecue Sauce   \n",
       "443254                          Special Rhubarb Cake   \n",
       "129060                         Louisiana Shrimp Stew   \n",
       "438645  Tagliatelle With Squash, Chili &amp; Ricotta   \n",
       "254267                               1950's Brownies   \n",
       "\n",
       "                                                                                                                                                                                                    Description  \\\n",
       "126290  A little on the sweet side but kids will love this dish. This is one of my moms recipes, so the cooking time is about an hour until chicken is cooked through and the chicken gets brownish from the...   \n",
       "443254                                                                                                This recipe came from a friend who got it from an old lady who was famous for it at her church functions.   \n",
       "129060                                                                                                                                          Make and share this Louisiana Shrimp Stew recipe from Food.com.   \n",
       "438645                                                                                                                   Make and share this Tagliatelle With Squash, Chili &amp; Ricotta recipe from Food.com.   \n",
       "254267                                                                  This batter is very thick but bakes up to a YUM YUM chewy brownie that you will want to eat the whole pan. I usually double this recipe   \n",
       "\n",
       "        SodiumContent  high_sodium  ProteinContent  high_protein  \\\n",
       "126290       639.4000            1          1.9000             0   \n",
       "443254       290.7000            0          4.6000             0   \n",
       "129060       361.9000            0         24.9000             1   \n",
       "438645        42.9000            0         14.3000             0   \n",
       "254267       122.2000            0          2.4000             0   \n",
       "\n",
       "        SaturatedFatContent  high_satfat  RecipeServings  \\\n",
       "126290               0.2000            0          6.0000   \n",
       "443254               3.3000            0         10.0000   \n",
       "129060               1.3000            0          8.0000   \n",
       "438645               2.1000            0          2.0000   \n",
       "254267               2.5000            0         16.0000   \n",
       "\n",
       "                                                                                                                                                                                            ingredients_raw_str  \n",
       "126290  [\"6       chicken pieces (I use skinless boneless)\",\"1 (455   ml) bottle  kraft original barbecue sauce\",\"1 (19   ounce) can   pineapple chunks\",\"1   teaspoon    ground ginger\",\"1/2  cup    honey\"...  \n",
       "443254  [\"\",\"2   tablespoons    butter, softened \",\"1   cup    sugar\",\"1       egg\",\"2   cups    all-purpose flour\",\"1   teaspoon    baking powder\",\"1/2  teaspoon    baking soda\",\"1/2  teaspoon    salt\",\"...  \n",
       "129060  [\"2   tablespoons    flour\",\"1   tablespoon    butter\",\"1   cup    onion, chopped \",\"1   bunch    green onion, chopped \",\"4       garlic cloves, chopped \",\"3/4  cup    celery, chopped \",\"1/3  cup ...  \n",
       "438645  [\"10 1/2  ounces    butternut squash, peeled and cut into small dice \",\"1   pinch    chili flakes\",\"4       garlic cloves, finely chopped \",\"5   ounces   tagliatelle pasta\",\"1 1/2  ounces   flat-l...  \n",
       "254267  [\"1       unsweetened chocolate square\",\"1       semisweet baking chocolate square\",\"1/3  cup    shortening\",\"1   cup    sugar\",\"2       eggs\",\"3/4  cup   sifted flour\",\"1/2  teaspoon    baking po...  "
      ]
     },
     "execution_count": 155,
     "metadata": {},
     "output_type": "execute_result"
    }
   ],
   "source": [
    "food_NO_df.sample(5)[['Name', \n",
    "                      'Description',\n",
    "                      'SodiumContent',\n",
    "                      'high_sodium',\n",
    "                      'ProteinContent',\n",
    "                      'high_protein',\n",
    "                      'SaturatedFatContent',\n",
    "                      'high_satfat',\n",
    "                      'RecipeServings',\n",
    "                      'ingredients_raw_str']]"
   ]
  },
  {
   "cell_type": "code",
   "execution_count": 156,
   "id": "dc1dd3dd-7c67-4833-aa30-a20f6b5f8d4c",
   "metadata": {
    "tags": []
   },
   "outputs": [],
   "source": [
    "high_sodium = food_NO_df['high_sodium'] == 1\n",
    "high_protein = food_NO_df['high_protein'] == 1\n",
    "high_satfat = food_NO_df['high_satfat'] == 1"
   ]
  },
  {
   "cell_type": "code",
   "execution_count": 157,
   "id": "86d19d21-2e4e-48bb-a030-f047732ce52f",
   "metadata": {
    "tags": []
   },
   "outputs": [],
   "source": [
    "nkf_recipes = food_NO_df[(high_sodium) | (high_protein) | (high_satfat)]"
   ]
  },
  {
   "cell_type": "code",
   "execution_count": 158,
   "id": "be2b7467-0181-42b1-9e30-b8cdb2f799e7",
   "metadata": {
    "tags": []
   },
   "outputs": [
    {
     "data": {
      "text/plain": [
       "(185848, 37)"
      ]
     },
     "execution_count": 158,
     "metadata": {},
     "output_type": "execute_result"
    }
   ],
   "source": [
    "nkf_recipes.shape"
   ]
  },
  {
   "cell_type": "code",
   "execution_count": 160,
   "id": "35274709-0a22-4275-97f6-488a3ba3060a",
   "metadata": {
    "tags": []
   },
   "outputs": [
    {
     "data": {
      "text/html": [
       "<div>\n",
       "<style scoped>\n",
       "    .dataframe tbody tr th:only-of-type {\n",
       "        vertical-align: middle;\n",
       "    }\n",
       "\n",
       "    .dataframe tbody tr th {\n",
       "        vertical-align: top;\n",
       "    }\n",
       "\n",
       "    .dataframe thead th {\n",
       "        text-align: right;\n",
       "    }\n",
       "</style>\n",
       "<table border=\"1\" class=\"dataframe\">\n",
       "  <thead>\n",
       "    <tr style=\"text-align: right;\">\n",
       "      <th></th>\n",
       "      <th>Name</th>\n",
       "      <th>Description</th>\n",
       "      <th>SodiumContent</th>\n",
       "      <th>high_sodium</th>\n",
       "      <th>ProteinContent</th>\n",
       "      <th>high_protein</th>\n",
       "      <th>SaturatedFatContent</th>\n",
       "      <th>high_satfat</th>\n",
       "      <th>RecipeServings</th>\n",
       "      <th>ingredients_raw_str</th>\n",
       "    </tr>\n",
       "  </thead>\n",
       "  <tbody>\n",
       "    <tr>\n",
       "      <th>452925</th>\n",
       "      <td>Hungarian Pork and Lentil Stew</td>\n",
       "      <td>Make and share this Hungarian Pork and Lentil Stew recipe from Food.com.</td>\n",
       "      <td>316.8000</td>\n",
       "      <td>0</td>\n",
       "      <td>22.3000</td>\n",
       "      <td>1</td>\n",
       "      <td>2.1000</td>\n",
       "      <td>0</td>\n",
       "      <td>6.0000</td>\n",
       "      <td>[\"1   tablespoon    olive oil\",\"2       onions, chopped \",\"500   g    lean pork, diced \",\"2   teaspoons    sweet Hungarian paprika\",\"1   teaspoon    hot paprika\",\"60   g    red lentils\",\"1/2  teas...</td>\n",
       "    </tr>\n",
       "    <tr>\n",
       "      <th>220222</th>\n",
       "      <td>Chorizo - a Healthy Version?</td>\n",
       "      <td>I have always loved the flavor of chorizo, but seldom ate it due to all the fat in it. In 2004 I purchased a simple electric meat grinder and started making my own sausages. Now I know WHAT is in ...</td>\n",
       "      <td>683.6000</td>\n",
       "      <td>1</td>\n",
       "      <td>19.8000</td>\n",
       "      <td>1</td>\n",
       "      <td>9.0000</td>\n",
       "      <td>1</td>\n",
       "      <td>4.0000</td>\n",
       "      <td>[\"1   lb    ground lean pork\",\"2   tablespoons    chili powder\",\"1/2  teaspoon    Mexican oregano\",\"1   teaspoon    salt\",\"1/4  teaspoon    cumin\",\"2       garlic cloves, minced \",\"2   tablespoons...</td>\n",
       "    </tr>\n",
       "    <tr>\n",
       "      <th>40458</th>\n",
       "      <td>Enchilada Chicken Soup</td>\n",
       "      <td>I share with you the easiest soup ever. I make this when I need something to put on the table fast! My hubby calls this my &amp;quot;cheaters soup&amp;quot;, but he admits he loves it!</td>\n",
       "      <td>844.5000</td>\n",
       "      <td>1</td>\n",
       "      <td>16.9000</td>\n",
       "      <td>0</td>\n",
       "      <td>3.5000</td>\n",
       "      <td>0</td>\n",
       "      <td>6.0000</td>\n",
       "      <td>[\"1 (10 1/2  ounce) can   Fiesta nacho cheese soup\",\"1 (10 1/2  ounce) can   cream of chicken soup\",\"2 2/3  cups    milk\",\"1 (10   ounce) can  chunky white chicken meat, drained \",\"1 (10   ounce) ...</td>\n",
       "    </tr>\n",
       "    <tr>\n",
       "      <th>59117</th>\n",
       "      <td>Cream of Shrimp Soup</td>\n",
       "      <td>This is a delicious soup that can be served as a first course, main dish or even lunch. Even though it has a some cream, it only averages out to 2 T per person. So, it isn't that rich! Other shell...</td>\n",
       "      <td>599.3000</td>\n",
       "      <td>1</td>\n",
       "      <td>20.7000</td>\n",
       "      <td>1</td>\n",
       "      <td>9.3000</td>\n",
       "      <td>1</td>\n",
       "      <td>6.0000</td>\n",
       "      <td>[\"2   tablespoons    olive oil\",\"1   lb    medium raw shrimp, peeled,deveined,shells reserved \",\"4   cups    fish stock or 4   cups    bottled clam juice\",\"1   cup    dry white vermouth\",\"1       ...</td>\n",
       "    </tr>\n",
       "    <tr>\n",
       "      <th>323835</th>\n",
       "      <td>Yakitori Kebabs With Chicken and Vegetables</td>\n",
       "      <td>Tasty and low fat kebabs. If you are short of time, marinate the chicken for just 20 minutes - it will still absorb a lot of the flavours. Try using a different selection of vegetables, such as ye...</td>\n",
       "      <td>1119.3000</td>\n",
       "      <td>1</td>\n",
       "      <td>25.5000</td>\n",
       "      <td>1</td>\n",
       "      <td>0.3000</td>\n",
       "      <td>0</td>\n",
       "      <td>4.0000</td>\n",
       "      <td>[\"4   tablespoons    soy sauce\",\"2   tablespoons    mirin\",\"1   tablespoon    clear honey\",\"1   inch   piece gingerroot, peeled and finely grated \",\"1       garlic clove, crushed \",\"14   ounces   ...</td>\n",
       "    </tr>\n",
       "  </tbody>\n",
       "</table>\n",
       "</div>"
      ],
      "text/plain": [
       "                                               Name  \\\n",
       "452925               Hungarian Pork and Lentil Stew   \n",
       "220222                 Chorizo - a Healthy Version?   \n",
       "40458                        Enchilada Chicken Soup   \n",
       "59117                          Cream of Shrimp Soup   \n",
       "323835  Yakitori Kebabs With Chicken and Vegetables   \n",
       "\n",
       "                                                                                                                                                                                                    Description  \\\n",
       "452925                                                                                                                                 Make and share this Hungarian Pork and Lentil Stew recipe from Food.com.   \n",
       "220222  I have always loved the flavor of chorizo, but seldom ate it due to all the fat in it. In 2004 I purchased a simple electric meat grinder and started making my own sausages. Now I know WHAT is in ...   \n",
       "40458                          I share with you the easiest soup ever. I make this when I need something to put on the table fast! My hubby calls this my &quot;cheaters soup&quot;, but he admits he loves it!   \n",
       "59117   This is a delicious soup that can be served as a first course, main dish or even lunch. Even though it has a some cream, it only averages out to 2 T per person. So, it isn't that rich! Other shell...   \n",
       "323835  Tasty and low fat kebabs. If you are short of time, marinate the chicken for just 20 minutes - it will still absorb a lot of the flavours. Try using a different selection of vegetables, such as ye...   \n",
       "\n",
       "        SodiumContent  high_sodium  ProteinContent  high_protein  \\\n",
       "452925       316.8000            0         22.3000             1   \n",
       "220222       683.6000            1         19.8000             1   \n",
       "40458        844.5000            1         16.9000             0   \n",
       "59117        599.3000            1         20.7000             1   \n",
       "323835      1119.3000            1         25.5000             1   \n",
       "\n",
       "        SaturatedFatContent  high_satfat  RecipeServings  \\\n",
       "452925               2.1000            0          6.0000   \n",
       "220222               9.0000            1          4.0000   \n",
       "40458                3.5000            0          6.0000   \n",
       "59117                9.3000            1          6.0000   \n",
       "323835               0.3000            0          4.0000   \n",
       "\n",
       "                                                                                                                                                                                            ingredients_raw_str  \n",
       "452925  [\"1   tablespoon    olive oil\",\"2       onions, chopped \",\"500   g    lean pork, diced \",\"2   teaspoons    sweet Hungarian paprika\",\"1   teaspoon    hot paprika\",\"60   g    red lentils\",\"1/2  teas...  \n",
       "220222  [\"1   lb    ground lean pork\",\"2   tablespoons    chili powder\",\"1/2  teaspoon    Mexican oregano\",\"1   teaspoon    salt\",\"1/4  teaspoon    cumin\",\"2       garlic cloves, minced \",\"2   tablespoons...  \n",
       "40458   [\"1 (10 1/2  ounce) can   Fiesta nacho cheese soup\",\"1 (10 1/2  ounce) can   cream of chicken soup\",\"2 2/3  cups    milk\",\"1 (10   ounce) can  chunky white chicken meat, drained \",\"1 (10   ounce) ...  \n",
       "59117   [\"2   tablespoons    olive oil\",\"1   lb    medium raw shrimp, peeled,deveined,shells reserved \",\"4   cups    fish stock or 4   cups    bottled clam juice\",\"1   cup    dry white vermouth\",\"1       ...  \n",
       "323835  [\"4   tablespoons    soy sauce\",\"2   tablespoons    mirin\",\"1   tablespoon    clear honey\",\"1   inch   piece gingerroot, peeled and finely grated \",\"1       garlic clove, crushed \",\"14   ounces   ...  "
      ]
     },
     "execution_count": 160,
     "metadata": {},
     "output_type": "execute_result"
    }
   ],
   "source": [
    "nkf_recipes.sample(5)[['Name', \n",
    "                      'Description',\n",
    "                      'SodiumContent',\n",
    "                      'high_sodium',\n",
    "                      'ProteinContent',\n",
    "                      'high_protein',\n",
    "                      'SaturatedFatContent',\n",
    "                      'high_satfat',\n",
    "                      'RecipeServings',\n",
    "                      'ingredients_raw_str']]"
   ]
  },
  {
   "cell_type": "code",
   "execution_count": 161,
   "id": "b317a7b0-369b-4031-be50-e958982b88d6",
   "metadata": {
    "tags": []
   },
   "outputs": [],
   "source": [
    "nkf_recipes.to_csv('../data/generated/non_kidney_friendly_recipes.csv', index=True)"
   ]
  },
  {
   "cell_type": "code",
   "execution_count": 162,
   "id": "067171e2-cc6a-4ba8-b371-62d9eb1afe91",
   "metadata": {
    "tags": []
   },
   "outputs": [],
   "source": [
    "very_nkf_recipes = food_NO_df[(high_sodium) & (high_protein) & (high_satfat)]"
   ]
  },
  {
   "cell_type": "code",
   "execution_count": 163,
   "id": "09089991-f878-4fcf-82cf-65da73b98c60",
   "metadata": {
    "tags": []
   },
   "outputs": [
    {
     "data": {
      "text/plain": [
       "(43451, 37)"
      ]
     },
     "execution_count": 163,
     "metadata": {},
     "output_type": "execute_result"
    }
   ],
   "source": [
    "very_nkf_recipes.shape"
   ]
  },
  {
   "cell_type": "code",
   "execution_count": null,
   "id": "e825617e-4c10-472b-a690-dee23276bd9a",
   "metadata": {},
   "outputs": [],
   "source": []
  }
 ],
 "metadata": {
  "kernelspec": {
   "display_name": "Python 3 (ipykernel)",
   "language": "python",
   "name": "python3"
  },
  "language_info": {
   "codemirror_mode": {
    "name": "ipython",
    "version": 3
   },
   "file_extension": ".py",
   "mimetype": "text/x-python",
   "name": "python",
   "nbconvert_exporter": "python",
   "pygments_lexer": "ipython3",
   "version": "3.11.4"
  }
 },
 "nbformat": 4,
 "nbformat_minor": 5
}
