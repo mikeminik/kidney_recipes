{
 "cells": [
  {
   "cell_type": "code",
   "execution_count": 1,
   "id": "837dd7cc-b807-4cae-a3f4-961b4cce448f",
   "metadata": {
    "tags": []
   },
   "outputs": [],
   "source": [
    "import numpy as np\n",
    "import pandas as pd\n",
    "import requests\n",
    "from bs4 import BeautifulSoup"
   ]
  },
  {
   "cell_type": "code",
   "execution_count": 9,
   "id": "523eea03-b3bc-4fdc-815a-c7864b6d8fe0",
   "metadata": {
    "tags": []
   },
   "outputs": [
    {
     "data": {
      "text/plain": [
       "200"
      ]
     },
     "execution_count": 9,
     "metadata": {},
     "output_type": "execute_result"
    }
   ],
   "source": [
    "headers = {'User-Agent': 'Mozilla/5.0 (Windows NT 10.0; Win64; x64) AppleWebKit/537.36 (KHTML, like Gecko) Chrome/119.0.0.0 Safari/537.36'}\n",
    "url = \"https://kitchen.kidneyfund.org/find-recipes/\"\n",
    "res = requests.get(url, headers=headers)\n",
    "res.status_code"
   ]
  },
  {
   "cell_type": "code",
   "execution_count": 10,
   "id": "120f71ac-6290-4b75-b70b-97397b2cdfa4",
   "metadata": {
    "tags": []
   },
   "outputs": [],
   "source": [
    "soup = BeautifulSoup(res.content)"
   ]
  },
  {
   "cell_type": "code",
   "execution_count": 39,
   "id": "4b001cab-807a-4435-8afa-0bf35c54dd23",
   "metadata": {
    "tags": []
   },
   "outputs": [],
   "source": [
    "cards = soup.find_all('div', {'class' : 'right'})\n",
    "# cards = soup.find('div', {'class' : 'right'}).attrs['onclick'].split('=')[1].replace(\"'\",\"\").strip()"
   ]
  },
  {
   "cell_type": "code",
   "execution_count": 41,
   "id": "b6a6a42b-a3a2-4b36-a12e-74d142674dc0",
   "metadata": {
    "tags": []
   },
   "outputs": [
    {
     "data": {
      "text/plain": [
       "<div class=\"right\" onclick=\"javascript:window.location.href = 'https://kitchen.kidneyfund.org/recipe/rock-cornish-game-hens-with-tarragon/'\" style=\"background-image:url(https://kidneyfund.wpenginepowered.com/wp-content/uploads/2023/10/e04adca2-c3b0-4e9c-ae5e-749f77e588b9-300x200.jpg); cursor: pointer;\">\n",
       "</div>"
      ]
     },
     "execution_count": 41,
     "metadata": {},
     "output_type": "execute_result"
    }
   ],
   "source": [
    "cards[0]"
   ]
  },
  {
   "cell_type": "code",
   "execution_count": 54,
   "id": "cff85c46-eb47-489c-a866-9f27ef0fa17c",
   "metadata": {
    "tags": []
   },
   "outputs": [
    {
     "data": {
      "text/plain": [
       "21"
      ]
     },
     "execution_count": 54,
     "metadata": {},
     "output_type": "execute_result"
    }
   ],
   "source": [
    "len(cards)"
   ]
  },
  {
   "cell_type": "code",
   "execution_count": 53,
   "id": "19dc667c-3694-436e-ba31-f521cf6d1099",
   "metadata": {
    "tags": []
   },
   "outputs": [
    {
     "data": {
      "text/plain": [
       "\"javascript:window.location.href = 'https://kitchen.kidneyfund.org/recipe/poultry-gravy-and-wings/'\""
      ]
     },
     "execution_count": 53,
     "metadata": {},
     "output_type": "execute_result"
    }
   ],
   "source": [
    "soup.find_all('div', {'class' : 'right'})[1].attrs['onclick']"
   ]
  },
  {
   "cell_type": "code",
   "execution_count": 58,
   "id": "43da5cd1-af57-423b-9767-044713163ca1",
   "metadata": {
    "tags": []
   },
   "outputs": [],
   "source": [
    "recipes = []\n",
    "for i in range(1,len(cards)):\n",
    "    recipes.append(soup.find_all('div', {'class' : 'right'})[i].attrs['onclick'].split('=')[1].replace(\"'\",\"\").strip())\n",
    "    "
   ]
  },
  {
   "cell_type": "code",
   "execution_count": 59,
   "id": "9df783e5-e366-4cd3-a1ac-51fcae069c23",
   "metadata": {
    "tags": []
   },
   "outputs": [
    {
     "data": {
      "text/plain": [
       "['https://kitchen.kidneyfund.org/recipe/poultry-gravy-and-wings/',\n",
       " 'https://kitchen.kidneyfund.org/recipe/sweet-chiffon-pie/',\n",
       " 'https://kitchen.kidneyfund.org/recipe/sweet-carrots/',\n",
       " 'https://kitchen.kidneyfund.org/recipe/sugar-free-pumpkin-cheese-pie/',\n",
       " 'https://kitchen.kidneyfund.org/recipe/pork-with-glazed-plums/',\n",
       " 'https://kitchen.kidneyfund.org/recipe/non-alcoholic-eggnog/',\n",
       " 'https://kitchen.kidneyfund.org/recipe/non-alcoholic-champagne/',\n",
       " 'https://kitchen.kidneyfund.org/recipe/gingerbread-1/',\n",
       " 'https://kitchen.kidneyfund.org/recipe/roasted-asparagus-and-wild-mushroom/',\n",
       " 'https://kitchen.kidneyfund.org/recipe/carrot-leek-and-goat-cheese-tarts/',\n",
       " 'https://kitchen.kidneyfund.org/recipe/soft-pretzels/',\n",
       " 'https://kitchen.kidneyfund.org/recipe/shrimp-spread-with-crackers/',\n",
       " 'https://kitchen.kidneyfund.org/recipe/shrimp-scampi-linguine/',\n",
       " 'https://kitchen.kidneyfund.org/recipe/raspberry-muffins-with-streusel/',\n",
       " 'https://kitchen.kidneyfund.org/recipe/popcorn-munch/',\n",
       " 'https://kitchen.kidneyfund.org/recipe/poached-fish-and-peppers-in-tomato-broth/',\n",
       " 'https://kitchen.kidneyfund.org/recipe/oven-fried-chicken-2/',\n",
       " 'https://kitchen.kidneyfund.org/recipe/onion-steak-2/',\n",
       " 'https://kitchen.kidneyfund.org/recipe/oat-pancakes-with-fruit-2/',\n",
       " 'https://kitchen.kidneyfund.org/recipe/onion-bagel-chips-2/']"
      ]
     },
     "execution_count": 59,
     "metadata": {},
     "output_type": "execute_result"
    }
   ],
   "source": [
    "recipes"
   ]
  },
  {
   "cell_type": "code",
   "execution_count": 60,
   "id": "f0528b92-3ed7-40d9-afd3-71ec5b8ec479",
   "metadata": {
    "tags": []
   },
   "outputs": [
    {
     "data": {
      "text/plain": [
       "200"
      ]
     },
     "execution_count": 60,
     "metadata": {},
     "output_type": "execute_result"
    }
   ],
   "source": [
    "sub_url = recipes[0]\n",
    "sub_res = requests.get(sub_url, headers=headers)\n",
    "res.status_code\n"
   ]
  },
  {
   "cell_type": "code",
   "execution_count": 61,
   "id": "d558e7fc-d2c6-402e-8477-db438f6ac465",
   "metadata": {
    "tags": []
   },
   "outputs": [],
   "source": [
    "sub_soup = BeautifulSoup(res.content)"
   ]
  },
  {
   "cell_type": "code",
   "execution_count": 68,
   "id": "1ecfe04e-7f98-41e4-8fd8-3b756c5001cb",
   "metadata": {
    "tags": []
   },
   "outputs": [],
   "source": [
    "divs = sub_soup.find_all('div', {'class': 'elementor-widget-container'})"
   ]
  },
  {
   "cell_type": "code",
   "execution_count": 70,
   "id": "ccfb5ac1-52c3-4f58-8e8c-7ed8f86af93e",
   "metadata": {
    "tags": []
   },
   "outputs": [
    {
     "data": {
      "text/plain": [
       "53"
      ]
     },
     "execution_count": 70,
     "metadata": {},
     "output_type": "execute_result"
    }
   ],
   "source": [
    "len(divs)"
   ]
  },
  {
   "cell_type": "code",
   "execution_count": 67,
   "id": "033a3112-002b-4e56-8f13-d2f213eaf914",
   "metadata": {
    "tags": []
   },
   "outputs": [
    {
     "data": {
      "text/plain": [
       "<div class=\"elementor-container elementor-column-gap-default\">\n",
       "<div class=\"has_eae_slider elementor-column elementor-col-33 elementor-top-column elementor-element elementor-element-99f9953\" data-element_type=\"column\" data-id=\"99f9953\">\n",
       "<div class=\"elementor-widget-wrap elementor-element-populated\">\n",
       "<div class=\"elementor-element elementor-element-99f5902 elementor-widget elementor-widget-image\" data-element_type=\"widget\" data-id=\"99f5902\" data-widget_type=\"image.default\">\n",
       "<div class=\"elementor-widget-container\">\n",
       "<a href=\"https://kitchen.kidneyfund.org/\">\n",
       "<img alt=\"\" class=\"attachment-large size-large wp-image-2787\" height=\"126\" sizes=\"(max-width: 1024px) 100vw, 1024px\" src=\"https://kidneyfund.wpenginepowered.com/wp-content/uploads/2021/03/logo-final-both-nobeta_akf-kk_color_updated-3-1024x126.png\" srcset=\"https://kidneyfund.wpenginepowered.com/wp-content/uploads/2021/03/logo-final-both-nobeta_akf-kk_color_updated-3-1024x126.png 1024w, https://kidneyfund.wpenginepowered.com/wp-content/uploads/2021/03/logo-final-both-nobeta_akf-kk_color_updated-3-300x37.png 300w, https://kidneyfund.wpenginepowered.com/wp-content/uploads/2021/03/logo-final-both-nobeta_akf-kk_color_updated-3-768x95.png 768w, https://kidneyfund.wpenginepowered.com/wp-content/uploads/2021/03/logo-final-both-nobeta_akf-kk_color_updated-3-1536x189.png 1536w, https://kidneyfund.wpenginepowered.com/wp-content/uploads/2021/03/logo-final-both-nobeta_akf-kk_color_updated-3-2048x253.png 2048w\" width=\"1024\"/> </a>\n",
       "</div>\n",
       "</div>\n",
       "</div>\n",
       "</div>\n",
       "<div class=\"has_eae_slider elementor-column elementor-col-33 elementor-top-column elementor-element elementor-element-a6aea6b\" data-element_type=\"column\" data-id=\"a6aea6b\">\n",
       "<div class=\"elementor-widget-wrap elementor-element-populated\">\n",
       "<div class=\"elementor-element elementor-element-19075e9 elementor-nav-menu__align-center elementor-nav-menu--stretch elementor-nav-menu__text-align-center elementor-nav-menu--dropdown-tablet elementor-nav-menu--toggle elementor-nav-menu--burger elementor-widget elementor-widget-nav-menu\" data-element_type=\"widget\" data-id=\"19075e9\" data-settings='{\"full_width\":\"stretch\",\"submenu_icon\":{\"value\":\"&lt;i class=\\\"fas fa-angle-down\\\"&gt;&lt;\\/i&gt;\",\"library\":\"fa-solid\"},\"layout\":\"horizontal\",\"toggle\":\"burger\"}' data-widget_type=\"nav-menu.default\">\n",
       "<div class=\"elementor-widget-container\">\n",
       "<nav class=\"elementor-nav-menu--main elementor-nav-menu__container elementor-nav-menu--layout-horizontal e--pointer-none\">\n",
       "<ul class=\"elementor-nav-menu\" id=\"menu-1-19075e9\"><li class=\"menu-item menu-item-type-post_type menu-item-object-page menu-item-has-children menu-item-2940\"><a class=\"elementor-item menu-link\" href=\"https://kitchen.kidneyfund.org/about/\">About &amp; Partners</a>\n",
       "<ul class=\"sub-menu elementor-nav-menu--dropdown\">\n",
       "<li class=\"menu-item menu-item-type-post_type menu-item-object-page menu-item-2976\"><a class=\"elementor-sub-item menu-link\" href=\"https://kitchen.kidneyfund.org/about/\">About Kidney Kitchen</a></li>\n",
       "<li class=\"menu-item menu-item-type-post_type menu-item-object-page menu-item-2790\"><a class=\"elementor-sub-item menu-link\" href=\"https://kitchen.kidneyfund.org/approach/\">Our Approach</a></li>\n",
       "<li class=\"menu-item menu-item-type-post_type menu-item-object-page menu-item-85677\"><a class=\"elementor-sub-item menu-link\" href=\"https://kitchen.kidneyfund.org/food-safety-and-kidney-disease/\">USDA Food Safety</a></li>\n",
       "<li class=\"menu-item menu-item-type-post_type menu-item-object-page menu-item-85901\"><a class=\"elementor-sub-item menu-link\" href=\"https://kitchen.kidneyfund.org/national-heart-lung-and-blood-institute-nhlbi/\">National Heart, Lung and Blood Institute (NHLBI)</a></li>\n",
       "<li class=\"menu-item menu-item-type-post_type menu-item-object-page menu-item-2791\"><a class=\"elementor-sub-item menu-link\" href=\"https://kitchen.kidneyfund.org/shusterman/\">Blake Shusterman</a></li>\n",
       "<li class=\"menu-item menu-item-type-post_type menu-item-object-page menu-item-2793\"><a class=\"elementor-sub-item menu-link\" href=\"https://kitchen.kidneyfund.org/blaylock/\">Linda Blaylock</a></li>\n",
       "<li class=\"menu-item menu-item-type-post_type menu-item-object-page menu-item-2794\"><a class=\"elementor-sub-item menu-link\" href=\"https://kitchen.kidneyfund.org/whelan/\">Aisling Whelan</a></li>\n",
       "<li class=\"menu-item menu-item-type-post_type menu-item-object-page menu-item-2795\"><a class=\"elementor-sub-item menu-link\" href=\"https://kitchen.kidneyfund.org/feibig/\">Carolyn Feibig</a></li>\n",
       "<li class=\"menu-item menu-item-type-post_type menu-item-object-page menu-item-2792\"><a class=\"elementor-sub-item menu-link\" href=\"https://kitchen.kidneyfund.org/familycook-productions/\">FamilyCook Productions</a></li>\n",
       "</ul>\n",
       "</li>\n",
       "<li class=\"menu-item menu-item-type-custom menu-item-object-custom menu-item-has-children menu-item-10\"><a class=\"elementor-item elementor-item-anchor menu-link\" href=\"#\">Kidney-Friendly Eating Resources</a>\n",
       "<ul class=\"sub-menu elementor-nav-menu--dropdown\">\n",
       "<li class=\"menu-item menu-item-type-post_type menu-item-object-page menu-item-has-children menu-item-2796\"><a class=\"elementor-sub-item menu-link\" href=\"https://kitchen.kidneyfund.org/eating-healthy-with-kidney-disease/\">Eating for your stage</a>\n",
       "<ul class=\"sub-menu elementor-nav-menu--dropdown\">\n",
       "<li class=\"menu-item menu-item-type-post_type menu-item-object-page menu-item-2797\"><a class=\"elementor-sub-item menu-link\" href=\"https://kitchen.kidneyfund.org/eating-healthy-with-kidney-disease/kidney-disease-stages-1-and-2/\">Kidney disease stages 1 and 2</a></li>\n",
       "<li class=\"menu-item menu-item-type-post_type menu-item-object-page menu-item-2798\"><a class=\"elementor-sub-item menu-link\" href=\"https://kitchen.kidneyfund.org/eating-healthy-with-kidney-disease/kidney-disease-stages-3-4-5-not-on-dialysis/\">Kidney disease stages 3, 4, and 5</a></li>\n",
       "<li class=\"menu-item menu-item-type-post_type menu-item-object-page menu-item-2799\"><a class=\"elementor-sub-item menu-link\" href=\"https://kitchen.kidneyfund.org/eating-healthy-with-kidney-disease/kidney-failure/\">Kidney failure (on dialysis)</a></li>\n",
       "<li class=\"menu-item menu-item-type-post_type menu-item-object-page menu-item-2800\"><a class=\"elementor-sub-item menu-link\" href=\"https://kitchen.kidneyfund.org/eating-healthy-with-kidney-disease/kidney-transplant/\">Kidney transplant</a></li>\n",
       "</ul>\n",
       "</li>\n",
       "<li class=\"menu-item menu-item-type-post_type menu-item-object-page menu-item-has-children menu-item-2801\"><a class=\"elementor-sub-item menu-link\" href=\"https://kitchen.kidneyfund.org/general-nutrients/\">Nutrients</a>\n",
       "<ul class=\"sub-menu elementor-nav-menu--dropdown\">\n",
       "<li class=\"menu-item menu-item-type-post_type menu-item-object-page menu-item-2802\"><a class=\"elementor-sub-item menu-link\" href=\"https://kitchen.kidneyfund.org/carbohydrates/\">Carbohydrates</a></li>\n",
       "<li class=\"menu-item menu-item-type-post_type menu-item-object-page menu-item-2803\"><a class=\"elementor-sub-item menu-link\" href=\"https://kitchen.kidneyfund.org/fats/\">Fats</a></li>\n",
       "<li class=\"menu-item menu-item-type-post_type menu-item-object-page menu-item-2809\"><a class=\"elementor-sub-item menu-link\" href=\"https://kitchen.kidneyfund.org/sugar/\">Sugar</a></li>\n",
       "<li class=\"menu-item menu-item-type-post_type menu-item-object-page menu-item-2805\"><a class=\"elementor-sub-item menu-link\" href=\"https://kitchen.kidneyfund.org/phosphorus/\">Phosphorus</a></li>\n",
       "<li class=\"menu-item menu-item-type-post_type menu-item-object-page menu-item-2808\"><a class=\"elementor-sub-item menu-link\" href=\"https://kitchen.kidneyfund.org/sodium/\">Sodium</a></li>\n",
       "<li class=\"menu-item menu-item-type-post_type menu-item-object-page menu-item-89244\"><a class=\"elementor-sub-item menu-link\" href=\"https://kitchen.kidneyfund.org/potassium/\">Potassium</a></li>\n",
       "<li class=\"menu-item menu-item-type-post_type menu-item-object-page menu-item-2807\"><a class=\"elementor-sub-item menu-link\" href=\"https://kitchen.kidneyfund.org/protein/\">Protein</a></li>\n",
       "<li class=\"menu-item menu-item-type-post_type menu-item-object-page menu-item-2804\"><a class=\"elementor-sub-item menu-link\" href=\"https://kitchen.kidneyfund.org/fluids/\">Fluids</a></li>\n",
       "</ul>\n",
       "</li>\n",
       "<li class=\"menu-item menu-item-type-post_type menu-item-object-page menu-item-86321\"><a class=\"elementor-sub-item menu-link\" href=\"https://kitchen.kidneyfund.org/ask-a-dietitian/\">Ask a dietitian</a></li>\n",
       "</ul>\n",
       "</li>\n",
       "<li class=\"menu-item menu-item-type-custom menu-item-object-custom menu-item-has-children menu-item-11\"><a class=\"elementor-item elementor-item-anchor menu-link\" href=\"#\">Recipe Collections</a>\n",
       "<ul class=\"sub-menu elementor-nav-menu--dropdown\">\n",
       "<li class=\"menu-item menu-item-type-custom menu-item-object-custom menu-item-89765\"><a class=\"elementor-sub-item menu-link\" href=\"https://kitchen.kidneyfund.org/find-recipes/?_collection=holiday\">Holiday Favorites</a></li>\n",
       "<li class=\"menu-item menu-item-type-custom menu-item-object-custom menu-item-86837\"><a class=\"elementor-sub-item menu-link\" href=\"https://kitchen.kidneyfund.org/find-recipes/?_collection=favorite-low-phosphorus-recipes\">Favorite Low Phosphorus</a></li>\n",
       "<li class=\"menu-item menu-item-type-custom menu-item-object-custom menu-item-2872\"><a class=\"elementor-sub-item menu-link\" href=\"https://kitchen.kidneyfund.org/find-recipes/?_collection=latin-american-inspired\">Latin American Inspired</a></li>\n",
       "<li class=\"menu-item menu-item-type-custom menu-item-object-custom menu-item-3003\"><a class=\"elementor-sub-item menu-link\" href=\"https://kitchen.kidneyfund.org/find-recipes/?_collection=asian-american-pacific-islander-inspired\">Asian American Pacific Islander Inspired</a></li>\n",
       "<li class=\"menu-item menu-item-type-custom menu-item-object-custom menu-item-2875\"><a class=\"elementor-sub-item menu-link\" href=\"https://kitchen.kidneyfund.org/find-recipes/?_collection=low-potassium\">Low Potassium</a></li>\n",
       "<li class=\"menu-item menu-item-type-custom menu-item-object-custom menu-item-2870\"><a class=\"elementor-sub-item menu-link\" href=\"https://kitchen.kidneyfund.org/find-recipes/?_dietary_requirements=heart-healthy\">Heart Healthy</a></li>\n",
       "<li class=\"menu-item menu-item-type-custom menu-item-object-custom menu-item-2873\"><a class=\"elementor-sub-item menu-link\" href=\"https://kitchen.kidneyfund.org/find-recipes/?_collection=familycook-recipes\">FamilyCook Productions</a></li>\n",
       "<li class=\"menu-item menu-item-type-custom menu-item-object-custom menu-item-2871\"><a class=\"elementor-sub-item menu-link\" href=\"https://kitchen.kidneyfund.org/find-recipes/?_collection=the-cooking-doc\">The Cooking Doc</a></li>\n",
       "<li class=\"menu-item menu-item-type-custom menu-item-object-custom menu-item-2877\"><a class=\"elementor-sub-item menu-link\" href=\"https://kitchen.kidneyfund.org/find-recipes/?_dietary_requirements=vegetarian\">Vegetarian</a></li>\n",
       "</ul>\n",
       "</li>\n",
       "<li class=\"menu-item menu-item-type-custom menu-item-object-custom menu-item-has-children menu-item-2811\"><a class=\"elementor-item menu-link\" href=\"https://kitchen.kidneyfund.org/resources/guides-and-resources/\">Guides &amp; Videos</a>\n",
       "<ul class=\"sub-menu elementor-nav-menu--dropdown\">\n",
       "<li class=\"menu-item menu-item-type-custom menu-item-object-custom menu-item-has-children menu-item-2941\"><a class=\"elementor-sub-item menu-link\" href=\"https://kitchen.kidneyfund.org/resources/guides-and-resources/\">Guides</a>\n",
       "<ul class=\"sub-menu elementor-nav-menu--dropdown\">\n",
       "<li class=\"menu-item menu-item-type-custom menu-item-object-custom menu-item-85773\"><a class=\"elementor-sub-item menu-link\" href=\"/resources/guides-and-resources/\">All Guides</a></li>\n",
       "<li class=\"menu-item menu-item-type-custom menu-item-object-custom menu-item-85844\"><a class=\"elementor-sub-item menu-link\" href=\"https://kitchen.kidneyfund.org/resources/guides-and-resources/how-to-prevent-high-phosphorus-with-kidney-disease/\">How to Prevent High Phosphorus with Kidney Disease</a></li>\n",
       "<li class=\"menu-item menu-item-type-custom menu-item-object-custom menu-item-2949\"><a class=\"elementor-sub-item menu-link\" href=\"https://kitchen.kidneyfund.org/resources/guides-and-resources/potassium-food-guide/\">Potassium food guide</a></li>\n",
       "<li class=\"menu-item menu-item-type-custom menu-item-object-custom menu-item-2946\"><a class=\"elementor-sub-item menu-link\" href=\"https://kitchen.kidneyfund.org/resources/guides-and-resources/potassium-tracker/\">Potassium tracker</a></li>\n",
       "<li class=\"menu-item menu-item-type-custom menu-item-object-custom menu-item-2945\"><a class=\"elementor-sub-item menu-link\" href=\"https://kitchen.kidneyfund.org/resources/guides-and-resources/phosphorus-food-guide/\">Phosphorus food guide</a></li>\n",
       "<li class=\"menu-item menu-item-type-custom menu-item-object-custom menu-item-2944\"><a class=\"elementor-sub-item menu-link\" href=\"https://kitchen.kidneyfund.org/resources/guides-and-resources/protein-food-guide/\">Protein food guide</a></li>\n",
       "<li class=\"menu-item menu-item-type-post_type menu-item-object-page menu-item-86033\"><a class=\"elementor-sub-item menu-link\" href=\"https://kitchen.kidneyfund.org/food-safety-and-kidney-disease/\">USDA Food Safety resources</a></li>\n",
       "<li class=\"menu-item menu-item-type-custom menu-item-object-custom menu-item-2950\"><a class=\"elementor-sub-item menu-link\" href=\"https://kitchen.kidneyfund.org/resources/guides-and-resources/cooking-supplies-guide/\">Cooking supplies guide</a></li>\n",
       "<li class=\"menu-item menu-item-type-custom menu-item-object-custom menu-item-2947\"><a class=\"elementor-sub-item menu-link\" href=\"https://kitchen.kidneyfund.org/resources/guides-and-resources/grocery-shopping-list/\">Grocery shopping list</a></li>\n",
       "<li class=\"menu-item menu-item-type-custom menu-item-object-custom menu-item-2943\"><a class=\"elementor-sub-item menu-link\" href=\"https://kitchen.kidneyfund.org/resources/guides-and-resources/guide-to-dining-out/\">Guide to dining out</a></li>\n",
       "<li class=\"menu-item menu-item-type-custom menu-item-object-custom menu-item-2948\"><a class=\"elementor-sub-item menu-link\" href=\"https://kitchen.kidneyfund.org/resources/guides-and-resources/double-whammy-food-high-in-phosphorus-and-potassium/\">‘Double whammy’ food high in phosphorus and potassium</a></li>\n",
       "</ul>\n",
       "</li>\n",
       "<li class=\"menu-item menu-item-type-post_type menu-item-object-page menu-item-2810\"><a class=\"elementor-sub-item menu-link\" href=\"https://kitchen.kidneyfund.org/videos/\">Videos</a></li>\n",
       "<li class=\"menu-item menu-item-type-post_type menu-item-object-page menu-item-2951\"><a class=\"elementor-sub-item menu-link\" href=\"https://kitchen.kidneyfund.org/glossary/\">Glossary</a></li>\n",
       "</ul>\n",
       "</li>\n",
       "</ul> </nav>\n",
       "<div aria-expanded=\"false\" aria-label=\"Menu Toggle\" class=\"elementor-menu-toggle\" role=\"button\" tabindex=\"0\">\n",
       "<i aria-hidden=\"true\" class=\"elementor-menu-toggle__icon--open eicon-menu-bar\" role=\"presentation\"></i><i aria-hidden=\"true\" class=\"elementor-menu-toggle__icon--close eicon-close\" role=\"presentation\"></i> <span class=\"elementor-screen-only\">Menu</span>\n",
       "</div>\n",
       "<nav aria-hidden=\"true\" class=\"elementor-nav-menu--dropdown elementor-nav-menu__container\">\n",
       "<ul class=\"elementor-nav-menu\" id=\"menu-2-19075e9\"><li class=\"menu-item menu-item-type-post_type menu-item-object-page menu-item-has-children menu-item-2940\"><a class=\"elementor-item menu-link\" href=\"https://kitchen.kidneyfund.org/about/\" tabindex=\"-1\">About &amp; Partners</a>\n",
       "<ul class=\"sub-menu elementor-nav-menu--dropdown\">\n",
       "<li class=\"menu-item menu-item-type-post_type menu-item-object-page menu-item-2976\"><a class=\"elementor-sub-item menu-link\" href=\"https://kitchen.kidneyfund.org/about/\" tabindex=\"-1\">About Kidney Kitchen</a></li>\n",
       "<li class=\"menu-item menu-item-type-post_type menu-item-object-page menu-item-2790\"><a class=\"elementor-sub-item menu-link\" href=\"https://kitchen.kidneyfund.org/approach/\" tabindex=\"-1\">Our Approach</a></li>\n",
       "<li class=\"menu-item menu-item-type-post_type menu-item-object-page menu-item-85677\"><a class=\"elementor-sub-item menu-link\" href=\"https://kitchen.kidneyfund.org/food-safety-and-kidney-disease/\" tabindex=\"-1\">USDA Food Safety</a></li>\n",
       "<li class=\"menu-item menu-item-type-post_type menu-item-object-page menu-item-85901\"><a class=\"elementor-sub-item menu-link\" href=\"https://kitchen.kidneyfund.org/national-heart-lung-and-blood-institute-nhlbi/\" tabindex=\"-1\">National Heart, Lung and Blood Institute (NHLBI)</a></li>\n",
       "<li class=\"menu-item menu-item-type-post_type menu-item-object-page menu-item-2791\"><a class=\"elementor-sub-item menu-link\" href=\"https://kitchen.kidneyfund.org/shusterman/\" tabindex=\"-1\">Blake Shusterman</a></li>\n",
       "<li class=\"menu-item menu-item-type-post_type menu-item-object-page menu-item-2793\"><a class=\"elementor-sub-item menu-link\" href=\"https://kitchen.kidneyfund.org/blaylock/\" tabindex=\"-1\">Linda Blaylock</a></li>\n",
       "<li class=\"menu-item menu-item-type-post_type menu-item-object-page menu-item-2794\"><a class=\"elementor-sub-item menu-link\" href=\"https://kitchen.kidneyfund.org/whelan/\" tabindex=\"-1\">Aisling Whelan</a></li>\n",
       "<li class=\"menu-item menu-item-type-post_type menu-item-object-page menu-item-2795\"><a class=\"elementor-sub-item menu-link\" href=\"https://kitchen.kidneyfund.org/feibig/\" tabindex=\"-1\">Carolyn Feibig</a></li>\n",
       "<li class=\"menu-item menu-item-type-post_type menu-item-object-page menu-item-2792\"><a class=\"elementor-sub-item menu-link\" href=\"https://kitchen.kidneyfund.org/familycook-productions/\" tabindex=\"-1\">FamilyCook Productions</a></li>\n",
       "</ul>\n",
       "</li>\n",
       "<li class=\"menu-item menu-item-type-custom menu-item-object-custom menu-item-has-children menu-item-10\"><a class=\"elementor-item elementor-item-anchor menu-link\" href=\"#\" tabindex=\"-1\">Kidney-Friendly Eating Resources</a>\n",
       "<ul class=\"sub-menu elementor-nav-menu--dropdown\">\n",
       "<li class=\"menu-item menu-item-type-post_type menu-item-object-page menu-item-has-children menu-item-2796\"><a class=\"elementor-sub-item menu-link\" href=\"https://kitchen.kidneyfund.org/eating-healthy-with-kidney-disease/\" tabindex=\"-1\">Eating for your stage</a>\n",
       "<ul class=\"sub-menu elementor-nav-menu--dropdown\">\n",
       "<li class=\"menu-item menu-item-type-post_type menu-item-object-page menu-item-2797\"><a class=\"elementor-sub-item menu-link\" href=\"https://kitchen.kidneyfund.org/eating-healthy-with-kidney-disease/kidney-disease-stages-1-and-2/\" tabindex=\"-1\">Kidney disease stages 1 and 2</a></li>\n",
       "<li class=\"menu-item menu-item-type-post_type menu-item-object-page menu-item-2798\"><a class=\"elementor-sub-item menu-link\" href=\"https://kitchen.kidneyfund.org/eating-healthy-with-kidney-disease/kidney-disease-stages-3-4-5-not-on-dialysis/\" tabindex=\"-1\">Kidney disease stages 3, 4, and 5</a></li>\n",
       "<li class=\"menu-item menu-item-type-post_type menu-item-object-page menu-item-2799\"><a class=\"elementor-sub-item menu-link\" href=\"https://kitchen.kidneyfund.org/eating-healthy-with-kidney-disease/kidney-failure/\" tabindex=\"-1\">Kidney failure (on dialysis)</a></li>\n",
       "<li class=\"menu-item menu-item-type-post_type menu-item-object-page menu-item-2800\"><a class=\"elementor-sub-item menu-link\" href=\"https://kitchen.kidneyfund.org/eating-healthy-with-kidney-disease/kidney-transplant/\" tabindex=\"-1\">Kidney transplant</a></li>\n",
       "</ul>\n",
       "</li>\n",
       "<li class=\"menu-item menu-item-type-post_type menu-item-object-page menu-item-has-children menu-item-2801\"><a class=\"elementor-sub-item menu-link\" href=\"https://kitchen.kidneyfund.org/general-nutrients/\" tabindex=\"-1\">Nutrients</a>\n",
       "<ul class=\"sub-menu elementor-nav-menu--dropdown\">\n",
       "<li class=\"menu-item menu-item-type-post_type menu-item-object-page menu-item-2802\"><a class=\"elementor-sub-item menu-link\" href=\"https://kitchen.kidneyfund.org/carbohydrates/\" tabindex=\"-1\">Carbohydrates</a></li>\n",
       "<li class=\"menu-item menu-item-type-post_type menu-item-object-page menu-item-2803\"><a class=\"elementor-sub-item menu-link\" href=\"https://kitchen.kidneyfund.org/fats/\" tabindex=\"-1\">Fats</a></li>\n",
       "<li class=\"menu-item menu-item-type-post_type menu-item-object-page menu-item-2809\"><a class=\"elementor-sub-item menu-link\" href=\"https://kitchen.kidneyfund.org/sugar/\" tabindex=\"-1\">Sugar</a></li>\n",
       "<li class=\"menu-item menu-item-type-post_type menu-item-object-page menu-item-2805\"><a class=\"elementor-sub-item menu-link\" href=\"https://kitchen.kidneyfund.org/phosphorus/\" tabindex=\"-1\">Phosphorus</a></li>\n",
       "<li class=\"menu-item menu-item-type-post_type menu-item-object-page menu-item-2808\"><a class=\"elementor-sub-item menu-link\" href=\"https://kitchen.kidneyfund.org/sodium/\" tabindex=\"-1\">Sodium</a></li>\n",
       "<li class=\"menu-item menu-item-type-post_type menu-item-object-page menu-item-89244\"><a class=\"elementor-sub-item menu-link\" href=\"https://kitchen.kidneyfund.org/potassium/\" tabindex=\"-1\">Potassium</a></li>\n",
       "<li class=\"menu-item menu-item-type-post_type menu-item-object-page menu-item-2807\"><a class=\"elementor-sub-item menu-link\" href=\"https://kitchen.kidneyfund.org/protein/\" tabindex=\"-1\">Protein</a></li>\n",
       "<li class=\"menu-item menu-item-type-post_type menu-item-object-page menu-item-2804\"><a class=\"elementor-sub-item menu-link\" href=\"https://kitchen.kidneyfund.org/fluids/\" tabindex=\"-1\">Fluids</a></li>\n",
       "</ul>\n",
       "</li>\n",
       "<li class=\"menu-item menu-item-type-post_type menu-item-object-page menu-item-86321\"><a class=\"elementor-sub-item menu-link\" href=\"https://kitchen.kidneyfund.org/ask-a-dietitian/\" tabindex=\"-1\">Ask a dietitian</a></li>\n",
       "</ul>\n",
       "</li>\n",
       "<li class=\"menu-item menu-item-type-custom menu-item-object-custom menu-item-has-children menu-item-11\"><a class=\"elementor-item elementor-item-anchor menu-link\" href=\"#\" tabindex=\"-1\">Recipe Collections</a>\n",
       "<ul class=\"sub-menu elementor-nav-menu--dropdown\">\n",
       "<li class=\"menu-item menu-item-type-custom menu-item-object-custom menu-item-89765\"><a class=\"elementor-sub-item menu-link\" href=\"https://kitchen.kidneyfund.org/find-recipes/?_collection=holiday\" tabindex=\"-1\">Holiday Favorites</a></li>\n",
       "<li class=\"menu-item menu-item-type-custom menu-item-object-custom menu-item-86837\"><a class=\"elementor-sub-item menu-link\" href=\"https://kitchen.kidneyfund.org/find-recipes/?_collection=favorite-low-phosphorus-recipes\" tabindex=\"-1\">Favorite Low Phosphorus</a></li>\n",
       "<li class=\"menu-item menu-item-type-custom menu-item-object-custom menu-item-2872\"><a class=\"elementor-sub-item menu-link\" href=\"https://kitchen.kidneyfund.org/find-recipes/?_collection=latin-american-inspired\" tabindex=\"-1\">Latin American Inspired</a></li>\n",
       "<li class=\"menu-item menu-item-type-custom menu-item-object-custom menu-item-3003\"><a class=\"elementor-sub-item menu-link\" href=\"https://kitchen.kidneyfund.org/find-recipes/?_collection=asian-american-pacific-islander-inspired\" tabindex=\"-1\">Asian American Pacific Islander Inspired</a></li>\n",
       "<li class=\"menu-item menu-item-type-custom menu-item-object-custom menu-item-2875\"><a class=\"elementor-sub-item menu-link\" href=\"https://kitchen.kidneyfund.org/find-recipes/?_collection=low-potassium\" tabindex=\"-1\">Low Potassium</a></li>\n",
       "<li class=\"menu-item menu-item-type-custom menu-item-object-custom menu-item-2870\"><a class=\"elementor-sub-item menu-link\" href=\"https://kitchen.kidneyfund.org/find-recipes/?_dietary_requirements=heart-healthy\" tabindex=\"-1\">Heart Healthy</a></li>\n",
       "<li class=\"menu-item menu-item-type-custom menu-item-object-custom menu-item-2873\"><a class=\"elementor-sub-item menu-link\" href=\"https://kitchen.kidneyfund.org/find-recipes/?_collection=familycook-recipes\" tabindex=\"-1\">FamilyCook Productions</a></li>\n",
       "<li class=\"menu-item menu-item-type-custom menu-item-object-custom menu-item-2871\"><a class=\"elementor-sub-item menu-link\" href=\"https://kitchen.kidneyfund.org/find-recipes/?_collection=the-cooking-doc\" tabindex=\"-1\">The Cooking Doc</a></li>\n",
       "<li class=\"menu-item menu-item-type-custom menu-item-object-custom menu-item-2877\"><a class=\"elementor-sub-item menu-link\" href=\"https://kitchen.kidneyfund.org/find-recipes/?_dietary_requirements=vegetarian\" tabindex=\"-1\">Vegetarian</a></li>\n",
       "</ul>\n",
       "</li>\n",
       "<li class=\"menu-item menu-item-type-custom menu-item-object-custom menu-item-has-children menu-item-2811\"><a class=\"elementor-item menu-link\" href=\"https://kitchen.kidneyfund.org/resources/guides-and-resources/\" tabindex=\"-1\">Guides &amp; Videos</a>\n",
       "<ul class=\"sub-menu elementor-nav-menu--dropdown\">\n",
       "<li class=\"menu-item menu-item-type-custom menu-item-object-custom menu-item-has-children menu-item-2941\"><a class=\"elementor-sub-item menu-link\" href=\"https://kitchen.kidneyfund.org/resources/guides-and-resources/\" tabindex=\"-1\">Guides</a>\n",
       "<ul class=\"sub-menu elementor-nav-menu--dropdown\">\n",
       "<li class=\"menu-item menu-item-type-custom menu-item-object-custom menu-item-85773\"><a class=\"elementor-sub-item menu-link\" href=\"/resources/guides-and-resources/\" tabindex=\"-1\">All Guides</a></li>\n",
       "<li class=\"menu-item menu-item-type-custom menu-item-object-custom menu-item-85844\"><a class=\"elementor-sub-item menu-link\" href=\"https://kitchen.kidneyfund.org/resources/guides-and-resources/how-to-prevent-high-phosphorus-with-kidney-disease/\" tabindex=\"-1\">How to Prevent High Phosphorus with Kidney Disease</a></li>\n",
       "<li class=\"menu-item menu-item-type-custom menu-item-object-custom menu-item-2949\"><a class=\"elementor-sub-item menu-link\" href=\"https://kitchen.kidneyfund.org/resources/guides-and-resources/potassium-food-guide/\" tabindex=\"-1\">Potassium food guide</a></li>\n",
       "<li class=\"menu-item menu-item-type-custom menu-item-object-custom menu-item-2946\"><a class=\"elementor-sub-item menu-link\" href=\"https://kitchen.kidneyfund.org/resources/guides-and-resources/potassium-tracker/\" tabindex=\"-1\">Potassium tracker</a></li>\n",
       "<li class=\"menu-item menu-item-type-custom menu-item-object-custom menu-item-2945\"><a class=\"elementor-sub-item menu-link\" href=\"https://kitchen.kidneyfund.org/resources/guides-and-resources/phosphorus-food-guide/\" tabindex=\"-1\">Phosphorus food guide</a></li>\n",
       "<li class=\"menu-item menu-item-type-custom menu-item-object-custom menu-item-2944\"><a class=\"elementor-sub-item menu-link\" href=\"https://kitchen.kidneyfund.org/resources/guides-and-resources/protein-food-guide/\" tabindex=\"-1\">Protein food guide</a></li>\n",
       "<li class=\"menu-item menu-item-type-post_type menu-item-object-page menu-item-86033\"><a class=\"elementor-sub-item menu-link\" href=\"https://kitchen.kidneyfund.org/food-safety-and-kidney-disease/\" tabindex=\"-1\">USDA Food Safety resources</a></li>\n",
       "<li class=\"menu-item menu-item-type-custom menu-item-object-custom menu-item-2950\"><a class=\"elementor-sub-item menu-link\" href=\"https://kitchen.kidneyfund.org/resources/guides-and-resources/cooking-supplies-guide/\" tabindex=\"-1\">Cooking supplies guide</a></li>\n",
       "<li class=\"menu-item menu-item-type-custom menu-item-object-custom menu-item-2947\"><a class=\"elementor-sub-item menu-link\" href=\"https://kitchen.kidneyfund.org/resources/guides-and-resources/grocery-shopping-list/\" tabindex=\"-1\">Grocery shopping list</a></li>\n",
       "<li class=\"menu-item menu-item-type-custom menu-item-object-custom menu-item-2943\"><a class=\"elementor-sub-item menu-link\" href=\"https://kitchen.kidneyfund.org/resources/guides-and-resources/guide-to-dining-out/\" tabindex=\"-1\">Guide to dining out</a></li>\n",
       "<li class=\"menu-item menu-item-type-custom menu-item-object-custom menu-item-2948\"><a class=\"elementor-sub-item menu-link\" href=\"https://kitchen.kidneyfund.org/resources/guides-and-resources/double-whammy-food-high-in-phosphorus-and-potassium/\" tabindex=\"-1\">‘Double whammy’ food high in phosphorus and potassium</a></li>\n",
       "</ul>\n",
       "</li>\n",
       "<li class=\"menu-item menu-item-type-post_type menu-item-object-page menu-item-2810\"><a class=\"elementor-sub-item menu-link\" href=\"https://kitchen.kidneyfund.org/videos/\" tabindex=\"-1\">Videos</a></li>\n",
       "<li class=\"menu-item menu-item-type-post_type menu-item-object-page menu-item-2951\"><a class=\"elementor-sub-item menu-link\" href=\"https://kitchen.kidneyfund.org/glossary/\" tabindex=\"-1\">Glossary</a></li>\n",
       "</ul>\n",
       "</li>\n",
       "</ul> </nav>\n",
       "</div>\n",
       "</div>\n",
       "</div>\n",
       "</div>\n",
       "<div class=\"has_eae_slider elementor-column elementor-col-33 elementor-top-column elementor-element elementor-element-95d16c1 elementor-hidden-phone\" data-element_type=\"column\" data-id=\"95d16c1\">\n",
       "<div class=\"elementor-widget-wrap elementor-element-populated\">\n",
       "<div class=\"elementor-element elementor-element-ed5d24c elementor-search-form--skin-full_screen elementor-widget elementor-widget-search-form\" data-element_type=\"widget\" data-id=\"ed5d24c\" data-settings='{\"skin\":\"full_screen\"}' data-widget_type=\"search-form.default\">\n",
       "<div class=\"elementor-widget-container\">\n",
       "<form action=\"https://kitchen.kidneyfund.org\" class=\"elementor-search-form\" method=\"get\" role=\"search\">\n",
       "<div class=\"elementor-search-form__toggle\" role=\"button\" tabindex=\"0\">\n",
       "<i aria-hidden=\"true\" class=\"fas fa-search\"></i> <span class=\"elementor-screen-only\">Search</span>\n",
       "</div>\n",
       "<div class=\"elementor-search-form__container\">\n",
       "<label class=\"elementor-screen-only\" for=\"elementor-search-form-ed5d24c\">Search</label>\n",
       "<input class=\"elementor-search-form__input\" id=\"elementor-search-form-ed5d24c\" name=\"s\" placeholder=\"Search...\" type=\"search\" value=\"\"/>\n",
       "<div class=\"dialog-lightbox-close-button dialog-close-button\" role=\"button\" tabindex=\"0\">\n",
       "<i aria-hidden=\"true\" class=\"eicon-close\"></i> <span class=\"elementor-screen-only\">Close this search box.</span>\n",
       "</div>\n",
       "</div>\n",
       "</form>\n",
       "</div>\n",
       "</div>\n",
       "</div>\n",
       "</div>\n",
       "</div>"
      ]
     },
     "execution_count": 67,
     "metadata": {},
     "output_type": "execute_result"
    }
   ],
   "source": [
    "entry-content col-md-6 col-sm-12 pt-3"
   ]
  },
  {
   "cell_type": "code",
   "execution_count": null,
   "id": "545ab913-c67a-48c1-bcab-1bee09d1d3ed",
   "metadata": {},
   "outputs": [],
   "source": []
  }
 ],
 "metadata": {
  "kernelspec": {
   "display_name": "Python 3 (ipykernel)",
   "language": "python",
   "name": "python3"
  },
  "language_info": {
   "codemirror_mode": {
    "name": "ipython",
    "version": 3
   },
   "file_extension": ".py",
   "mimetype": "text/x-python",
   "name": "python",
   "nbconvert_exporter": "python",
   "pygments_lexer": "ipython3",
   "version": "3.11.4"
  }
 },
 "nbformat": 4,
 "nbformat_minor": 5
}
