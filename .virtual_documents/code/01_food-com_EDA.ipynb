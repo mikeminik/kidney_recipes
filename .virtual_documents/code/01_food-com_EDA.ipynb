import pandas as pd
import numpy as np
import matplotlib.pyplot as plt
import seaborn as sns
import missingno as msno
from scipy import stats





pd.options.display.float_format = '{:.4f}'.format 
# no scientific notation!


food_df_1 = pd.read_csv('../data/food-com/food_com_bulk_data/recipes.csv')
food_df_2 = pd.read_csv('../data/food-com/food_com_bulk_data/recipes_w_ing_qtys.csv')


food_df_1.shape


food_df_1.head()


food_df_2.shape





food_df_2_ing = food_df_2[['id', 'ingredients_raw_str']]
food_df_2_ing.head()


food_df_1.set_index('RecipeId', inplace=True)


food_df_2_ing.set_index('id', inplace = True)


food_df = food_df_1.join(food_df_2_ing, how='inner')


food_df[['Name', 'RecipeIngredientParts', 'ingredients_raw_str']]


food_df.dtypes





high_protein_threshold = (((200 / 2.2) # median weight of a male in the US converted to kg
* 0.6) # multiplied by the 0.6 g/ kg recommendation (low end) provided by (https://www.ncbi.nlm.nih.gov/pmc/articles/PMC5962279/)
/ 3) # divided by 3 as a generalized assumption that protein intake is largely divided across 3 meals a day


high_sodium_threshold = 2300 * 0.2 # value derived from the FDA recommendation that adults consume no more thant 2,300mg a day
#combined with kidney institute's designation of high sodium serving being > 20%
# https://www.fda.gov/food/nutrition-education-resources-materials/sodium-your-diet#:~:text=Americans%20eat%20on%20average%20about,recommended%20limits%20are%20even%20lower.
# See supporting documents folder on sodium intake sourced dfrom National Institute of Diabetes and Digestive and Kidney Diseases


high_satfat_threshold = (((2000 * 0.1) / # according to the AHA, guidelines advocate a limitation that calories from saturated fat should not exceed 10% of daily total caloric intake
                          9) # this report from the Institute of Medicine of the National Academies of Sciences, Engineering and Medicine finds that 1g provides 9 kcal
                         / 3) # this is a generalized assumption that sat fat instake is largely divided across 3 meals a day





food_df['high_sodium'] = np.where(food_df['SodiumContent'] > high_sodium_threshold, 1, 0)


food_df['high_protein'] = np.where(food_df['ProteinContent'] > high_protein_threshold, 1 , 0)


food_df['high_satfat'] = np.where(food_df['SaturatedFatContent'] > high_satfat_threshold, 1 , 0)


food_df.columns








food_df[['SodiumContent', 'ProteinContent', 'SaturatedFatContent']].describe()



plt.figure(figsize=(12,6))
plt.hist(food_df[['SodiumContent']], bins = 100, range=(0, 10000))
plt.title('Sodium Content (mg) Per Serving Distribution')
plt.ylabel('Number of Recipes')
plt.xlabel('Sodium Content (mg)')






plt.figure(figsize=(12,6))
plt.hist(food_df[['SaturatedFatContent']], bins = 100, range=(0, 200), color = 'orange')
plt.title('Saturated Fat Content (g) Per Serving Distribution')
plt.ylabel('Number of Recipes')
plt.xlabel('Saturated Fat Content (g)')



plt.figure(figsize=(12,6))
plt.hist(food_df[['ProteinContent']], bins = 100, range=(0, 200), color = 'green')
plt.title('Protein Content (g) Per Serving Distribution')
plt.ylabel('Number of Recipes')
plt.xlabel('Protrain Content (g)')












for col in ['SodiumContent', 'ProteinContent', 'SaturatedFatContent']:
    if col == 'SodiumContent':
        food_df[col] = np.where(food_df[col] == 0, 1, food_df[col])
    else:
        food_df[col] = np.where(food_df[col] == 0, 0.001, food_df[col])
    food_df[f"{col}_log"] = np.log(food_df[col])
    food_df[f"{col}_z"] = stats.zscore(food_df[f"{col}_log"])








plt.figure(figsize=(12,6))
box = sns.boxplot(data= [food_df['SodiumContent_z'], food_df['SaturatedFatContent_z'], food_df['ProteinContent_z'] ])
box.set_xticklabels(['log(SodiumContent) Z Score', 'log(SaturatedFatContent) Z Score', 'log(ProteinContent) Z Score'])





sodium_mask_low = food_df['SodiumContent_z'] > -2
sodium_mask_high = food_df['SodiumContent_z'] < 2
satfat_mask_low = food_df['SaturatedFatContent_z'] > -1.5
satfat_mask_high = food_df['SaturatedFatContent_z'] < 1.5
protein_mask_low = food_df['ProteinContent_z'] > -2
protein_mask_high = food_df['ProteinContent_z'] < 2





food_NO_df = food_df[(sodium_mask_low) & (sodium_mask_high) & (satfat_mask_low) & (satfat_mask_high) & (protein_mask_low) & (protein_mask_high)].copy()
food_NO_df.shape


food_NO_df.dropna(subset=['SodiumContent', 'ProteinContent', 'SaturatedFatContent', 'RecipeServings', 'RecipeIngredientParts', 'RecipeIngredientQuantities'], inplace=True)


food_NO_df.shape


# sanity check
food_NO_df.sample(5)[['Name', 
                      'Description',
                      'SodiumContent',
                      'high_sodium',
                      'ProteinContent',
                      'high_protein',
                      'SaturatedFatContent',
                      'high_satfat',
                      'RecipeServings',
                      'ingredients_raw_str']]





high_sodium = food_NO_df['high_sodium'] == 1
high_protein = food_NO_df['high_protein'] == 1
high_satfat = food_NO_df['high_satfat'] == 1


nkf_recipes = food_NO_df[(high_sodium) | (high_protein) | (high_satfat)]


nkf_recipes.shape


# sanity check
nkf_recipes.sample(5)[['Name', 
                      'Description',
                      'SodiumContent',
                      'high_sodium',
                      'ProteinContent',
                      'high_protein',
                      'SaturatedFatContent',
                      'high_satfat',
                      'RecipeServings',
                      'ingredients_raw_str']]





# nkf_recipes.to_csv('../data/generated/non_kidney_friendly_recipes.csv', index=True)



