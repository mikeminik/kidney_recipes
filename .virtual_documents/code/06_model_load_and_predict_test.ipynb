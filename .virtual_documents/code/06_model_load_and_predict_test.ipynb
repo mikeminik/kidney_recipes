from keras.models import load_model
from keras import layers
import tensorflow as tf
import numpy as np
import pickle


from_disk = pickle.load(open('text_vectorization.pkl', 'rb'))
vectorizer = layers.TextVectorization.from_config(from_disk['config'])
vectorizer.set_weights(from_disk['weights'])

# Credit GitHub users mujjiga and jtlz2 for their help via https://stackoverflow.com/questions/65103526/how-to-save-textvectorization-to-disk-in-tensorflow


string = vectorizer('100 grams beans')


input = np.array(string).reshape(1,-1)


model_1_dir = './models/manual_vectors/manual_vectors_9_prec97_acc80.keras'




model1 = load_model(model_1_dir)


model1.predict(input)





model1.predict()


np.array([229,   2, 160,  85,  77,  20,   0,   0,   0,   0,   0,   0,   0,
         0,   0,   0,   0,   0,   0,   0,   0,   0,   0,   0,   0,   0,
         0,   0,   0,   0,   0,   0,   0,   0,   0,   0,   0,   0,   0,
         0,   0,   0,   0,   0,   0,   0,   0,   0,   0,   0,   0,   0,
         0,   0,   0,   0,   0,   0,   0,   0,   0,   0,   0,   0,   0,
         0,   0,   0,   0,   0,   0,   0,   0,   0,   0,   0,   0,   0,
         0,   0,   0,   0,   0,   0,   0,   0,   0,   0,   0,   0,   0,
         0,   0,   0,   0,   0,   0,   0,   0,   0]).reshape(1,100)



