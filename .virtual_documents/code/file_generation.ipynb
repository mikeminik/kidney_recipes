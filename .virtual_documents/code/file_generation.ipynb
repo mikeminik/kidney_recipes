import pandas as pd
import numpy as np



def clean_ingredients(ingredients):
    full = []
    ingredients = ingredients.replace('\\n', ',').replace('\n',',')
    for string in ingredients.split(','):
        string = ' '.join(string.strip().split())
        string = string.replace("'", '').replace('\\xa0',' ').replace('[','').replace(']','')
        full += string.split(',')
    return full


def create_text_file(col, path, filename):
    with open (f"{path}/{filename}.txt", 'w', encoding='utf-8') as f:
        for i in col:
            f.write(f"{i}\n")


df = pd.read_csv('../data/generated/tidy_recipe_data_all.csv')


df['ingredients'] = df['ingredients'].apply(clean_ingredients)


df['ingredients'].head()


df.head()


kf = df[df['label'] == 1]
kf.head()


nkf = df[df['label'] == 0]


#kf.reset_index(inplace=True)


nkf.head()


len(kf)


len(nkf)


kf.index[0]


kf.index


nkf.index[0]





for i in list(kf.index):
    create_text_file(kf['ingredients'][i], '../data/generated/text_files/train2/pos', i)



    
for i in list(nkf.index):
    create_text_file(nkf['ingredients'][i], '../data/generated/text_files/train2/neg/', i)






