import pandas as pd
import numpy as np






def clean_ingredients(ingredients):
    # necessary due to the way .csv stores data. Lists are converted to a long string. Functions returns and actual list of strings
    # and takes opportunity to remove whitespace and unnecessary characters
    full = []
    ingredients = ingredients.replace('\\n', ',').replace('\n',',')
    for string in ingredients.split(','):
        string = ' '.join(string.strip().split())
        string = string.replace("'", '').replace('\\xa0',' ').replace('[','').replace(']','').replace('"','')
        full += string.split(',')
    return full


def generate_variants(list_of_ingredients, substitutions):
    # take a list of ingredients
    new_lists_of_ingredients = []
    #for each entry in the list of ingredients
    for entry_string in list_of_ingredients:
        #print(f"iterating over {entry_string} from original list")
        #see if any of the things in sub.keys is in the string
        for sub_candidate in substitutions.keys():
            if sub_candidate in entry_string:
                # the substition key was in the recipe item, go into replacement mode 
                for substitute_item in substitutions[sub_candidate]:
                    # for every available substitution item, make that item replacing the word that the match was on
                    replacement_string = entry_string.replace(sub_candidate, substitute_item) # may need to stringify sub_candidate
                    #print(f"replaced {sub_candidate} with {substitute_item}")
                    # make a copy of the list of ingredients
                    replacement_ingredients = list_of_ingredients.copy()
                    
                    # remove the entry that we're currently on because it had a match in it
                    # print(f"checking entry string again {entry_string}")
                    replacement_ingredients.remove(entry_string)
                    # add the new variant to the copy of the list
                    replacement_ingredients.append(replacement_string)
                    #print(f"replacement ingredients: {replacement_ingredients}")
                    # add the mutated list of ingredients to the total running list
                    new_lists_of_ingredients.append(replacement_ingredients)
    return new_lists_of_ingredients


def extract_alternates(alternates):
    for alternate in alternates:
        new_recipes.append(alternate)





# a map of possible recipe ingredient subsitutions
substitutions = {
    # sweeteners
    "white sugar": ["brown sugar", "honey", "maple syrup", "agave nectar"],
    "granulated sugar": ["white sugar","brown sugar", "honey", "maple syrup", "agave nectar"],
    "brown sugar": ["white sugar", "honey", "maple syrup", "agave nectar"],
    "honey": ["white sugar", "brown sugar", "maple syrup", "agave nectar"],
    # flour
    "all-purpose flour": ["whole wheat flour", "gluten-free flour blend", "oat flour"],
    "whole wheat flour": ["all-purpose flour", "gluten-free flour blend", "oat flour"],
    "all purpose flour": ["whole wheat flour", "gluten-free flour blend", "oat flour"],
    "bread flour": ["all-purpose flour", "whole wheat bread flour", "cake flour"],
    # Eggs
    "eggs": ["applesauce", "tofu", "chia seeds", "cornstarch", "chickpea flour", "ground flaxseed"],
    "egg": ["applesauce", "tofu", "chia seeds", "cornstarch", "chickpea flour", "ground flaxseed"],
    # Butter
    "butter": ["olive oil", "applesauce", "vegetable broth"],
    # Oil
    "vegetable oil": ["canola oil", "olive oil", "avocado oil", "apple sauce"],
    "olive oil": ["canola oil", "vegetable oil", "avocado oil", "apple sauce"],
    "canola oil": ["olive oil", "vegetable oil", "avocado oil", "apple sauce"],
    # Others
    "baking powder": ["baking soda", "double-acting baking powder"],
    "baking soda": ["baking powder", "double-acting baking powder"],
    "breadcrumbs": ["crushed low-sodium crackers", "crushed low-sodium tortilla chips"],
    "mayo": ["Greek yogurt", "hummus", "avocado"],
    "mayonnaise": ["Greek yogurt", "hummus", "avocado"],
    "cornstarch": ["arrowroot flour", "potato starch"],
    # Greens
    "kale": ["chard", "collard greens", "mustard greens"],
    "chard": ["kale", "collard greens", "mustard greens"],
    "collard greens": ["kale", "chard", "mustard greens"],
    "arugula": ["watercress", "baby lettuce"],
    "watercress": ["arugula", "baby lettuce"],
    "lemon": ["lime"],
    "lime": ["lemon"],
    # Cruciferous vegetables
    "cauliflower": ["kohlrabi"],
    "kohlrabi": ["cauliflower", "turnips", "rutabaga"],
    # Alliums
    "onion": ["shallots", "leeks", "garlic"],
    "shallots": ["onions", "leeks", "garlic"],
    "leeks": ["onions", "shallots", "garlic"],
    "garlic": ["onions", "shallots", "ginger"],
    # Root vegetables
    "potato": ["sweet potato", "turnips", "carrots"],
    "sweet potato": ["potato", "parsnips", "butternut squash"],
    "turnips": ["potato", "kohlrabi", "rutabaga"],
    "parsnips": ["sweet potato", "carrots", "rutabaga"],
    # Other vegetables
    "celery": ["bok choy", "bell peppers", "cucumbers"],
    "bok choy": ["celery", "swiss chard"],
    "bell peppers": ["celery", "zucchini", "squash"],
    "cucumbers": ["celery", "radishes", "cherry tomatoes"],
    "zucchini": ["bell peppers", "yellow squash", "eggplant"],
    "yellow squash": ["zucchini", "butternut squash", "acorn squash"],
    "eggplant": ["zucchini"]
    
}


df = pd.read_csv('../data/generated/kidney-friendly-standardized.csv')


df.head()


df.shape


df['standardized_ingredients'][0]


df['standardized_ingredients'] = df['standardized_ingredients'].apply(clean_ingredients)


df['standardized_ingredients'][0]





df['alternates'] = df['standardized_ingredients'].apply(lambda x : generate_variants(x, substitutions))


df.head()


# create a master list of variants per recipe
new_recipes = []
df['alternates'].apply(extract_alternates)





augmented_kidney_data = pd.DataFrame({'ingredients' : new_recipes})


augmented_kidney_data['label'] = 1








nkf_df = pd.read_csv('../data/generated/nkf_sample_10000.csv')


nkf_df['ingredients'] = nkf_df['standardized_ingredients'].apply(clean_ingredients)


nkf_df.ingredients[1]


nkf_df.head()


nkf_df.shape


augmented_kidney_data.head()


nkf_df = nkf_df[['ingredients', 'label']]


nkf_df.head()


augmented_kidney_data.shape


recipe_data = pd.concat([nkf_df, augmented_kidney_data], axis = 0)


recipe_data.shape


recipe_data.to_csv('../data/generated/tidy_recipe_data_all_2.csv', index=False)


test_ingrediets_1 = ["1 tbsp butter",
       "2 steaks",
       "0.5 cup chopped apples"
       ]

test_ingredients_2 = ["2 eggs",
        "1 cup flour"]

test_substitutions = {
    "butter": ["olive oil", "vegetable oil", "pam"],
    "apples": ["oranges", "bananas"],
    "eggs": ["flax"],
    "flour": ["whole wheat flour"]
}

#generate_variants(test, substitutions)


pd_test = pd.DataFrame({'recipe': ['yummy thing', 'yucky thing'], "ingredients" : [test, test2]})
pd_test


pd_test['alternates'] = pd_test['ingredients'].apply(lambda x : generate_variants(x, substitutions))






new_recipes = []
pd_test['alternates'].apply(extract_alternates)


new_recipes


pd_test





pd.DataFrame(new_recipes)



