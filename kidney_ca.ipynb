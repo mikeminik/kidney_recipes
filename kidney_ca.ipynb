{
 "cells": [
  {
   "cell_type": "code",
   "execution_count": 1,
   "id": "837dd7cc-b807-4cae-a3f4-961b4cce448f",
   "metadata": {
    "tags": []
   },
   "outputs": [],
   "source": [
    "import numpy as np\n",
    "import pandas as pd\n",
    "import requests\n",
    "import time\n",
    "import os\n",
    "from bs4 import BeautifulSoup\n",
    "\n",
    "# from selenium import webdriver\n",
    "# from selenium.webdriver.common.by import By\n",
    "# import time"
   ]
  },
  {
   "cell_type": "code",
   "execution_count": null,
   "id": "df5587b2-0af3-4da7-bdd5-fe8dc256cc61",
   "metadata": {},
   "outputs": [],
   "source": []
  },
  {
   "cell_type": "code",
   "execution_count": null,
   "id": "f45677e8-182f-450c-a230-21aa9aa169ae",
   "metadata": {
    "tags": []
   },
   "outputs": [],
   "source": []
  },
  {
   "cell_type": "markdown",
   "id": "2924bbc5-5515-4571-a0a7-bf1db4eed898",
   "metadata": {
    "tags": []
   },
   "source": [
    "## Functions"
   ]
  },
  {
   "cell_type": "code",
   "execution_count": 23,
   "id": "d7ce4740-5e29-4891-8929-d02bdfa41ca5",
   "metadata": {
    "tags": []
   },
   "outputs": [],
   "source": [
    "def extract_visible_urls(source):\n",
    "    recipe_urls = []\n",
    "    for item in source:\n",
    "        if item.find('a') != None:\n",
    "            link = item.find('a').attrs['href']\n",
    "            recipe_urls.append(link)\n",
    "    return recipe_urls"
   ]
  },
  {
   "cell_type": "code",
   "execution_count": 5,
   "id": "0fced3f9-ec76-47e9-a18d-8d9d8eda6f9a",
   "metadata": {
    "tags": []
   },
   "outputs": [],
   "source": [
    "def get_file_name(url):\n",
    "    # create a \"file name\" that is created from the URL that is primarily used to identify the ingredients\n",
    "    file_name = url.split('recipes/')[1].strip('/')\n",
    "    return file_name"
   ]
  },
  {
   "cell_type": "code",
   "execution_count": 25,
   "id": "699d3ce2-765c-4c4e-9dda-8f75f90a7789",
   "metadata": {
    "tags": []
   },
   "outputs": [],
   "source": [
    "def extract_description_and_ingredients(url):\n",
    "    \n",
    "    ingredients_text = []\n",
    "    description_text = []\n",
    "    # make request and soup\n",
    "    headers = {'User-Agent': 'Mozilla/5.0 (Windows NT 10.0; Win64; x64) AppleWebKit/537.36 (KHTML, like Gecko) Chrome/119.0.0.0 Safari/537.36'}\n",
    "    res = requests.get(url, headers=headers)\n",
    "    if res.status_code != 200:\n",
    "        print(f\"{url} request status: {res.status_code}\")\n",
    "    soup = BeautifulSoup(res.content)\n",
    "    \n",
    "    # get the descriptions from the top of the individual recipes\n",
    "    description_items = soup.find_all('div', {'class' : 'col-md-6 col-sm-12 d-flex flex-column'})[0].find_all('p')\n",
    "    [description_text.append(p.text) for p in description_items if len(p) > 0]\n",
    "    \n",
    "    # focus in on the element that contains ingredients using 'li' first\n",
    "    ingredients_div = soup.find_all('div', {'class': lambda x: 'ingredients' in x if x else False})\n",
    "    ingredient_items = [ result.find_all('li') for result in ingredients_div]\n",
    "    \n",
    "    # if first pass above yields no results, try for 'p' elements instead\n",
    "    if len(ingredient_items[0]) == 0:\n",
    "        ingredient_items = [ result.find_all('p') for result in ingredients_div]\n",
    "        \n",
    "    [ingredients_text.append(l.text) for l in ingredient_items[0]]\n",
    "    return description_text, ingredients_text"
   ]
  },
  {
   "cell_type": "code",
   "execution_count": 31,
   "id": "e7ade264-f615-4d04-a295-1043f3a1b7fa",
   "metadata": {},
   "outputs": [],
   "source": [
    "# primary function\n",
    "# intended to be used once per page, ideally selenium clicks button and this runs again\n",
    "def create_files(url, output_relative_directory):\n",
    "    # make the primary request and create soup\n",
    "    headers = {'User-Agent': 'Mozilla/5.0 (Windows NT 10.0; Win64; x64) AppleWebKit/537.36 (KHTML, like Gecko) Chrome/119.0.0.0 Safari/537.36'}\n",
    "    res = requests.get(url, headers=headers)\n",
    "    print(f\"Primary call status: {res.status_code}\")\n",
    "    primary_soup = BeautifulSoup(res.content)\n",
    "    \n",
    "    \n",
    "    # get h2s (the clickable recipe blocks)\n",
    "    h2s = primary_soup.find_all('h2', {'class' : 'entry-title card-title'})\n",
    "    \n",
    "    # pass h2s to secondary url extraction func and get list of recipe urls\n",
    "    visible_urls = extract_visible_urls(h2s)\n",
    "    \n",
    "    # run the ingredient extractor secondary func\n",
    "    for u in visible_urls:\n",
    "        file_name = get_file_name(u)\n",
    "        item_description, item_ingredients = extract_ingredients(u)\n",
    "        print('Printing: ' + file_name)\n",
    "        \n",
    "        # create text file to directory\n",
    "\n",
    "            \n",
    "        with open(os.path.join(output_relative_directory, file_name), 'w', encoding='utf-8') as f:\n",
    "            for i in item_description:\n",
    "                line = f\"{i}\\n\"\n",
    "                f.write(line)\n",
    "            for i in item_ingredients:\n",
    "                line = f\"{i}\\n\"\n",
    "                f.write(line)"
   ]
  },
  {
   "cell_type": "code",
   "execution_count": 115,
   "id": "9bb95052-833b-48b7-9e3d-172f6733d18d",
   "metadata": {
    "tags": []
   },
   "outputs": [],
   "source": [
    "# url = 'https://www.kidneycommunitykitchen.ca/kkcookbook/recipes/steamed-whole-fish-sea-bass-%e9%b1%b8%e9%ad%9a-or-tilapia-%e7%be%85%e9%9d%9e%e9%ad%9a/'\n",
    "# name, items = extract_ingredients(url)\n",
    "\n",
    "# with open(os.path.join('./recipes', name), 'w', encoding='utf-8') as f:\n",
    "#     for i in items:\n",
    "#         line = f\"{i}\\n\"\n",
    "#         f.write(line)"
   ]
  },
  {
   "cell_type": "markdown",
   "id": "8262f303-e00c-4a44-811c-9a5a0df7d369",
   "metadata": {},
   "source": [
    "## Main function call"
   ]
  },
  {
   "cell_type": "code",
   "execution_count": 34,
   "id": "52e5d1d7-d074-48b0-9bdf-ac4052b44acb",
   "metadata": {
    "tags": []
   },
   "outputs": [
    {
     "name": "stdout",
     "output_type": "stream",
     "text": [
      "Primary call status: 200\n",
      "Printing: shrimp-and-fish-creole-style-stew\n",
      "Printing: tofu-and-veggie-frittata-vegan\n",
      "Printing: kidney-friendly-roasted-red-bell-pepper-cauliflower-pizza\n",
      "Printing: acadian-fricot-with-dumplings\n",
      "Printing: kidney-friendly-chicken-and-ginger-congee\n",
      "Printing: korean-style-short-ribs\n",
      "Printing: zaatar-chicken-with-garlic-yogurt-sauce\n",
      "Printing: warm-falafel-wraps\n",
      "Printing: madras-spiced-baked-tilapia\n",
      "Printing: savory-crustless-quiche\n",
      "Printing: red-lentil-dahl\n",
      "Printing: tuna-macaroni-salad\n",
      "Printing: summer-pot-pie\n",
      "Printing: old-fashioned-canadian-stew\n",
      "Printing: jamaican-steamed-fish\n",
      "Printing: lime-grilled-turkey\n",
      "Printing: ma-pos-tofu-bean-curd\n",
      "Printing: spicy-shrimp-linguine\n",
      "Primary call status: 200\n",
      "Printing: honey-grilled-pork-and-pear-kabobs\n",
      "Printing: curried-turkey-casserole\n",
      "Printing: one-pot-mediterranean-chicken-pasta\n",
      "Printing: barbecue-chicken-salad\n",
      "Printing: persian-chicken\n",
      "Printing: chicken-in-mushroom-sauce\n",
      "Printing: cranberry-glazed-pork-chops\n",
      "Printing: beef-steak-sandwich-with-balsamic-mushrooms-and-chevre\n",
      "Printing: mediterranean-panini\n",
      "Printing: grilled-beef-steak-sandwich-with-melted-onions\n",
      "Printing: how-to-cook-an-oven-roast\n",
      "Printing: spicy-cornflake-chicken\n",
      "Printing: chicken-stew-with-mushrooms-and-kale\n",
      "Printing: turkey-bowtie-pasta\n",
      "Printing: chicken-chili-stew\n",
      "Printing: bbq-lemon-and-dill-salmon\n",
      "Printing: classic-hamburgers\n",
      "Printing: turkey-sliders-with-peach-tarragon-aioli\n",
      "Primary call status: 200\n",
      "Printing: open-faced-chicken-sandwich\n",
      "Printing: turkey-breast-with-cranberry-orange-ginger-sauce\n",
      "Printing: salmon-with-creamy-horseradish-sauce\n",
      "Printing: chicken-wraps-with-chipotle-mayo-and-cilantro-slaw\n",
      "Printing: chicken-salad-with-cranberries-and-tarragon\n",
      "Printing: slow-cooker-pineapple-pork-roast\n",
      "Printing: oven-roasted-chicken-and-warm-mushroom-salad-with-watercress\n",
      "Printing: asian-noodle-stir-fry\n",
      "Printing: pot-roast\n",
      "Printing: caramelized-onion-tart-with-arugula-salad\n",
      "Printing: shrimp-sugar-snap-pea-salad-and-wasabi-lime-vinaigrette\n",
      "Printing: herb-and-ricotta-stuffed-chicken\n",
      "Printing: cornbread-cassrole\n",
      "Printing: curry-lime-pork-kebabs\n",
      "Printing: spicy-chicken-penne\n",
      "Printing: moroccan-chicken\n",
      "Printing: cheese-and-fine-herbs-dip\n",
      "Printing: apple-mint-french-toast\n",
      "Primary call status: 200\n",
      "Printing: breakfast-burrito\n",
      "Printing: spinach-ricotta-frittata\n",
      "Printing: stir-fry-rice-noodles-with-chicken-and-basil\n",
      "Printing: asian-grilled-pork-tenderloin\n",
      "Printing: omelet-with-summer-vegetables\n",
      "Printing: tuna-rice-casserole\n",
      "Printing: lemon-dill-fish\n",
      "Printing: hot-tuna-sub\n",
      "Printing: mushroom-and-egg-pie\n",
      "Printing: jerk-chicken-wings\n",
      "Printing: curried-shrimp-salad-rolls\n",
      "Printing: crock-pot-fruited-pork-loin\n",
      "Printing: tourtiere\n",
      "Printing: roast-turkey\n",
      "Printing: chicken-with-mushroom-bread-stuffing-2\n",
      "Printing: vegetable-fish-bake\n",
      "Printing: lemon-pepper-meatballs-2\n",
      "Printing: quick-chili\n",
      "Primary call status: 200\n",
      "Printing: mushroom-and-leek-pie\n",
      "Printing: tilapia-tostadas-with-corn-zucchini-saute-and-basmati-lime-pilaf\n",
      "Printing: broiled-red-snapper-with-herb-pesto\n",
      "Printing: baked-tilapia-fillets-gremolata\n",
      "Printing: sage-scented-pork-loin-chops-with-pear-chutney-and-turnip-puree\n",
      "Printing: coffee-rubbed-sirloin\n",
      "Printing: roast-beef\n"
     ]
    }
   ],
   "source": [
    "initial_url = 'https://www.kidneycommunitykitchen.ca/kkcookbook/recipes/?_diet_types=high-protein&'\n",
    "create_files(initial_url, './high_protein_ingredients_and_descriptions')\n",
    "for i in range(2, 6):\n",
    "    create_files(initial_url+'_paged='+str(i), './high_protein_ingredients_and_descriptions')"
   ]
  },
  {
   "cell_type": "markdown",
   "id": "ca8ca6fe-7407-4c83-a99e-546b6edfa6f2",
   "metadata": {},
   "source": [
    "## Scratch Pad / Debugging"
   ]
  },
  {
   "cell_type": "code",
   "execution_count": 7,
   "id": "c7171235-c5d9-4258-8e5a-ae2c3ac6e300",
   "metadata": {
    "tags": []
   },
   "outputs": [],
   "source": [
    "headers = {'User-Agent': 'Mozilla/5.0 (Windows NT 10.0; Win64; x64) AppleWebKit/537.36 (KHTML, like Gecko) Chrome/119.0.0.0 Safari/537.36'}\n",
    "res = requests.get('https://www.kidneycommunitykitchen.ca/kkcookbook/recipes/shrimp-and-fish-creole-style-stew/', headers=headers)\n",
    "if res.status_code != 200:\n",
    "    print(f\"{url} request status: {res.status_code}\")\n",
    "sub_soup = BeautifulSoup(res.content)"
   ]
  },
  {
   "cell_type": "code",
   "execution_count": 13,
   "id": "689f8b3e-b8f2-487e-80c7-0f6f5b9d9123",
   "metadata": {
    "tags": []
   },
   "outputs": [],
   "source": []
  },
  {
   "cell_type": "code",
   "execution_count": 21,
   "id": "da66273f-ceac-446b-89f5-c1d187625abe",
   "metadata": {
    "tags": []
   },
   "outputs": [
    {
     "name": "stdout",
     "output_type": "stream",
     "text": [
      "Recipe from The Canadian Association of Nephrology Dietitians’ Kidney Friendly cookbook\n"
     ]
    }
   ],
   "source": [
    "for p in flavor_text_ps:\n",
    "    if len(p) > 0:\n",
    "        print(p.text)"
   ]
  },
  {
   "cell_type": "code",
   "execution_count": null,
   "id": "2aa3c6ba-ef41-497b-8336-75c4c86b50ae",
   "metadata": {},
   "outputs": [],
   "source": []
  },
  {
   "cell_type": "code",
   "execution_count": 29,
   "id": "0d58be12-a2a2-4994-be92-97d512f43057",
   "metadata": {
    "tags": []
   },
   "outputs": [
    {
     "name": "stdout",
     "output_type": "stream",
     "text": [
      "Primary call status: 200\n",
      "Printing: spiced-apple-coffee-cake\n",
      "Printing: no-bake-blueberry-pie\n",
      "Printing: kidney-friendly-roasted-red-bell-pepper-cauliflower-pizza\n",
      "Printing: acadian-fricot-with-dumplings\n",
      "Printing: kidney-friendly-chicken-and-ginger-congee\n",
      "Printing: shiitake-broth\n",
      "Printing: korean-style-short-ribs\n",
      "Printing: asian-inspired-summer-salad-with-a-lime-ginger-vinaigrette\n",
      "Printing: fish-tacos\n",
      "Printing: low-sodium-dinner-rolls-hamburger-buns\n",
      "Printing: cucumber-dill-salad\n",
      "Printing: classic-waldorf-salad\n",
      "Printing: the-classic-nicoise\n",
      "Printing: zaatar-chicken-with-garlic-yogurt-sauce\n",
      "Printing: new-orleans-style-pain-perdu\n",
      "Printing: zucchini-brownies\n",
      "Printing: balsamic-vinaigrette\n",
      "Printing: warm-falafel-wraps\n"
     ]
    }
   ],
   "source": [
    "create_files('https://www.kidneycommunitykitchen.ca/kkcookbook/recipes/?_paged=2', test=True)"
   ]
  },
  {
   "cell_type": "code",
   "execution_count": 144,
   "id": "72f5f72a-e560-4f88-af78-4fe2ef4cc343",
   "metadata": {
    "tags": []
   },
   "outputs": [
    {
     "name": "stdout",
     "output_type": "stream",
     "text": [
      "Primary call status: 200\n",
      "Printing: roasted-red-pepper-chickpea-hummus-2\n",
      "Printing: shrimp-and-fish-creole-style-stew\n",
      "Printing: steamed-whole-fish-sea-bass-%e9%b1%b8%e9%ad%9a-or-tilapia-%e7%be%85%e9%9d%9e%e9%ad%9a\n",
      "Printing: tofu-and-veggie-frittata-vegan\n",
      "Printing: strawberry-rhubarb-lemonade\n",
      "Printing: soya-sauce-substitute\n",
      "Printing: lemon-curd\n",
      "Printing: mini-pavlovas\n",
      "Printing: kidney-friendly-vegan-kimchi\n",
      "Printing: instant-pot-vegan-and-13-bean-chili\n",
      "Printing: pink-lemonade\n",
      "Printing: apple-cider-smash\n",
      "Printing: cranberry-mint-mocktail\n",
      "Printing: pineapple-punch\n",
      "Printing: lime-and-mint-soda\n",
      "Printing: cranberry-margarita\n",
      "Printing: molasses-ginger-cookies\n",
      "Printing: carrot-and-apple-soup\n"
     ]
    }
   ],
   "source": [
    "# url = \"https://www.kidneycommunitykitchen.ca/kkcookbook/recipes/\"\n",
    "# ingredients_from_visible(url)"
   ]
  },
  {
   "cell_type": "code",
   "execution_count": 130,
   "id": "94817984-aefa-41fb-a9e6-c6e82c0d94c6",
   "metadata": {
    "tags": []
   },
   "outputs": [
    {
     "data": {
      "text/plain": [
       "'https://www.kidneycommunitykitchen.ca/kkcookbook/recipes/roasted-red-pepper-chickpea-hummus-2/'"
      ]
     },
     "execution_count": 130,
     "metadata": {},
     "output_type": "execute_result"
    }
   ],
   "source": [
    "# soup.find_all('h2', {'class' : 'entry-title card-title'})[0].find('a').attrs['href']"
   ]
  },
  {
   "cell_type": "code",
   "execution_count": 43,
   "id": "7c5cbf77-a9bc-42aa-a5b1-6614f6fa9bf7",
   "metadata": {
    "tags": []
   },
   "outputs": [
    {
     "data": {
      "text/plain": [
       "'½ cup canned chickpeas rinsed and drained'"
      ]
     },
     "execution_count": 43,
     "metadata": {},
     "output_type": "execute_result"
    }
   ],
   "source": [
    "# soup.find_all('div', {'class': lambda x: 'ingredients' in x if x else False})[0].find_all('li')[0].text"
   ]
  },
  {
   "cell_type": "markdown",
   "id": "f40b2429-22e1-4f80-a007-bab40222c667",
   "metadata": {},
   "source": [
    "### After obtaining high protein recipes with the main function call, used the following to remove those recipes by filename from a more comprehensive list, yielding recipes that are NOT high in protein"
   ]
  },
  {
   "cell_type": "code",
   "execution_count": 35,
   "id": "405b1db6-7558-4c05-ab09-6671be5ed1c5",
   "metadata": {
    "tags": []
   },
   "outputs": [],
   "source": [
    "# for file in os.listdir('./high_protein_ingredients_and_descriptions/'):\n",
    "#     if os.path.exists(os.path.join('./no_high_protein_ingredients_and_descriptions', file)):\n",
    "#         os.remove(os.path.join('./no_high_protein_ingredients_and_descriptions', file))"
   ]
  },
  {
   "cell_type": "markdown",
   "id": "164a4a94-09cf-4517-8605-76f0ebdb6d87",
   "metadata": {},
   "source": [
    "Backup experiment with Selenium"
   ]
  },
  {
   "cell_type": "code",
   "execution_count": 152,
   "id": "523eea03-b3bc-4fdc-815a-c7864b6d8fe0",
   "metadata": {
    "tags": []
   },
   "outputs": [],
   "source": [
    "# browser = webdriver.Chrome()\n",
    "# url = \"https://www.kidneycommunitykitchen.ca/kkcookbook/recipes/\"\n",
    "# browser.get(url)\n",
    "# time.sleep(2)\n",
    "\n",
    "# browser.execute_script(\"window.scrollTo(0,document.body.scrollHeight)\")\n",
    "# time.sleep(2)\n",
    "    \n",
    "# while browser.find_element(By.CSS_SELECTOR, \"a.facetwp-page.next\"):\n",
    "#     next_button = browser.find_element(By.CSS_SELECTOR, \"a.facetwp-page.next\")\n",
    "#     next_button.click()\n",
    "#     time.sleep(2)"
   ]
  }
 ],
 "metadata": {
  "kernelspec": {
   "display_name": "Python 3 (ipykernel)",
   "language": "python",
   "name": "python3"
  },
  "language_info": {
   "codemirror_mode": {
    "name": "ipython",
    "version": 3
   },
   "file_extension": ".py",
   "mimetype": "text/x-python",
   "name": "python",
   "nbconvert_exporter": "python",
   "pygments_lexer": "ipython3",
   "version": "3.11.4"
  }
 },
 "nbformat": 4,
 "nbformat_minor": 5
}
